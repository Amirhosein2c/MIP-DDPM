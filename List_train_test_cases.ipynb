{
 "cells": [
  {
   "cell_type": "code",
   "execution_count": null,
   "metadata": {},
   "outputs": [],
   "source": [
    "import os\n",
    "from glob import glob\n",
    "from config import Configuration, get_config\n",
    "\n",
    "CONFIG: Configuration = get_config()"
   ]
  },
  {
   "cell_type": "code",
   "execution_count": null,
   "metadata": {},
   "outputs": [],
   "source": [
    "images = sorted(glob(os.path.join(CONFIG.data_dir, 'training', \"*-000-01\")))\n",
    "cases_list = list()\n",
    "for image in images:\n",
    "    print(os.path.basename(image)[:-7])\n",
    "    cases_list.append(os.path.basename(image)[:-7])\n",
    "    \n",
    "unique_cases = set(cases_list)        \n",
    "with open(\"./train_cases.txt\", \"w\") as file:\n",
    "    for patient in list(unique_cases):\n",
    "        file.write(f\"{patient} \\n\")\n",
    "file.close()"
   ]
  },
  {
   "cell_type": "code",
   "execution_count": null,
   "metadata": {},
   "outputs": [],
   "source": [
    "images = sorted(glob(os.path.join(CONFIG.data_dir, 'testing', \"*-000-01\")))\n",
    "cases_list = list()\n",
    "for image in images:\n",
    "    print(os.path.basename(image)[:-7])\n",
    "    cases_list.append(os.path.basename(image)[:-7])\n",
    "    \n",
    "unique_cases = set(cases_list)        \n",
    "with open(\"./test_cases.txt\", \"w\") as file:\n",
    "    for patient in list(unique_cases):\n",
    "        file.write(f\"{patient} \\n\")\n",
    "file.close()"
   ]
  }
 ],
 "metadata": {
  "kernelspec": {
   "display_name": "diff",
   "language": "python",
   "name": "python3"
  },
  "language_info": {
   "codemirror_mode": {
    "name": "ipython",
    "version": 3
   },
   "file_extension": ".py",
   "mimetype": "text/x-python",
   "name": "python",
   "nbconvert_exporter": "python",
   "pygments_lexer": "ipython3",
   "version": "3.8.13"
  },
  "orig_nbformat": 4
 },
 "nbformat": 4,
 "nbformat_minor": 2
}
