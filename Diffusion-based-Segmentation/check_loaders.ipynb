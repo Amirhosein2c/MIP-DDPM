{
 "cells": [
  {
   "cell_type": "code",
   "execution_count": null,
   "metadata": {},
   "outputs": [],
   "source": [
    "from guided_diffusion.bratsloader import PSMADataset\n",
    "import matplotlib.pyplot as plt\n",
    "\n",
    "ds = PSMADataset('/datassd/PSMA_SEGMENTATION/DATA', test_flag=False)\n",
    "\n",
    "data_iter = iter(ds)\n",
    "batch, cond = next(data_iter)"
   ]
  },
  {
   "cell_type": "code",
   "execution_count": null,
   "metadata": {},
   "outputs": [],
   "source": [
    "# batch = batch.numpy()\n",
    "# cond = cond.numpy()\n",
    "plt.imshow(batch[4,:,:])"
   ]
  },
  {
   "attachments": {},
   "cell_type": "markdown",
   "metadata": {},
   "source": [
    "Running scripts:\n",
    "\n",
    "`visdom -port 8850`\n",
    "\n",
    "`MODEL_FLAGS=\"--image_size 256 --num_channels 128 --class_cond False --num_res_blocks 2 --num_heads 1 --learn_sigma False --use_scale_shift_norm False --attention_resolutions 16\"`\n",
    "\n",
    "`DIFFUSION_FLAGS=\"--diffusion_steps 1000 --noise_schedule linear --rescale_learned_sigmas False --rescale_timesteps False\"`\n",
    "\n",
    "`TRAIN_FLAGS=\"--lr 1e-4 --batch_size 8\"`\n",
    "\n",
    "`python scripts/segmentation_train.py --data_dir /datassd/PSMA_SEGMENTATION/DATA/training $TRAIN_FLAGS $MODEL_FLAGS $DIFFUSION_FLAGS`\n",
    "\n",
    "`python scripts/segmentation_sample.py  --data_dir /datassd/PSMA_SEGMENTATION/DATA/testing  --model_path ./results/savedmodel100000.pt --num_ensemble=5 $MODEL_FLAGS $DIFFUSION_FLAGS`"
   ]
  },
  {
   "attachments": {},
   "cell_type": "markdown",
   "metadata": {},
   "source": []
  }
 ],
 "metadata": {
  "kernelspec": {
   "display_name": "diff",
   "language": "python",
   "name": "python3"
  },
  "language_info": {
   "codemirror_mode": {
    "name": "ipython",
    "version": 3
   },
   "file_extension": ".py",
   "mimetype": "text/x-python",
   "name": "python",
   "nbconvert_exporter": "python",
   "pygments_lexer": "ipython3",
   "version": "3.8.13"
  },
  "orig_nbformat": 4
 },
 "nbformat": 4,
 "nbformat_minor": 2
}
