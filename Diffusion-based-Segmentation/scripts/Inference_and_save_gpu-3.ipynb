{
 "cells": [
  {
   "cell_type": "code",
   "execution_count": 1,
   "metadata": {},
   "outputs": [
    {
     "name": "stderr",
     "output_type": "stream",
     "text": [
      "/data/anaconda/envs/diff/lib/python3.8/site-packages/tqdm/auto.py:22: TqdmWarning: IProgress not found. Please update jupyter and ipywidgets. See https://ipywidgets.readthedocs.io/en/stable/user_install.html\n",
      "  from .autonotebook import tqdm as notebook_tqdm\n"
     ]
    },
    {
     "name": "stdout",
     "output_type": "stream",
     "text": [
      "Logging to ./results\n",
      "creating model and diffusion...\n",
      "args.model_path: /datassd/PSMA_SEGMENTATION/Diffusion-based-Segmentation/results/savedmodel1500000.pt\n",
      "sampling...\n"
     ]
    }
   ],
   "source": [
    "import os\n",
    "import cv2\n",
    "import numpy as np\n",
    "from PIL import Image\n",
    "from scipy import ndimage, stats\n",
    "from skimage.transform import rotate\n",
    "\n",
    "from sklearn.metrics import mean_squared_error\n",
    "from skimage.metrics import structural_similarity as ssim\n",
    "from sklearn.metrics import normalized_mutual_info_score\n",
    "\n",
    "import nibabel as nib\n",
    "from tqdm import tqdm\n",
    "import glob\n",
    "import matplotlib.pyplot as plt\n",
    "import csv\n",
    "import shutil\n",
    "import argparse\n",
    "import sys\n",
    "sys.path.append(\"/datassd/PSMA_SEGMENTATION/Diffusion-based-Segmentation\")\n",
    "import random\n",
    "import time\n",
    "import torch\n",
    "import torch as th\n",
    "import torch.distributed as dist\n",
    "from torchvision import transforms\n",
    "from guided_diffusion import dist_util, logger\n",
    "from guided_diffusion.bratsloader import PSMADataset\n",
    "from guided_diffusion.script_util import (\n",
    "    NUM_CLASSES,\n",
    "    model_and_diffusion_defaults,\n",
    "    create_model_and_diffusion,\n",
    "    add_dict_to_argparser,\n",
    "    args_to_dict,\n",
    ")\n",
    "\n",
    "%matplotlib inline\n",
    "\n",
    "seed=10\n",
    "th.manual_seed(seed)\n",
    "th.cuda.manual_seed_all(seed)\n",
    "np.random.seed(seed)\n",
    "random.seed(seed)\n",
    "\n",
    "os.environ[\"MODEL_FLAGS\"] = \"--image_size 256 --num_channels 128 --class_cond False --num_res_blocks 2 --num_heads 1 --learn_sigma False --use_scale_shift_norm False --attention_resolutions 16\"\n",
    "os.environ[\"DIFFUSION_FLAGS\"] = \"--diffusion_steps 1000 --noise_schedule linear --rescale_learned_sigmas False --rescale_timesteps False\"\n",
    "\n",
    "def read_nii_vol(target_filename):\n",
    "    img = nib.load(target_filename)\n",
    "    VOL = np.array(img.dataobj)\n",
    "    return VOL\n",
    "\n",
    "def visualize(img):\n",
    "    _min = img.min()\n",
    "    _max = img.max()\n",
    "    normalized_img = (img - _min)/ (_max - _min)\n",
    "    return normalized_img\n",
    "\n",
    "def dice_score(pred, targs):\n",
    "    pred = (pred>0).float()\n",
    "    return 2. * (pred*targs).sum() / (pred+targs).sum()\n",
    "\n",
    "def create_argparser():\n",
    "    defaults = dict(\n",
    "        data_dir=\"/datassd/PSMA_SEGMENTATION/DATA/testing\",\n",
    "        clip_denoised=True,\n",
    "        num_samples=1,\n",
    "        batch_size=1,\n",
    "        use_ddim=False, #False\n",
    "        model_path=\"\",\n",
    "        num_ensemble=10      #number of samples in the ensemble\n",
    "    )\n",
    "    defaults.update(model_and_diffusion_defaults())\n",
    "    parser = argparse.ArgumentParser(\"\")\n",
    "    add_dict_to_argparser(parser, defaults)\n",
    "    return parser\n",
    "\n",
    "def normalize(img, _min, _max):\n",
    "    normalized_img = (img - _min)/ (_max - _min)\n",
    "    return normalized_img\n",
    "\n",
    "def normalize3(volume):\n",
    "    min_val = volume.min()\n",
    "    max_val = volume.max()\n",
    "    normalized_volume = (volume - min_val) / (max_val - min_val)\n",
    "    return normalized_volume\n",
    "\n",
    "\n",
    "args = create_argparser().parse_args(\"\")\n",
    "dist_util.setup_dist('3')\n",
    "logger.configure()\n",
    "\n",
    "args.image_size = 256 \n",
    "args.num_channels = 128 \n",
    "args.class_cond = False \n",
    "args.num_res_blocks = 2 \n",
    "args.num_heads = 1 \n",
    "args.learn_sigma = False \n",
    "args.use_scale_shift_norm = False \n",
    "args.attention_resolutions = \"16\"\n",
    "args.diffusion_steps = 1000\n",
    "args.noise_schedule = \"linear\" \n",
    "args.rescale_learned_sigmas = False \n",
    "args.rescale_timesteps = False\n",
    "args.data_dir = \"/datassd/PSMA_SEGMENTATION/DATA/testing\"  \n",
    "args.model_path = \"/datassd/PSMA_SEGMENTATION/Diffusion-based-Segmentation/results/savedmodel1500000.pt\" \n",
    "args.num_ensemble = 10\n",
    "\n",
    "\n",
    "logger.log(\"creating model and diffusion...\")\n",
    "model, diffusion = create_model_and_diffusion(\n",
    "    **args_to_dict(args, model_and_diffusion_defaults().keys())\n",
    ")\n",
    "\n",
    "print(f\"args.model_path: {args.model_path}\")\n",
    "\n",
    "model.load_state_dict(\n",
    "    dist_util.load_state_dict(args.model_path, map_location=\"cpu\")\n",
    ")\n",
    "\n",
    "model.to(dist_util.dev())\n",
    "\n",
    "if args.use_fp16:\n",
    "    model.convert_to_fp16()\n",
    "    \n",
    "model.eval()\n",
    "\n",
    "logger.log(\"sampling...\")\n",
    "\n",
    "start = th.cuda.Event(enable_timing=True)\n",
    "end = th.cuda.Event(enable_timing=True)\n",
    "\n",
    "model_kwargs = {}\n",
    "start.record()\n",
    "\n",
    "sample_fn = (\n",
    "    diffusion.p_sample_loop_known if not args.use_ddim else diffusion.ddim_sample_loop_known\n",
    ")\n",
    "\n"
   ]
  },
  {
   "cell_type": "code",
   "execution_count": 2,
   "metadata": {},
   "outputs": [
    {
     "name": "stdout",
     "output_type": "stream",
     "text": [
      "Patient ID: PSMA-01-534 | Body part: Top | Rotation: 180\n"
     ]
    },
    {
     "name": "stderr",
     "output_type": "stream",
     "text": [
      "100%|██████████| 10/10 [09:06<00:00, 54.64s/it]\n"
     ]
    },
    {
     "name": "stdout",
     "output_type": "stream",
     "text": [
      "Patient ID: PSMA-01-534 | Body part: Bottom | Rotation: 180\n"
     ]
    },
    {
     "name": "stderr",
     "output_type": "stream",
     "text": [
      "100%|██████████| 10/10 [09:06<00:00, 54.67s/it]\n"
     ]
    },
    {
     "name": "stdout",
     "output_type": "stream",
     "text": [
      "Patient ID: PSMA-01-534 | Body part: Top | Rotation: 185\n"
     ]
    },
    {
     "name": "stderr",
     "output_type": "stream",
     "text": [
      "100%|██████████| 10/10 [09:05<00:00, 54.54s/it]\n"
     ]
    },
    {
     "name": "stdout",
     "output_type": "stream",
     "text": [
      "Patient ID: PSMA-01-534 | Body part: Bottom | Rotation: 185\n"
     ]
    },
    {
     "name": "stderr",
     "output_type": "stream",
     "text": [
      "100%|██████████| 10/10 [09:21<00:00, 56.13s/it]\n"
     ]
    },
    {
     "name": "stdout",
     "output_type": "stream",
     "text": [
      "Patient ID: PSMA-01-534 | Body part: Top | Rotation: 190\n"
     ]
    },
    {
     "name": "stderr",
     "output_type": "stream",
     "text": [
      "100%|██████████| 10/10 [09:07<00:00, 54.75s/it]\n"
     ]
    },
    {
     "name": "stdout",
     "output_type": "stream",
     "text": [
      "Patient ID: PSMA-01-534 | Body part: Bottom | Rotation: 190\n"
     ]
    },
    {
     "name": "stderr",
     "output_type": "stream",
     "text": [
      "100%|██████████| 10/10 [09:04<00:00, 54.46s/it]\n"
     ]
    },
    {
     "name": "stdout",
     "output_type": "stream",
     "text": [
      "Patient ID: PSMA-01-534 | Body part: Top | Rotation: 195\n"
     ]
    },
    {
     "name": "stderr",
     "output_type": "stream",
     "text": [
      "100%|██████████| 10/10 [09:06<00:00, 54.70s/it]\n"
     ]
    },
    {
     "name": "stdout",
     "output_type": "stream",
     "text": [
      "Patient ID: PSMA-01-534 | Body part: Bottom | Rotation: 195\n"
     ]
    },
    {
     "name": "stderr",
     "output_type": "stream",
     "text": [
      "100%|██████████| 10/10 [09:11<00:00, 55.16s/it]\n"
     ]
    },
    {
     "name": "stdout",
     "output_type": "stream",
     "text": [
      "Patient ID: PSMA-01-534 | Body part: Top | Rotation: 200\n"
     ]
    },
    {
     "name": "stderr",
     "output_type": "stream",
     "text": [
      "100%|██████████| 10/10 [09:06<00:00, 54.65s/it]\n"
     ]
    },
    {
     "name": "stdout",
     "output_type": "stream",
     "text": [
      "Patient ID: PSMA-01-534 | Body part: Bottom | Rotation: 200\n"
     ]
    },
    {
     "name": "stderr",
     "output_type": "stream",
     "text": [
      "100%|██████████| 10/10 [09:07<00:00, 54.71s/it]\n"
     ]
    },
    {
     "name": "stdout",
     "output_type": "stream",
     "text": [
      "Patient ID: PSMA-01-534 | Body part: Top | Rotation: 205\n"
     ]
    },
    {
     "name": "stderr",
     "output_type": "stream",
     "text": [
      "100%|██████████| 10/10 [09:08<00:00, 54.84s/it]\n"
     ]
    },
    {
     "name": "stdout",
     "output_type": "stream",
     "text": [
      "Patient ID: PSMA-01-534 | Body part: Bottom | Rotation: 205\n"
     ]
    },
    {
     "name": "stderr",
     "output_type": "stream",
     "text": [
      "100%|██████████| 10/10 [09:03<00:00, 54.33s/it]\n"
     ]
    },
    {
     "name": "stdout",
     "output_type": "stream",
     "text": [
      "Patient ID: PSMA-01-534 | Body part: Top | Rotation: 210\n"
     ]
    },
    {
     "name": "stderr",
     "output_type": "stream",
     "text": [
      "100%|██████████| 10/10 [08:54<00:00, 53.48s/it]\n"
     ]
    },
    {
     "name": "stdout",
     "output_type": "stream",
     "text": [
      "Patient ID: PSMA-01-534 | Body part: Bottom | Rotation: 210\n"
     ]
    },
    {
     "name": "stderr",
     "output_type": "stream",
     "text": [
      "100%|██████████| 10/10 [08:50<00:00, 53.10s/it]\n"
     ]
    },
    {
     "name": "stdout",
     "output_type": "stream",
     "text": [
      "Patient ID: PSMA-01-534 | Body part: Top | Rotation: 215\n"
     ]
    },
    {
     "name": "stderr",
     "output_type": "stream",
     "text": [
      "100%|██████████| 10/10 [08:50<00:00, 53.02s/it]\n"
     ]
    },
    {
     "name": "stdout",
     "output_type": "stream",
     "text": [
      "Patient ID: PSMA-01-534 | Body part: Bottom | Rotation: 215\n"
     ]
    },
    {
     "name": "stderr",
     "output_type": "stream",
     "text": [
      "100%|██████████| 10/10 [08:48<00:00, 52.84s/it]\n"
     ]
    },
    {
     "name": "stdout",
     "output_type": "stream",
     "text": [
      "Patient ID: PSMA-01-534 | Body part: Top | Rotation: 220\n"
     ]
    },
    {
     "name": "stderr",
     "output_type": "stream",
     "text": [
      "100%|██████████| 10/10 [08:48<00:00, 52.85s/it]\n"
     ]
    },
    {
     "name": "stdout",
     "output_type": "stream",
     "text": [
      "Patient ID: PSMA-01-534 | Body part: Bottom | Rotation: 220\n"
     ]
    },
    {
     "name": "stderr",
     "output_type": "stream",
     "text": [
      "100%|██████████| 10/10 [08:48<00:00, 52.82s/it]\n"
     ]
    },
    {
     "name": "stdout",
     "output_type": "stream",
     "text": [
      "Patient ID: PSMA-01-534 | Body part: Top | Rotation: 225\n"
     ]
    },
    {
     "name": "stderr",
     "output_type": "stream",
     "text": [
      "100%|██████████| 10/10 [08:49<00:00, 52.91s/it]\n"
     ]
    },
    {
     "name": "stdout",
     "output_type": "stream",
     "text": [
      "Patient ID: PSMA-01-534 | Body part: Bottom | Rotation: 225\n"
     ]
    },
    {
     "name": "stderr",
     "output_type": "stream",
     "text": [
      "100%|██████████| 10/10 [08:50<00:00, 53.02s/it]\n"
     ]
    },
    {
     "name": "stdout",
     "output_type": "stream",
     "text": [
      "Patient ID: PSMA-01-534 | Body part: Top | Rotation: 230\n"
     ]
    },
    {
     "name": "stderr",
     "output_type": "stream",
     "text": [
      "100%|██████████| 10/10 [08:49<00:00, 52.95s/it]\n"
     ]
    },
    {
     "name": "stdout",
     "output_type": "stream",
     "text": [
      "Patient ID: PSMA-01-534 | Body part: Bottom | Rotation: 230\n"
     ]
    },
    {
     "name": "stderr",
     "output_type": "stream",
     "text": [
      "100%|██████████| 10/10 [08:48<00:00, 52.89s/it]\n"
     ]
    },
    {
     "name": "stdout",
     "output_type": "stream",
     "text": [
      "Patient ID: PSMA-01-534 | Body part: Top | Rotation: 235\n"
     ]
    },
    {
     "name": "stderr",
     "output_type": "stream",
     "text": [
      "100%|██████████| 10/10 [08:54<00:00, 53.43s/it]\n"
     ]
    },
    {
     "name": "stdout",
     "output_type": "stream",
     "text": [
      "Patient ID: PSMA-01-534 | Body part: Bottom | Rotation: 235\n"
     ]
    },
    {
     "name": "stderr",
     "output_type": "stream",
     "text": [
      "100%|██████████| 10/10 [08:50<00:00, 53.01s/it]\n"
     ]
    },
    {
     "name": "stdout",
     "output_type": "stream",
     "text": [
      "Patient ID: PSMA-01-534 | Body part: Top | Rotation: 240\n"
     ]
    },
    {
     "name": "stderr",
     "output_type": "stream",
     "text": [
      "100%|██████████| 10/10 [08:50<00:00, 53.05s/it]\n"
     ]
    },
    {
     "name": "stdout",
     "output_type": "stream",
     "text": [
      "Patient ID: PSMA-01-534 | Body part: Bottom | Rotation: 240\n"
     ]
    },
    {
     "name": "stderr",
     "output_type": "stream",
     "text": [
      "100%|██████████| 10/10 [08:49<00:00, 52.95s/it]\n"
     ]
    },
    {
     "name": "stdout",
     "output_type": "stream",
     "text": [
      "Patient ID: PSMA-01-534 | Body part: Top | Rotation: 245\n"
     ]
    },
    {
     "name": "stderr",
     "output_type": "stream",
     "text": [
      "100%|██████████| 10/10 [08:47<00:00, 52.73s/it]\n"
     ]
    },
    {
     "name": "stdout",
     "output_type": "stream",
     "text": [
      "Patient ID: PSMA-01-534 | Body part: Bottom | Rotation: 245\n"
     ]
    },
    {
     "name": "stderr",
     "output_type": "stream",
     "text": [
      "100%|██████████| 10/10 [08:49<00:00, 52.93s/it]\n"
     ]
    },
    {
     "name": "stdout",
     "output_type": "stream",
     "text": [
      "Patient ID: PSMA-01-534 | Body part: Top | Rotation: 250\n"
     ]
    },
    {
     "name": "stderr",
     "output_type": "stream",
     "text": [
      "100%|██████████| 10/10 [08:49<00:00, 52.92s/it]\n"
     ]
    },
    {
     "name": "stdout",
     "output_type": "stream",
     "text": [
      "Patient ID: PSMA-01-534 | Body part: Bottom | Rotation: 250\n"
     ]
    },
    {
     "name": "stderr",
     "output_type": "stream",
     "text": [
      "100%|██████████| 10/10 [08:48<00:00, 52.89s/it]\n"
     ]
    },
    {
     "name": "stdout",
     "output_type": "stream",
     "text": [
      "Patient ID: PSMA-01-534 | Body part: Top | Rotation: 255\n"
     ]
    },
    {
     "name": "stderr",
     "output_type": "stream",
     "text": [
      "100%|██████████| 10/10 [08:48<00:00, 52.90s/it]\n"
     ]
    },
    {
     "name": "stdout",
     "output_type": "stream",
     "text": [
      "Patient ID: PSMA-01-534 | Body part: Bottom | Rotation: 255\n"
     ]
    },
    {
     "name": "stderr",
     "output_type": "stream",
     "text": [
      "100%|██████████| 10/10 [08:47<00:00, 52.77s/it]\n"
     ]
    },
    {
     "name": "stdout",
     "output_type": "stream",
     "text": [
      "Patient ID: PSMA-01-534 | Body part: Top | Rotation: 260\n"
     ]
    },
    {
     "name": "stderr",
     "output_type": "stream",
     "text": [
      "100%|██████████| 10/10 [08:48<00:00, 52.83s/it]\n"
     ]
    },
    {
     "name": "stdout",
     "output_type": "stream",
     "text": [
      "Patient ID: PSMA-01-534 | Body part: Bottom | Rotation: 260\n"
     ]
    },
    {
     "name": "stderr",
     "output_type": "stream",
     "text": [
      "100%|██████████| 10/10 [08:45<00:00, 52.53s/it]\n"
     ]
    },
    {
     "name": "stdout",
     "output_type": "stream",
     "text": [
      "Patient ID: PSMA-01-534 | Body part: Top | Rotation: 265\n"
     ]
    },
    {
     "name": "stderr",
     "output_type": "stream",
     "text": [
      "100%|██████████| 10/10 [08:48<00:00, 52.87s/it]\n"
     ]
    },
    {
     "name": "stdout",
     "output_type": "stream",
     "text": [
      "Patient ID: PSMA-01-534 | Body part: Bottom | Rotation: 265\n"
     ]
    },
    {
     "name": "stderr",
     "output_type": "stream",
     "text": [
      "100%|██████████| 10/10 [08:45<00:00, 52.53s/it]\n"
     ]
    },
    {
     "name": "stdout",
     "output_type": "stream",
     "text": [
      "Patient ID: PSMA-01-534 | Body part: Top | Rotation: 270\n"
     ]
    },
    {
     "name": "stderr",
     "output_type": "stream",
     "text": [
      "100%|██████████| 10/10 [08:48<00:00, 52.83s/it]\n"
     ]
    },
    {
     "name": "stdout",
     "output_type": "stream",
     "text": [
      "Patient ID: PSMA-01-534 | Body part: Bottom | Rotation: 270\n"
     ]
    },
    {
     "name": "stderr",
     "output_type": "stream",
     "text": [
      "100%|██████████| 10/10 [08:45<00:00, 52.56s/it]\n"
     ]
    },
    {
     "name": "stdout",
     "output_type": "stream",
     "text": [
      "Patient ID: PSMA-01-534 | Body part: Top | Rotation: 275\n",
      "Patient ID: PSMA-01-534 | Body part: Bottom | Rotation: 275\n"
     ]
    },
    {
     "name": "stderr",
     "output_type": "stream",
     "text": [
      "100%|██████████| 10/10 [08:45<00:00, 52.55s/it]\n"
     ]
    },
    {
     "name": "stdout",
     "output_type": "stream",
     "text": [
      "Patient ID: PSMA-01-534 | Body part: Top | Rotation: 280\n",
      "Patient ID: PSMA-01-534 | Body part: Bottom | Rotation: 280\n"
     ]
    },
    {
     "name": "stderr",
     "output_type": "stream",
     "text": [
      "100%|██████████| 10/10 [08:47<00:00, 52.79s/it]\n"
     ]
    },
    {
     "name": "stdout",
     "output_type": "stream",
     "text": [
      "Patient ID: PSMA-01-534 | Body part: Top | Rotation: 285\n"
     ]
    },
    {
     "name": "stderr",
     "output_type": "stream",
     "text": [
      "100%|██████████| 10/10 [08:48<00:00, 52.88s/it]\n"
     ]
    },
    {
     "name": "stdout",
     "output_type": "stream",
     "text": [
      "Patient ID: PSMA-01-534 | Body part: Bottom | Rotation: 285\n"
     ]
    },
    {
     "name": "stderr",
     "output_type": "stream",
     "text": [
      "100%|██████████| 10/10 [08:47<00:00, 52.75s/it]\n"
     ]
    },
    {
     "name": "stdout",
     "output_type": "stream",
     "text": [
      "Patient ID: PSMA-01-534 | Body part: Top | Rotation: 290\n"
     ]
    },
    {
     "name": "stderr",
     "output_type": "stream",
     "text": [
      "100%|██████████| 10/10 [08:49<00:00, 52.93s/it]\n"
     ]
    },
    {
     "name": "stdout",
     "output_type": "stream",
     "text": [
      "Patient ID: PSMA-01-534 | Body part: Bottom | Rotation: 290\n"
     ]
    },
    {
     "name": "stderr",
     "output_type": "stream",
     "text": [
      "100%|██████████| 10/10 [08:47<00:00, 52.77s/it]\n"
     ]
    },
    {
     "name": "stdout",
     "output_type": "stream",
     "text": [
      "Patient ID: PSMA-01-534 | Body part: Top | Rotation: 295\n"
     ]
    },
    {
     "name": "stderr",
     "output_type": "stream",
     "text": [
      "100%|██████████| 10/10 [08:48<00:00, 52.83s/it]\n"
     ]
    },
    {
     "name": "stdout",
     "output_type": "stream",
     "text": [
      "Patient ID: PSMA-01-534 | Body part: Bottom | Rotation: 295\n"
     ]
    },
    {
     "name": "stderr",
     "output_type": "stream",
     "text": [
      "100%|██████████| 10/10 [08:48<00:00, 52.85s/it]\n"
     ]
    },
    {
     "name": "stdout",
     "output_type": "stream",
     "text": [
      "Patient ID: PSMA-01-534 | Body part: Top | Rotation: 300\n"
     ]
    },
    {
     "name": "stderr",
     "output_type": "stream",
     "text": [
      "100%|██████████| 10/10 [08:49<00:00, 52.97s/it]\n"
     ]
    },
    {
     "name": "stdout",
     "output_type": "stream",
     "text": [
      "Patient ID: PSMA-01-534 | Body part: Bottom | Rotation: 300\n"
     ]
    },
    {
     "name": "stderr",
     "output_type": "stream",
     "text": [
      "100%|██████████| 10/10 [08:48<00:00, 52.89s/it]\n"
     ]
    },
    {
     "name": "stdout",
     "output_type": "stream",
     "text": [
      "Patient ID: PSMA-01-534 | Body part: Top | Rotation: 305\n"
     ]
    },
    {
     "name": "stderr",
     "output_type": "stream",
     "text": [
      "100%|██████████| 10/10 [08:46<00:00, 52.70s/it]\n"
     ]
    },
    {
     "name": "stdout",
     "output_type": "stream",
     "text": [
      "Patient ID: PSMA-01-534 | Body part: Bottom | Rotation: 305\n"
     ]
    },
    {
     "name": "stderr",
     "output_type": "stream",
     "text": [
      "100%|██████████| 10/10 [09:01<00:00, 54.18s/it]\n"
     ]
    },
    {
     "name": "stdout",
     "output_type": "stream",
     "text": [
      "Patient ID: PSMA-01-534 | Body part: Top | Rotation: 310\n"
     ]
    },
    {
     "name": "stderr",
     "output_type": "stream",
     "text": [
      "100%|██████████| 10/10 [08:48<00:00, 52.80s/it]\n"
     ]
    },
    {
     "name": "stdout",
     "output_type": "stream",
     "text": [
      "Patient ID: PSMA-01-534 | Body part: Bottom | Rotation: 310\n"
     ]
    },
    {
     "name": "stderr",
     "output_type": "stream",
     "text": [
      "100%|██████████| 10/10 [09:05<00:00, 54.50s/it]\n"
     ]
    },
    {
     "name": "stdout",
     "output_type": "stream",
     "text": [
      "Patient ID: PSMA-01-534 | Body part: Top | Rotation: 315\n"
     ]
    },
    {
     "name": "stderr",
     "output_type": "stream",
     "text": [
      "100%|██████████| 10/10 [08:48<00:00, 52.86s/it]\n"
     ]
    },
    {
     "name": "stdout",
     "output_type": "stream",
     "text": [
      "Patient ID: PSMA-01-534 | Body part: Bottom | Rotation: 315\n"
     ]
    },
    {
     "name": "stderr",
     "output_type": "stream",
     "text": [
      "100%|██████████| 10/10 [08:47<00:00, 52.78s/it]\n"
     ]
    },
    {
     "name": "stdout",
     "output_type": "stream",
     "text": [
      "Patient ID: PSMA-01-534 | Body part: Top | Rotation: 320\n"
     ]
    },
    {
     "name": "stderr",
     "output_type": "stream",
     "text": [
      "100%|██████████| 10/10 [08:55<00:00, 53.51s/it]\n"
     ]
    },
    {
     "name": "stdout",
     "output_type": "stream",
     "text": [
      "Patient ID: PSMA-01-534 | Body part: Bottom | Rotation: 320\n"
     ]
    },
    {
     "name": "stderr",
     "output_type": "stream",
     "text": [
      "100%|██████████| 10/10 [08:48<00:00, 52.83s/it]\n"
     ]
    },
    {
     "name": "stdout",
     "output_type": "stream",
     "text": [
      "Patient ID: PSMA-01-534 | Body part: Top | Rotation: 325\n"
     ]
    },
    {
     "name": "stderr",
     "output_type": "stream",
     "text": [
      "100%|██████████| 10/10 [08:47<00:00, 52.78s/it]\n"
     ]
    },
    {
     "name": "stdout",
     "output_type": "stream",
     "text": [
      "Patient ID: PSMA-01-534 | Body part: Bottom | Rotation: 325\n"
     ]
    },
    {
     "name": "stderr",
     "output_type": "stream",
     "text": [
      "100%|██████████| 10/10 [08:49<00:00, 52.94s/it]\n"
     ]
    },
    {
     "name": "stdout",
     "output_type": "stream",
     "text": [
      "Patient ID: PSMA-01-534 | Body part: Top | Rotation: 330\n"
     ]
    },
    {
     "name": "stderr",
     "output_type": "stream",
     "text": [
      "100%|██████████| 10/10 [08:46<00:00, 52.66s/it]\n"
     ]
    },
    {
     "name": "stdout",
     "output_type": "stream",
     "text": [
      "Patient ID: PSMA-01-534 | Body part: Bottom | Rotation: 330\n"
     ]
    },
    {
     "name": "stderr",
     "output_type": "stream",
     "text": [
      "100%|██████████| 10/10 [08:45<00:00, 52.57s/it]\n"
     ]
    },
    {
     "name": "stdout",
     "output_type": "stream",
     "text": [
      "Patient ID: PSMA-01-534 | Body part: Top | Rotation: 335\n"
     ]
    },
    {
     "name": "stderr",
     "output_type": "stream",
     "text": [
      "100%|██████████| 10/10 [08:55<00:00, 53.54s/it]\n"
     ]
    },
    {
     "name": "stdout",
     "output_type": "stream",
     "text": [
      "Patient ID: PSMA-01-534 | Body part: Bottom | Rotation: 335\n"
     ]
    },
    {
     "name": "stderr",
     "output_type": "stream",
     "text": [
      "100%|██████████| 10/10 [08:54<00:00, 53.43s/it]\n"
     ]
    },
    {
     "name": "stdout",
     "output_type": "stream",
     "text": [
      "Patient ID: PSMA-01-534 | Body part: Top | Rotation: 340\n"
     ]
    },
    {
     "name": "stderr",
     "output_type": "stream",
     "text": [
      "100%|██████████| 10/10 [08:45<00:00, 52.56s/it]\n"
     ]
    },
    {
     "name": "stdout",
     "output_type": "stream",
     "text": [
      "Patient ID: PSMA-01-534 | Body part: Bottom | Rotation: 340\n"
     ]
    },
    {
     "name": "stderr",
     "output_type": "stream",
     "text": [
      "100%|██████████| 10/10 [08:48<00:00, 52.87s/it]\n"
     ]
    },
    {
     "name": "stdout",
     "output_type": "stream",
     "text": [
      "Patient ID: PSMA-01-534 | Body part: Top | Rotation: 345\n"
     ]
    },
    {
     "name": "stderr",
     "output_type": "stream",
     "text": [
      "100%|██████████| 10/10 [08:48<00:00, 52.88s/it]\n"
     ]
    },
    {
     "name": "stdout",
     "output_type": "stream",
     "text": [
      "Patient ID: PSMA-01-534 | Body part: Bottom | Rotation: 345\n"
     ]
    },
    {
     "name": "stderr",
     "output_type": "stream",
     "text": [
      "100%|██████████| 10/10 [08:47<00:00, 52.70s/it]\n"
     ]
    },
    {
     "name": "stdout",
     "output_type": "stream",
     "text": [
      "Patient ID: PSMA-01-534 | Body part: Top | Rotation: 350\n"
     ]
    },
    {
     "name": "stderr",
     "output_type": "stream",
     "text": [
      "100%|██████████| 10/10 [08:47<00:00, 52.75s/it]\n"
     ]
    },
    {
     "name": "stdout",
     "output_type": "stream",
     "text": [
      "Patient ID: PSMA-01-534 | Body part: Bottom | Rotation: 350\n"
     ]
    },
    {
     "name": "stderr",
     "output_type": "stream",
     "text": [
      "100%|██████████| 10/10 [08:48<00:00, 52.84s/it]\n"
     ]
    },
    {
     "name": "stdout",
     "output_type": "stream",
     "text": [
      "Patient ID: PSMA-01-534 | Body part: Top | Rotation: 355\n"
     ]
    },
    {
     "name": "stderr",
     "output_type": "stream",
     "text": [
      "100%|██████████| 10/10 [08:48<00:00, 52.87s/it]\n"
     ]
    },
    {
     "name": "stdout",
     "output_type": "stream",
     "text": [
      "Patient ID: PSMA-01-534 | Body part: Bottom | Rotation: 355\n"
     ]
    },
    {
     "name": "stderr",
     "output_type": "stream",
     "text": [
      "100%|██████████| 10/10 [08:47<00:00, 52.77s/it]\n"
     ]
    },
    {
     "name": "stdout",
     "output_type": "stream",
     "text": [
      "Patient ID: PSMA-01-145 | Body part: Top | Rotation: 000\n",
      "Patient ID: PSMA-01-145 | Body part: Bottom | Rotation: 000\n"
     ]
    },
    {
     "name": "stderr",
     "output_type": "stream",
     "text": [
      "100%|██████████| 10/10 [08:45<00:00, 52.57s/it]\n"
     ]
    },
    {
     "name": "stdout",
     "output_type": "stream",
     "text": [
      "Patient ID: PSMA-01-145 | Body part: Top | Rotation: 005\n",
      "Patient ID: PSMA-01-145 | Body part: Bottom | Rotation: 005\n"
     ]
    },
    {
     "name": "stderr",
     "output_type": "stream",
     "text": [
      "100%|██████████| 10/10 [08:48<00:00, 52.84s/it]\n"
     ]
    },
    {
     "name": "stdout",
     "output_type": "stream",
     "text": [
      "Patient ID: PSMA-01-145 | Body part: Top | Rotation: 010\n",
      "Patient ID: PSMA-01-145 | Body part: Bottom | Rotation: 010\n"
     ]
    },
    {
     "name": "stderr",
     "output_type": "stream",
     "text": [
      "100%|██████████| 10/10 [08:48<00:00, 52.89s/it]\n"
     ]
    },
    {
     "name": "stdout",
     "output_type": "stream",
     "text": [
      "Patient ID: PSMA-01-145 | Body part: Top | Rotation: 015\n",
      "Patient ID: PSMA-01-145 | Body part: Bottom | Rotation: 015\n"
     ]
    },
    {
     "name": "stderr",
     "output_type": "stream",
     "text": [
      "100%|██████████| 10/10 [08:48<00:00, 52.87s/it]\n"
     ]
    },
    {
     "name": "stdout",
     "output_type": "stream",
     "text": [
      "Patient ID: PSMA-01-145 | Body part: Top | Rotation: 020\n",
      "Patient ID: PSMA-01-145 | Body part: Bottom | Rotation: 020\n"
     ]
    },
    {
     "name": "stderr",
     "output_type": "stream",
     "text": [
      "100%|██████████| 10/10 [08:48<00:00, 52.89s/it]\n"
     ]
    },
    {
     "name": "stdout",
     "output_type": "stream",
     "text": [
      "Patient ID: PSMA-01-145 | Body part: Top | Rotation: 025\n",
      "Patient ID: PSMA-01-145 | Body part: Bottom | Rotation: 025\n"
     ]
    },
    {
     "name": "stderr",
     "output_type": "stream",
     "text": [
      "100%|██████████| 10/10 [08:47<00:00, 52.72s/it]\n"
     ]
    },
    {
     "name": "stdout",
     "output_type": "stream",
     "text": [
      "Patient ID: PSMA-01-145 | Body part: Top | Rotation: 030\n",
      "Patient ID: PSMA-01-145 | Body part: Bottom | Rotation: 030\n"
     ]
    },
    {
     "name": "stderr",
     "output_type": "stream",
     "text": [
      "100%|██████████| 10/10 [08:47<00:00, 52.75s/it]\n"
     ]
    },
    {
     "name": "stdout",
     "output_type": "stream",
     "text": [
      "Patient ID: PSMA-01-145 | Body part: Top | Rotation: 035\n",
      "Patient ID: PSMA-01-145 | Body part: Bottom | Rotation: 035\n"
     ]
    },
    {
     "name": "stderr",
     "output_type": "stream",
     "text": [
      "100%|██████████| 10/10 [08:45<00:00, 52.51s/it]\n"
     ]
    },
    {
     "name": "stdout",
     "output_type": "stream",
     "text": [
      "Patient ID: PSMA-01-145 | Body part: Top | Rotation: 040\n",
      "Patient ID: PSMA-01-145 | Body part: Bottom | Rotation: 040\n"
     ]
    },
    {
     "name": "stderr",
     "output_type": "stream",
     "text": [
      "100%|██████████| 10/10 [09:06<00:00, 54.65s/it]\n"
     ]
    },
    {
     "name": "stdout",
     "output_type": "stream",
     "text": [
      "Patient ID: PSMA-01-145 | Body part: Top | Rotation: 045\n",
      "Patient ID: PSMA-01-145 | Body part: Bottom | Rotation: 045\n"
     ]
    },
    {
     "name": "stderr",
     "output_type": "stream",
     "text": [
      "100%|██████████| 10/10 [08:49<00:00, 52.91s/it]\n"
     ]
    },
    {
     "name": "stdout",
     "output_type": "stream",
     "text": [
      "Patient ID: PSMA-01-145 | Body part: Top | Rotation: 050\n",
      "Patient ID: PSMA-01-145 | Body part: Bottom | Rotation: 050\n"
     ]
    },
    {
     "name": "stderr",
     "output_type": "stream",
     "text": [
      "100%|██████████| 10/10 [08:45<00:00, 52.54s/it]\n"
     ]
    },
    {
     "name": "stdout",
     "output_type": "stream",
     "text": [
      "Patient ID: PSMA-01-145 | Body part: Top | Rotation: 055\n",
      "Patient ID: PSMA-01-145 | Body part: Bottom | Rotation: 055\n"
     ]
    },
    {
     "name": "stderr",
     "output_type": "stream",
     "text": [
      "100%|██████████| 10/10 [08:45<00:00, 52.57s/it]\n"
     ]
    },
    {
     "name": "stdout",
     "output_type": "stream",
     "text": [
      "Patient ID: PSMA-01-145 | Body part: Top | Rotation: 060\n",
      "Patient ID: PSMA-01-145 | Body part: Bottom | Rotation: 060\n"
     ]
    },
    {
     "name": "stderr",
     "output_type": "stream",
     "text": [
      "100%|██████████| 10/10 [08:49<00:00, 52.94s/it]\n"
     ]
    },
    {
     "name": "stdout",
     "output_type": "stream",
     "text": [
      "Patient ID: PSMA-01-145 | Body part: Top | Rotation: 065\n",
      "Patient ID: PSMA-01-145 | Body part: Bottom | Rotation: 065\n"
     ]
    },
    {
     "name": "stderr",
     "output_type": "stream",
     "text": [
      "100%|██████████| 10/10 [08:46<00:00, 52.68s/it]\n"
     ]
    },
    {
     "name": "stdout",
     "output_type": "stream",
     "text": [
      "Patient ID: PSMA-01-145 | Body part: Top | Rotation: 070\n",
      "Patient ID: PSMA-01-145 | Body part: Bottom | Rotation: 070\n"
     ]
    },
    {
     "name": "stderr",
     "output_type": "stream",
     "text": [
      "100%|██████████| 10/10 [08:51<00:00, 53.14s/it]\n"
     ]
    },
    {
     "name": "stdout",
     "output_type": "stream",
     "text": [
      "Patient ID: PSMA-01-145 | Body part: Top | Rotation: 075\n",
      "Patient ID: PSMA-01-145 | Body part: Bottom | Rotation: 075\n"
     ]
    },
    {
     "name": "stderr",
     "output_type": "stream",
     "text": [
      "100%|██████████| 10/10 [08:57<00:00, 53.80s/it]\n"
     ]
    },
    {
     "name": "stdout",
     "output_type": "stream",
     "text": [
      "Patient ID: PSMA-01-145 | Body part: Top | Rotation: 080\n",
      "Patient ID: PSMA-01-145 | Body part: Bottom | Rotation: 080\n"
     ]
    },
    {
     "name": "stderr",
     "output_type": "stream",
     "text": [
      "100%|██████████| 10/10 [08:51<00:00, 53.14s/it]\n"
     ]
    },
    {
     "name": "stdout",
     "output_type": "stream",
     "text": [
      "Patient ID: PSMA-01-145 | Body part: Top | Rotation: 085\n",
      "Patient ID: PSMA-01-145 | Body part: Bottom | Rotation: 085\n"
     ]
    },
    {
     "name": "stderr",
     "output_type": "stream",
     "text": [
      "100%|██████████| 10/10 [08:49<00:00, 52.97s/it]\n"
     ]
    },
    {
     "name": "stdout",
     "output_type": "stream",
     "text": [
      "Patient ID: PSMA-01-145 | Body part: Top | Rotation: 090\n",
      "Patient ID: PSMA-01-145 | Body part: Bottom | Rotation: 090\n"
     ]
    },
    {
     "name": "stderr",
     "output_type": "stream",
     "text": [
      "100%|██████████| 10/10 [08:50<00:00, 53.06s/it]\n"
     ]
    },
    {
     "name": "stdout",
     "output_type": "stream",
     "text": [
      "Patient ID: PSMA-01-145 | Body part: Top | Rotation: 095\n",
      "Patient ID: PSMA-01-145 | Body part: Bottom | Rotation: 095\n"
     ]
    },
    {
     "name": "stderr",
     "output_type": "stream",
     "text": [
      "100%|██████████| 10/10 [09:01<00:00, 54.19s/it]\n"
     ]
    },
    {
     "name": "stdout",
     "output_type": "stream",
     "text": [
      "Patient ID: PSMA-01-145 | Body part: Top | Rotation: 100\n",
      "Patient ID: PSMA-01-145 | Body part: Bottom | Rotation: 100\n"
     ]
    },
    {
     "name": "stderr",
     "output_type": "stream",
     "text": [
      "100%|██████████| 10/10 [09:04<00:00, 54.44s/it]\n"
     ]
    },
    {
     "name": "stdout",
     "output_type": "stream",
     "text": [
      "Patient ID: PSMA-01-145 | Body part: Top | Rotation: 105\n",
      "Patient ID: PSMA-01-145 | Body part: Bottom | Rotation: 105\n",
      "Patient ID: PSMA-01-145 | Body part: Top | Rotation: 110\n",
      "Patient ID: PSMA-01-145 | Body part: Bottom | Rotation: 110\n",
      "Patient ID: PSMA-01-145 | Body part: Top | Rotation: 115\n",
      "Patient ID: PSMA-01-145 | Body part: Bottom | Rotation: 115\n",
      "Patient ID: PSMA-01-145 | Body part: Top | Rotation: 120\n",
      "Patient ID: PSMA-01-145 | Body part: Bottom | Rotation: 120\n",
      "Patient ID: PSMA-01-145 | Body part: Top | Rotation: 125\n",
      "Patient ID: PSMA-01-145 | Body part: Bottom | Rotation: 125\n",
      "Patient ID: PSMA-01-145 | Body part: Top | Rotation: 130\n",
      "Patient ID: PSMA-01-145 | Body part: Bottom | Rotation: 130\n",
      "Patient ID: PSMA-01-145 | Body part: Top | Rotation: 135\n",
      "Patient ID: PSMA-01-145 | Body part: Bottom | Rotation: 135\n",
      "Patient ID: PSMA-01-145 | Body part: Top | Rotation: 140\n",
      "Patient ID: PSMA-01-145 | Body part: Bottom | Rotation: 140\n",
      "Patient ID: PSMA-01-145 | Body part: Top | Rotation: 145\n",
      "Patient ID: PSMA-01-145 | Body part: Bottom | Rotation: 145\n"
     ]
    },
    {
     "name": "stderr",
     "output_type": "stream",
     "text": [
      "100%|██████████| 10/10 [08:57<00:00, 53.76s/it]\n"
     ]
    },
    {
     "name": "stdout",
     "output_type": "stream",
     "text": [
      "Patient ID: PSMA-01-145 | Body part: Top | Rotation: 150\n",
      "Patient ID: PSMA-01-145 | Body part: Bottom | Rotation: 150\n"
     ]
    },
    {
     "name": "stderr",
     "output_type": "stream",
     "text": [
      "100%|██████████| 10/10 [08:48<00:00, 52.83s/it]\n"
     ]
    },
    {
     "name": "stdout",
     "output_type": "stream",
     "text": [
      "Patient ID: PSMA-01-145 | Body part: Top | Rotation: 155\n",
      "Patient ID: PSMA-01-145 | Body part: Bottom | Rotation: 155\n"
     ]
    },
    {
     "name": "stderr",
     "output_type": "stream",
     "text": [
      "100%|██████████| 10/10 [08:48<00:00, 52.81s/it]\n"
     ]
    },
    {
     "name": "stdout",
     "output_type": "stream",
     "text": [
      "Patient ID: PSMA-01-145 | Body part: Top | Rotation: 160\n",
      "Patient ID: PSMA-01-145 | Body part: Bottom | Rotation: 160\n"
     ]
    },
    {
     "name": "stderr",
     "output_type": "stream",
     "text": [
      "100%|██████████| 10/10 [08:46<00:00, 52.61s/it]\n"
     ]
    },
    {
     "name": "stdout",
     "output_type": "stream",
     "text": [
      "Patient ID: PSMA-01-145 | Body part: Top | Rotation: 165\n",
      "Patient ID: PSMA-01-145 | Body part: Bottom | Rotation: 165\n"
     ]
    },
    {
     "name": "stderr",
     "output_type": "stream",
     "text": [
      "100%|██████████| 10/10 [08:51<00:00, 53.13s/it]\n"
     ]
    },
    {
     "name": "stdout",
     "output_type": "stream",
     "text": [
      "Patient ID: PSMA-01-145 | Body part: Top | Rotation: 170\n",
      "Patient ID: PSMA-01-145 | Body part: Bottom | Rotation: 170\n"
     ]
    },
    {
     "name": "stderr",
     "output_type": "stream",
     "text": [
      "100%|██████████| 10/10 [08:50<00:00, 53.03s/it]\n"
     ]
    },
    {
     "name": "stdout",
     "output_type": "stream",
     "text": [
      "Patient ID: PSMA-01-145 | Body part: Top | Rotation: 175\n",
      "Patient ID: PSMA-01-145 | Body part: Bottom | Rotation: 175\n"
     ]
    },
    {
     "name": "stderr",
     "output_type": "stream",
     "text": [
      "100%|██████████| 10/10 [08:50<00:00, 53.00s/it]\n"
     ]
    },
    {
     "name": "stdout",
     "output_type": "stream",
     "text": [
      "Patient ID: PSMA-01-145 | Body part: Top | Rotation: 180\n",
      "Patient ID: PSMA-01-145 | Body part: Bottom | Rotation: 180\n"
     ]
    },
    {
     "name": "stderr",
     "output_type": "stream",
     "text": [
      "100%|██████████| 10/10 [08:48<00:00, 52.82s/it]\n"
     ]
    },
    {
     "name": "stdout",
     "output_type": "stream",
     "text": [
      "Patient ID: PSMA-01-145 | Body part: Top | Rotation: 185\n",
      "Patient ID: PSMA-01-145 | Body part: Bottom | Rotation: 185\n"
     ]
    },
    {
     "name": "stderr",
     "output_type": "stream",
     "text": [
      "100%|██████████| 10/10 [08:50<00:00, 53.01s/it]\n"
     ]
    },
    {
     "name": "stdout",
     "output_type": "stream",
     "text": [
      "Patient ID: PSMA-01-145 | Body part: Top | Rotation: 190\n",
      "Patient ID: PSMA-01-145 | Body part: Bottom | Rotation: 190\n"
     ]
    },
    {
     "name": "stderr",
     "output_type": "stream",
     "text": [
      "100%|██████████| 10/10 [08:53<00:00, 53.40s/it]\n"
     ]
    },
    {
     "name": "stdout",
     "output_type": "stream",
     "text": [
      "Patient ID: PSMA-01-145 | Body part: Top | Rotation: 195\n",
      "Patient ID: PSMA-01-145 | Body part: Bottom | Rotation: 195\n"
     ]
    },
    {
     "name": "stderr",
     "output_type": "stream",
     "text": [
      "100%|██████████| 10/10 [08:46<00:00, 52.65s/it]\n"
     ]
    },
    {
     "name": "stdout",
     "output_type": "stream",
     "text": [
      "Patient ID: PSMA-01-145 | Body part: Top | Rotation: 200\n",
      "Patient ID: PSMA-01-145 | Body part: Bottom | Rotation: 200\n"
     ]
    },
    {
     "name": "stderr",
     "output_type": "stream",
     "text": [
      "100%|██████████| 10/10 [08:50<00:00, 53.10s/it]\n"
     ]
    },
    {
     "name": "stdout",
     "output_type": "stream",
     "text": [
      "Patient ID: PSMA-01-145 | Body part: Top | Rotation: 205\n",
      "Patient ID: PSMA-01-145 | Body part: Bottom | Rotation: 205\n"
     ]
    },
    {
     "name": "stderr",
     "output_type": "stream",
     "text": [
      "100%|██████████| 10/10 [08:50<00:00, 53.07s/it]\n"
     ]
    },
    {
     "name": "stdout",
     "output_type": "stream",
     "text": [
      "Patient ID: PSMA-01-145 | Body part: Top | Rotation: 210\n",
      "Patient ID: PSMA-01-145 | Body part: Bottom | Rotation: 210\n"
     ]
    },
    {
     "name": "stderr",
     "output_type": "stream",
     "text": [
      "100%|██████████| 10/10 [08:49<00:00, 52.95s/it]\n"
     ]
    },
    {
     "name": "stdout",
     "output_type": "stream",
     "text": [
      "Patient ID: PSMA-01-145 | Body part: Top | Rotation: 215\n",
      "Patient ID: PSMA-01-145 | Body part: Bottom | Rotation: 215\n"
     ]
    },
    {
     "name": "stderr",
     "output_type": "stream",
     "text": [
      "100%|██████████| 10/10 [08:47<00:00, 52.77s/it]\n"
     ]
    },
    {
     "name": "stdout",
     "output_type": "stream",
     "text": [
      "Patient ID: PSMA-01-145 | Body part: Top | Rotation: 220\n",
      "Patient ID: PSMA-01-145 | Body part: Bottom | Rotation: 220\n"
     ]
    },
    {
     "name": "stderr",
     "output_type": "stream",
     "text": [
      "100%|██████████| 10/10 [08:51<00:00, 53.13s/it]\n"
     ]
    },
    {
     "name": "stdout",
     "output_type": "stream",
     "text": [
      "Patient ID: PSMA-01-145 | Body part: Top | Rotation: 225\n",
      "Patient ID: PSMA-01-145 | Body part: Bottom | Rotation: 225\n"
     ]
    },
    {
     "name": "stderr",
     "output_type": "stream",
     "text": [
      "100%|██████████| 10/10 [08:47<00:00, 52.79s/it]\n"
     ]
    },
    {
     "name": "stdout",
     "output_type": "stream",
     "text": [
      "Patient ID: PSMA-01-145 | Body part: Top | Rotation: 230\n",
      "Patient ID: PSMA-01-145 | Body part: Bottom | Rotation: 230\n"
     ]
    },
    {
     "name": "stderr",
     "output_type": "stream",
     "text": [
      "100%|██████████| 10/10 [08:45<00:00, 52.56s/it]\n"
     ]
    },
    {
     "name": "stdout",
     "output_type": "stream",
     "text": [
      "Patient ID: PSMA-01-145 | Body part: Top | Rotation: 235\n",
      "Patient ID: PSMA-01-145 | Body part: Bottom | Rotation: 235\n"
     ]
    },
    {
     "name": "stderr",
     "output_type": "stream",
     "text": [
      "100%|██████████| 10/10 [08:47<00:00, 52.78s/it]\n"
     ]
    },
    {
     "name": "stdout",
     "output_type": "stream",
     "text": [
      "Patient ID: PSMA-01-145 | Body part: Top | Rotation: 240\n",
      "Patient ID: PSMA-01-145 | Body part: Bottom | Rotation: 240\n"
     ]
    },
    {
     "name": "stderr",
     "output_type": "stream",
     "text": [
      "100%|██████████| 10/10 [08:45<00:00, 52.53s/it]\n"
     ]
    },
    {
     "name": "stdout",
     "output_type": "stream",
     "text": [
      "Patient ID: PSMA-01-145 | Body part: Top | Rotation: 245\n",
      "Patient ID: PSMA-01-145 | Body part: Bottom | Rotation: 245\n"
     ]
    },
    {
     "name": "stderr",
     "output_type": "stream",
     "text": [
      "100%|██████████| 10/10 [08:47<00:00, 52.79s/it]\n"
     ]
    },
    {
     "name": "stdout",
     "output_type": "stream",
     "text": [
      "Patient ID: PSMA-01-145 | Body part: Top | Rotation: 250\n",
      "Patient ID: PSMA-01-145 | Body part: Bottom | Rotation: 250\n"
     ]
    },
    {
     "name": "stderr",
     "output_type": "stream",
     "text": [
      "100%|██████████| 10/10 [08:45<00:00, 52.56s/it]\n"
     ]
    },
    {
     "name": "stdout",
     "output_type": "stream",
     "text": [
      "Patient ID: PSMA-01-145 | Body part: Top | Rotation: 255\n",
      "Patient ID: PSMA-01-145 | Body part: Bottom | Rotation: 255\n"
     ]
    },
    {
     "name": "stderr",
     "output_type": "stream",
     "text": [
      "100%|██████████| 10/10 [08:46<00:00, 52.60s/it]\n"
     ]
    },
    {
     "name": "stdout",
     "output_type": "stream",
     "text": [
      "Patient ID: PSMA-01-145 | Body part: Top | Rotation: 260\n",
      "Patient ID: PSMA-01-145 | Body part: Bottom | Rotation: 260\n"
     ]
    },
    {
     "name": "stderr",
     "output_type": "stream",
     "text": [
      "100%|██████████| 10/10 [09:04<00:00, 54.46s/it]\n"
     ]
    },
    {
     "name": "stdout",
     "output_type": "stream",
     "text": [
      "Patient ID: PSMA-01-145 | Body part: Top | Rotation: 265\n",
      "Patient ID: PSMA-01-145 | Body part: Bottom | Rotation: 265\n"
     ]
    },
    {
     "name": "stderr",
     "output_type": "stream",
     "text": [
      "100%|██████████| 10/10 [08:44<00:00, 52.46s/it]\n"
     ]
    },
    {
     "name": "stdout",
     "output_type": "stream",
     "text": [
      "Patient ID: PSMA-01-145 | Body part: Top | Rotation: 270\n",
      "Patient ID: PSMA-01-145 | Body part: Bottom | Rotation: 270\n"
     ]
    },
    {
     "name": "stderr",
     "output_type": "stream",
     "text": [
      "100%|██████████| 10/10 [08:44<00:00, 52.47s/it]\n"
     ]
    },
    {
     "name": "stdout",
     "output_type": "stream",
     "text": [
      "Patient ID: PSMA-01-145 | Body part: Top | Rotation: 275\n",
      "Patient ID: PSMA-01-145 | Body part: Bottom | Rotation: 275\n"
     ]
    },
    {
     "name": "stderr",
     "output_type": "stream",
     "text": [
      "100%|██████████| 10/10 [08:48<00:00, 52.84s/it]\n"
     ]
    },
    {
     "name": "stdout",
     "output_type": "stream",
     "text": [
      "Patient ID: PSMA-01-145 | Body part: Top | Rotation: 280\n",
      "Patient ID: PSMA-01-145 | Body part: Bottom | Rotation: 280\n"
     ]
    },
    {
     "name": "stderr",
     "output_type": "stream",
     "text": [
      "100%|██████████| 10/10 [08:43<00:00, 52.36s/it]\n"
     ]
    },
    {
     "name": "stdout",
     "output_type": "stream",
     "text": [
      "Patient ID: PSMA-01-145 | Body part: Top | Rotation: 285\n",
      "Patient ID: PSMA-01-145 | Body part: Bottom | Rotation: 285\n",
      "Patient ID: PSMA-01-145 | Body part: Top | Rotation: 290\n",
      "Patient ID: PSMA-01-145 | Body part: Bottom | Rotation: 290\n",
      "Patient ID: PSMA-01-145 | Body part: Top | Rotation: 295\n",
      "Patient ID: PSMA-01-145 | Body part: Bottom | Rotation: 295\n",
      "Patient ID: PSMA-01-145 | Body part: Top | Rotation: 300\n",
      "Patient ID: PSMA-01-145 | Body part: Bottom | Rotation: 300\n",
      "Patient ID: PSMA-01-145 | Body part: Top | Rotation: 305\n",
      "Patient ID: PSMA-01-145 | Body part: Bottom | Rotation: 305\n",
      "Patient ID: PSMA-01-145 | Body part: Top | Rotation: 310\n",
      "Patient ID: PSMA-01-145 | Body part: Bottom | Rotation: 310\n",
      "Patient ID: PSMA-01-145 | Body part: Top | Rotation: 315\n",
      "Patient ID: PSMA-01-145 | Body part: Bottom | Rotation: 315\n",
      "Patient ID: PSMA-01-145 | Body part: Top | Rotation: 320\n",
      "Patient ID: PSMA-01-145 | Body part: Bottom | Rotation: 320\n",
      "Patient ID: PSMA-01-145 | Body part: Top | Rotation: 325\n",
      "Patient ID: PSMA-01-145 | Body part: Bottom | Rotation: 325\n"
     ]
    },
    {
     "name": "stderr",
     "output_type": "stream",
     "text": [
      "100%|██████████| 10/10 [08:49<00:00, 52.95s/it]\n"
     ]
    },
    {
     "name": "stdout",
     "output_type": "stream",
     "text": [
      "Patient ID: PSMA-01-145 | Body part: Top | Rotation: 330\n",
      "Patient ID: PSMA-01-145 | Body part: Bottom | Rotation: 330\n"
     ]
    },
    {
     "name": "stderr",
     "output_type": "stream",
     "text": [
      "100%|██████████| 10/10 [08:49<00:00, 52.99s/it]\n"
     ]
    },
    {
     "name": "stdout",
     "output_type": "stream",
     "text": [
      "Patient ID: PSMA-01-145 | Body part: Top | Rotation: 335\n",
      "Patient ID: PSMA-01-145 | Body part: Bottom | Rotation: 335\n"
     ]
    },
    {
     "name": "stderr",
     "output_type": "stream",
     "text": [
      "100%|██████████| 10/10 [08:45<00:00, 52.53s/it]\n"
     ]
    },
    {
     "name": "stdout",
     "output_type": "stream",
     "text": [
      "Patient ID: PSMA-01-145 | Body part: Top | Rotation: 340\n",
      "Patient ID: PSMA-01-145 | Body part: Bottom | Rotation: 340\n"
     ]
    },
    {
     "name": "stderr",
     "output_type": "stream",
     "text": [
      "100%|██████████| 10/10 [08:50<00:00, 53.01s/it]\n"
     ]
    },
    {
     "name": "stdout",
     "output_type": "stream",
     "text": [
      "Patient ID: PSMA-01-145 | Body part: Top | Rotation: 345\n",
      "Patient ID: PSMA-01-145 | Body part: Bottom | Rotation: 345\n"
     ]
    },
    {
     "name": "stderr",
     "output_type": "stream",
     "text": [
      "100%|██████████| 10/10 [08:50<00:00, 53.04s/it]\n"
     ]
    },
    {
     "name": "stdout",
     "output_type": "stream",
     "text": [
      "Patient ID: PSMA-01-145 | Body part: Top | Rotation: 350\n",
      "Patient ID: PSMA-01-145 | Body part: Bottom | Rotation: 350\n"
     ]
    },
    {
     "name": "stderr",
     "output_type": "stream",
     "text": [
      "100%|██████████| 10/10 [08:49<00:00, 52.93s/it]\n"
     ]
    },
    {
     "name": "stdout",
     "output_type": "stream",
     "text": [
      "Patient ID: PSMA-01-145 | Body part: Top | Rotation: 355\n",
      "Patient ID: PSMA-01-145 | Body part: Bottom | Rotation: 355\n"
     ]
    },
    {
     "name": "stderr",
     "output_type": "stream",
     "text": [
      "100%|██████████| 10/10 [08:49<00:00, 52.99s/it]\n"
     ]
    },
    {
     "name": "stdout",
     "output_type": "stream",
     "text": [
      "Patient ID: PSMA-01-420 | Body part: Top | Rotation: 000\n",
      "Patient ID: PSMA-01-420 | Body part: Bottom | Rotation: 000\n"
     ]
    },
    {
     "name": "stderr",
     "output_type": "stream",
     "text": [
      "100%|██████████| 10/10 [09:06<00:00, 54.68s/it]\n"
     ]
    },
    {
     "name": "stdout",
     "output_type": "stream",
     "text": [
      "Patient ID: PSMA-01-420 | Body part: Top | Rotation: 005\n",
      "Patient ID: PSMA-01-420 | Body part: Bottom | Rotation: 005\n"
     ]
    },
    {
     "name": "stderr",
     "output_type": "stream",
     "text": [
      "100%|██████████| 10/10 [08:50<00:00, 53.08s/it]\n"
     ]
    },
    {
     "name": "stdout",
     "output_type": "stream",
     "text": [
      "Patient ID: PSMA-01-420 | Body part: Top | Rotation: 010\n",
      "Patient ID: PSMA-01-420 | Body part: Bottom | Rotation: 010\n"
     ]
    },
    {
     "name": "stderr",
     "output_type": "stream",
     "text": [
      "100%|██████████| 10/10 [08:49<00:00, 52.96s/it]\n"
     ]
    },
    {
     "name": "stdout",
     "output_type": "stream",
     "text": [
      "Patient ID: PSMA-01-420 | Body part: Top | Rotation: 015\n",
      "Patient ID: PSMA-01-420 | Body part: Bottom | Rotation: 015\n"
     ]
    },
    {
     "name": "stderr",
     "output_type": "stream",
     "text": [
      "100%|██████████| 10/10 [08:49<00:00, 52.94s/it]\n"
     ]
    },
    {
     "name": "stdout",
     "output_type": "stream",
     "text": [
      "Patient ID: PSMA-01-420 | Body part: Top | Rotation: 020\n",
      "Patient ID: PSMA-01-420 | Body part: Bottom | Rotation: 020\n"
     ]
    },
    {
     "name": "stderr",
     "output_type": "stream",
     "text": [
      "100%|██████████| 10/10 [08:45<00:00, 52.52s/it]\n"
     ]
    },
    {
     "name": "stdout",
     "output_type": "stream",
     "text": [
      "Patient ID: PSMA-01-420 | Body part: Top | Rotation: 025\n",
      "Patient ID: PSMA-01-420 | Body part: Bottom | Rotation: 025\n"
     ]
    },
    {
     "name": "stderr",
     "output_type": "stream",
     "text": [
      "100%|██████████| 10/10 [08:48<00:00, 52.82s/it]\n"
     ]
    },
    {
     "name": "stdout",
     "output_type": "stream",
     "text": [
      "Patient ID: PSMA-01-420 | Body part: Top | Rotation: 030\n",
      "Patient ID: PSMA-01-420 | Body part: Bottom | Rotation: 030\n"
     ]
    },
    {
     "name": "stderr",
     "output_type": "stream",
     "text": [
      "100%|██████████| 10/10 [08:47<00:00, 52.76s/it]\n"
     ]
    },
    {
     "name": "stdout",
     "output_type": "stream",
     "text": [
      "Patient ID: PSMA-01-420 | Body part: Top | Rotation: 035\n",
      "Patient ID: PSMA-01-420 | Body part: Bottom | Rotation: 035\n"
     ]
    },
    {
     "name": "stderr",
     "output_type": "stream",
     "text": [
      "100%|██████████| 10/10 [08:44<00:00, 52.45s/it]\n"
     ]
    },
    {
     "name": "stdout",
     "output_type": "stream",
     "text": [
      "Patient ID: PSMA-01-420 | Body part: Top | Rotation: 040\n",
      "Patient ID: PSMA-01-420 | Body part: Bottom | Rotation: 040\n"
     ]
    },
    {
     "name": "stderr",
     "output_type": "stream",
     "text": [
      "100%|██████████| 10/10 [08:48<00:00, 52.82s/it]\n"
     ]
    },
    {
     "name": "stdout",
     "output_type": "stream",
     "text": [
      "Patient ID: PSMA-01-420 | Body part: Top | Rotation: 045\n",
      "Patient ID: PSMA-01-420 | Body part: Bottom | Rotation: 045\n"
     ]
    },
    {
     "name": "stderr",
     "output_type": "stream",
     "text": [
      "100%|██████████| 10/10 [08:45<00:00, 52.57s/it]\n"
     ]
    },
    {
     "name": "stdout",
     "output_type": "stream",
     "text": [
      "Patient ID: PSMA-01-420 | Body part: Top | Rotation: 050\n",
      "Patient ID: PSMA-01-420 | Body part: Bottom | Rotation: 050\n"
     ]
    },
    {
     "name": "stderr",
     "output_type": "stream",
     "text": [
      "100%|██████████| 10/10 [08:45<00:00, 52.52s/it]\n"
     ]
    },
    {
     "name": "stdout",
     "output_type": "stream",
     "text": [
      "Patient ID: PSMA-01-420 | Body part: Top | Rotation: 055\n",
      "Patient ID: PSMA-01-420 | Body part: Bottom | Rotation: 055\n"
     ]
    },
    {
     "name": "stderr",
     "output_type": "stream",
     "text": [
      "100%|██████████| 10/10 [09:02<00:00, 54.27s/it]\n"
     ]
    },
    {
     "name": "stdout",
     "output_type": "stream",
     "text": [
      "Patient ID: PSMA-01-420 | Body part: Top | Rotation: 060\n",
      "Patient ID: PSMA-01-420 | Body part: Bottom | Rotation: 060\n"
     ]
    },
    {
     "name": "stderr",
     "output_type": "stream",
     "text": [
      "100%|██████████| 10/10 [08:45<00:00, 52.53s/it]\n"
     ]
    },
    {
     "name": "stdout",
     "output_type": "stream",
     "text": [
      "Patient ID: PSMA-01-420 | Body part: Top | Rotation: 065\n",
      "Patient ID: PSMA-01-420 | Body part: Bottom | Rotation: 065\n"
     ]
    },
    {
     "name": "stderr",
     "output_type": "stream",
     "text": [
      "100%|██████████| 10/10 [08:45<00:00, 52.59s/it]\n"
     ]
    },
    {
     "name": "stdout",
     "output_type": "stream",
     "text": [
      "Patient ID: PSMA-01-420 | Body part: Top | Rotation: 070\n",
      "Patient ID: PSMA-01-420 | Body part: Bottom | Rotation: 070\n"
     ]
    },
    {
     "name": "stderr",
     "output_type": "stream",
     "text": [
      "100%|██████████| 10/10 [08:46<00:00, 52.68s/it]\n"
     ]
    },
    {
     "name": "stdout",
     "output_type": "stream",
     "text": [
      "Patient ID: PSMA-01-420 | Body part: Top | Rotation: 075\n",
      "Patient ID: PSMA-01-420 | Body part: Bottom | Rotation: 075\n"
     ]
    },
    {
     "name": "stderr",
     "output_type": "stream",
     "text": [
      "100%|██████████| 10/10 [08:47<00:00, 52.79s/it]\n"
     ]
    },
    {
     "name": "stdout",
     "output_type": "stream",
     "text": [
      "Patient ID: PSMA-01-420 | Body part: Top | Rotation: 080\n",
      "Patient ID: PSMA-01-420 | Body part: Bottom | Rotation: 080\n"
     ]
    },
    {
     "name": "stderr",
     "output_type": "stream",
     "text": [
      "100%|██████████| 10/10 [08:47<00:00, 52.77s/it]\n"
     ]
    },
    {
     "name": "stdout",
     "output_type": "stream",
     "text": [
      "Patient ID: PSMA-01-420 | Body part: Top | Rotation: 085\n",
      "Patient ID: PSMA-01-420 | Body part: Bottom | Rotation: 085\n"
     ]
    },
    {
     "name": "stderr",
     "output_type": "stream",
     "text": [
      "100%|██████████| 10/10 [08:47<00:00, 52.70s/it]\n"
     ]
    },
    {
     "name": "stdout",
     "output_type": "stream",
     "text": [
      "Patient ID: PSMA-01-420 | Body part: Top | Rotation: 090\n",
      "Patient ID: PSMA-01-420 | Body part: Bottom | Rotation: 090\n"
     ]
    },
    {
     "name": "stderr",
     "output_type": "stream",
     "text": [
      "100%|██████████| 10/10 [08:48<00:00, 52.83s/it]\n"
     ]
    },
    {
     "name": "stdout",
     "output_type": "stream",
     "text": [
      "Patient ID: PSMA-01-420 | Body part: Top | Rotation: 095\n",
      "Patient ID: PSMA-01-420 | Body part: Bottom | Rotation: 095\n"
     ]
    },
    {
     "name": "stderr",
     "output_type": "stream",
     "text": [
      "100%|██████████| 10/10 [08:48<00:00, 52.86s/it]\n"
     ]
    },
    {
     "name": "stdout",
     "output_type": "stream",
     "text": [
      "Patient ID: PSMA-01-420 | Body part: Top | Rotation: 100\n",
      "Patient ID: PSMA-01-420 | Body part: Bottom | Rotation: 100\n"
     ]
    },
    {
     "name": "stderr",
     "output_type": "stream",
     "text": [
      "100%|██████████| 10/10 [08:45<00:00, 52.56s/it]\n"
     ]
    },
    {
     "name": "stdout",
     "output_type": "stream",
     "text": [
      "Patient ID: PSMA-01-420 | Body part: Top | Rotation: 105\n",
      "Patient ID: PSMA-01-420 | Body part: Bottom | Rotation: 105\n"
     ]
    },
    {
     "name": "stderr",
     "output_type": "stream",
     "text": [
      "100%|██████████| 10/10 [08:46<00:00, 52.65s/it]\n"
     ]
    },
    {
     "name": "stdout",
     "output_type": "stream",
     "text": [
      "Patient ID: PSMA-01-420 | Body part: Top | Rotation: 110\n",
      "Patient ID: PSMA-01-420 | Body part: Bottom | Rotation: 110\n"
     ]
    },
    {
     "name": "stderr",
     "output_type": "stream",
     "text": [
      "100%|██████████| 10/10 [08:49<00:00, 52.94s/it]\n"
     ]
    },
    {
     "name": "stdout",
     "output_type": "stream",
     "text": [
      "Patient ID: PSMA-01-420 | Body part: Top | Rotation: 115\n",
      "Patient ID: PSMA-01-420 | Body part: Bottom | Rotation: 115\n"
     ]
    },
    {
     "name": "stderr",
     "output_type": "stream",
     "text": [
      "100%|██████████| 10/10 [09:02<00:00, 54.21s/it]\n"
     ]
    },
    {
     "name": "stdout",
     "output_type": "stream",
     "text": [
      "Patient ID: PSMA-01-420 | Body part: Top | Rotation: 120\n",
      "Patient ID: PSMA-01-420 | Body part: Bottom | Rotation: 120\n"
     ]
    },
    {
     "name": "stderr",
     "output_type": "stream",
     "text": [
      "100%|██████████| 10/10 [09:03<00:00, 54.35s/it]\n"
     ]
    },
    {
     "name": "stdout",
     "output_type": "stream",
     "text": [
      "Patient ID: PSMA-01-420 | Body part: Top | Rotation: 125\n",
      "Patient ID: PSMA-01-420 | Body part: Bottom | Rotation: 125\n"
     ]
    },
    {
     "name": "stderr",
     "output_type": "stream",
     "text": [
      "100%|██████████| 10/10 [08:46<00:00, 52.69s/it]\n"
     ]
    },
    {
     "name": "stdout",
     "output_type": "stream",
     "text": [
      "Patient ID: PSMA-01-420 | Body part: Top | Rotation: 130\n",
      "Patient ID: PSMA-01-420 | Body part: Bottom | Rotation: 130\n"
     ]
    },
    {
     "name": "stderr",
     "output_type": "stream",
     "text": [
      "100%|██████████| 10/10 [08:48<00:00, 52.87s/it]\n"
     ]
    },
    {
     "name": "stdout",
     "output_type": "stream",
     "text": [
      "Patient ID: PSMA-01-420 | Body part: Top | Rotation: 135\n",
      "Patient ID: PSMA-01-420 | Body part: Bottom | Rotation: 135\n"
     ]
    },
    {
     "name": "stderr",
     "output_type": "stream",
     "text": [
      "100%|██████████| 10/10 [08:48<00:00, 52.80s/it]\n"
     ]
    },
    {
     "name": "stdout",
     "output_type": "stream",
     "text": [
      "Patient ID: PSMA-01-420 | Body part: Top | Rotation: 140\n",
      "Patient ID: PSMA-01-420 | Body part: Bottom | Rotation: 140\n"
     ]
    },
    {
     "name": "stderr",
     "output_type": "stream",
     "text": [
      "100%|██████████| 10/10 [08:45<00:00, 52.50s/it]\n"
     ]
    },
    {
     "name": "stdout",
     "output_type": "stream",
     "text": [
      "Patient ID: PSMA-01-420 | Body part: Top | Rotation: 145\n",
      "Patient ID: PSMA-01-420 | Body part: Bottom | Rotation: 145\n"
     ]
    },
    {
     "name": "stderr",
     "output_type": "stream",
     "text": [
      "100%|██████████| 10/10 [08:44<00:00, 52.43s/it]\n"
     ]
    },
    {
     "name": "stdout",
     "output_type": "stream",
     "text": [
      "Patient ID: PSMA-01-420 | Body part: Top | Rotation: 150\n",
      "Patient ID: PSMA-01-420 | Body part: Bottom | Rotation: 150\n"
     ]
    },
    {
     "name": "stderr",
     "output_type": "stream",
     "text": [
      "100%|██████████| 10/10 [08:48<00:00, 52.80s/it]\n"
     ]
    },
    {
     "name": "stdout",
     "output_type": "stream",
     "text": [
      "Patient ID: PSMA-01-420 | Body part: Top | Rotation: 155\n",
      "Patient ID: PSMA-01-420 | Body part: Bottom | Rotation: 155\n"
     ]
    },
    {
     "name": "stderr",
     "output_type": "stream",
     "text": [
      "100%|██████████| 10/10 [08:45<00:00, 52.54s/it]\n"
     ]
    },
    {
     "name": "stdout",
     "output_type": "stream",
     "text": [
      "Patient ID: PSMA-01-420 | Body part: Top | Rotation: 160\n",
      "Patient ID: PSMA-01-420 | Body part: Bottom | Rotation: 160\n"
     ]
    },
    {
     "name": "stderr",
     "output_type": "stream",
     "text": [
      "100%|██████████| 10/10 [08:44<00:00, 52.45s/it]\n"
     ]
    },
    {
     "name": "stdout",
     "output_type": "stream",
     "text": [
      "Patient ID: PSMA-01-420 | Body part: Top | Rotation: 165\n",
      "Patient ID: PSMA-01-420 | Body part: Bottom | Rotation: 165\n"
     ]
    },
    {
     "name": "stderr",
     "output_type": "stream",
     "text": [
      "100%|██████████| 10/10 [08:49<00:00, 52.92s/it]\n"
     ]
    },
    {
     "name": "stdout",
     "output_type": "stream",
     "text": [
      "Patient ID: PSMA-01-420 | Body part: Top | Rotation: 170\n",
      "Patient ID: PSMA-01-420 | Body part: Bottom | Rotation: 170\n"
     ]
    },
    {
     "name": "stderr",
     "output_type": "stream",
     "text": [
      "100%|██████████| 10/10 [08:45<00:00, 52.58s/it]\n"
     ]
    },
    {
     "name": "stdout",
     "output_type": "stream",
     "text": [
      "Patient ID: PSMA-01-420 | Body part: Top | Rotation: 175\n",
      "Patient ID: PSMA-01-420 | Body part: Bottom | Rotation: 175\n"
     ]
    },
    {
     "name": "stderr",
     "output_type": "stream",
     "text": [
      "100%|██████████| 10/10 [08:44<00:00, 52.46s/it]\n"
     ]
    },
    {
     "name": "stdout",
     "output_type": "stream",
     "text": [
      "Patient ID: PSMA-01-420 | Body part: Top | Rotation: 180\n",
      "Patient ID: PSMA-01-420 | Body part: Bottom | Rotation: 180\n"
     ]
    },
    {
     "name": "stderr",
     "output_type": "stream",
     "text": [
      "100%|██████████| 10/10 [09:02<00:00, 54.24s/it]\n"
     ]
    },
    {
     "name": "stdout",
     "output_type": "stream",
     "text": [
      "Patient ID: PSMA-01-420 | Body part: Top | Rotation: 185\n",
      "Patient ID: PSMA-01-420 | Body part: Bottom | Rotation: 185\n"
     ]
    },
    {
     "name": "stderr",
     "output_type": "stream",
     "text": [
      "100%|██████████| 10/10 [08:47<00:00, 52.70s/it]\n"
     ]
    },
    {
     "name": "stdout",
     "output_type": "stream",
     "text": [
      "Patient ID: PSMA-01-420 | Body part: Top | Rotation: 190\n",
      "Patient ID: PSMA-01-420 | Body part: Bottom | Rotation: 190\n"
     ]
    },
    {
     "name": "stderr",
     "output_type": "stream",
     "text": [
      "100%|██████████| 10/10 [08:45<00:00, 52.56s/it]\n"
     ]
    },
    {
     "name": "stdout",
     "output_type": "stream",
     "text": [
      "Patient ID: PSMA-01-420 | Body part: Top | Rotation: 195\n",
      "Patient ID: PSMA-01-420 | Body part: Bottom | Rotation: 195\n"
     ]
    },
    {
     "name": "stderr",
     "output_type": "stream",
     "text": [
      "100%|██████████| 10/10 [08:45<00:00, 52.57s/it]\n"
     ]
    },
    {
     "name": "stdout",
     "output_type": "stream",
     "text": [
      "Patient ID: PSMA-01-420 | Body part: Top | Rotation: 200\n",
      "Patient ID: PSMA-01-420 | Body part: Bottom | Rotation: 200\n"
     ]
    },
    {
     "name": "stderr",
     "output_type": "stream",
     "text": [
      "100%|██████████| 10/10 [08:46<00:00, 52.70s/it]\n"
     ]
    },
    {
     "name": "stdout",
     "output_type": "stream",
     "text": [
      "Patient ID: PSMA-01-420 | Body part: Top | Rotation: 205\n",
      "Patient ID: PSMA-01-420 | Body part: Bottom | Rotation: 205\n"
     ]
    },
    {
     "name": "stderr",
     "output_type": "stream",
     "text": [
      "100%|██████████| 10/10 [08:48<00:00, 52.85s/it]\n"
     ]
    },
    {
     "name": "stdout",
     "output_type": "stream",
     "text": [
      "Patient ID: PSMA-01-420 | Body part: Top | Rotation: 210\n",
      "Patient ID: PSMA-01-420 | Body part: Bottom | Rotation: 210\n"
     ]
    },
    {
     "name": "stderr",
     "output_type": "stream",
     "text": [
      "100%|██████████| 10/10 [08:45<00:00, 52.57s/it]\n"
     ]
    },
    {
     "name": "stdout",
     "output_type": "stream",
     "text": [
      "Patient ID: PSMA-01-420 | Body part: Top | Rotation: 215\n",
      "Patient ID: PSMA-01-420 | Body part: Bottom | Rotation: 215\n"
     ]
    },
    {
     "name": "stderr",
     "output_type": "stream",
     "text": [
      "100%|██████████| 10/10 [08:44<00:00, 52.50s/it]\n"
     ]
    },
    {
     "name": "stdout",
     "output_type": "stream",
     "text": [
      "Patient ID: PSMA-01-420 | Body part: Top | Rotation: 220\n",
      "Patient ID: PSMA-01-420 | Body part: Bottom | Rotation: 220\n"
     ]
    },
    {
     "name": "stderr",
     "output_type": "stream",
     "text": [
      "100%|██████████| 10/10 [08:46<00:00, 52.61s/it]\n"
     ]
    },
    {
     "name": "stdout",
     "output_type": "stream",
     "text": [
      "Patient ID: PSMA-01-420 | Body part: Top | Rotation: 225\n",
      "Patient ID: PSMA-01-420 | Body part: Bottom | Rotation: 225\n"
     ]
    },
    {
     "name": "stderr",
     "output_type": "stream",
     "text": [
      "100%|██████████| 10/10 [08:46<00:00, 52.68s/it]\n"
     ]
    },
    {
     "name": "stdout",
     "output_type": "stream",
     "text": [
      "Patient ID: PSMA-01-420 | Body part: Top | Rotation: 230\n",
      "Patient ID: PSMA-01-420 | Body part: Bottom | Rotation: 230\n"
     ]
    },
    {
     "name": "stderr",
     "output_type": "stream",
     "text": [
      "100%|██████████| 10/10 [08:45<00:00, 52.51s/it]\n"
     ]
    },
    {
     "name": "stdout",
     "output_type": "stream",
     "text": [
      "Patient ID: PSMA-01-420 | Body part: Top | Rotation: 235\n",
      "Patient ID: PSMA-01-420 | Body part: Bottom | Rotation: 235\n"
     ]
    },
    {
     "name": "stderr",
     "output_type": "stream",
     "text": [
      "100%|██████████| 10/10 [08:45<00:00, 52.58s/it]\n"
     ]
    },
    {
     "name": "stdout",
     "output_type": "stream",
     "text": [
      "Patient ID: PSMA-01-420 | Body part: Top | Rotation: 240\n",
      "Patient ID: PSMA-01-420 | Body part: Bottom | Rotation: 240\n"
     ]
    },
    {
     "name": "stderr",
     "output_type": "stream",
     "text": [
      "100%|██████████| 10/10 [08:46<00:00, 52.66s/it]\n"
     ]
    },
    {
     "name": "stdout",
     "output_type": "stream",
     "text": [
      "Patient ID: PSMA-01-420 | Body part: Top | Rotation: 245\n",
      "Patient ID: PSMA-01-420 | Body part: Bottom | Rotation: 245\n"
     ]
    },
    {
     "name": "stderr",
     "output_type": "stream",
     "text": [
      "100%|██████████| 10/10 [09:04<00:00, 54.44s/it]\n"
     ]
    },
    {
     "name": "stdout",
     "output_type": "stream",
     "text": [
      "Patient ID: PSMA-01-420 | Body part: Top | Rotation: 250\n",
      "Patient ID: PSMA-01-420 | Body part: Bottom | Rotation: 250\n"
     ]
    },
    {
     "name": "stderr",
     "output_type": "stream",
     "text": [
      "100%|██████████| 10/10 [08:51<00:00, 53.11s/it]\n"
     ]
    },
    {
     "name": "stdout",
     "output_type": "stream",
     "text": [
      "Patient ID: PSMA-01-420 | Body part: Top | Rotation: 255\n",
      "Patient ID: PSMA-01-420 | Body part: Bottom | Rotation: 255\n"
     ]
    },
    {
     "name": "stderr",
     "output_type": "stream",
     "text": [
      "100%|██████████| 10/10 [08:47<00:00, 52.73s/it]\n"
     ]
    },
    {
     "name": "stdout",
     "output_type": "stream",
     "text": [
      "Patient ID: PSMA-01-420 | Body part: Top | Rotation: 260\n",
      "Patient ID: PSMA-01-420 | Body part: Bottom | Rotation: 260\n"
     ]
    },
    {
     "name": "stderr",
     "output_type": "stream",
     "text": [
      "100%|██████████| 10/10 [08:45<00:00, 52.56s/it]\n"
     ]
    },
    {
     "name": "stdout",
     "output_type": "stream",
     "text": [
      "Patient ID: PSMA-01-420 | Body part: Top | Rotation: 265\n",
      "Patient ID: PSMA-01-420 | Body part: Bottom | Rotation: 265\n"
     ]
    },
    {
     "name": "stderr",
     "output_type": "stream",
     "text": [
      "100%|██████████| 10/10 [08:47<00:00, 52.79s/it]\n"
     ]
    },
    {
     "name": "stdout",
     "output_type": "stream",
     "text": [
      "Patient ID: PSMA-01-420 | Body part: Top | Rotation: 270\n",
      "Patient ID: PSMA-01-420 | Body part: Bottom | Rotation: 270\n"
     ]
    },
    {
     "name": "stderr",
     "output_type": "stream",
     "text": [
      "100%|██████████| 10/10 [09:04<00:00, 54.43s/it]\n"
     ]
    },
    {
     "name": "stdout",
     "output_type": "stream",
     "text": [
      "Patient ID: PSMA-01-420 | Body part: Top | Rotation: 275\n",
      "Patient ID: PSMA-01-420 | Body part: Bottom | Rotation: 275\n"
     ]
    },
    {
     "name": "stderr",
     "output_type": "stream",
     "text": [
      "100%|██████████| 10/10 [08:46<00:00, 52.67s/it]\n"
     ]
    },
    {
     "name": "stdout",
     "output_type": "stream",
     "text": [
      "Patient ID: PSMA-01-420 | Body part: Top | Rotation: 280\n",
      "Patient ID: PSMA-01-420 | Body part: Bottom | Rotation: 280\n"
     ]
    },
    {
     "name": "stderr",
     "output_type": "stream",
     "text": [
      "100%|██████████| 10/10 [08:47<00:00, 52.79s/it]\n"
     ]
    },
    {
     "name": "stdout",
     "output_type": "stream",
     "text": [
      "Patient ID: PSMA-01-420 | Body part: Top | Rotation: 285\n",
      "Patient ID: PSMA-01-420 | Body part: Bottom | Rotation: 285\n"
     ]
    },
    {
     "name": "stderr",
     "output_type": "stream",
     "text": [
      "100%|██████████| 10/10 [08:44<00:00, 52.45s/it]\n"
     ]
    },
    {
     "name": "stdout",
     "output_type": "stream",
     "text": [
      "Patient ID: PSMA-01-420 | Body part: Top | Rotation: 290\n",
      "Patient ID: PSMA-01-420 | Body part: Bottom | Rotation: 290\n"
     ]
    },
    {
     "name": "stderr",
     "output_type": "stream",
     "text": [
      "100%|██████████| 10/10 [08:47<00:00, 52.78s/it]\n"
     ]
    },
    {
     "name": "stdout",
     "output_type": "stream",
     "text": [
      "Patient ID: PSMA-01-420 | Body part: Top | Rotation: 295\n",
      "Patient ID: PSMA-01-420 | Body part: Bottom | Rotation: 295\n"
     ]
    },
    {
     "name": "stderr",
     "output_type": "stream",
     "text": [
      "100%|██████████| 10/10 [08:47<00:00, 52.71s/it]\n"
     ]
    },
    {
     "name": "stdout",
     "output_type": "stream",
     "text": [
      "Patient ID: PSMA-01-420 | Body part: Top | Rotation: 300\n",
      "Patient ID: PSMA-01-420 | Body part: Bottom | Rotation: 300\n"
     ]
    },
    {
     "name": "stderr",
     "output_type": "stream",
     "text": [
      "100%|██████████| 10/10 [08:48<00:00, 52.86s/it]\n"
     ]
    },
    {
     "name": "stdout",
     "output_type": "stream",
     "text": [
      "Patient ID: PSMA-01-420 | Body part: Top | Rotation: 305\n",
      "Patient ID: PSMA-01-420 | Body part: Bottom | Rotation: 305\n"
     ]
    },
    {
     "name": "stderr",
     "output_type": "stream",
     "text": [
      "100%|██████████| 10/10 [08:47<00:00, 52.77s/it]\n"
     ]
    },
    {
     "name": "stdout",
     "output_type": "stream",
     "text": [
      "Patient ID: PSMA-01-420 | Body part: Top | Rotation: 310\n",
      "Patient ID: PSMA-01-420 | Body part: Bottom | Rotation: 310\n"
     ]
    },
    {
     "name": "stderr",
     "output_type": "stream",
     "text": [
      "100%|██████████| 10/10 [08:45<00:00, 52.52s/it]\n"
     ]
    },
    {
     "name": "stdout",
     "output_type": "stream",
     "text": [
      "Patient ID: PSMA-01-420 | Body part: Top | Rotation: 315\n",
      "Patient ID: PSMA-01-420 | Body part: Bottom | Rotation: 315\n"
     ]
    },
    {
     "name": "stderr",
     "output_type": "stream",
     "text": [
      "100%|██████████| 10/10 [08:47<00:00, 52.73s/it]\n"
     ]
    },
    {
     "name": "stdout",
     "output_type": "stream",
     "text": [
      "Patient ID: PSMA-01-420 | Body part: Top | Rotation: 320\n",
      "Patient ID: PSMA-01-420 | Body part: Bottom | Rotation: 320\n"
     ]
    },
    {
     "name": "stderr",
     "output_type": "stream",
     "text": [
      "100%|██████████| 10/10 [08:47<00:00, 52.76s/it]\n"
     ]
    },
    {
     "name": "stdout",
     "output_type": "stream",
     "text": [
      "Patient ID: PSMA-01-420 | Body part: Top | Rotation: 325\n",
      "Patient ID: PSMA-01-420 | Body part: Bottom | Rotation: 325\n"
     ]
    },
    {
     "name": "stderr",
     "output_type": "stream",
     "text": [
      "100%|██████████| 10/10 [08:47<00:00, 52.79s/it]\n"
     ]
    },
    {
     "name": "stdout",
     "output_type": "stream",
     "text": [
      "Patient ID: PSMA-01-420 | Body part: Top | Rotation: 330\n",
      "Patient ID: PSMA-01-420 | Body part: Bottom | Rotation: 330\n"
     ]
    },
    {
     "name": "stderr",
     "output_type": "stream",
     "text": [
      "100%|██████████| 10/10 [08:44<00:00, 52.49s/it]\n"
     ]
    },
    {
     "name": "stdout",
     "output_type": "stream",
     "text": [
      "Patient ID: PSMA-01-420 | Body part: Top | Rotation: 335\n",
      "Patient ID: PSMA-01-420 | Body part: Bottom | Rotation: 335\n"
     ]
    },
    {
     "name": "stderr",
     "output_type": "stream",
     "text": [
      "100%|██████████| 10/10 [08:43<00:00, 52.38s/it]\n"
     ]
    },
    {
     "name": "stdout",
     "output_type": "stream",
     "text": [
      "Patient ID: PSMA-01-420 | Body part: Top | Rotation: 340\n",
      "Patient ID: PSMA-01-420 | Body part: Bottom | Rotation: 340\n"
     ]
    },
    {
     "name": "stderr",
     "output_type": "stream",
     "text": [
      "100%|██████████| 10/10 [08:48<00:00, 52.84s/it]\n"
     ]
    },
    {
     "name": "stdout",
     "output_type": "stream",
     "text": [
      "Patient ID: PSMA-01-420 | Body part: Top | Rotation: 345\n",
      "Patient ID: PSMA-01-420 | Body part: Bottom | Rotation: 345\n"
     ]
    },
    {
     "name": "stderr",
     "output_type": "stream",
     "text": [
      "100%|██████████| 10/10 [08:45<00:00, 52.52s/it]\n"
     ]
    },
    {
     "name": "stdout",
     "output_type": "stream",
     "text": [
      "Patient ID: PSMA-01-420 | Body part: Top | Rotation: 350\n",
      "Patient ID: PSMA-01-420 | Body part: Bottom | Rotation: 350\n"
     ]
    },
    {
     "name": "stderr",
     "output_type": "stream",
     "text": [
      "100%|██████████| 10/10 [08:47<00:00, 52.78s/it]\n"
     ]
    },
    {
     "name": "stdout",
     "output_type": "stream",
     "text": [
      "Patient ID: PSMA-01-420 | Body part: Top | Rotation: 355\n",
      "Patient ID: PSMA-01-420 | Body part: Bottom | Rotation: 355\n"
     ]
    },
    {
     "name": "stderr",
     "output_type": "stream",
     "text": [
      "100%|██████████| 10/10 [08:44<00:00, 52.42s/it]\n"
     ]
    },
    {
     "name": "stdout",
     "output_type": "stream",
     "text": [
      "Patient ID: PSMA-01-128 | Body part: Top | Rotation: 000\n",
      "Patient ID: PSMA-01-128 | Body part: Bottom | Rotation: 000\n"
     ]
    },
    {
     "name": "stderr",
     "output_type": "stream",
     "text": [
      "100%|██████████| 10/10 [08:48<00:00, 52.84s/it]\n"
     ]
    },
    {
     "name": "stdout",
     "output_type": "stream",
     "text": [
      "Patient ID: PSMA-01-128 | Body part: Top | Rotation: 005\n",
      "Patient ID: PSMA-01-128 | Body part: Bottom | Rotation: 005\n"
     ]
    },
    {
     "name": "stderr",
     "output_type": "stream",
     "text": [
      "100%|██████████| 10/10 [08:45<00:00, 52.54s/it]\n"
     ]
    },
    {
     "name": "stdout",
     "output_type": "stream",
     "text": [
      "Patient ID: PSMA-01-128 | Body part: Top | Rotation: 010\n",
      "Patient ID: PSMA-01-128 | Body part: Bottom | Rotation: 010\n"
     ]
    },
    {
     "name": "stderr",
     "output_type": "stream",
     "text": [
      "100%|██████████| 10/10 [08:48<00:00, 52.86s/it]\n"
     ]
    },
    {
     "name": "stdout",
     "output_type": "stream",
     "text": [
      "Patient ID: PSMA-01-128 | Body part: Top | Rotation: 015\n",
      "Patient ID: PSMA-01-128 | Body part: Bottom | Rotation: 015\n"
     ]
    },
    {
     "name": "stderr",
     "output_type": "stream",
     "text": [
      "100%|██████████| 10/10 [08:48<00:00, 52.82s/it]\n"
     ]
    },
    {
     "name": "stdout",
     "output_type": "stream",
     "text": [
      "Patient ID: PSMA-01-128 | Body part: Top | Rotation: 020\n",
      "Patient ID: PSMA-01-128 | Body part: Bottom | Rotation: 020\n"
     ]
    },
    {
     "name": "stderr",
     "output_type": "stream",
     "text": [
      "100%|██████████| 10/10 [08:48<00:00, 52.83s/it]\n"
     ]
    },
    {
     "name": "stdout",
     "output_type": "stream",
     "text": [
      "Patient ID: PSMA-01-128 | Body part: Top | Rotation: 025\n",
      "Patient ID: PSMA-01-128 | Body part: Bottom | Rotation: 025\n"
     ]
    },
    {
     "name": "stderr",
     "output_type": "stream",
     "text": [
      "100%|██████████| 10/10 [08:48<00:00, 52.80s/it]\n"
     ]
    },
    {
     "name": "stdout",
     "output_type": "stream",
     "text": [
      "Patient ID: PSMA-01-128 | Body part: Top | Rotation: 030\n",
      "Patient ID: PSMA-01-128 | Body part: Bottom | Rotation: 030\n"
     ]
    },
    {
     "name": "stderr",
     "output_type": "stream",
     "text": [
      "100%|██████████| 10/10 [08:47<00:00, 52.76s/it]\n"
     ]
    },
    {
     "name": "stdout",
     "output_type": "stream",
     "text": [
      "Patient ID: PSMA-01-128 | Body part: Top | Rotation: 035\n",
      "Patient ID: PSMA-01-128 | Body part: Bottom | Rotation: 035\n"
     ]
    },
    {
     "name": "stderr",
     "output_type": "stream",
     "text": [
      "100%|██████████| 10/10 [09:02<00:00, 54.24s/it]\n"
     ]
    },
    {
     "name": "stdout",
     "output_type": "stream",
     "text": [
      "Patient ID: PSMA-01-128 | Body part: Top | Rotation: 040\n",
      "Patient ID: PSMA-01-128 | Body part: Bottom | Rotation: 040\n"
     ]
    },
    {
     "name": "stderr",
     "output_type": "stream",
     "text": [
      "100%|██████████| 10/10 [08:46<00:00, 52.60s/it]\n"
     ]
    },
    {
     "name": "stdout",
     "output_type": "stream",
     "text": [
      "Patient ID: PSMA-01-128 | Body part: Top | Rotation: 045\n",
      "Patient ID: PSMA-01-128 | Body part: Bottom | Rotation: 045\n"
     ]
    },
    {
     "name": "stderr",
     "output_type": "stream",
     "text": [
      "100%|██████████| 10/10 [09:03<00:00, 54.38s/it]\n"
     ]
    },
    {
     "name": "stdout",
     "output_type": "stream",
     "text": [
      "Patient ID: PSMA-01-128 | Body part: Top | Rotation: 050\n",
      "Patient ID: PSMA-01-128 | Body part: Bottom | Rotation: 050\n"
     ]
    },
    {
     "name": "stderr",
     "output_type": "stream",
     "text": [
      "100%|██████████| 10/10 [08:46<00:00, 52.62s/it]\n"
     ]
    },
    {
     "name": "stdout",
     "output_type": "stream",
     "text": [
      "Patient ID: PSMA-01-128 | Body part: Top | Rotation: 055\n",
      "Patient ID: PSMA-01-128 | Body part: Bottom | Rotation: 055\n"
     ]
    },
    {
     "name": "stderr",
     "output_type": "stream",
     "text": [
      "100%|██████████| 10/10 [08:45<00:00, 52.52s/it]\n"
     ]
    },
    {
     "name": "stdout",
     "output_type": "stream",
     "text": [
      "Patient ID: PSMA-01-128 | Body part: Top | Rotation: 060\n",
      "Patient ID: PSMA-01-128 | Body part: Bottom | Rotation: 060\n"
     ]
    },
    {
     "name": "stderr",
     "output_type": "stream",
     "text": [
      "100%|██████████| 10/10 [08:47<00:00, 52.78s/it]\n"
     ]
    },
    {
     "name": "stdout",
     "output_type": "stream",
     "text": [
      "Patient ID: PSMA-01-128 | Body part: Top | Rotation: 065\n",
      "Patient ID: PSMA-01-128 | Body part: Bottom | Rotation: 065\n"
     ]
    },
    {
     "name": "stderr",
     "output_type": "stream",
     "text": [
      "100%|██████████| 10/10 [08:48<00:00, 52.82s/it]\n"
     ]
    },
    {
     "name": "stdout",
     "output_type": "stream",
     "text": [
      "Patient ID: PSMA-01-128 | Body part: Top | Rotation: 070\n",
      "Patient ID: PSMA-01-128 | Body part: Bottom | Rotation: 070\n"
     ]
    },
    {
     "name": "stderr",
     "output_type": "stream",
     "text": [
      "100%|██████████| 10/10 [08:46<00:00, 52.65s/it]\n"
     ]
    },
    {
     "name": "stdout",
     "output_type": "stream",
     "text": [
      "Patient ID: PSMA-01-128 | Body part: Top | Rotation: 075\n",
      "Patient ID: PSMA-01-128 | Body part: Bottom | Rotation: 075\n"
     ]
    },
    {
     "name": "stderr",
     "output_type": "stream",
     "text": [
      "100%|██████████| 10/10 [08:48<00:00, 52.82s/it]\n"
     ]
    },
    {
     "name": "stdout",
     "output_type": "stream",
     "text": [
      "Patient ID: PSMA-01-128 | Body part: Top | Rotation: 080\n",
      "Patient ID: PSMA-01-128 | Body part: Bottom | Rotation: 080\n"
     ]
    },
    {
     "name": "stderr",
     "output_type": "stream",
     "text": [
      "100%|██████████| 10/10 [08:48<00:00, 52.89s/it]\n"
     ]
    },
    {
     "name": "stdout",
     "output_type": "stream",
     "text": [
      "Patient ID: PSMA-01-128 | Body part: Top | Rotation: 085\n",
      "Patient ID: PSMA-01-128 | Body part: Bottom | Rotation: 085\n"
     ]
    },
    {
     "name": "stderr",
     "output_type": "stream",
     "text": [
      "100%|██████████| 10/10 [08:48<00:00, 52.80s/it]\n"
     ]
    },
    {
     "name": "stdout",
     "output_type": "stream",
     "text": [
      "Patient ID: PSMA-01-128 | Body part: Top | Rotation: 090\n",
      "Patient ID: PSMA-01-128 | Body part: Bottom | Rotation: 090\n"
     ]
    },
    {
     "name": "stderr",
     "output_type": "stream",
     "text": [
      "100%|██████████| 10/10 [08:47<00:00, 52.80s/it]\n"
     ]
    },
    {
     "name": "stdout",
     "output_type": "stream",
     "text": [
      "Patient ID: PSMA-01-128 | Body part: Top | Rotation: 095\n",
      "Patient ID: PSMA-01-128 | Body part: Bottom | Rotation: 095\n"
     ]
    },
    {
     "name": "stderr",
     "output_type": "stream",
     "text": [
      "100%|██████████| 10/10 [08:48<00:00, 52.82s/it]\n"
     ]
    },
    {
     "name": "stdout",
     "output_type": "stream",
     "text": [
      "Patient ID: PSMA-01-128 | Body part: Top | Rotation: 100\n",
      "Patient ID: PSMA-01-128 | Body part: Bottom | Rotation: 100\n"
     ]
    },
    {
     "name": "stderr",
     "output_type": "stream",
     "text": [
      "100%|██████████| 10/10 [08:48<00:00, 52.88s/it]\n"
     ]
    },
    {
     "name": "stdout",
     "output_type": "stream",
     "text": [
      "Patient ID: PSMA-01-128 | Body part: Top | Rotation: 105\n",
      "Patient ID: PSMA-01-128 | Body part: Bottom | Rotation: 105\n"
     ]
    },
    {
     "name": "stderr",
     "output_type": "stream",
     "text": [
      "100%|██████████| 10/10 [08:48<00:00, 52.81s/it]\n"
     ]
    },
    {
     "name": "stdout",
     "output_type": "stream",
     "text": [
      "Patient ID: PSMA-01-128 | Body part: Top | Rotation: 110\n",
      "Patient ID: PSMA-01-128 | Body part: Bottom | Rotation: 110\n"
     ]
    },
    {
     "name": "stderr",
     "output_type": "stream",
     "text": [
      "100%|██████████| 10/10 [08:46<00:00, 52.61s/it]\n"
     ]
    },
    {
     "name": "stdout",
     "output_type": "stream",
     "text": [
      "Patient ID: PSMA-01-128 | Body part: Top | Rotation: 115\n",
      "Patient ID: PSMA-01-128 | Body part: Bottom | Rotation: 115\n"
     ]
    },
    {
     "name": "stderr",
     "output_type": "stream",
     "text": [
      "100%|██████████| 10/10 [08:48<00:00, 52.84s/it]\n"
     ]
    },
    {
     "name": "stdout",
     "output_type": "stream",
     "text": [
      "Patient ID: PSMA-01-128 | Body part: Top | Rotation: 120\n",
      "Patient ID: PSMA-01-128 | Body part: Bottom | Rotation: 120\n"
     ]
    },
    {
     "name": "stderr",
     "output_type": "stream",
     "text": [
      "100%|██████████| 10/10 [08:48<00:00, 52.86s/it]\n"
     ]
    },
    {
     "name": "stdout",
     "output_type": "stream",
     "text": [
      "Patient ID: PSMA-01-128 | Body part: Top | Rotation: 125\n",
      "Patient ID: PSMA-01-128 | Body part: Bottom | Rotation: 125\n"
     ]
    },
    {
     "name": "stderr",
     "output_type": "stream",
     "text": [
      "100%|██████████| 10/10 [08:48<00:00, 52.86s/it]\n"
     ]
    },
    {
     "name": "stdout",
     "output_type": "stream",
     "text": [
      "Patient ID: PSMA-01-128 | Body part: Top | Rotation: 130\n",
      "Patient ID: PSMA-01-128 | Body part: Bottom | Rotation: 130\n"
     ]
    },
    {
     "name": "stderr",
     "output_type": "stream",
     "text": [
      "100%|██████████| 10/10 [08:47<00:00, 52.78s/it]\n"
     ]
    },
    {
     "name": "stdout",
     "output_type": "stream",
     "text": [
      "Patient ID: PSMA-01-128 | Body part: Top | Rotation: 135\n",
      "Patient ID: PSMA-01-128 | Body part: Bottom | Rotation: 135\n"
     ]
    },
    {
     "name": "stderr",
     "output_type": "stream",
     "text": [
      "100%|██████████| 10/10 [08:48<00:00, 52.81s/it]\n"
     ]
    },
    {
     "name": "stdout",
     "output_type": "stream",
     "text": [
      "Patient ID: PSMA-01-128 | Body part: Top | Rotation: 140\n",
      "Patient ID: PSMA-01-128 | Body part: Bottom | Rotation: 140\n"
     ]
    },
    {
     "name": "stderr",
     "output_type": "stream",
     "text": [
      "100%|██████████| 10/10 [08:46<00:00, 52.65s/it]\n"
     ]
    },
    {
     "name": "stdout",
     "output_type": "stream",
     "text": [
      "Patient ID: PSMA-01-128 | Body part: Top | Rotation: 145\n",
      "Patient ID: PSMA-01-128 | Body part: Bottom | Rotation: 145\n"
     ]
    },
    {
     "name": "stderr",
     "output_type": "stream",
     "text": [
      "100%|██████████| 10/10 [08:47<00:00, 52.76s/it]\n"
     ]
    },
    {
     "name": "stdout",
     "output_type": "stream",
     "text": [
      "Patient ID: PSMA-01-128 | Body part: Top | Rotation: 150\n",
      "Patient ID: PSMA-01-128 | Body part: Bottom | Rotation: 150\n"
     ]
    },
    {
     "name": "stderr",
     "output_type": "stream",
     "text": [
      "100%|██████████| 10/10 [08:45<00:00, 52.57s/it]\n"
     ]
    },
    {
     "name": "stdout",
     "output_type": "stream",
     "text": [
      "Patient ID: PSMA-01-128 | Body part: Top | Rotation: 155\n",
      "Patient ID: PSMA-01-128 | Body part: Bottom | Rotation: 155\n"
     ]
    },
    {
     "name": "stderr",
     "output_type": "stream",
     "text": [
      "100%|██████████| 10/10 [08:44<00:00, 52.46s/it]\n"
     ]
    },
    {
     "name": "stdout",
     "output_type": "stream",
     "text": [
      "Patient ID: PSMA-01-128 | Body part: Top | Rotation: 160\n",
      "Patient ID: PSMA-01-128 | Body part: Bottom | Rotation: 160\n"
     ]
    },
    {
     "name": "stderr",
     "output_type": "stream",
     "text": [
      "100%|██████████| 10/10 [08:46<00:00, 52.63s/it]\n"
     ]
    },
    {
     "name": "stdout",
     "output_type": "stream",
     "text": [
      "Patient ID: PSMA-01-128 | Body part: Top | Rotation: 165\n",
      "Patient ID: PSMA-01-128 | Body part: Bottom | Rotation: 165\n"
     ]
    },
    {
     "name": "stderr",
     "output_type": "stream",
     "text": [
      "100%|██████████| 10/10 [08:47<00:00, 52.73s/it]\n"
     ]
    },
    {
     "name": "stdout",
     "output_type": "stream",
     "text": [
      "Patient ID: PSMA-01-128 | Body part: Top | Rotation: 170\n",
      "Patient ID: PSMA-01-128 | Body part: Bottom | Rotation: 170\n"
     ]
    },
    {
     "name": "stderr",
     "output_type": "stream",
     "text": [
      "100%|██████████| 10/10 [08:44<00:00, 52.42s/it]\n"
     ]
    },
    {
     "name": "stdout",
     "output_type": "stream",
     "text": [
      "Patient ID: PSMA-01-128 | Body part: Top | Rotation: 175\n",
      "Patient ID: PSMA-01-128 | Body part: Bottom | Rotation: 175\n"
     ]
    },
    {
     "name": "stderr",
     "output_type": "stream",
     "text": [
      "100%|██████████| 10/10 [08:49<00:00, 52.96s/it]\n"
     ]
    },
    {
     "name": "stdout",
     "output_type": "stream",
     "text": [
      "Patient ID: PSMA-01-128 | Body part: Top | Rotation: 180\n",
      "Patient ID: PSMA-01-128 | Body part: Bottom | Rotation: 180\n"
     ]
    },
    {
     "name": "stderr",
     "output_type": "stream",
     "text": [
      "100%|██████████| 10/10 [08:48<00:00, 52.89s/it]\n"
     ]
    },
    {
     "name": "stdout",
     "output_type": "stream",
     "text": [
      "Patient ID: PSMA-01-128 | Body part: Top | Rotation: 185\n",
      "Patient ID: PSMA-01-128 | Body part: Bottom | Rotation: 185\n"
     ]
    },
    {
     "name": "stderr",
     "output_type": "stream",
     "text": [
      "100%|██████████| 10/10 [08:46<00:00, 52.67s/it]\n"
     ]
    },
    {
     "name": "stdout",
     "output_type": "stream",
     "text": [
      "Patient ID: PSMA-01-128 | Body part: Top | Rotation: 190\n",
      "Patient ID: PSMA-01-128 | Body part: Bottom | Rotation: 190\n"
     ]
    },
    {
     "name": "stderr",
     "output_type": "stream",
     "text": [
      "100%|██████████| 10/10 [08:46<00:00, 52.67s/it]\n"
     ]
    },
    {
     "name": "stdout",
     "output_type": "stream",
     "text": [
      "Patient ID: PSMA-01-128 | Body part: Top | Rotation: 195\n",
      "Patient ID: PSMA-01-128 | Body part: Bottom | Rotation: 195\n"
     ]
    },
    {
     "name": "stderr",
     "output_type": "stream",
     "text": [
      "100%|██████████| 10/10 [08:48<00:00, 52.83s/it]\n"
     ]
    },
    {
     "name": "stdout",
     "output_type": "stream",
     "text": [
      "Patient ID: PSMA-01-128 | Body part: Top | Rotation: 200\n",
      "Patient ID: PSMA-01-128 | Body part: Bottom | Rotation: 200\n"
     ]
    },
    {
     "name": "stderr",
     "output_type": "stream",
     "text": [
      "100%|██████████| 10/10 [08:44<00:00, 52.49s/it]\n"
     ]
    },
    {
     "name": "stdout",
     "output_type": "stream",
     "text": [
      "Patient ID: PSMA-01-128 | Body part: Top | Rotation: 205\n",
      "Patient ID: PSMA-01-128 | Body part: Bottom | Rotation: 205\n"
     ]
    },
    {
     "name": "stderr",
     "output_type": "stream",
     "text": [
      "100%|██████████| 10/10 [08:45<00:00, 52.54s/it]\n"
     ]
    },
    {
     "name": "stdout",
     "output_type": "stream",
     "text": [
      "Patient ID: PSMA-01-128 | Body part: Top | Rotation: 210\n",
      "Patient ID: PSMA-01-128 | Body part: Bottom | Rotation: 210\n"
     ]
    },
    {
     "name": "stderr",
     "output_type": "stream",
     "text": [
      "100%|██████████| 10/10 [09:02<00:00, 54.28s/it]\n"
     ]
    },
    {
     "name": "stdout",
     "output_type": "stream",
     "text": [
      "Patient ID: PSMA-01-128 | Body part: Top | Rotation: 215\n",
      "Patient ID: PSMA-01-128 | Body part: Bottom | Rotation: 215\n"
     ]
    },
    {
     "name": "stderr",
     "output_type": "stream",
     "text": [
      "100%|██████████| 10/10 [09:00<00:00, 54.01s/it]\n"
     ]
    },
    {
     "name": "stdout",
     "output_type": "stream",
     "text": [
      "Patient ID: PSMA-01-128 | Body part: Top | Rotation: 220\n",
      "Patient ID: PSMA-01-128 | Body part: Bottom | Rotation: 220\n"
     ]
    },
    {
     "name": "stderr",
     "output_type": "stream",
     "text": [
      "100%|██████████| 10/10 [08:45<00:00, 52.53s/it]\n"
     ]
    },
    {
     "name": "stdout",
     "output_type": "stream",
     "text": [
      "Patient ID: PSMA-01-128 | Body part: Top | Rotation: 225\n",
      "Patient ID: PSMA-01-128 | Body part: Bottom | Rotation: 225\n"
     ]
    },
    {
     "name": "stderr",
     "output_type": "stream",
     "text": [
      "100%|██████████| 10/10 [08:45<00:00, 52.51s/it]\n"
     ]
    },
    {
     "name": "stdout",
     "output_type": "stream",
     "text": [
      "Patient ID: PSMA-01-128 | Body part: Top | Rotation: 230\n",
      "Patient ID: PSMA-01-128 | Body part: Bottom | Rotation: 230\n"
     ]
    },
    {
     "name": "stderr",
     "output_type": "stream",
     "text": [
      "100%|██████████| 10/10 [08:49<00:00, 52.93s/it]\n"
     ]
    },
    {
     "name": "stdout",
     "output_type": "stream",
     "text": [
      "Patient ID: PSMA-01-128 | Body part: Top | Rotation: 235\n",
      "Patient ID: PSMA-01-128 | Body part: Bottom | Rotation: 235\n"
     ]
    },
    {
     "name": "stderr",
     "output_type": "stream",
     "text": [
      "100%|██████████| 10/10 [08:45<00:00, 52.52s/it]\n"
     ]
    },
    {
     "name": "stdout",
     "output_type": "stream",
     "text": [
      "Patient ID: PSMA-01-128 | Body part: Top | Rotation: 240\n",
      "Patient ID: PSMA-01-128 | Body part: Bottom | Rotation: 240\n"
     ]
    },
    {
     "name": "stderr",
     "output_type": "stream",
     "text": [
      "100%|██████████| 10/10 [08:44<00:00, 52.48s/it]\n"
     ]
    },
    {
     "name": "stdout",
     "output_type": "stream",
     "text": [
      "Patient ID: PSMA-01-128 | Body part: Top | Rotation: 245\n",
      "Patient ID: PSMA-01-128 | Body part: Bottom | Rotation: 245\n"
     ]
    },
    {
     "name": "stderr",
     "output_type": "stream",
     "text": [
      "100%|██████████| 10/10 [08:45<00:00, 52.56s/it]\n"
     ]
    },
    {
     "name": "stdout",
     "output_type": "stream",
     "text": [
      "Patient ID: PSMA-01-128 | Body part: Top | Rotation: 250\n",
      "Patient ID: PSMA-01-128 | Body part: Bottom | Rotation: 250\n"
     ]
    },
    {
     "name": "stderr",
     "output_type": "stream",
     "text": [
      "100%|██████████| 10/10 [08:48<00:00, 52.87s/it]\n"
     ]
    },
    {
     "name": "stdout",
     "output_type": "stream",
     "text": [
      "Patient ID: PSMA-01-128 | Body part: Top | Rotation: 255\n",
      "Patient ID: PSMA-01-128 | Body part: Bottom | Rotation: 255\n"
     ]
    },
    {
     "name": "stderr",
     "output_type": "stream",
     "text": [
      "100%|██████████| 10/10 [09:05<00:00, 54.52s/it]\n"
     ]
    },
    {
     "name": "stdout",
     "output_type": "stream",
     "text": [
      "Patient ID: PSMA-01-128 | Body part: Top | Rotation: 260\n",
      "Patient ID: PSMA-01-128 | Body part: Bottom | Rotation: 260\n"
     ]
    },
    {
     "name": "stderr",
     "output_type": "stream",
     "text": [
      "100%|██████████| 10/10 [08:44<00:00, 52.48s/it]\n"
     ]
    },
    {
     "name": "stdout",
     "output_type": "stream",
     "text": [
      "Patient ID: PSMA-01-128 | Body part: Top | Rotation: 265\n",
      "Patient ID: PSMA-01-128 | Body part: Bottom | Rotation: 265\n"
     ]
    },
    {
     "name": "stderr",
     "output_type": "stream",
     "text": [
      "100%|██████████| 10/10 [08:47<00:00, 52.80s/it]\n"
     ]
    },
    {
     "name": "stdout",
     "output_type": "stream",
     "text": [
      "Patient ID: PSMA-01-128 | Body part: Top | Rotation: 270\n",
      "Patient ID: PSMA-01-128 | Body part: Bottom | Rotation: 270\n"
     ]
    },
    {
     "name": "stderr",
     "output_type": "stream",
     "text": [
      "100%|██████████| 10/10 [08:48<00:00, 52.85s/it]\n"
     ]
    },
    {
     "name": "stdout",
     "output_type": "stream",
     "text": [
      "Patient ID: PSMA-01-128 | Body part: Top | Rotation: 275\n",
      "Patient ID: PSMA-01-128 | Body part: Bottom | Rotation: 275\n"
     ]
    },
    {
     "name": "stderr",
     "output_type": "stream",
     "text": [
      "100%|██████████| 10/10 [08:44<00:00, 52.42s/it]\n"
     ]
    },
    {
     "name": "stdout",
     "output_type": "stream",
     "text": [
      "Patient ID: PSMA-01-128 | Body part: Top | Rotation: 280\n",
      "Patient ID: PSMA-01-128 | Body part: Bottom | Rotation: 280\n"
     ]
    },
    {
     "name": "stderr",
     "output_type": "stream",
     "text": [
      "100%|██████████| 10/10 [08:44<00:00, 52.48s/it]\n"
     ]
    },
    {
     "name": "stdout",
     "output_type": "stream",
     "text": [
      "Patient ID: PSMA-01-128 | Body part: Top | Rotation: 285\n",
      "Patient ID: PSMA-01-128 | Body part: Bottom | Rotation: 285\n"
     ]
    },
    {
     "name": "stderr",
     "output_type": "stream",
     "text": [
      "100%|██████████| 10/10 [08:47<00:00, 52.74s/it]\n"
     ]
    },
    {
     "name": "stdout",
     "output_type": "stream",
     "text": [
      "Patient ID: PSMA-01-128 | Body part: Top | Rotation: 290\n",
      "Patient ID: PSMA-01-128 | Body part: Bottom | Rotation: 290\n"
     ]
    },
    {
     "name": "stderr",
     "output_type": "stream",
     "text": [
      "100%|██████████| 10/10 [08:43<00:00, 52.39s/it]\n"
     ]
    },
    {
     "name": "stdout",
     "output_type": "stream",
     "text": [
      "Patient ID: PSMA-01-128 | Body part: Top | Rotation: 295\n",
      "Patient ID: PSMA-01-128 | Body part: Bottom | Rotation: 295\n"
     ]
    },
    {
     "name": "stderr",
     "output_type": "stream",
     "text": [
      "100%|██████████| 10/10 [08:47<00:00, 52.74s/it]\n"
     ]
    },
    {
     "name": "stdout",
     "output_type": "stream",
     "text": [
      "Patient ID: PSMA-01-128 | Body part: Top | Rotation: 300\n",
      "Patient ID: PSMA-01-128 | Body part: Bottom | Rotation: 300\n"
     ]
    },
    {
     "name": "stderr",
     "output_type": "stream",
     "text": [
      "100%|██████████| 10/10 [08:44<00:00, 52.44s/it]\n"
     ]
    },
    {
     "name": "stdout",
     "output_type": "stream",
     "text": [
      "Patient ID: PSMA-01-128 | Body part: Top | Rotation: 305\n",
      "Patient ID: PSMA-01-128 | Body part: Bottom | Rotation: 305\n"
     ]
    },
    {
     "name": "stderr",
     "output_type": "stream",
     "text": [
      "100%|██████████| 10/10 [08:44<00:00, 52.41s/it]\n"
     ]
    },
    {
     "name": "stdout",
     "output_type": "stream",
     "text": [
      "Patient ID: PSMA-01-128 | Body part: Top | Rotation: 310\n",
      "Patient ID: PSMA-01-128 | Body part: Bottom | Rotation: 310\n"
     ]
    },
    {
     "name": "stderr",
     "output_type": "stream",
     "text": [
      "100%|██████████| 10/10 [08:46<00:00, 52.65s/it]\n"
     ]
    },
    {
     "name": "stdout",
     "output_type": "stream",
     "text": [
      "Patient ID: PSMA-01-128 | Body part: Top | Rotation: 315\n",
      "Patient ID: PSMA-01-128 | Body part: Bottom | Rotation: 315\n"
     ]
    },
    {
     "name": "stderr",
     "output_type": "stream",
     "text": [
      "100%|██████████| 10/10 [08:44<00:00, 52.44s/it]\n"
     ]
    },
    {
     "name": "stdout",
     "output_type": "stream",
     "text": [
      "Patient ID: PSMA-01-128 | Body part: Top | Rotation: 320\n",
      "Patient ID: PSMA-01-128 | Body part: Bottom | Rotation: 320\n"
     ]
    },
    {
     "name": "stderr",
     "output_type": "stream",
     "text": [
      "100%|██████████| 10/10 [08:47<00:00, 52.76s/it]\n"
     ]
    },
    {
     "name": "stdout",
     "output_type": "stream",
     "text": [
      "Patient ID: PSMA-01-128 | Body part: Top | Rotation: 325\n",
      "Patient ID: PSMA-01-128 | Body part: Bottom | Rotation: 325\n"
     ]
    },
    {
     "name": "stderr",
     "output_type": "stream",
     "text": [
      "100%|██████████| 10/10 [08:47<00:00, 52.74s/it]\n"
     ]
    },
    {
     "name": "stdout",
     "output_type": "stream",
     "text": [
      "Patient ID: PSMA-01-128 | Body part: Top | Rotation: 330\n",
      "Patient ID: PSMA-01-128 | Body part: Bottom | Rotation: 330\n"
     ]
    },
    {
     "name": "stderr",
     "output_type": "stream",
     "text": [
      "100%|██████████| 10/10 [08:44<00:00, 52.42s/it]\n"
     ]
    },
    {
     "name": "stdout",
     "output_type": "stream",
     "text": [
      "Patient ID: PSMA-01-128 | Body part: Top | Rotation: 335\n",
      "Patient ID: PSMA-01-128 | Body part: Bottom | Rotation: 335\n"
     ]
    },
    {
     "name": "stderr",
     "output_type": "stream",
     "text": [
      "100%|██████████| 10/10 [08:48<00:00, 52.81s/it]\n"
     ]
    },
    {
     "name": "stdout",
     "output_type": "stream",
     "text": [
      "Patient ID: PSMA-01-128 | Body part: Top | Rotation: 340\n",
      "Patient ID: PSMA-01-128 | Body part: Bottom | Rotation: 340\n"
     ]
    },
    {
     "name": "stderr",
     "output_type": "stream",
     "text": [
      "100%|██████████| 10/10 [08:47<00:00, 52.77s/it]\n"
     ]
    },
    {
     "name": "stdout",
     "output_type": "stream",
     "text": [
      "Patient ID: PSMA-01-128 | Body part: Top | Rotation: 345\n",
      "Patient ID: PSMA-01-128 | Body part: Bottom | Rotation: 345\n"
     ]
    },
    {
     "name": "stderr",
     "output_type": "stream",
     "text": [
      "100%|██████████| 10/10 [08:43<00:00, 52.37s/it]\n"
     ]
    },
    {
     "name": "stdout",
     "output_type": "stream",
     "text": [
      "Patient ID: PSMA-01-128 | Body part: Top | Rotation: 350\n",
      "Patient ID: PSMA-01-128 | Body part: Bottom | Rotation: 350\n"
     ]
    },
    {
     "name": "stderr",
     "output_type": "stream",
     "text": [
      "100%|██████████| 10/10 [08:47<00:00, 52.77s/it]\n"
     ]
    },
    {
     "name": "stdout",
     "output_type": "stream",
     "text": [
      "Patient ID: PSMA-01-128 | Body part: Top | Rotation: 355\n",
      "Patient ID: PSMA-01-128 | Body part: Bottom | Rotation: 355\n"
     ]
    },
    {
     "name": "stderr",
     "output_type": "stream",
     "text": [
      "100%|██████████| 10/10 [08:45<00:00, 52.51s/it]\n"
     ]
    },
    {
     "name": "stdout",
     "output_type": "stream",
     "text": [
      "Patient ID: PSMA-01-240 | Body part: Top | Rotation: 000\n",
      "Patient ID: PSMA-01-240 | Body part: Bottom | Rotation: 000\n"
     ]
    },
    {
     "name": "stderr",
     "output_type": "stream",
     "text": [
      "100%|██████████| 10/10 [08:44<00:00, 52.46s/it]\n"
     ]
    },
    {
     "name": "stdout",
     "output_type": "stream",
     "text": [
      "Patient ID: PSMA-01-240 | Body part: Top | Rotation: 005\n",
      "Patient ID: PSMA-01-240 | Body part: Bottom | Rotation: 005\n"
     ]
    },
    {
     "name": "stderr",
     "output_type": "stream",
     "text": [
      "100%|██████████| 10/10 [08:48<00:00, 52.83s/it]\n"
     ]
    },
    {
     "name": "stdout",
     "output_type": "stream",
     "text": [
      "Patient ID: PSMA-01-240 | Body part: Top | Rotation: 010\n",
      "Patient ID: PSMA-01-240 | Body part: Bottom | Rotation: 010\n"
     ]
    },
    {
     "name": "stderr",
     "output_type": "stream",
     "text": [
      "100%|██████████| 10/10 [08:47<00:00, 52.74s/it]\n"
     ]
    },
    {
     "name": "stdout",
     "output_type": "stream",
     "text": [
      "Patient ID: PSMA-01-240 | Body part: Top | Rotation: 015\n",
      "Patient ID: PSMA-01-240 | Body part: Bottom | Rotation: 015\n"
     ]
    },
    {
     "name": "stderr",
     "output_type": "stream",
     "text": [
      "100%|██████████| 10/10 [08:48<00:00, 52.80s/it]\n"
     ]
    },
    {
     "name": "stdout",
     "output_type": "stream",
     "text": [
      "Patient ID: PSMA-01-240 | Body part: Top | Rotation: 020\n",
      "Patient ID: PSMA-01-240 | Body part: Bottom | Rotation: 020\n"
     ]
    },
    {
     "name": "stderr",
     "output_type": "stream",
     "text": [
      "100%|██████████| 10/10 [08:48<00:00, 52.83s/it]\n"
     ]
    },
    {
     "name": "stdout",
     "output_type": "stream",
     "text": [
      "Patient ID: PSMA-01-240 | Body part: Top | Rotation: 025\n",
      "Patient ID: PSMA-01-240 | Body part: Bottom | Rotation: 025\n"
     ]
    },
    {
     "name": "stderr",
     "output_type": "stream",
     "text": [
      "100%|██████████| 10/10 [08:47<00:00, 52.78s/it]\n"
     ]
    },
    {
     "name": "stdout",
     "output_type": "stream",
     "text": [
      "Patient ID: PSMA-01-240 | Body part: Top | Rotation: 030\n",
      "Patient ID: PSMA-01-240 | Body part: Bottom | Rotation: 030\n"
     ]
    },
    {
     "name": "stderr",
     "output_type": "stream",
     "text": [
      "100%|██████████| 10/10 [08:45<00:00, 52.57s/it]\n"
     ]
    },
    {
     "name": "stdout",
     "output_type": "stream",
     "text": [
      "Patient ID: PSMA-01-240 | Body part: Top | Rotation: 035\n",
      "Patient ID: PSMA-01-240 | Body part: Bottom | Rotation: 035\n"
     ]
    },
    {
     "name": "stderr",
     "output_type": "stream",
     "text": [
      "100%|██████████| 10/10 [08:47<00:00, 52.72s/it]\n"
     ]
    },
    {
     "name": "stdout",
     "output_type": "stream",
     "text": [
      "Patient ID: PSMA-01-240 | Body part: Top | Rotation: 040\n",
      "Patient ID: PSMA-01-240 | Body part: Bottom | Rotation: 040\n"
     ]
    },
    {
     "name": "stderr",
     "output_type": "stream",
     "text": [
      "100%|██████████| 10/10 [08:44<00:00, 52.48s/it]\n"
     ]
    },
    {
     "name": "stdout",
     "output_type": "stream",
     "text": [
      "Patient ID: PSMA-01-240 | Body part: Top | Rotation: 045\n",
      "Patient ID: PSMA-01-240 | Body part: Bottom | Rotation: 045\n"
     ]
    },
    {
     "name": "stderr",
     "output_type": "stream",
     "text": [
      "100%|██████████| 10/10 [09:01<00:00, 54.19s/it]\n"
     ]
    },
    {
     "name": "stdout",
     "output_type": "stream",
     "text": [
      "Patient ID: PSMA-01-240 | Body part: Top | Rotation: 050\n",
      "Patient ID: PSMA-01-240 | Body part: Bottom | Rotation: 050\n"
     ]
    },
    {
     "name": "stderr",
     "output_type": "stream",
     "text": [
      "100%|██████████| 10/10 [08:47<00:00, 52.77s/it]\n"
     ]
    },
    {
     "name": "stdout",
     "output_type": "stream",
     "text": [
      "Patient ID: PSMA-01-240 | Body part: Top | Rotation: 055\n",
      "Patient ID: PSMA-01-240 | Body part: Bottom | Rotation: 055\n"
     ]
    },
    {
     "name": "stderr",
     "output_type": "stream",
     "text": [
      "100%|██████████| 10/10 [08:47<00:00, 52.79s/it]\n"
     ]
    },
    {
     "name": "stdout",
     "output_type": "stream",
     "text": [
      "Patient ID: PSMA-01-240 | Body part: Top | Rotation: 060\n",
      "Patient ID: PSMA-01-240 | Body part: Bottom | Rotation: 060\n"
     ]
    },
    {
     "name": "stderr",
     "output_type": "stream",
     "text": [
      "100%|██████████| 10/10 [08:46<00:00, 52.68s/it]\n"
     ]
    },
    {
     "name": "stdout",
     "output_type": "stream",
     "text": [
      "Patient ID: PSMA-01-240 | Body part: Top | Rotation: 065\n",
      "Patient ID: PSMA-01-240 | Body part: Bottom | Rotation: 065\n"
     ]
    },
    {
     "name": "stderr",
     "output_type": "stream",
     "text": [
      "100%|██████████| 10/10 [08:53<00:00, 53.32s/it]\n"
     ]
    },
    {
     "name": "stdout",
     "output_type": "stream",
     "text": [
      "Patient ID: PSMA-01-240 | Body part: Top | Rotation: 070\n",
      "Patient ID: PSMA-01-240 | Body part: Bottom | Rotation: 070\n"
     ]
    },
    {
     "name": "stderr",
     "output_type": "stream",
     "text": [
      "100%|██████████| 10/10 [08:48<00:00, 52.83s/it]\n"
     ]
    },
    {
     "name": "stdout",
     "output_type": "stream",
     "text": [
      "Patient ID: PSMA-01-240 | Body part: Top | Rotation: 075\n",
      "Patient ID: PSMA-01-240 | Body part: Bottom | Rotation: 075\n"
     ]
    },
    {
     "name": "stderr",
     "output_type": "stream",
     "text": [
      "100%|██████████| 10/10 [08:47<00:00, 52.74s/it]\n"
     ]
    },
    {
     "name": "stdout",
     "output_type": "stream",
     "text": [
      "Patient ID: PSMA-01-240 | Body part: Top | Rotation: 080\n",
      "Patient ID: PSMA-01-240 | Body part: Bottom | Rotation: 080\n"
     ]
    },
    {
     "name": "stderr",
     "output_type": "stream",
     "text": [
      "100%|██████████| 10/10 [08:44<00:00, 52.43s/it]\n"
     ]
    },
    {
     "name": "stdout",
     "output_type": "stream",
     "text": [
      "Patient ID: PSMA-01-240 | Body part: Top | Rotation: 085\n",
      "Patient ID: PSMA-01-240 | Body part: Bottom | Rotation: 085\n"
     ]
    },
    {
     "name": "stderr",
     "output_type": "stream",
     "text": [
      "100%|██████████| 10/10 [08:44<00:00, 52.42s/it]\n"
     ]
    },
    {
     "name": "stdout",
     "output_type": "stream",
     "text": [
      "Patient ID: PSMA-01-240 | Body part: Top | Rotation: 090\n",
      "Patient ID: PSMA-01-240 | Body part: Bottom | Rotation: 090\n"
     ]
    },
    {
     "name": "stderr",
     "output_type": "stream",
     "text": [
      "100%|██████████| 10/10 [08:48<00:00, 52.82s/it]\n"
     ]
    },
    {
     "name": "stdout",
     "output_type": "stream",
     "text": [
      "Patient ID: PSMA-01-240 | Body part: Top | Rotation: 095\n",
      "Patient ID: PSMA-01-240 | Body part: Bottom | Rotation: 095\n"
     ]
    },
    {
     "name": "stderr",
     "output_type": "stream",
     "text": [
      "100%|██████████| 10/10 [08:48<00:00, 52.86s/it]\n"
     ]
    },
    {
     "name": "stdout",
     "output_type": "stream",
     "text": [
      "Patient ID: PSMA-01-240 | Body part: Top | Rotation: 100\n",
      "Patient ID: PSMA-01-240 | Body part: Bottom | Rotation: 100\n"
     ]
    },
    {
     "name": "stderr",
     "output_type": "stream",
     "text": [
      "100%|██████████| 10/10 [08:45<00:00, 52.58s/it]\n"
     ]
    },
    {
     "name": "stdout",
     "output_type": "stream",
     "text": [
      "Patient ID: PSMA-01-240 | Body part: Top | Rotation: 105\n",
      "Patient ID: PSMA-01-240 | Body part: Bottom | Rotation: 105\n"
     ]
    },
    {
     "name": "stderr",
     "output_type": "stream",
     "text": [
      "100%|██████████| 10/10 [08:44<00:00, 52.48s/it]\n"
     ]
    },
    {
     "name": "stdout",
     "output_type": "stream",
     "text": [
      "Patient ID: PSMA-01-240 | Body part: Top | Rotation: 110\n",
      "Patient ID: PSMA-01-240 | Body part: Bottom | Rotation: 110\n"
     ]
    },
    {
     "name": "stderr",
     "output_type": "stream",
     "text": [
      "100%|██████████| 10/10 [08:47<00:00, 52.72s/it]\n"
     ]
    },
    {
     "name": "stdout",
     "output_type": "stream",
     "text": [
      "Patient ID: PSMA-01-240 | Body part: Top | Rotation: 115\n",
      "Patient ID: PSMA-01-240 | Body part: Bottom | Rotation: 115\n"
     ]
    },
    {
     "name": "stderr",
     "output_type": "stream",
     "text": [
      "100%|██████████| 10/10 [08:47<00:00, 52.79s/it]\n"
     ]
    },
    {
     "name": "stdout",
     "output_type": "stream",
     "text": [
      "Patient ID: PSMA-01-240 | Body part: Top | Rotation: 120\n",
      "Patient ID: PSMA-01-240 | Body part: Bottom | Rotation: 120\n"
     ]
    },
    {
     "name": "stderr",
     "output_type": "stream",
     "text": [
      "100%|██████████| 10/10 [08:46<00:00, 52.66s/it]\n"
     ]
    },
    {
     "name": "stdout",
     "output_type": "stream",
     "text": [
      "Patient ID: PSMA-01-240 | Body part: Top | Rotation: 125\n",
      "Patient ID: PSMA-01-240 | Body part: Bottom | Rotation: 125\n"
     ]
    },
    {
     "name": "stderr",
     "output_type": "stream",
     "text": [
      "100%|██████████| 10/10 [08:46<00:00, 52.66s/it]\n"
     ]
    },
    {
     "name": "stdout",
     "output_type": "stream",
     "text": [
      "Patient ID: PSMA-01-240 | Body part: Top | Rotation: 130\n",
      "Patient ID: PSMA-01-240 | Body part: Bottom | Rotation: 130\n"
     ]
    },
    {
     "name": "stderr",
     "output_type": "stream",
     "text": [
      "100%|██████████| 10/10 [09:00<00:00, 54.08s/it]\n"
     ]
    },
    {
     "name": "stdout",
     "output_type": "stream",
     "text": [
      "Patient ID: PSMA-01-240 | Body part: Top | Rotation: 135\n",
      "Patient ID: PSMA-01-240 | Body part: Bottom | Rotation: 135\n"
     ]
    },
    {
     "name": "stderr",
     "output_type": "stream",
     "text": [
      "100%|██████████| 10/10 [08:59<00:00, 53.94s/it]\n"
     ]
    },
    {
     "name": "stdout",
     "output_type": "stream",
     "text": [
      "Patient ID: PSMA-01-240 | Body part: Top | Rotation: 140\n",
      "Patient ID: PSMA-01-240 | Body part: Bottom | Rotation: 140\n"
     ]
    },
    {
     "name": "stderr",
     "output_type": "stream",
     "text": [
      "100%|██████████| 10/10 [08:44<00:00, 52.49s/it]\n"
     ]
    },
    {
     "name": "stdout",
     "output_type": "stream",
     "text": [
      "Patient ID: PSMA-01-240 | Body part: Top | Rotation: 145\n",
      "Patient ID: PSMA-01-240 | Body part: Bottom | Rotation: 145\n"
     ]
    },
    {
     "name": "stderr",
     "output_type": "stream",
     "text": [
      "100%|██████████| 10/10 [08:44<00:00, 52.48s/it]\n"
     ]
    },
    {
     "name": "stdout",
     "output_type": "stream",
     "text": [
      "Patient ID: PSMA-01-240 | Body part: Top | Rotation: 150\n",
      "Patient ID: PSMA-01-240 | Body part: Bottom | Rotation: 150\n"
     ]
    },
    {
     "name": "stderr",
     "output_type": "stream",
     "text": [
      "100%|██████████| 10/10 [08:44<00:00, 52.43s/it]\n"
     ]
    },
    {
     "name": "stdout",
     "output_type": "stream",
     "text": [
      "Patient ID: PSMA-01-240 | Body part: Top | Rotation: 155\n",
      "Patient ID: PSMA-01-240 | Body part: Bottom | Rotation: 155\n"
     ]
    },
    {
     "name": "stderr",
     "output_type": "stream",
     "text": [
      "100%|██████████| 10/10 [08:46<00:00, 52.68s/it]\n"
     ]
    },
    {
     "name": "stdout",
     "output_type": "stream",
     "text": [
      "Patient ID: PSMA-01-240 | Body part: Top | Rotation: 160\n",
      "Patient ID: PSMA-01-240 | Body part: Bottom | Rotation: 160\n"
     ]
    },
    {
     "name": "stderr",
     "output_type": "stream",
     "text": [
      "100%|██████████| 10/10 [08:43<00:00, 52.35s/it]\n"
     ]
    },
    {
     "name": "stdout",
     "output_type": "stream",
     "text": [
      "Patient ID: PSMA-01-240 | Body part: Top | Rotation: 165\n",
      "Patient ID: PSMA-01-240 | Body part: Bottom | Rotation: 165\n"
     ]
    },
    {
     "name": "stderr",
     "output_type": "stream",
     "text": [
      "100%|██████████| 10/10 [08:43<00:00, 52.35s/it]\n"
     ]
    },
    {
     "name": "stdout",
     "output_type": "stream",
     "text": [
      "Patient ID: PSMA-01-240 | Body part: Top | Rotation: 170\n",
      "Patient ID: PSMA-01-240 | Body part: Bottom | Rotation: 170\n"
     ]
    },
    {
     "name": "stderr",
     "output_type": "stream",
     "text": [
      "100%|██████████| 10/10 [08:46<00:00, 52.69s/it]\n"
     ]
    },
    {
     "name": "stdout",
     "output_type": "stream",
     "text": [
      "Patient ID: PSMA-01-240 | Body part: Top | Rotation: 175\n",
      "Patient ID: PSMA-01-240 | Body part: Bottom | Rotation: 175\n"
     ]
    },
    {
     "name": "stderr",
     "output_type": "stream",
     "text": [
      "100%|██████████| 10/10 [08:47<00:00, 52.74s/it]\n"
     ]
    },
    {
     "name": "stdout",
     "output_type": "stream",
     "text": [
      "Patient ID: PSMA-01-240 | Body part: Top | Rotation: 180\n",
      "Patient ID: PSMA-01-240 | Body part: Bottom | Rotation: 180\n"
     ]
    },
    {
     "name": "stderr",
     "output_type": "stream",
     "text": [
      "100%|██████████| 10/10 [08:45<00:00, 52.60s/it]\n"
     ]
    },
    {
     "name": "stdout",
     "output_type": "stream",
     "text": [
      "Patient ID: PSMA-01-240 | Body part: Top | Rotation: 185\n",
      "Patient ID: PSMA-01-240 | Body part: Bottom | Rotation: 185\n"
     ]
    },
    {
     "name": "stderr",
     "output_type": "stream",
     "text": [
      "100%|██████████| 10/10 [08:49<00:00, 52.99s/it]\n"
     ]
    },
    {
     "name": "stdout",
     "output_type": "stream",
     "text": [
      "Patient ID: PSMA-01-240 | Body part: Top | Rotation: 190\n",
      "Patient ID: PSMA-01-240 | Body part: Bottom | Rotation: 190\n"
     ]
    },
    {
     "name": "stderr",
     "output_type": "stream",
     "text": [
      "100%|██████████| 10/10 [08:48<00:00, 52.81s/it]\n"
     ]
    },
    {
     "name": "stdout",
     "output_type": "stream",
     "text": [
      "Patient ID: PSMA-01-240 | Body part: Top | Rotation: 195\n",
      "Patient ID: PSMA-01-240 | Body part: Bottom | Rotation: 195\n"
     ]
    },
    {
     "name": "stderr",
     "output_type": "stream",
     "text": [
      "100%|██████████| 10/10 [08:47<00:00, 52.78s/it]\n"
     ]
    },
    {
     "name": "stdout",
     "output_type": "stream",
     "text": [
      "Patient ID: PSMA-01-240 | Body part: Top | Rotation: 200\n",
      "Patient ID: PSMA-01-240 | Body part: Bottom | Rotation: 200\n"
     ]
    },
    {
     "name": "stderr",
     "output_type": "stream",
     "text": [
      "100%|██████████| 10/10 [08:47<00:00, 52.75s/it]\n"
     ]
    },
    {
     "name": "stdout",
     "output_type": "stream",
     "text": [
      "Patient ID: PSMA-01-240 | Body part: Top | Rotation: 205\n",
      "Patient ID: PSMA-01-240 | Body part: Bottom | Rotation: 205\n"
     ]
    },
    {
     "name": "stderr",
     "output_type": "stream",
     "text": [
      "100%|██████████| 10/10 [08:47<00:00, 52.79s/it]\n"
     ]
    },
    {
     "name": "stdout",
     "output_type": "stream",
     "text": [
      "Patient ID: PSMA-01-240 | Body part: Top | Rotation: 210\n",
      "Patient ID: PSMA-01-240 | Body part: Bottom | Rotation: 210\n"
     ]
    },
    {
     "name": "stderr",
     "output_type": "stream",
     "text": [
      "100%|██████████| 10/10 [08:43<00:00, 52.40s/it]\n"
     ]
    },
    {
     "name": "stdout",
     "output_type": "stream",
     "text": [
      "Patient ID: PSMA-01-240 | Body part: Top | Rotation: 215\n",
      "Patient ID: PSMA-01-240 | Body part: Bottom | Rotation: 215\n"
     ]
    },
    {
     "name": "stderr",
     "output_type": "stream",
     "text": [
      "100%|██████████| 10/10 [08:43<00:00, 52.37s/it]\n"
     ]
    },
    {
     "name": "stdout",
     "output_type": "stream",
     "text": [
      "Patient ID: PSMA-01-240 | Body part: Top | Rotation: 220\n",
      "Patient ID: PSMA-01-240 | Body part: Bottom | Rotation: 220\n"
     ]
    },
    {
     "name": "stderr",
     "output_type": "stream",
     "text": [
      "100%|██████████| 10/10 [08:44<00:00, 52.41s/it]\n"
     ]
    },
    {
     "name": "stdout",
     "output_type": "stream",
     "text": [
      "Patient ID: PSMA-01-240 | Body part: Top | Rotation: 225\n",
      "Patient ID: PSMA-01-240 | Body part: Bottom | Rotation: 225\n"
     ]
    },
    {
     "name": "stderr",
     "output_type": "stream",
     "text": [
      "100%|██████████| 10/10 [08:47<00:00, 52.76s/it]\n"
     ]
    },
    {
     "name": "stdout",
     "output_type": "stream",
     "text": [
      "Patient ID: PSMA-01-240 | Body part: Top | Rotation: 230\n",
      "Patient ID: PSMA-01-240 | Body part: Bottom | Rotation: 230\n"
     ]
    },
    {
     "name": "stderr",
     "output_type": "stream",
     "text": [
      "100%|██████████| 10/10 [08:46<00:00, 52.64s/it]\n"
     ]
    },
    {
     "name": "stdout",
     "output_type": "stream",
     "text": [
      "Patient ID: PSMA-01-240 | Body part: Top | Rotation: 235\n",
      "Patient ID: PSMA-01-240 | Body part: Bottom | Rotation: 235\n"
     ]
    },
    {
     "name": "stderr",
     "output_type": "stream",
     "text": [
      "100%|██████████| 10/10 [08:44<00:00, 52.46s/it]\n"
     ]
    },
    {
     "name": "stdout",
     "output_type": "stream",
     "text": [
      "Patient ID: PSMA-01-240 | Body part: Top | Rotation: 240\n",
      "Patient ID: PSMA-01-240 | Body part: Bottom | Rotation: 240\n"
     ]
    },
    {
     "name": "stderr",
     "output_type": "stream",
     "text": [
      "100%|██████████| 10/10 [08:47<00:00, 52.75s/it]\n"
     ]
    },
    {
     "name": "stdout",
     "output_type": "stream",
     "text": [
      "Patient ID: PSMA-01-240 | Body part: Top | Rotation: 245\n",
      "Patient ID: PSMA-01-240 | Body part: Bottom | Rotation: 245\n"
     ]
    },
    {
     "name": "stderr",
     "output_type": "stream",
     "text": [
      "100%|██████████| 10/10 [09:04<00:00, 54.47s/it]\n"
     ]
    },
    {
     "name": "stdout",
     "output_type": "stream",
     "text": [
      "Patient ID: PSMA-01-240 | Body part: Top | Rotation: 250\n",
      "Patient ID: PSMA-01-240 | Body part: Bottom | Rotation: 250\n"
     ]
    },
    {
     "name": "stderr",
     "output_type": "stream",
     "text": [
      "100%|██████████| 10/10 [09:03<00:00, 54.37s/it]\n"
     ]
    },
    {
     "name": "stdout",
     "output_type": "stream",
     "text": [
      "Patient ID: PSMA-01-240 | Body part: Top | Rotation: 255\n",
      "Patient ID: PSMA-01-240 | Body part: Bottom | Rotation: 255\n"
     ]
    },
    {
     "name": "stderr",
     "output_type": "stream",
     "text": [
      "100%|██████████| 10/10 [08:48<00:00, 52.84s/it]\n"
     ]
    },
    {
     "name": "stdout",
     "output_type": "stream",
     "text": [
      "Patient ID: PSMA-01-240 | Body part: Top | Rotation: 260\n",
      "Patient ID: PSMA-01-240 | Body part: Bottom | Rotation: 260\n"
     ]
    },
    {
     "name": "stderr",
     "output_type": "stream",
     "text": [
      "100%|██████████| 10/10 [08:53<00:00, 53.34s/it]\n"
     ]
    },
    {
     "name": "stdout",
     "output_type": "stream",
     "text": [
      "Patient ID: PSMA-01-240 | Body part: Top | Rotation: 265\n",
      "Patient ID: PSMA-01-240 | Body part: Bottom | Rotation: 265\n"
     ]
    },
    {
     "name": "stderr",
     "output_type": "stream",
     "text": [
      "100%|██████████| 10/10 [08:45<00:00, 52.59s/it]\n"
     ]
    },
    {
     "name": "stdout",
     "output_type": "stream",
     "text": [
      "Patient ID: PSMA-01-240 | Body part: Top | Rotation: 270\n",
      "Patient ID: PSMA-01-240 | Body part: Bottom | Rotation: 270\n"
     ]
    },
    {
     "name": "stderr",
     "output_type": "stream",
     "text": [
      "100%|██████████| 10/10 [09:04<00:00, 54.44s/it]\n"
     ]
    },
    {
     "name": "stdout",
     "output_type": "stream",
     "text": [
      "Patient ID: PSMA-01-240 | Body part: Top | Rotation: 275\n",
      "Patient ID: PSMA-01-240 | Body part: Bottom | Rotation: 275\n"
     ]
    },
    {
     "name": "stderr",
     "output_type": "stream",
     "text": [
      "100%|██████████| 10/10 [08:45<00:00, 52.54s/it]\n"
     ]
    },
    {
     "name": "stdout",
     "output_type": "stream",
     "text": [
      "Patient ID: PSMA-01-240 | Body part: Top | Rotation: 280\n",
      "Patient ID: PSMA-01-240 | Body part: Bottom | Rotation: 280\n"
     ]
    },
    {
     "name": "stderr",
     "output_type": "stream",
     "text": [
      "100%|██████████| 10/10 [08:44<00:00, 52.40s/it]\n"
     ]
    },
    {
     "name": "stdout",
     "output_type": "stream",
     "text": [
      "Patient ID: PSMA-01-240 | Body part: Top | Rotation: 285\n",
      "Patient ID: PSMA-01-240 | Body part: Bottom | Rotation: 285\n"
     ]
    },
    {
     "name": "stderr",
     "output_type": "stream",
     "text": [
      "100%|██████████| 10/10 [08:47<00:00, 52.76s/it]\n"
     ]
    },
    {
     "name": "stdout",
     "output_type": "stream",
     "text": [
      "Patient ID: PSMA-01-240 | Body part: Top | Rotation: 290\n",
      "Patient ID: PSMA-01-240 | Body part: Bottom | Rotation: 290\n"
     ]
    },
    {
     "name": "stderr",
     "output_type": "stream",
     "text": [
      "100%|██████████| 10/10 [08:44<00:00, 52.40s/it]\n"
     ]
    },
    {
     "name": "stdout",
     "output_type": "stream",
     "text": [
      "Patient ID: PSMA-01-240 | Body part: Top | Rotation: 295\n",
      "Patient ID: PSMA-01-240 | Body part: Bottom | Rotation: 295\n"
     ]
    },
    {
     "name": "stderr",
     "output_type": "stream",
     "text": [
      "100%|██████████| 10/10 [08:48<00:00, 52.83s/it]\n"
     ]
    },
    {
     "name": "stdout",
     "output_type": "stream",
     "text": [
      "Patient ID: PSMA-01-240 | Body part: Top | Rotation: 300\n",
      "Patient ID: PSMA-01-240 | Body part: Bottom | Rotation: 300\n"
     ]
    },
    {
     "name": "stderr",
     "output_type": "stream",
     "text": [
      "100%|██████████| 10/10 [08:48<00:00, 52.87s/it]\n"
     ]
    },
    {
     "name": "stdout",
     "output_type": "stream",
     "text": [
      "Patient ID: PSMA-01-240 | Body part: Top | Rotation: 305\n",
      "Patient ID: PSMA-01-240 | Body part: Bottom | Rotation: 305\n"
     ]
    },
    {
     "name": "stderr",
     "output_type": "stream",
     "text": [
      "100%|██████████| 10/10 [08:48<00:00, 52.81s/it]\n"
     ]
    },
    {
     "name": "stdout",
     "output_type": "stream",
     "text": [
      "Patient ID: PSMA-01-240 | Body part: Top | Rotation: 310\n",
      "Patient ID: PSMA-01-240 | Body part: Bottom | Rotation: 310\n"
     ]
    },
    {
     "name": "stderr",
     "output_type": "stream",
     "text": [
      "100%|██████████| 10/10 [08:46<00:00, 52.68s/it]\n"
     ]
    },
    {
     "name": "stdout",
     "output_type": "stream",
     "text": [
      "Patient ID: PSMA-01-240 | Body part: Top | Rotation: 315\n",
      "Patient ID: PSMA-01-240 | Body part: Bottom | Rotation: 315\n"
     ]
    },
    {
     "name": "stderr",
     "output_type": "stream",
     "text": [
      "100%|██████████| 10/10 [08:58<00:00, 53.82s/it]\n"
     ]
    },
    {
     "name": "stdout",
     "output_type": "stream",
     "text": [
      "Patient ID: PSMA-01-240 | Body part: Top | Rotation: 320\n",
      "Patient ID: PSMA-01-240 | Body part: Bottom | Rotation: 320\n"
     ]
    },
    {
     "name": "stderr",
     "output_type": "stream",
     "text": [
      "100%|██████████| 10/10 [09:04<00:00, 54.44s/it]\n"
     ]
    },
    {
     "name": "stdout",
     "output_type": "stream",
     "text": [
      "Patient ID: PSMA-01-240 | Body part: Top | Rotation: 325\n",
      "Patient ID: PSMA-01-240 | Body part: Bottom | Rotation: 325\n"
     ]
    },
    {
     "name": "stderr",
     "output_type": "stream",
     "text": [
      "100%|██████████| 10/10 [08:44<00:00, 52.47s/it]\n"
     ]
    },
    {
     "name": "stdout",
     "output_type": "stream",
     "text": [
      "Patient ID: PSMA-01-240 | Body part: Top | Rotation: 330\n",
      "Patient ID: PSMA-01-240 | Body part: Bottom | Rotation: 330\n"
     ]
    },
    {
     "name": "stderr",
     "output_type": "stream",
     "text": [
      "100%|██████████| 10/10 [08:46<00:00, 52.65s/it]\n"
     ]
    },
    {
     "name": "stdout",
     "output_type": "stream",
     "text": [
      "Patient ID: PSMA-01-240 | Body part: Top | Rotation: 335\n",
      "Patient ID: PSMA-01-240 | Body part: Bottom | Rotation: 335\n"
     ]
    },
    {
     "name": "stderr",
     "output_type": "stream",
     "text": [
      "100%|██████████| 10/10 [08:44<00:00, 52.46s/it]\n"
     ]
    },
    {
     "name": "stdout",
     "output_type": "stream",
     "text": [
      "Patient ID: PSMA-01-240 | Body part: Top | Rotation: 340\n",
      "Patient ID: PSMA-01-240 | Body part: Bottom | Rotation: 340\n"
     ]
    },
    {
     "name": "stderr",
     "output_type": "stream",
     "text": [
      "100%|██████████| 10/10 [09:02<00:00, 54.22s/it]\n"
     ]
    },
    {
     "name": "stdout",
     "output_type": "stream",
     "text": [
      "Patient ID: PSMA-01-240 | Body part: Top | Rotation: 345\n",
      "Patient ID: PSMA-01-240 | Body part: Bottom | Rotation: 345\n"
     ]
    },
    {
     "name": "stderr",
     "output_type": "stream",
     "text": [
      "100%|██████████| 10/10 [08:47<00:00, 52.79s/it]\n"
     ]
    },
    {
     "name": "stdout",
     "output_type": "stream",
     "text": [
      "Patient ID: PSMA-01-240 | Body part: Top | Rotation: 350\n",
      "Patient ID: PSMA-01-240 | Body part: Bottom | Rotation: 350\n"
     ]
    },
    {
     "name": "stderr",
     "output_type": "stream",
     "text": [
      "100%|██████████| 10/10 [08:48<00:00, 52.84s/it]\n"
     ]
    },
    {
     "name": "stdout",
     "output_type": "stream",
     "text": [
      "Patient ID: PSMA-01-240 | Body part: Top | Rotation: 355\n",
      "Patient ID: PSMA-01-240 | Body part: Bottom | Rotation: 355\n"
     ]
    },
    {
     "name": "stderr",
     "output_type": "stream",
     "text": [
      "100%|██████████| 10/10 [08:48<00:00, 52.80s/it]\n"
     ]
    },
    {
     "name": "stdout",
     "output_type": "stream",
     "text": [
      "Patient ID: PSMA-01-707 | Body part: Top | Rotation: 000\n",
      "Patient ID: PSMA-01-707 | Body part: Bottom | Rotation: 000\n"
     ]
    },
    {
     "name": "stderr",
     "output_type": "stream",
     "text": [
      "100%|██████████| 10/10 [08:47<00:00, 52.74s/it]\n"
     ]
    },
    {
     "name": "stdout",
     "output_type": "stream",
     "text": [
      "Patient ID: PSMA-01-707 | Body part: Top | Rotation: 005\n",
      "Patient ID: PSMA-01-707 | Body part: Bottom | Rotation: 005\n"
     ]
    },
    {
     "name": "stderr",
     "output_type": "stream",
     "text": [
      "100%|██████████| 10/10 [08:46<00:00, 52.67s/it]\n"
     ]
    },
    {
     "name": "stdout",
     "output_type": "stream",
     "text": [
      "Patient ID: PSMA-01-707 | Body part: Top | Rotation: 010\n",
      "Patient ID: PSMA-01-707 | Body part: Bottom | Rotation: 010\n"
     ]
    },
    {
     "name": "stderr",
     "output_type": "stream",
     "text": [
      "100%|██████████| 10/10 [08:47<00:00, 52.72s/it]\n"
     ]
    },
    {
     "name": "stdout",
     "output_type": "stream",
     "text": [
      "Patient ID: PSMA-01-707 | Body part: Top | Rotation: 015\n",
      "Patient ID: PSMA-01-707 | Body part: Bottom | Rotation: 015\n"
     ]
    },
    {
     "name": "stderr",
     "output_type": "stream",
     "text": [
      "100%|██████████| 10/10 [08:47<00:00, 52.75s/it]\n"
     ]
    },
    {
     "name": "stdout",
     "output_type": "stream",
     "text": [
      "Patient ID: PSMA-01-707 | Body part: Top | Rotation: 020\n",
      "Patient ID: PSMA-01-707 | Body part: Bottom | Rotation: 020\n"
     ]
    },
    {
     "name": "stderr",
     "output_type": "stream",
     "text": [
      "100%|██████████| 10/10 [08:43<00:00, 52.39s/it]\n"
     ]
    },
    {
     "name": "stdout",
     "output_type": "stream",
     "text": [
      "Patient ID: PSMA-01-707 | Body part: Top | Rotation: 025\n",
      "Patient ID: PSMA-01-707 | Body part: Bottom | Rotation: 025\n"
     ]
    },
    {
     "name": "stderr",
     "output_type": "stream",
     "text": [
      "100%|██████████| 10/10 [08:47<00:00, 52.77s/it]\n"
     ]
    },
    {
     "name": "stdout",
     "output_type": "stream",
     "text": [
      "Patient ID: PSMA-01-707 | Body part: Top | Rotation: 030\n",
      "Patient ID: PSMA-01-707 | Body part: Bottom | Rotation: 030\n"
     ]
    },
    {
     "name": "stderr",
     "output_type": "stream",
     "text": [
      "100%|██████████| 10/10 [08:43<00:00, 52.30s/it]\n"
     ]
    },
    {
     "name": "stdout",
     "output_type": "stream",
     "text": [
      "Patient ID: PSMA-01-707 | Body part: Top | Rotation: 035\n",
      "Patient ID: PSMA-01-707 | Body part: Bottom | Rotation: 035\n"
     ]
    },
    {
     "name": "stderr",
     "output_type": "stream",
     "text": [
      "100%|██████████| 10/10 [08:45<00:00, 52.53s/it]\n"
     ]
    },
    {
     "name": "stdout",
     "output_type": "stream",
     "text": [
      "Patient ID: PSMA-01-707 | Body part: Top | Rotation: 040\n",
      "Patient ID: PSMA-01-707 | Body part: Bottom | Rotation: 040\n"
     ]
    },
    {
     "name": "stderr",
     "output_type": "stream",
     "text": [
      "100%|██████████| 10/10 [08:47<00:00, 52.76s/it]\n"
     ]
    },
    {
     "name": "stdout",
     "output_type": "stream",
     "text": [
      "Patient ID: PSMA-01-707 | Body part: Top | Rotation: 045\n",
      "Patient ID: PSMA-01-707 | Body part: Bottom | Rotation: 045\n"
     ]
    },
    {
     "name": "stderr",
     "output_type": "stream",
     "text": [
      "100%|██████████| 10/10 [08:44<00:00, 52.44s/it]\n"
     ]
    },
    {
     "name": "stdout",
     "output_type": "stream",
     "text": [
      "Patient ID: PSMA-01-707 | Body part: Top | Rotation: 050\n",
      "Patient ID: PSMA-01-707 | Body part: Bottom | Rotation: 050\n"
     ]
    },
    {
     "name": "stderr",
     "output_type": "stream",
     "text": [
      "100%|██████████| 10/10 [08:47<00:00, 52.75s/it]\n"
     ]
    },
    {
     "name": "stdout",
     "output_type": "stream",
     "text": [
      "Patient ID: PSMA-01-707 | Body part: Top | Rotation: 055\n",
      "Patient ID: PSMA-01-707 | Body part: Bottom | Rotation: 055\n"
     ]
    },
    {
     "name": "stderr",
     "output_type": "stream",
     "text": [
      "100%|██████████| 10/10 [08:47<00:00, 52.78s/it]\n"
     ]
    },
    {
     "name": "stdout",
     "output_type": "stream",
     "text": [
      "Patient ID: PSMA-01-707 | Body part: Top | Rotation: 060\n",
      "Patient ID: PSMA-01-707 | Body part: Bottom | Rotation: 060\n"
     ]
    },
    {
     "name": "stderr",
     "output_type": "stream",
     "text": [
      "100%|██████████| 10/10 [08:47<00:00, 52.76s/it]\n"
     ]
    },
    {
     "name": "stdout",
     "output_type": "stream",
     "text": [
      "Patient ID: PSMA-01-707 | Body part: Top | Rotation: 065\n",
      "Patient ID: PSMA-01-707 | Body part: Bottom | Rotation: 065\n"
     ]
    },
    {
     "name": "stderr",
     "output_type": "stream",
     "text": [
      "100%|██████████| 10/10 [08:56<00:00, 53.65s/it]\n"
     ]
    },
    {
     "name": "stdout",
     "output_type": "stream",
     "text": [
      "Patient ID: PSMA-01-707 | Body part: Top | Rotation: 070\n",
      "Patient ID: PSMA-01-707 | Body part: Bottom | Rotation: 070\n"
     ]
    },
    {
     "name": "stderr",
     "output_type": "stream",
     "text": [
      "100%|██████████| 10/10 [08:43<00:00, 52.39s/it]\n"
     ]
    },
    {
     "name": "stdout",
     "output_type": "stream",
     "text": [
      "Patient ID: PSMA-01-707 | Body part: Top | Rotation: 075\n",
      "Patient ID: PSMA-01-707 | Body part: Bottom | Rotation: 075\n"
     ]
    },
    {
     "name": "stderr",
     "output_type": "stream",
     "text": [
      "100%|██████████| 10/10 [08:46<00:00, 52.67s/it]\n"
     ]
    },
    {
     "name": "stdout",
     "output_type": "stream",
     "text": [
      "Patient ID: PSMA-01-707 | Body part: Top | Rotation: 080\n",
      "Patient ID: PSMA-01-707 | Body part: Bottom | Rotation: 080\n"
     ]
    },
    {
     "name": "stderr",
     "output_type": "stream",
     "text": [
      "100%|██████████| 10/10 [09:00<00:00, 54.08s/it]\n"
     ]
    },
    {
     "name": "stdout",
     "output_type": "stream",
     "text": [
      "Patient ID: PSMA-01-707 | Body part: Top | Rotation: 085\n",
      "Patient ID: PSMA-01-707 | Body part: Bottom | Rotation: 085\n"
     ]
    },
    {
     "name": "stderr",
     "output_type": "stream",
     "text": [
      "100%|██████████| 10/10 [08:44<00:00, 52.44s/it]\n"
     ]
    },
    {
     "name": "stdout",
     "output_type": "stream",
     "text": [
      "Patient ID: PSMA-01-707 | Body part: Top | Rotation: 090\n",
      "Patient ID: PSMA-01-707 | Body part: Bottom | Rotation: 090\n"
     ]
    },
    {
     "name": "stderr",
     "output_type": "stream",
     "text": [
      "100%|██████████| 10/10 [08:43<00:00, 52.39s/it]\n"
     ]
    },
    {
     "name": "stdout",
     "output_type": "stream",
     "text": [
      "Patient ID: PSMA-01-707 | Body part: Top | Rotation: 095\n",
      "Patient ID: PSMA-01-707 | Body part: Bottom | Rotation: 095\n"
     ]
    },
    {
     "name": "stderr",
     "output_type": "stream",
     "text": [
      "100%|██████████| 10/10 [08:46<00:00, 52.69s/it]\n"
     ]
    },
    {
     "name": "stdout",
     "output_type": "stream",
     "text": [
      "Patient ID: PSMA-01-707 | Body part: Top | Rotation: 100\n",
      "Patient ID: PSMA-01-707 | Body part: Bottom | Rotation: 100\n"
     ]
    },
    {
     "name": "stderr",
     "output_type": "stream",
     "text": [
      "100%|██████████| 10/10 [08:44<00:00, 52.45s/it]\n"
     ]
    },
    {
     "name": "stdout",
     "output_type": "stream",
     "text": [
      "Patient ID: PSMA-01-707 | Body part: Top | Rotation: 105\n",
      "Patient ID: PSMA-01-707 | Body part: Bottom | Rotation: 105\n"
     ]
    },
    {
     "name": "stderr",
     "output_type": "stream",
     "text": [
      "100%|██████████| 10/10 [08:47<00:00, 52.76s/it]\n"
     ]
    },
    {
     "name": "stdout",
     "output_type": "stream",
     "text": [
      "Patient ID: PSMA-01-707 | Body part: Top | Rotation: 110\n",
      "Patient ID: PSMA-01-707 | Body part: Bottom | Rotation: 110\n"
     ]
    },
    {
     "name": "stderr",
     "output_type": "stream",
     "text": [
      "100%|██████████| 10/10 [08:43<00:00, 52.40s/it]\n"
     ]
    },
    {
     "name": "stdout",
     "output_type": "stream",
     "text": [
      "Patient ID: PSMA-01-707 | Body part: Top | Rotation: 115\n",
      "Patient ID: PSMA-01-707 | Body part: Bottom | Rotation: 115\n"
     ]
    },
    {
     "name": "stderr",
     "output_type": "stream",
     "text": [
      "100%|██████████| 10/10 [08:45<00:00, 52.51s/it]\n"
     ]
    },
    {
     "name": "stdout",
     "output_type": "stream",
     "text": [
      "Patient ID: PSMA-01-707 | Body part: Top | Rotation: 120\n",
      "Patient ID: PSMA-01-707 | Body part: Bottom | Rotation: 120\n"
     ]
    },
    {
     "name": "stderr",
     "output_type": "stream",
     "text": [
      "100%|██████████| 10/10 [08:46<00:00, 52.64s/it]\n"
     ]
    },
    {
     "name": "stdout",
     "output_type": "stream",
     "text": [
      "Patient ID: PSMA-01-707 | Body part: Top | Rotation: 125\n",
      "Patient ID: PSMA-01-707 | Body part: Bottom | Rotation: 125\n"
     ]
    },
    {
     "name": "stderr",
     "output_type": "stream",
     "text": [
      "100%|██████████| 10/10 [08:43<00:00, 52.39s/it]\n"
     ]
    },
    {
     "name": "stdout",
     "output_type": "stream",
     "text": [
      "Patient ID: PSMA-01-707 | Body part: Top | Rotation: 130\n",
      "Patient ID: PSMA-01-707 | Body part: Bottom | Rotation: 130\n"
     ]
    },
    {
     "name": "stderr",
     "output_type": "stream",
     "text": [
      "100%|██████████| 10/10 [08:43<00:00, 52.34s/it]\n"
     ]
    },
    {
     "name": "stdout",
     "output_type": "stream",
     "text": [
      "Patient ID: PSMA-01-707 | Body part: Top | Rotation: 135\n",
      "Patient ID: PSMA-01-707 | Body part: Bottom | Rotation: 135\n"
     ]
    },
    {
     "name": "stderr",
     "output_type": "stream",
     "text": [
      "100%|██████████| 10/10 [08:44<00:00, 52.49s/it]\n"
     ]
    },
    {
     "name": "stdout",
     "output_type": "stream",
     "text": [
      "Patient ID: PSMA-01-707 | Body part: Top | Rotation: 140\n",
      "Patient ID: PSMA-01-707 | Body part: Bottom | Rotation: 140\n"
     ]
    },
    {
     "name": "stderr",
     "output_type": "stream",
     "text": [
      "100%|██████████| 10/10 [08:58<00:00, 53.85s/it]\n"
     ]
    },
    {
     "name": "stdout",
     "output_type": "stream",
     "text": [
      "Patient ID: PSMA-01-707 | Body part: Top | Rotation: 145\n",
      "Patient ID: PSMA-01-707 | Body part: Bottom | Rotation: 145\n"
     ]
    },
    {
     "name": "stderr",
     "output_type": "stream",
     "text": [
      "100%|██████████| 10/10 [08:44<00:00, 52.48s/it]\n"
     ]
    },
    {
     "name": "stdout",
     "output_type": "stream",
     "text": [
      "Patient ID: PSMA-01-707 | Body part: Top | Rotation: 150\n",
      "Patient ID: PSMA-01-707 | Body part: Bottom | Rotation: 150\n"
     ]
    },
    {
     "name": "stderr",
     "output_type": "stream",
     "text": [
      "100%|██████████| 10/10 [08:45<00:00, 52.54s/it]\n"
     ]
    },
    {
     "name": "stdout",
     "output_type": "stream",
     "text": [
      "Patient ID: PSMA-01-707 | Body part: Top | Rotation: 155\n",
      "Patient ID: PSMA-01-707 | Body part: Bottom | Rotation: 155\n"
     ]
    },
    {
     "name": "stderr",
     "output_type": "stream",
     "text": [
      "100%|██████████| 10/10 [08:47<00:00, 52.74s/it]\n"
     ]
    },
    {
     "name": "stdout",
     "output_type": "stream",
     "text": [
      "Patient ID: PSMA-01-707 | Body part: Top | Rotation: 160\n",
      "Patient ID: PSMA-01-707 | Body part: Bottom | Rotation: 160\n"
     ]
    },
    {
     "name": "stderr",
     "output_type": "stream",
     "text": [
      "100%|██████████| 10/10 [08:47<00:00, 52.74s/it]\n"
     ]
    },
    {
     "name": "stdout",
     "output_type": "stream",
     "text": [
      "Patient ID: PSMA-01-707 | Body part: Top | Rotation: 165\n",
      "Patient ID: PSMA-01-707 | Body part: Bottom | Rotation: 165\n"
     ]
    },
    {
     "name": "stderr",
     "output_type": "stream",
     "text": [
      "100%|██████████| 10/10 [08:43<00:00, 52.40s/it]\n"
     ]
    },
    {
     "name": "stdout",
     "output_type": "stream",
     "text": [
      "Patient ID: PSMA-01-707 | Body part: Top | Rotation: 170\n",
      "Patient ID: PSMA-01-707 | Body part: Bottom | Rotation: 170\n"
     ]
    },
    {
     "name": "stderr",
     "output_type": "stream",
     "text": [
      "100%|██████████| 10/10 [09:01<00:00, 54.14s/it]\n"
     ]
    },
    {
     "name": "stdout",
     "output_type": "stream",
     "text": [
      "Patient ID: PSMA-01-707 | Body part: Top | Rotation: 175\n",
      "Patient ID: PSMA-01-707 | Body part: Bottom | Rotation: 175\n"
     ]
    },
    {
     "name": "stderr",
     "output_type": "stream",
     "text": [
      "100%|██████████| 10/10 [08:43<00:00, 52.33s/it]\n"
     ]
    },
    {
     "name": "stdout",
     "output_type": "stream",
     "text": [
      "Patient ID: PSMA-01-707 | Body part: Top | Rotation: 180\n",
      "Patient ID: PSMA-01-707 | Body part: Bottom | Rotation: 180\n"
     ]
    },
    {
     "name": "stderr",
     "output_type": "stream",
     "text": [
      "100%|██████████| 10/10 [08:45<00:00, 52.59s/it]\n"
     ]
    },
    {
     "name": "stdout",
     "output_type": "stream",
     "text": [
      "Patient ID: PSMA-01-707 | Body part: Top | Rotation: 185\n",
      "Patient ID: PSMA-01-707 | Body part: Bottom | Rotation: 185\n"
     ]
    },
    {
     "name": "stderr",
     "output_type": "stream",
     "text": [
      "100%|██████████| 10/10 [09:00<00:00, 54.02s/it]\n"
     ]
    },
    {
     "name": "stdout",
     "output_type": "stream",
     "text": [
      "Patient ID: PSMA-01-707 | Body part: Top | Rotation: 190\n",
      "Patient ID: PSMA-01-707 | Body part: Bottom | Rotation: 190\n"
     ]
    },
    {
     "name": "stderr",
     "output_type": "stream",
     "text": [
      "100%|██████████| 10/10 [08:47<00:00, 52.79s/it]\n"
     ]
    },
    {
     "name": "stdout",
     "output_type": "stream",
     "text": [
      "Patient ID: PSMA-01-707 | Body part: Top | Rotation: 195\n",
      "Patient ID: PSMA-01-707 | Body part: Bottom | Rotation: 195\n"
     ]
    },
    {
     "name": "stderr",
     "output_type": "stream",
     "text": [
      "100%|██████████| 10/10 [08:46<00:00, 52.66s/it]\n"
     ]
    },
    {
     "name": "stdout",
     "output_type": "stream",
     "text": [
      "Patient ID: PSMA-01-707 | Body part: Top | Rotation: 200\n",
      "Patient ID: PSMA-01-707 | Body part: Bottom | Rotation: 200\n"
     ]
    },
    {
     "name": "stderr",
     "output_type": "stream",
     "text": [
      "100%|██████████| 10/10 [08:59<00:00, 54.00s/it]\n"
     ]
    },
    {
     "name": "stdout",
     "output_type": "stream",
     "text": [
      "Patient ID: PSMA-01-707 | Body part: Top | Rotation: 205\n",
      "Patient ID: PSMA-01-707 | Body part: Bottom | Rotation: 205\n"
     ]
    },
    {
     "name": "stderr",
     "output_type": "stream",
     "text": [
      "100%|██████████| 10/10 [08:43<00:00, 52.39s/it]\n"
     ]
    },
    {
     "name": "stdout",
     "output_type": "stream",
     "text": [
      "Patient ID: PSMA-01-707 | Body part: Top | Rotation: 210\n",
      "Patient ID: PSMA-01-707 | Body part: Bottom | Rotation: 210\n"
     ]
    },
    {
     "name": "stderr",
     "output_type": "stream",
     "text": [
      "100%|██████████| 10/10 [08:43<00:00, 52.36s/it]\n"
     ]
    },
    {
     "name": "stdout",
     "output_type": "stream",
     "text": [
      "Patient ID: PSMA-01-707 | Body part: Top | Rotation: 215\n",
      "Patient ID: PSMA-01-707 | Body part: Bottom | Rotation: 215\n"
     ]
    },
    {
     "name": "stderr",
     "output_type": "stream",
     "text": [
      "100%|██████████| 10/10 [09:02<00:00, 54.22s/it]\n"
     ]
    },
    {
     "name": "stdout",
     "output_type": "stream",
     "text": [
      "Patient ID: PSMA-01-707 | Body part: Top | Rotation: 220\n",
      "Patient ID: PSMA-01-707 | Body part: Bottom | Rotation: 220\n"
     ]
    },
    {
     "name": "stderr",
     "output_type": "stream",
     "text": [
      "100%|██████████| 10/10 [08:47<00:00, 52.74s/it]\n"
     ]
    },
    {
     "name": "stdout",
     "output_type": "stream",
     "text": [
      "Patient ID: PSMA-01-707 | Body part: Top | Rotation: 225\n",
      "Patient ID: PSMA-01-707 | Body part: Bottom | Rotation: 225\n"
     ]
    },
    {
     "name": "stderr",
     "output_type": "stream",
     "text": [
      "100%|██████████| 10/10 [08:47<00:00, 52.80s/it]\n"
     ]
    },
    {
     "name": "stdout",
     "output_type": "stream",
     "text": [
      "Patient ID: PSMA-01-707 | Body part: Top | Rotation: 230\n",
      "Patient ID: PSMA-01-707 | Body part: Bottom | Rotation: 230\n"
     ]
    },
    {
     "name": "stderr",
     "output_type": "stream",
     "text": [
      "100%|██████████| 10/10 [08:47<00:00, 52.70s/it]\n"
     ]
    },
    {
     "name": "stdout",
     "output_type": "stream",
     "text": [
      "Patient ID: PSMA-01-707 | Body part: Top | Rotation: 235\n",
      "Patient ID: PSMA-01-707 | Body part: Bottom | Rotation: 235\n"
     ]
    },
    {
     "name": "stderr",
     "output_type": "stream",
     "text": [
      "100%|██████████| 10/10 [08:43<00:00, 52.40s/it]\n"
     ]
    },
    {
     "name": "stdout",
     "output_type": "stream",
     "text": [
      "Patient ID: PSMA-01-707 | Body part: Top | Rotation: 240\n",
      "Patient ID: PSMA-01-707 | Body part: Bottom | Rotation: 240\n"
     ]
    },
    {
     "name": "stderr",
     "output_type": "stream",
     "text": [
      "100%|██████████| 10/10 [08:46<00:00, 52.61s/it]\n"
     ]
    },
    {
     "name": "stdout",
     "output_type": "stream",
     "text": [
      "Patient ID: PSMA-01-707 | Body part: Top | Rotation: 245\n",
      "Patient ID: PSMA-01-707 | Body part: Bottom | Rotation: 245\n"
     ]
    },
    {
     "name": "stderr",
     "output_type": "stream",
     "text": [
      "100%|██████████| 10/10 [08:53<00:00, 53.40s/it]\n"
     ]
    },
    {
     "name": "stdout",
     "output_type": "stream",
     "text": [
      "Patient ID: PSMA-01-707 | Body part: Top | Rotation: 250\n",
      "Patient ID: PSMA-01-707 | Body part: Bottom | Rotation: 250\n"
     ]
    },
    {
     "name": "stderr",
     "output_type": "stream",
     "text": [
      "100%|██████████| 10/10 [08:46<00:00, 52.69s/it]\n"
     ]
    },
    {
     "name": "stdout",
     "output_type": "stream",
     "text": [
      "Patient ID: PSMA-01-707 | Body part: Top | Rotation: 255\n",
      "Patient ID: PSMA-01-707 | Body part: Bottom | Rotation: 255\n"
     ]
    },
    {
     "name": "stderr",
     "output_type": "stream",
     "text": [
      "100%|██████████| 10/10 [08:48<00:00, 52.82s/it]\n"
     ]
    },
    {
     "name": "stdout",
     "output_type": "stream",
     "text": [
      "Patient ID: PSMA-01-707 | Body part: Top | Rotation: 260\n",
      "Patient ID: PSMA-01-707 | Body part: Bottom | Rotation: 260\n"
     ]
    },
    {
     "name": "stderr",
     "output_type": "stream",
     "text": [
      "100%|██████████| 10/10 [08:47<00:00, 52.72s/it]\n"
     ]
    },
    {
     "name": "stdout",
     "output_type": "stream",
     "text": [
      "Patient ID: PSMA-01-707 | Body part: Top | Rotation: 265\n",
      "Patient ID: PSMA-01-707 | Body part: Bottom | Rotation: 265\n"
     ]
    },
    {
     "name": "stderr",
     "output_type": "stream",
     "text": [
      "100%|██████████| 10/10 [08:46<00:00, 52.64s/it]\n"
     ]
    },
    {
     "name": "stdout",
     "output_type": "stream",
     "text": [
      "Patient ID: PSMA-01-707 | Body part: Top | Rotation: 270\n",
      "Patient ID: PSMA-01-707 | Body part: Bottom | Rotation: 270\n"
     ]
    },
    {
     "name": "stderr",
     "output_type": "stream",
     "text": [
      "100%|██████████| 10/10 [08:46<00:00, 52.64s/it]\n"
     ]
    },
    {
     "name": "stdout",
     "output_type": "stream",
     "text": [
      "Patient ID: PSMA-01-707 | Body part: Top | Rotation: 275\n",
      "Patient ID: PSMA-01-707 | Body part: Bottom | Rotation: 275\n"
     ]
    },
    {
     "name": "stderr",
     "output_type": "stream",
     "text": [
      "100%|██████████| 10/10 [08:45<00:00, 52.57s/it]\n"
     ]
    },
    {
     "name": "stdout",
     "output_type": "stream",
     "text": [
      "Patient ID: PSMA-01-707 | Body part: Top | Rotation: 280\n",
      "Patient ID: PSMA-01-707 | Body part: Bottom | Rotation: 280\n"
     ]
    },
    {
     "name": "stderr",
     "output_type": "stream",
     "text": [
      "100%|██████████| 10/10 [08:43<00:00, 52.37s/it]\n"
     ]
    },
    {
     "name": "stdout",
     "output_type": "stream",
     "text": [
      "Patient ID: PSMA-01-707 | Body part: Top | Rotation: 285\n",
      "Patient ID: PSMA-01-707 | Body part: Bottom | Rotation: 285\n"
     ]
    },
    {
     "name": "stderr",
     "output_type": "stream",
     "text": [
      "100%|██████████| 10/10 [08:47<00:00, 52.74s/it]\n"
     ]
    },
    {
     "name": "stdout",
     "output_type": "stream",
     "text": [
      "Patient ID: PSMA-01-707 | Body part: Top | Rotation: 290\n",
      "Patient ID: PSMA-01-707 | Body part: Bottom | Rotation: 290\n"
     ]
    },
    {
     "name": "stderr",
     "output_type": "stream",
     "text": [
      "100%|██████████| 10/10 [08:59<00:00, 53.96s/it]\n"
     ]
    },
    {
     "name": "stdout",
     "output_type": "stream",
     "text": [
      "Patient ID: PSMA-01-707 | Body part: Top | Rotation: 295\n",
      "Patient ID: PSMA-01-707 | Body part: Bottom | Rotation: 295\n"
     ]
    },
    {
     "name": "stderr",
     "output_type": "stream",
     "text": [
      "100%|██████████| 10/10 [08:46<00:00, 52.64s/it]\n"
     ]
    },
    {
     "name": "stdout",
     "output_type": "stream",
     "text": [
      "Patient ID: PSMA-01-707 | Body part: Top | Rotation: 300\n",
      "Patient ID: PSMA-01-707 | Body part: Bottom | Rotation: 300\n"
     ]
    },
    {
     "name": "stderr",
     "output_type": "stream",
     "text": [
      "100%|██████████| 10/10 [08:43<00:00, 52.36s/it]\n"
     ]
    },
    {
     "name": "stdout",
     "output_type": "stream",
     "text": [
      "Patient ID: PSMA-01-707 | Body part: Top | Rotation: 305\n",
      "Patient ID: PSMA-01-707 | Body part: Bottom | Rotation: 305\n"
     ]
    },
    {
     "name": "stderr",
     "output_type": "stream",
     "text": [
      "100%|██████████| 10/10 [08:47<00:00, 52.71s/it]\n"
     ]
    },
    {
     "name": "stdout",
     "output_type": "stream",
     "text": [
      "Patient ID: PSMA-01-707 | Body part: Top | Rotation: 310\n",
      "Patient ID: PSMA-01-707 | Body part: Bottom | Rotation: 310\n"
     ]
    },
    {
     "name": "stderr",
     "output_type": "stream",
     "text": [
      "100%|██████████| 10/10 [08:43<00:00, 52.40s/it]\n"
     ]
    },
    {
     "name": "stdout",
     "output_type": "stream",
     "text": [
      "Patient ID: PSMA-01-707 | Body part: Top | Rotation: 315\n",
      "Patient ID: PSMA-01-707 | Body part: Bottom | Rotation: 315\n"
     ]
    },
    {
     "name": "stderr",
     "output_type": "stream",
     "text": [
      "100%|██████████| 10/10 [08:46<00:00, 52.61s/it]\n"
     ]
    },
    {
     "name": "stdout",
     "output_type": "stream",
     "text": [
      "Patient ID: PSMA-01-707 | Body part: Top | Rotation: 320\n",
      "Patient ID: PSMA-01-707 | Body part: Bottom | Rotation: 320\n"
     ]
    },
    {
     "name": "stderr",
     "output_type": "stream",
     "text": [
      "100%|██████████| 10/10 [08:45<00:00, 52.52s/it]\n"
     ]
    },
    {
     "name": "stdout",
     "output_type": "stream",
     "text": [
      "Patient ID: PSMA-01-707 | Body part: Top | Rotation: 325\n",
      "Patient ID: PSMA-01-707 | Body part: Bottom | Rotation: 325\n"
     ]
    },
    {
     "name": "stderr",
     "output_type": "stream",
     "text": [
      "100%|██████████| 10/10 [08:43<00:00, 52.36s/it]\n"
     ]
    },
    {
     "name": "stdout",
     "output_type": "stream",
     "text": [
      "Patient ID: PSMA-01-707 | Body part: Top | Rotation: 330\n",
      "Patient ID: PSMA-01-707 | Body part: Bottom | Rotation: 330\n"
     ]
    },
    {
     "name": "stderr",
     "output_type": "stream",
     "text": [
      "100%|██████████| 10/10 [08:47<00:00, 52.71s/it]\n"
     ]
    },
    {
     "name": "stdout",
     "output_type": "stream",
     "text": [
      "Patient ID: PSMA-01-707 | Body part: Top | Rotation: 335\n",
      "Patient ID: PSMA-01-707 | Body part: Bottom | Rotation: 335\n"
     ]
    },
    {
     "name": "stderr",
     "output_type": "stream",
     "text": [
      "100%|██████████| 10/10 [08:45<00:00, 52.54s/it]\n"
     ]
    },
    {
     "name": "stdout",
     "output_type": "stream",
     "text": [
      "Patient ID: PSMA-01-707 | Body part: Top | Rotation: 340\n",
      "Patient ID: PSMA-01-707 | Body part: Bottom | Rotation: 340\n"
     ]
    },
    {
     "name": "stderr",
     "output_type": "stream",
     "text": [
      "100%|██████████| 10/10 [08:44<00:00, 52.48s/it]\n"
     ]
    },
    {
     "name": "stdout",
     "output_type": "stream",
     "text": [
      "Patient ID: PSMA-01-707 | Body part: Top | Rotation: 345\n",
      "Patient ID: PSMA-01-707 | Body part: Bottom | Rotation: 345\n"
     ]
    },
    {
     "name": "stderr",
     "output_type": "stream",
     "text": [
      "100%|██████████| 10/10 [08:46<00:00, 52.62s/it]\n"
     ]
    },
    {
     "name": "stdout",
     "output_type": "stream",
     "text": [
      "Patient ID: PSMA-01-707 | Body part: Top | Rotation: 350\n",
      "Patient ID: PSMA-01-707 | Body part: Bottom | Rotation: 350\n"
     ]
    },
    {
     "name": "stderr",
     "output_type": "stream",
     "text": [
      "100%|██████████| 10/10 [08:43<00:00, 52.38s/it]\n"
     ]
    },
    {
     "name": "stdout",
     "output_type": "stream",
     "text": [
      "Patient ID: PSMA-01-707 | Body part: Top | Rotation: 355\n",
      "Patient ID: PSMA-01-707 | Body part: Bottom | Rotation: 355\n"
     ]
    },
    {
     "name": "stderr",
     "output_type": "stream",
     "text": [
      "100%|██████████| 10/10 [08:43<00:00, 52.38s/it]\n"
     ]
    },
    {
     "name": "stdout",
     "output_type": "stream",
     "text": [
      "Patient ID: PSMA-01-123 | Body part: Top | Rotation: 000\n",
      "Patient ID: PSMA-01-123 | Body part: Bottom | Rotation: 000\n"
     ]
    },
    {
     "name": "stderr",
     "output_type": "stream",
     "text": [
      "100%|██████████| 10/10 [08:44<00:00, 52.44s/it]\n"
     ]
    },
    {
     "name": "stdout",
     "output_type": "stream",
     "text": [
      "Patient ID: PSMA-01-123 | Body part: Top | Rotation: 005\n",
      "Patient ID: PSMA-01-123 | Body part: Bottom | Rotation: 005\n"
     ]
    },
    {
     "name": "stderr",
     "output_type": "stream",
     "text": [
      "100%|██████████| 10/10 [09:01<00:00, 54.18s/it]\n"
     ]
    },
    {
     "name": "stdout",
     "output_type": "stream",
     "text": [
      "Patient ID: PSMA-01-123 | Body part: Top | Rotation: 010\n",
      "Patient ID: PSMA-01-123 | Body part: Bottom | Rotation: 010\n"
     ]
    },
    {
     "name": "stderr",
     "output_type": "stream",
     "text": [
      "100%|██████████| 10/10 [08:45<00:00, 52.51s/it]\n"
     ]
    },
    {
     "name": "stdout",
     "output_type": "stream",
     "text": [
      "Patient ID: PSMA-01-123 | Body part: Top | Rotation: 015\n",
      "Patient ID: PSMA-01-123 | Body part: Bottom | Rotation: 015\n"
     ]
    },
    {
     "name": "stderr",
     "output_type": "stream",
     "text": [
      "100%|██████████| 10/10 [08:45<00:00, 52.59s/it]\n"
     ]
    },
    {
     "name": "stdout",
     "output_type": "stream",
     "text": [
      "Patient ID: PSMA-01-123 | Body part: Top | Rotation: 020\n",
      "Patient ID: PSMA-01-123 | Body part: Bottom | Rotation: 020\n"
     ]
    },
    {
     "name": "stderr",
     "output_type": "stream",
     "text": [
      "100%|██████████| 10/10 [08:46<00:00, 52.69s/it]\n"
     ]
    },
    {
     "name": "stdout",
     "output_type": "stream",
     "text": [
      "Patient ID: PSMA-01-123 | Body part: Top | Rotation: 025\n",
      "Patient ID: PSMA-01-123 | Body part: Bottom | Rotation: 025\n"
     ]
    },
    {
     "name": "stderr",
     "output_type": "stream",
     "text": [
      "100%|██████████| 10/10 [08:43<00:00, 52.34s/it]\n"
     ]
    },
    {
     "name": "stdout",
     "output_type": "stream",
     "text": [
      "Patient ID: PSMA-01-123 | Body part: Top | Rotation: 030\n",
      "Patient ID: PSMA-01-123 | Body part: Bottom | Rotation: 030\n"
     ]
    },
    {
     "name": "stderr",
     "output_type": "stream",
     "text": [
      "100%|██████████| 10/10 [08:53<00:00, 53.31s/it]\n"
     ]
    },
    {
     "name": "stdout",
     "output_type": "stream",
     "text": [
      "Patient ID: PSMA-01-123 | Body part: Top | Rotation: 035\n",
      "Patient ID: PSMA-01-123 | Body part: Bottom | Rotation: 035\n"
     ]
    },
    {
     "name": "stderr",
     "output_type": "stream",
     "text": [
      "100%|██████████| 10/10 [08:45<00:00, 52.54s/it]\n"
     ]
    },
    {
     "name": "stdout",
     "output_type": "stream",
     "text": [
      "Patient ID: PSMA-01-123 | Body part: Top | Rotation: 040\n",
      "Patient ID: PSMA-01-123 | Body part: Bottom | Rotation: 040\n"
     ]
    },
    {
     "name": "stderr",
     "output_type": "stream",
     "text": [
      "100%|██████████| 10/10 [08:43<00:00, 52.35s/it]\n"
     ]
    },
    {
     "name": "stdout",
     "output_type": "stream",
     "text": [
      "Patient ID: PSMA-01-123 | Body part: Top | Rotation: 045\n",
      "Patient ID: PSMA-01-123 | Body part: Bottom | Rotation: 045\n"
     ]
    },
    {
     "name": "stderr",
     "output_type": "stream",
     "text": [
      "100%|██████████| 10/10 [08:44<00:00, 52.49s/it]\n"
     ]
    },
    {
     "name": "stdout",
     "output_type": "stream",
     "text": [
      "Patient ID: PSMA-01-123 | Body part: Top | Rotation: 050\n",
      "Patient ID: PSMA-01-123 | Body part: Bottom | Rotation: 050\n"
     ]
    },
    {
     "name": "stderr",
     "output_type": "stream",
     "text": [
      "100%|██████████| 10/10 [08:45<00:00, 52.57s/it]\n"
     ]
    },
    {
     "name": "stdout",
     "output_type": "stream",
     "text": [
      "Patient ID: PSMA-01-123 | Body part: Top | Rotation: 055\n",
      "Patient ID: PSMA-01-123 | Body part: Bottom | Rotation: 055\n"
     ]
    },
    {
     "name": "stderr",
     "output_type": "stream",
     "text": [
      "100%|██████████| 10/10 [09:01<00:00, 54.17s/it]\n"
     ]
    },
    {
     "name": "stdout",
     "output_type": "stream",
     "text": [
      "Patient ID: PSMA-01-123 | Body part: Top | Rotation: 060\n",
      "Patient ID: PSMA-01-123 | Body part: Bottom | Rotation: 060\n"
     ]
    },
    {
     "name": "stderr",
     "output_type": "stream",
     "text": [
      "100%|██████████| 10/10 [08:47<00:00, 52.78s/it]\n"
     ]
    },
    {
     "name": "stdout",
     "output_type": "stream",
     "text": [
      "Patient ID: PSMA-01-123 | Body part: Top | Rotation: 065\n",
      "Patient ID: PSMA-01-123 | Body part: Bottom | Rotation: 065\n"
     ]
    },
    {
     "name": "stderr",
     "output_type": "stream",
     "text": [
      "100%|██████████| 10/10 [08:43<00:00, 52.37s/it]\n"
     ]
    },
    {
     "name": "stdout",
     "output_type": "stream",
     "text": [
      "Patient ID: PSMA-01-123 | Body part: Top | Rotation: 070\n",
      "Patient ID: PSMA-01-123 | Body part: Bottom | Rotation: 070\n"
     ]
    },
    {
     "name": "stderr",
     "output_type": "stream",
     "text": [
      "100%|██████████| 10/10 [08:43<00:00, 52.30s/it]\n"
     ]
    },
    {
     "name": "stdout",
     "output_type": "stream",
     "text": [
      "Patient ID: PSMA-01-123 | Body part: Top | Rotation: 075\n",
      "Patient ID: PSMA-01-123 | Body part: Bottom | Rotation: 075\n"
     ]
    },
    {
     "name": "stderr",
     "output_type": "stream",
     "text": [
      "100%|██████████| 10/10 [08:47<00:00, 52.79s/it]\n"
     ]
    },
    {
     "name": "stdout",
     "output_type": "stream",
     "text": [
      "Patient ID: PSMA-01-123 | Body part: Top | Rotation: 080\n",
      "Patient ID: PSMA-01-123 | Body part: Bottom | Rotation: 080\n"
     ]
    },
    {
     "name": "stderr",
     "output_type": "stream",
     "text": [
      "100%|██████████| 10/10 [08:47<00:00, 52.74s/it]\n"
     ]
    },
    {
     "name": "stdout",
     "output_type": "stream",
     "text": [
      "Patient ID: PSMA-01-123 | Body part: Top | Rotation: 085\n",
      "Patient ID: PSMA-01-123 | Body part: Bottom | Rotation: 085\n"
     ]
    },
    {
     "name": "stderr",
     "output_type": "stream",
     "text": [
      "100%|██████████| 10/10 [08:46<00:00, 52.68s/it]\n"
     ]
    },
    {
     "name": "stdout",
     "output_type": "stream",
     "text": [
      "Patient ID: PSMA-01-123 | Body part: Top | Rotation: 090\n",
      "Patient ID: PSMA-01-123 | Body part: Bottom | Rotation: 090\n"
     ]
    },
    {
     "name": "stderr",
     "output_type": "stream",
     "text": [
      "100%|██████████| 10/10 [08:44<00:00, 52.48s/it]\n"
     ]
    },
    {
     "name": "stdout",
     "output_type": "stream",
     "text": [
      "Patient ID: PSMA-01-123 | Body part: Top | Rotation: 095\n",
      "Patient ID: PSMA-01-123 | Body part: Bottom | Rotation: 095\n"
     ]
    },
    {
     "name": "stderr",
     "output_type": "stream",
     "text": [
      "100%|██████████| 10/10 [08:46<00:00, 52.70s/it]\n"
     ]
    },
    {
     "name": "stdout",
     "output_type": "stream",
     "text": [
      "Patient ID: PSMA-01-123 | Body part: Top | Rotation: 100\n",
      "Patient ID: PSMA-01-123 | Body part: Bottom | Rotation: 100\n"
     ]
    },
    {
     "name": "stderr",
     "output_type": "stream",
     "text": [
      "100%|██████████| 10/10 [08:47<00:00, 52.75s/it]\n"
     ]
    },
    {
     "name": "stdout",
     "output_type": "stream",
     "text": [
      "Patient ID: PSMA-01-123 | Body part: Top | Rotation: 105\n",
      "Patient ID: PSMA-01-123 | Body part: Bottom | Rotation: 105\n"
     ]
    },
    {
     "name": "stderr",
     "output_type": "stream",
     "text": [
      "100%|██████████| 10/10 [08:47<00:00, 52.72s/it]\n"
     ]
    },
    {
     "name": "stdout",
     "output_type": "stream",
     "text": [
      "Patient ID: PSMA-01-123 | Body part: Top | Rotation: 110\n",
      "Patient ID: PSMA-01-123 | Body part: Bottom | Rotation: 110\n"
     ]
    },
    {
     "name": "stderr",
     "output_type": "stream",
     "text": [
      "100%|██████████| 10/10 [08:46<00:00, 52.70s/it]\n"
     ]
    },
    {
     "name": "stdout",
     "output_type": "stream",
     "text": [
      "Patient ID: PSMA-01-123 | Body part: Top | Rotation: 115\n",
      "Patient ID: PSMA-01-123 | Body part: Bottom | Rotation: 115\n"
     ]
    },
    {
     "name": "stderr",
     "output_type": "stream",
     "text": [
      "100%|██████████| 10/10 [08:45<00:00, 52.51s/it]\n"
     ]
    },
    {
     "name": "stdout",
     "output_type": "stream",
     "text": [
      "Patient ID: PSMA-01-123 | Body part: Top | Rotation: 120\n",
      "Patient ID: PSMA-01-123 | Body part: Bottom | Rotation: 120\n"
     ]
    },
    {
     "name": "stderr",
     "output_type": "stream",
     "text": [
      "100%|██████████| 10/10 [08:43<00:00, 52.37s/it]\n"
     ]
    },
    {
     "name": "stdout",
     "output_type": "stream",
     "text": [
      "Patient ID: PSMA-01-123 | Body part: Top | Rotation: 125\n",
      "Patient ID: PSMA-01-123 | Body part: Bottom | Rotation: 125\n"
     ]
    },
    {
     "name": "stderr",
     "output_type": "stream",
     "text": [
      "100%|██████████| 10/10 [08:47<00:00, 52.72s/it]\n"
     ]
    },
    {
     "name": "stdout",
     "output_type": "stream",
     "text": [
      "Patient ID: PSMA-01-123 | Body part: Top | Rotation: 130\n",
      "Patient ID: PSMA-01-123 | Body part: Bottom | Rotation: 130\n"
     ]
    },
    {
     "name": "stderr",
     "output_type": "stream",
     "text": [
      "100%|██████████| 10/10 [08:56<00:00, 53.68s/it]\n"
     ]
    },
    {
     "name": "stdout",
     "output_type": "stream",
     "text": [
      "Patient ID: PSMA-01-123 | Body part: Top | Rotation: 135\n",
      "Patient ID: PSMA-01-123 | Body part: Bottom | Rotation: 135\n"
     ]
    },
    {
     "name": "stderr",
     "output_type": "stream",
     "text": [
      "100%|██████████| 10/10 [08:43<00:00, 52.34s/it]\n"
     ]
    },
    {
     "name": "stdout",
     "output_type": "stream",
     "text": [
      "Patient ID: PSMA-01-123 | Body part: Top | Rotation: 140\n",
      "Patient ID: PSMA-01-123 | Body part: Bottom | Rotation: 140\n"
     ]
    },
    {
     "name": "stderr",
     "output_type": "stream",
     "text": [
      "100%|██████████| 10/10 [08:44<00:00, 52.48s/it]\n"
     ]
    },
    {
     "name": "stdout",
     "output_type": "stream",
     "text": [
      "Patient ID: PSMA-01-123 | Body part: Top | Rotation: 145\n",
      "Patient ID: PSMA-01-123 | Body part: Bottom | Rotation: 145\n"
     ]
    },
    {
     "name": "stderr",
     "output_type": "stream",
     "text": [
      "100%|██████████| 10/10 [08:56<00:00, 53.66s/it]\n"
     ]
    },
    {
     "name": "stdout",
     "output_type": "stream",
     "text": [
      "Patient ID: PSMA-01-123 | Body part: Top | Rotation: 150\n",
      "Patient ID: PSMA-01-123 | Body part: Bottom | Rotation: 150\n"
     ]
    },
    {
     "name": "stderr",
     "output_type": "stream",
     "text": [
      "100%|██████████| 10/10 [08:46<00:00, 52.68s/it]\n"
     ]
    },
    {
     "name": "stdout",
     "output_type": "stream",
     "text": [
      "Patient ID: PSMA-01-123 | Body part: Top | Rotation: 155\n",
      "Patient ID: PSMA-01-123 | Body part: Bottom | Rotation: 155\n"
     ]
    },
    {
     "name": "stderr",
     "output_type": "stream",
     "text": [
      "100%|██████████| 10/10 [08:46<00:00, 52.66s/it]\n"
     ]
    },
    {
     "name": "stdout",
     "output_type": "stream",
     "text": [
      "Patient ID: PSMA-01-123 | Body part: Top | Rotation: 160\n",
      "Patient ID: PSMA-01-123 | Body part: Bottom | Rotation: 160\n"
     ]
    },
    {
     "name": "stderr",
     "output_type": "stream",
     "text": [
      "100%|██████████| 10/10 [08:43<00:00, 52.40s/it]\n"
     ]
    },
    {
     "name": "stdout",
     "output_type": "stream",
     "text": [
      "Patient ID: PSMA-01-123 | Body part: Top | Rotation: 165\n",
      "Patient ID: PSMA-01-123 | Body part: Bottom | Rotation: 165\n"
     ]
    },
    {
     "name": "stderr",
     "output_type": "stream",
     "text": [
      "100%|██████████| 10/10 [08:43<00:00, 52.39s/it]\n"
     ]
    },
    {
     "name": "stdout",
     "output_type": "stream",
     "text": [
      "Patient ID: PSMA-01-123 | Body part: Top | Rotation: 170\n",
      "Patient ID: PSMA-01-123 | Body part: Bottom | Rotation: 170\n"
     ]
    },
    {
     "name": "stderr",
     "output_type": "stream",
     "text": [
      "100%|██████████| 10/10 [08:49<00:00, 52.97s/it]\n"
     ]
    },
    {
     "name": "stdout",
     "output_type": "stream",
     "text": [
      "Patient ID: PSMA-01-123 | Body part: Top | Rotation: 175\n",
      "Patient ID: PSMA-01-123 | Body part: Bottom | Rotation: 175\n"
     ]
    },
    {
     "name": "stderr",
     "output_type": "stream",
     "text": [
      "100%|██████████| 10/10 [08:43<00:00, 52.37s/it]\n"
     ]
    },
    {
     "name": "stdout",
     "output_type": "stream",
     "text": [
      "Patient ID: PSMA-01-123 | Body part: Top | Rotation: 180\n",
      "Patient ID: PSMA-01-123 | Body part: Bottom | Rotation: 180\n"
     ]
    },
    {
     "name": "stderr",
     "output_type": "stream",
     "text": [
      "100%|██████████| 10/10 [09:00<00:00, 54.07s/it]\n"
     ]
    },
    {
     "name": "stdout",
     "output_type": "stream",
     "text": [
      "Patient ID: PSMA-01-123 | Body part: Top | Rotation: 185\n",
      "Patient ID: PSMA-01-123 | Body part: Bottom | Rotation: 185\n"
     ]
    },
    {
     "name": "stderr",
     "output_type": "stream",
     "text": [
      "100%|██████████| 10/10 [08:45<00:00, 52.59s/it]\n"
     ]
    },
    {
     "name": "stdout",
     "output_type": "stream",
     "text": [
      "Patient ID: PSMA-01-123 | Body part: Top | Rotation: 190\n",
      "Patient ID: PSMA-01-123 | Body part: Bottom | Rotation: 190\n"
     ]
    },
    {
     "name": "stderr",
     "output_type": "stream",
     "text": [
      "100%|██████████| 10/10 [08:47<00:00, 52.70s/it]\n"
     ]
    },
    {
     "name": "stdout",
     "output_type": "stream",
     "text": [
      "Patient ID: PSMA-01-123 | Body part: Top | Rotation: 195\n",
      "Patient ID: PSMA-01-123 | Body part: Bottom | Rotation: 195\n"
     ]
    },
    {
     "name": "stderr",
     "output_type": "stream",
     "text": [
      "100%|██████████| 10/10 [08:43<00:00, 52.37s/it]\n"
     ]
    },
    {
     "name": "stdout",
     "output_type": "stream",
     "text": [
      "Patient ID: PSMA-01-123 | Body part: Top | Rotation: 200\n",
      "Patient ID: PSMA-01-123 | Body part: Bottom | Rotation: 200\n"
     ]
    },
    {
     "name": "stderr",
     "output_type": "stream",
     "text": [
      "100%|██████████| 10/10 [08:43<00:00, 52.40s/it]\n"
     ]
    },
    {
     "name": "stdout",
     "output_type": "stream",
     "text": [
      "Patient ID: PSMA-01-123 | Body part: Top | Rotation: 205\n",
      "Patient ID: PSMA-01-123 | Body part: Bottom | Rotation: 205\n"
     ]
    },
    {
     "name": "stderr",
     "output_type": "stream",
     "text": [
      "100%|██████████| 10/10 [08:43<00:00, 52.34s/it]\n"
     ]
    },
    {
     "name": "stdout",
     "output_type": "stream",
     "text": [
      "Patient ID: PSMA-01-123 | Body part: Top | Rotation: 210\n",
      "Patient ID: PSMA-01-123 | Body part: Bottom | Rotation: 210\n"
     ]
    },
    {
     "name": "stderr",
     "output_type": "stream",
     "text": [
      "100%|██████████| 10/10 [08:44<00:00, 52.49s/it]\n"
     ]
    },
    {
     "name": "stdout",
     "output_type": "stream",
     "text": [
      "Patient ID: PSMA-01-123 | Body part: Top | Rotation: 215\n",
      "Patient ID: PSMA-01-123 | Body part: Bottom | Rotation: 215\n"
     ]
    },
    {
     "name": "stderr",
     "output_type": "stream",
     "text": [
      "100%|██████████| 10/10 [08:47<00:00, 52.72s/it]\n"
     ]
    },
    {
     "name": "stdout",
     "output_type": "stream",
     "text": [
      "Patient ID: PSMA-01-123 | Body part: Top | Rotation: 220\n",
      "Patient ID: PSMA-01-123 | Body part: Bottom | Rotation: 220\n"
     ]
    },
    {
     "name": "stderr",
     "output_type": "stream",
     "text": [
      "100%|██████████| 10/10 [08:50<00:00, 53.04s/it]\n"
     ]
    },
    {
     "name": "stdout",
     "output_type": "stream",
     "text": [
      "Patient ID: PSMA-01-123 | Body part: Top | Rotation: 225\n",
      "Patient ID: PSMA-01-123 | Body part: Bottom | Rotation: 225\n"
     ]
    },
    {
     "name": "stderr",
     "output_type": "stream",
     "text": [
      "100%|██████████| 10/10 [08:44<00:00, 52.40s/it]\n"
     ]
    },
    {
     "name": "stdout",
     "output_type": "stream",
     "text": [
      "Patient ID: PSMA-01-123 | Body part: Top | Rotation: 230\n",
      "Patient ID: PSMA-01-123 | Body part: Bottom | Rotation: 230\n"
     ]
    },
    {
     "name": "stderr",
     "output_type": "stream",
     "text": [
      "100%|██████████| 10/10 [08:47<00:00, 52.76s/it]\n"
     ]
    },
    {
     "name": "stdout",
     "output_type": "stream",
     "text": [
      "Patient ID: PSMA-01-123 | Body part: Top | Rotation: 235\n",
      "Patient ID: PSMA-01-123 | Body part: Bottom | Rotation: 235\n"
     ]
    },
    {
     "name": "stderr",
     "output_type": "stream",
     "text": [
      "100%|██████████| 10/10 [08:46<00:00, 52.66s/it]\n"
     ]
    },
    {
     "name": "stdout",
     "output_type": "stream",
     "text": [
      "Patient ID: PSMA-01-123 | Body part: Top | Rotation: 240\n",
      "Patient ID: PSMA-01-123 | Body part: Bottom | Rotation: 240\n"
     ]
    },
    {
     "name": "stderr",
     "output_type": "stream",
     "text": [
      "100%|██████████| 10/10 [08:47<00:00, 52.70s/it]\n"
     ]
    },
    {
     "name": "stdout",
     "output_type": "stream",
     "text": [
      "Patient ID: PSMA-01-123 | Body part: Top | Rotation: 245\n",
      "Patient ID: PSMA-01-123 | Body part: Bottom | Rotation: 245\n"
     ]
    },
    {
     "name": "stderr",
     "output_type": "stream",
     "text": [
      "100%|██████████| 10/10 [08:46<00:00, 52.66s/it]\n"
     ]
    },
    {
     "name": "stdout",
     "output_type": "stream",
     "text": [
      "Patient ID: PSMA-01-123 | Body part: Top | Rotation: 250\n",
      "Patient ID: PSMA-01-123 | Body part: Bottom | Rotation: 250\n"
     ]
    },
    {
     "name": "stderr",
     "output_type": "stream",
     "text": [
      "100%|██████████| 10/10 [08:44<00:00, 52.46s/it]\n"
     ]
    },
    {
     "name": "stdout",
     "output_type": "stream",
     "text": [
      "Patient ID: PSMA-01-123 | Body part: Top | Rotation: 255\n",
      "Patient ID: PSMA-01-123 | Body part: Bottom | Rotation: 255\n"
     ]
    },
    {
     "name": "stderr",
     "output_type": "stream",
     "text": [
      "100%|██████████| 10/10 [08:47<00:00, 52.74s/it]\n"
     ]
    },
    {
     "name": "stdout",
     "output_type": "stream",
     "text": [
      "Patient ID: PSMA-01-123 | Body part: Top | Rotation: 260\n",
      "Patient ID: PSMA-01-123 | Body part: Bottom | Rotation: 260\n"
     ]
    },
    {
     "name": "stderr",
     "output_type": "stream",
     "text": [
      "100%|██████████| 10/10 [08:44<00:00, 52.40s/it]\n"
     ]
    },
    {
     "name": "stdout",
     "output_type": "stream",
     "text": [
      "Patient ID: PSMA-01-123 | Body part: Top | Rotation: 265\n",
      "Patient ID: PSMA-01-123 | Body part: Bottom | Rotation: 265\n"
     ]
    },
    {
     "name": "stderr",
     "output_type": "stream",
     "text": [
      "100%|██████████| 10/10 [08:48<00:00, 52.83s/it]\n"
     ]
    },
    {
     "name": "stdout",
     "output_type": "stream",
     "text": [
      "Patient ID: PSMA-01-123 | Body part: Top | Rotation: 270\n",
      "Patient ID: PSMA-01-123 | Body part: Bottom | Rotation: 270\n"
     ]
    },
    {
     "name": "stderr",
     "output_type": "stream",
     "text": [
      "100%|██████████| 10/10 [08:46<00:00, 52.69s/it]\n"
     ]
    },
    {
     "name": "stdout",
     "output_type": "stream",
     "text": [
      "Patient ID: PSMA-01-123 | Body part: Top | Rotation: 275\n",
      "Patient ID: PSMA-01-123 | Body part: Bottom | Rotation: 275\n"
     ]
    },
    {
     "name": "stderr",
     "output_type": "stream",
     "text": [
      "100%|██████████| 10/10 [09:03<00:00, 54.33s/it]\n"
     ]
    },
    {
     "name": "stdout",
     "output_type": "stream",
     "text": [
      "Patient ID: PSMA-01-123 | Body part: Top | Rotation: 280\n",
      "Patient ID: PSMA-01-123 | Body part: Bottom | Rotation: 280\n"
     ]
    },
    {
     "name": "stderr",
     "output_type": "stream",
     "text": [
      "100%|██████████| 10/10 [08:44<00:00, 52.41s/it]\n"
     ]
    },
    {
     "name": "stdout",
     "output_type": "stream",
     "text": [
      "Patient ID: PSMA-01-123 | Body part: Top | Rotation: 285\n",
      "Patient ID: PSMA-01-123 | Body part: Bottom | Rotation: 285\n"
     ]
    },
    {
     "name": "stderr",
     "output_type": "stream",
     "text": [
      "100%|██████████| 10/10 [08:44<00:00, 52.46s/it]\n"
     ]
    },
    {
     "name": "stdout",
     "output_type": "stream",
     "text": [
      "Patient ID: PSMA-01-123 | Body part: Top | Rotation: 290\n",
      "Patient ID: PSMA-01-123 | Body part: Bottom | Rotation: 290\n"
     ]
    },
    {
     "name": "stderr",
     "output_type": "stream",
     "text": [
      "100%|██████████| 10/10 [08:44<00:00, 52.41s/it]\n"
     ]
    },
    {
     "name": "stdout",
     "output_type": "stream",
     "text": [
      "Patient ID: PSMA-01-123 | Body part: Top | Rotation: 295\n",
      "Patient ID: PSMA-01-123 | Body part: Bottom | Rotation: 295\n"
     ]
    },
    {
     "name": "stderr",
     "output_type": "stream",
     "text": [
      "100%|██████████| 10/10 [08:47<00:00, 52.78s/it]\n"
     ]
    },
    {
     "name": "stdout",
     "output_type": "stream",
     "text": [
      "Patient ID: PSMA-01-123 | Body part: Top | Rotation: 300\n",
      "Patient ID: PSMA-01-123 | Body part: Bottom | Rotation: 300\n"
     ]
    },
    {
     "name": "stderr",
     "output_type": "stream",
     "text": [
      "100%|██████████| 10/10 [08:46<00:00, 52.64s/it]\n"
     ]
    },
    {
     "name": "stdout",
     "output_type": "stream",
     "text": [
      "Patient ID: PSMA-01-123 | Body part: Top | Rotation: 305\n",
      "Patient ID: PSMA-01-123 | Body part: Bottom | Rotation: 305\n"
     ]
    },
    {
     "name": "stderr",
     "output_type": "stream",
     "text": [
      "100%|██████████| 10/10 [08:47<00:00, 52.75s/it]\n"
     ]
    },
    {
     "name": "stdout",
     "output_type": "stream",
     "text": [
      "Patient ID: PSMA-01-123 | Body part: Top | Rotation: 310\n",
      "Patient ID: PSMA-01-123 | Body part: Bottom | Rotation: 310\n"
     ]
    },
    {
     "name": "stderr",
     "output_type": "stream",
     "text": [
      "100%|██████████| 10/10 [08:46<00:00, 52.65s/it]\n"
     ]
    },
    {
     "name": "stdout",
     "output_type": "stream",
     "text": [
      "Patient ID: PSMA-01-123 | Body part: Top | Rotation: 315\n",
      "Patient ID: PSMA-01-123 | Body part: Bottom | Rotation: 315\n"
     ]
    },
    {
     "name": "stderr",
     "output_type": "stream",
     "text": [
      "100%|██████████| 10/10 [08:59<00:00, 53.95s/it]\n"
     ]
    },
    {
     "name": "stdout",
     "output_type": "stream",
     "text": [
      "Patient ID: PSMA-01-123 | Body part: Top | Rotation: 320\n",
      "Patient ID: PSMA-01-123 | Body part: Bottom | Rotation: 320\n"
     ]
    },
    {
     "name": "stderr",
     "output_type": "stream",
     "text": [
      "100%|██████████| 10/10 [08:44<00:00, 52.47s/it]\n"
     ]
    },
    {
     "name": "stdout",
     "output_type": "stream",
     "text": [
      "Patient ID: PSMA-01-123 | Body part: Top | Rotation: 325\n",
      "Patient ID: PSMA-01-123 | Body part: Bottom | Rotation: 325\n"
     ]
    },
    {
     "name": "stderr",
     "output_type": "stream",
     "text": [
      "100%|██████████| 10/10 [08:45<00:00, 52.55s/it]\n"
     ]
    },
    {
     "name": "stdout",
     "output_type": "stream",
     "text": [
      "Patient ID: PSMA-01-123 | Body part: Top | Rotation: 330\n",
      "Patient ID: PSMA-01-123 | Body part: Bottom | Rotation: 330\n"
     ]
    },
    {
     "name": "stderr",
     "output_type": "stream",
     "text": [
      "100%|██████████| 10/10 [08:46<00:00, 52.67s/it]\n"
     ]
    },
    {
     "name": "stdout",
     "output_type": "stream",
     "text": [
      "Patient ID: PSMA-01-123 | Body part: Top | Rotation: 335\n",
      "Patient ID: PSMA-01-123 | Body part: Bottom | Rotation: 335\n"
     ]
    },
    {
     "name": "stderr",
     "output_type": "stream",
     "text": [
      "100%|██████████| 10/10 [08:44<00:00, 52.47s/it]\n"
     ]
    },
    {
     "name": "stdout",
     "output_type": "stream",
     "text": [
      "Patient ID: PSMA-01-123 | Body part: Top | Rotation: 340\n",
      "Patient ID: PSMA-01-123 | Body part: Bottom | Rotation: 340\n"
     ]
    },
    {
     "name": "stderr",
     "output_type": "stream",
     "text": [
      "100%|██████████| 10/10 [08:46<00:00, 52.69s/it]\n"
     ]
    },
    {
     "name": "stdout",
     "output_type": "stream",
     "text": [
      "Patient ID: PSMA-01-123 | Body part: Top | Rotation: 345\n",
      "Patient ID: PSMA-01-123 | Body part: Bottom | Rotation: 345\n"
     ]
    },
    {
     "name": "stderr",
     "output_type": "stream",
     "text": [
      "100%|██████████| 10/10 [08:43<00:00, 52.35s/it]\n"
     ]
    },
    {
     "name": "stdout",
     "output_type": "stream",
     "text": [
      "Patient ID: PSMA-01-123 | Body part: Top | Rotation: 350\n",
      "Patient ID: PSMA-01-123 | Body part: Bottom | Rotation: 350\n"
     ]
    },
    {
     "name": "stderr",
     "output_type": "stream",
     "text": [
      "100%|██████████| 10/10 [08:54<00:00, 53.44s/it]\n"
     ]
    },
    {
     "name": "stdout",
     "output_type": "stream",
     "text": [
      "Patient ID: PSMA-01-123 | Body part: Top | Rotation: 355\n",
      "Patient ID: PSMA-01-123 | Body part: Bottom | Rotation: 355\n"
     ]
    },
    {
     "name": "stderr",
     "output_type": "stream",
     "text": [
      "100%|██████████| 10/10 [08:44<00:00, 52.41s/it]\n"
     ]
    },
    {
     "name": "stdout",
     "output_type": "stream",
     "text": [
      "Patient ID: PSMA-01-545 | Body part: Top | Rotation: 000\n",
      "Patient ID: PSMA-01-545 | Body part: Bottom | Rotation: 000\n"
     ]
    },
    {
     "name": "stderr",
     "output_type": "stream",
     "text": [
      "100%|██████████| 10/10 [08:46<00:00, 52.65s/it]\n"
     ]
    },
    {
     "name": "stdout",
     "output_type": "stream",
     "text": [
      "Patient ID: PSMA-01-545 | Body part: Top | Rotation: 005\n",
      "Patient ID: PSMA-01-545 | Body part: Bottom | Rotation: 005\n"
     ]
    },
    {
     "name": "stderr",
     "output_type": "stream",
     "text": [
      "100%|██████████| 10/10 [08:45<00:00, 52.56s/it]\n"
     ]
    },
    {
     "name": "stdout",
     "output_type": "stream",
     "text": [
      "Patient ID: PSMA-01-545 | Body part: Top | Rotation: 010\n",
      "Patient ID: PSMA-01-545 | Body part: Bottom | Rotation: 010\n"
     ]
    },
    {
     "name": "stderr",
     "output_type": "stream",
     "text": [
      "100%|██████████| 10/10 [08:48<00:00, 52.82s/it]\n"
     ]
    },
    {
     "name": "stdout",
     "output_type": "stream",
     "text": [
      "Patient ID: PSMA-01-545 | Body part: Top | Rotation: 015\n",
      "Patient ID: PSMA-01-545 | Body part: Bottom | Rotation: 015\n"
     ]
    },
    {
     "name": "stderr",
     "output_type": "stream",
     "text": [
      "100%|██████████| 10/10 [08:46<00:00, 52.66s/it]\n"
     ]
    },
    {
     "name": "stdout",
     "output_type": "stream",
     "text": [
      "Patient ID: PSMA-01-545 | Body part: Top | Rotation: 020\n",
      "Patient ID: PSMA-01-545 | Body part: Bottom | Rotation: 020\n"
     ]
    },
    {
     "name": "stderr",
     "output_type": "stream",
     "text": [
      "100%|██████████| 10/10 [08:44<00:00, 52.46s/it]\n"
     ]
    },
    {
     "name": "stdout",
     "output_type": "stream",
     "text": [
      "Patient ID: PSMA-01-545 | Body part: Top | Rotation: 025\n",
      "Patient ID: PSMA-01-545 | Body part: Bottom | Rotation: 025\n"
     ]
    },
    {
     "name": "stderr",
     "output_type": "stream",
     "text": [
      "100%|██████████| 10/10 [08:46<00:00, 52.63s/it]\n"
     ]
    },
    {
     "name": "stdout",
     "output_type": "stream",
     "text": [
      "Patient ID: PSMA-01-545 | Body part: Top | Rotation: 030\n",
      "Patient ID: PSMA-01-545 | Body part: Bottom | Rotation: 030\n"
     ]
    },
    {
     "name": "stderr",
     "output_type": "stream",
     "text": [
      "100%|██████████| 10/10 [08:47<00:00, 52.71s/it]\n"
     ]
    },
    {
     "name": "stdout",
     "output_type": "stream",
     "text": [
      "Patient ID: PSMA-01-545 | Body part: Top | Rotation: 035\n",
      "Patient ID: PSMA-01-545 | Body part: Bottom | Rotation: 035\n"
     ]
    },
    {
     "name": "stderr",
     "output_type": "stream",
     "text": [
      "100%|██████████| 10/10 [08:44<00:00, 52.49s/it]\n"
     ]
    },
    {
     "name": "stdout",
     "output_type": "stream",
     "text": [
      "Patient ID: PSMA-01-545 | Body part: Top | Rotation: 040\n",
      "Patient ID: PSMA-01-545 | Body part: Bottom | Rotation: 040\n"
     ]
    },
    {
     "name": "stderr",
     "output_type": "stream",
     "text": [
      "100%|██████████| 10/10 [08:45<00:00, 52.58s/it]\n"
     ]
    },
    {
     "name": "stdout",
     "output_type": "stream",
     "text": [
      "Patient ID: PSMA-01-545 | Body part: Top | Rotation: 045\n",
      "Patient ID: PSMA-01-545 | Body part: Bottom | Rotation: 045\n"
     ]
    },
    {
     "name": "stderr",
     "output_type": "stream",
     "text": [
      "100%|██████████| 10/10 [08:52<00:00, 53.23s/it]\n"
     ]
    },
    {
     "name": "stdout",
     "output_type": "stream",
     "text": [
      "Patient ID: PSMA-01-545 | Body part: Top | Rotation: 050\n",
      "Patient ID: PSMA-01-545 | Body part: Bottom | Rotation: 050\n"
     ]
    },
    {
     "name": "stderr",
     "output_type": "stream",
     "text": [
      "100%|██████████| 10/10 [08:44<00:00, 52.50s/it]\n"
     ]
    },
    {
     "name": "stdout",
     "output_type": "stream",
     "text": [
      "Patient ID: PSMA-01-545 | Body part: Top | Rotation: 055\n",
      "Patient ID: PSMA-01-545 | Body part: Bottom | Rotation: 055\n"
     ]
    },
    {
     "name": "stderr",
     "output_type": "stream",
     "text": [
      "100%|██████████| 10/10 [08:46<00:00, 52.64s/it]\n"
     ]
    },
    {
     "name": "stdout",
     "output_type": "stream",
     "text": [
      "Patient ID: PSMA-01-545 | Body part: Top | Rotation: 060\n",
      "Patient ID: PSMA-01-545 | Body part: Bottom | Rotation: 060\n"
     ]
    },
    {
     "name": "stderr",
     "output_type": "stream",
     "text": [
      "100%|██████████| 10/10 [08:46<00:00, 52.61s/it]\n"
     ]
    },
    {
     "name": "stdout",
     "output_type": "stream",
     "text": [
      "Patient ID: PSMA-01-545 | Body part: Top | Rotation: 065\n",
      "Patient ID: PSMA-01-545 | Body part: Bottom | Rotation: 065\n"
     ]
    },
    {
     "name": "stderr",
     "output_type": "stream",
     "text": [
      "100%|██████████| 10/10 [08:47<00:00, 52.72s/it]\n"
     ]
    },
    {
     "name": "stdout",
     "output_type": "stream",
     "text": [
      "Patient ID: PSMA-01-545 | Body part: Top | Rotation: 070\n",
      "Patient ID: PSMA-01-545 | Body part: Bottom | Rotation: 070\n"
     ]
    },
    {
     "name": "stderr",
     "output_type": "stream",
     "text": [
      "100%|██████████| 10/10 [08:44<00:00, 52.46s/it]\n"
     ]
    },
    {
     "name": "stdout",
     "output_type": "stream",
     "text": [
      "Patient ID: PSMA-01-545 | Body part: Top | Rotation: 075\n",
      "Patient ID: PSMA-01-545 | Body part: Bottom | Rotation: 075\n"
     ]
    },
    {
     "name": "stderr",
     "output_type": "stream",
     "text": [
      "100%|██████████| 10/10 [08:48<00:00, 52.84s/it]\n"
     ]
    },
    {
     "name": "stdout",
     "output_type": "stream",
     "text": [
      "Patient ID: PSMA-01-545 | Body part: Top | Rotation: 080\n",
      "Patient ID: PSMA-01-545 | Body part: Bottom | Rotation: 080\n"
     ]
    },
    {
     "name": "stderr",
     "output_type": "stream",
     "text": [
      "100%|██████████| 10/10 [08:47<00:00, 52.77s/it]\n"
     ]
    },
    {
     "name": "stdout",
     "output_type": "stream",
     "text": [
      "Patient ID: PSMA-01-545 | Body part: Top | Rotation: 085\n",
      "Patient ID: PSMA-01-545 | Body part: Bottom | Rotation: 085\n"
     ]
    },
    {
     "name": "stderr",
     "output_type": "stream",
     "text": [
      "100%|██████████| 10/10 [08:43<00:00, 52.33s/it]\n"
     ]
    },
    {
     "name": "stdout",
     "output_type": "stream",
     "text": [
      "Patient ID: PSMA-01-545 | Body part: Top | Rotation: 090\n",
      "Patient ID: PSMA-01-545 | Body part: Bottom | Rotation: 090\n"
     ]
    },
    {
     "name": "stderr",
     "output_type": "stream",
     "text": [
      "100%|██████████| 10/10 [08:47<00:00, 52.72s/it]\n"
     ]
    },
    {
     "name": "stdout",
     "output_type": "stream",
     "text": [
      "Patient ID: PSMA-01-545 | Body part: Top | Rotation: 095\n",
      "Patient ID: PSMA-01-545 | Body part: Bottom | Rotation: 095\n"
     ]
    },
    {
     "name": "stderr",
     "output_type": "stream",
     "text": [
      "100%|██████████| 10/10 [09:01<00:00, 54.18s/it]\n"
     ]
    },
    {
     "name": "stdout",
     "output_type": "stream",
     "text": [
      "Patient ID: PSMA-01-545 | Body part: Top | Rotation: 100\n",
      "Patient ID: PSMA-01-545 | Body part: Bottom | Rotation: 100\n"
     ]
    },
    {
     "name": "stderr",
     "output_type": "stream",
     "text": [
      "100%|██████████| 10/10 [08:48<00:00, 52.82s/it]\n"
     ]
    },
    {
     "name": "stdout",
     "output_type": "stream",
     "text": [
      "Patient ID: PSMA-01-545 | Body part: Top | Rotation: 105\n",
      "Patient ID: PSMA-01-545 | Body part: Bottom | Rotation: 105\n"
     ]
    },
    {
     "name": "stderr",
     "output_type": "stream",
     "text": [
      "100%|██████████| 10/10 [08:45<00:00, 52.58s/it]\n"
     ]
    },
    {
     "name": "stdout",
     "output_type": "stream",
     "text": [
      "Patient ID: PSMA-01-545 | Body part: Top | Rotation: 110\n",
      "Patient ID: PSMA-01-545 | Body part: Bottom | Rotation: 110\n"
     ]
    },
    {
     "name": "stderr",
     "output_type": "stream",
     "text": [
      "100%|██████████| 10/10 [08:57<00:00, 53.75s/it]\n"
     ]
    },
    {
     "name": "stdout",
     "output_type": "stream",
     "text": [
      "Patient ID: PSMA-01-545 | Body part: Top | Rotation: 115\n",
      "Patient ID: PSMA-01-545 | Body part: Bottom | Rotation: 115\n"
     ]
    },
    {
     "name": "stderr",
     "output_type": "stream",
     "text": [
      "100%|██████████| 10/10 [08:47<00:00, 52.73s/it]\n"
     ]
    },
    {
     "name": "stdout",
     "output_type": "stream",
     "text": [
      "Patient ID: PSMA-01-545 | Body part: Top | Rotation: 120\n",
      "Patient ID: PSMA-01-545 | Body part: Bottom | Rotation: 120\n"
     ]
    },
    {
     "name": "stderr",
     "output_type": "stream",
     "text": [
      "100%|██████████| 10/10 [08:46<00:00, 52.66s/it]\n"
     ]
    },
    {
     "name": "stdout",
     "output_type": "stream",
     "text": [
      "Patient ID: PSMA-01-545 | Body part: Top | Rotation: 125\n",
      "Patient ID: PSMA-01-545 | Body part: Bottom | Rotation: 125\n"
     ]
    },
    {
     "name": "stderr",
     "output_type": "stream",
     "text": [
      "100%|██████████| 10/10 [08:46<00:00, 52.65s/it]\n"
     ]
    },
    {
     "name": "stdout",
     "output_type": "stream",
     "text": [
      "Patient ID: PSMA-01-545 | Body part: Top | Rotation: 130\n",
      "Patient ID: PSMA-01-545 | Body part: Bottom | Rotation: 130\n"
     ]
    },
    {
     "name": "stderr",
     "output_type": "stream",
     "text": [
      "100%|██████████| 10/10 [08:45<00:00, 52.52s/it]\n"
     ]
    },
    {
     "name": "stdout",
     "output_type": "stream",
     "text": [
      "Patient ID: PSMA-01-545 | Body part: Top | Rotation: 135\n",
      "Patient ID: PSMA-01-545 | Body part: Bottom | Rotation: 135\n"
     ]
    },
    {
     "name": "stderr",
     "output_type": "stream",
     "text": [
      "100%|██████████| 10/10 [08:47<00:00, 52.72s/it]\n"
     ]
    },
    {
     "name": "stdout",
     "output_type": "stream",
     "text": [
      "Patient ID: PSMA-01-545 | Body part: Top | Rotation: 140\n",
      "Patient ID: PSMA-01-545 | Body part: Bottom | Rotation: 140\n"
     ]
    },
    {
     "name": "stderr",
     "output_type": "stream",
     "text": [
      "100%|██████████| 10/10 [08:44<00:00, 52.45s/it]\n"
     ]
    },
    {
     "name": "stdout",
     "output_type": "stream",
     "text": [
      "Patient ID: PSMA-01-545 | Body part: Top | Rotation: 145\n",
      "Patient ID: PSMA-01-545 | Body part: Bottom | Rotation: 145\n"
     ]
    },
    {
     "name": "stderr",
     "output_type": "stream",
     "text": [
      "100%|██████████| 10/10 [08:47<00:00, 52.73s/it]\n"
     ]
    },
    {
     "name": "stdout",
     "output_type": "stream",
     "text": [
      "Patient ID: PSMA-01-545 | Body part: Top | Rotation: 150\n",
      "Patient ID: PSMA-01-545 | Body part: Bottom | Rotation: 150\n"
     ]
    },
    {
     "name": "stderr",
     "output_type": "stream",
     "text": [
      "100%|██████████| 10/10 [08:48<00:00, 52.86s/it]\n"
     ]
    },
    {
     "name": "stdout",
     "output_type": "stream",
     "text": [
      "Patient ID: PSMA-01-545 | Body part: Top | Rotation: 155\n",
      "Patient ID: PSMA-01-545 | Body part: Bottom | Rotation: 155\n"
     ]
    },
    {
     "name": "stderr",
     "output_type": "stream",
     "text": [
      "100%|██████████| 10/10 [08:43<00:00, 52.38s/it]\n"
     ]
    },
    {
     "name": "stdout",
     "output_type": "stream",
     "text": [
      "Patient ID: PSMA-01-545 | Body part: Top | Rotation: 160\n",
      "Patient ID: PSMA-01-545 | Body part: Bottom | Rotation: 160\n"
     ]
    },
    {
     "name": "stderr",
     "output_type": "stream",
     "text": [
      "100%|██████████| 10/10 [08:52<00:00, 53.20s/it]\n"
     ]
    },
    {
     "name": "stdout",
     "output_type": "stream",
     "text": [
      "Patient ID: PSMA-01-545 | Body part: Top | Rotation: 165\n",
      "Patient ID: PSMA-01-545 | Body part: Bottom | Rotation: 165\n"
     ]
    },
    {
     "name": "stderr",
     "output_type": "stream",
     "text": [
      "100%|██████████| 10/10 [08:44<00:00, 52.45s/it]\n"
     ]
    },
    {
     "name": "stdout",
     "output_type": "stream",
     "text": [
      "Patient ID: PSMA-01-545 | Body part: Top | Rotation: 170\n",
      "Patient ID: PSMA-01-545 | Body part: Bottom | Rotation: 170\n"
     ]
    },
    {
     "name": "stderr",
     "output_type": "stream",
     "text": [
      "100%|██████████| 10/10 [08:43<00:00, 52.38s/it]\n"
     ]
    },
    {
     "name": "stdout",
     "output_type": "stream",
     "text": [
      "Patient ID: PSMA-01-545 | Body part: Top | Rotation: 175\n",
      "Patient ID: PSMA-01-545 | Body part: Bottom | Rotation: 175\n"
     ]
    },
    {
     "name": "stderr",
     "output_type": "stream",
     "text": [
      "100%|██████████| 10/10 [08:47<00:00, 52.80s/it]\n"
     ]
    },
    {
     "name": "stdout",
     "output_type": "stream",
     "text": [
      "Patient ID: PSMA-01-545 | Body part: Top | Rotation: 180\n",
      "Patient ID: PSMA-01-545 | Body part: Bottom | Rotation: 180\n"
     ]
    },
    {
     "name": "stderr",
     "output_type": "stream",
     "text": [
      "100%|██████████| 10/10 [08:48<00:00, 52.86s/it]\n"
     ]
    },
    {
     "name": "stdout",
     "output_type": "stream",
     "text": [
      "Patient ID: PSMA-01-545 | Body part: Top | Rotation: 185\n",
      "Patient ID: PSMA-01-545 | Body part: Bottom | Rotation: 185\n"
     ]
    },
    {
     "name": "stderr",
     "output_type": "stream",
     "text": [
      "100%|██████████| 10/10 [08:46<00:00, 52.64s/it]\n"
     ]
    },
    {
     "name": "stdout",
     "output_type": "stream",
     "text": [
      "Patient ID: PSMA-01-545 | Body part: Top | Rotation: 190\n",
      "Patient ID: PSMA-01-545 | Body part: Bottom | Rotation: 190\n"
     ]
    },
    {
     "name": "stderr",
     "output_type": "stream",
     "text": [
      "100%|██████████| 10/10 [08:47<00:00, 52.76s/it]\n"
     ]
    },
    {
     "name": "stdout",
     "output_type": "stream",
     "text": [
      "Patient ID: PSMA-01-545 | Body part: Top | Rotation: 195\n",
      "Patient ID: PSMA-01-545 | Body part: Bottom | Rotation: 195\n"
     ]
    },
    {
     "name": "stderr",
     "output_type": "stream",
     "text": [
      "100%|██████████| 10/10 [09:01<00:00, 54.19s/it]\n"
     ]
    },
    {
     "name": "stdout",
     "output_type": "stream",
     "text": [
      "Patient ID: PSMA-01-545 | Body part: Top | Rotation: 200\n",
      "Patient ID: PSMA-01-545 | Body part: Bottom | Rotation: 200\n"
     ]
    },
    {
     "name": "stderr",
     "output_type": "stream",
     "text": [
      "100%|██████████| 10/10 [08:46<00:00, 52.66s/it]\n"
     ]
    },
    {
     "name": "stdout",
     "output_type": "stream",
     "text": [
      "Patient ID: PSMA-01-545 | Body part: Top | Rotation: 205\n",
      "Patient ID: PSMA-01-545 | Body part: Bottom | Rotation: 205\n"
     ]
    },
    {
     "name": "stderr",
     "output_type": "stream",
     "text": [
      "100%|██████████| 10/10 [08:45<00:00, 52.52s/it]\n"
     ]
    },
    {
     "name": "stdout",
     "output_type": "stream",
     "text": [
      "Patient ID: PSMA-01-545 | Body part: Top | Rotation: 210\n",
      "Patient ID: PSMA-01-545 | Body part: Bottom | Rotation: 210\n"
     ]
    },
    {
     "name": "stderr",
     "output_type": "stream",
     "text": [
      "100%|██████████| 10/10 [08:46<00:00, 52.67s/it]\n"
     ]
    },
    {
     "name": "stdout",
     "output_type": "stream",
     "text": [
      "Patient ID: PSMA-01-545 | Body part: Top | Rotation: 215\n",
      "Patient ID: PSMA-01-545 | Body part: Bottom | Rotation: 215\n"
     ]
    },
    {
     "name": "stderr",
     "output_type": "stream",
     "text": [
      "100%|██████████| 10/10 [08:47<00:00, 52.74s/it]\n"
     ]
    },
    {
     "name": "stdout",
     "output_type": "stream",
     "text": [
      "Patient ID: PSMA-01-545 | Body part: Top | Rotation: 220\n",
      "Patient ID: PSMA-01-545 | Body part: Bottom | Rotation: 220\n"
     ]
    },
    {
     "name": "stderr",
     "output_type": "stream",
     "text": [
      "100%|██████████| 10/10 [08:44<00:00, 52.43s/it]\n"
     ]
    },
    {
     "name": "stdout",
     "output_type": "stream",
     "text": [
      "Patient ID: PSMA-01-545 | Body part: Top | Rotation: 225\n",
      "Patient ID: PSMA-01-545 | Body part: Bottom | Rotation: 225\n"
     ]
    },
    {
     "name": "stderr",
     "output_type": "stream",
     "text": [
      "100%|██████████| 10/10 [08:46<00:00, 52.64s/it]\n"
     ]
    },
    {
     "name": "stdout",
     "output_type": "stream",
     "text": [
      "Patient ID: PSMA-01-545 | Body part: Top | Rotation: 230\n",
      "Patient ID: PSMA-01-545 | Body part: Bottom | Rotation: 230\n"
     ]
    },
    {
     "name": "stderr",
     "output_type": "stream",
     "text": [
      "100%|██████████| 10/10 [08:55<00:00, 53.56s/it]\n"
     ]
    },
    {
     "name": "stdout",
     "output_type": "stream",
     "text": [
      "Patient ID: PSMA-01-545 | Body part: Top | Rotation: 235\n",
      "Patient ID: PSMA-01-545 | Body part: Bottom | Rotation: 235\n"
     ]
    },
    {
     "name": "stderr",
     "output_type": "stream",
     "text": [
      "100%|██████████| 10/10 [08:46<00:00, 52.69s/it]\n"
     ]
    },
    {
     "name": "stdout",
     "output_type": "stream",
     "text": [
      "Patient ID: PSMA-01-545 | Body part: Top | Rotation: 240\n",
      "Patient ID: PSMA-01-545 | Body part: Bottom | Rotation: 240\n"
     ]
    },
    {
     "name": "stderr",
     "output_type": "stream",
     "text": [
      "100%|██████████| 10/10 [08:44<00:00, 52.49s/it]\n"
     ]
    },
    {
     "name": "stdout",
     "output_type": "stream",
     "text": [
      "Patient ID: PSMA-01-545 | Body part: Top | Rotation: 245\n",
      "Patient ID: PSMA-01-545 | Body part: Bottom | Rotation: 245\n"
     ]
    },
    {
     "name": "stderr",
     "output_type": "stream",
     "text": [
      "100%|██████████| 10/10 [08:44<00:00, 52.46s/it]\n"
     ]
    },
    {
     "name": "stdout",
     "output_type": "stream",
     "text": [
      "Patient ID: PSMA-01-545 | Body part: Top | Rotation: 250\n",
      "Patient ID: PSMA-01-545 | Body part: Bottom | Rotation: 250\n"
     ]
    },
    {
     "name": "stderr",
     "output_type": "stream",
     "text": [
      "100%|██████████| 10/10 [08:47<00:00, 52.75s/it]\n"
     ]
    },
    {
     "name": "stdout",
     "output_type": "stream",
     "text": [
      "Patient ID: PSMA-01-545 | Body part: Top | Rotation: 255\n",
      "Patient ID: PSMA-01-545 | Body part: Bottom | Rotation: 255\n"
     ]
    },
    {
     "name": "stderr",
     "output_type": "stream",
     "text": [
      "100%|██████████| 10/10 [08:43<00:00, 52.37s/it]\n"
     ]
    },
    {
     "name": "stdout",
     "output_type": "stream",
     "text": [
      "Patient ID: PSMA-01-545 | Body part: Top | Rotation: 260\n",
      "Patient ID: PSMA-01-545 | Body part: Bottom | Rotation: 260\n"
     ]
    },
    {
     "name": "stderr",
     "output_type": "stream",
     "text": [
      "100%|██████████| 10/10 [08:44<00:00, 52.47s/it]\n"
     ]
    },
    {
     "name": "stdout",
     "output_type": "stream",
     "text": [
      "Patient ID: PSMA-01-545 | Body part: Top | Rotation: 265\n",
      "Patient ID: PSMA-01-545 | Body part: Bottom | Rotation: 265\n"
     ]
    },
    {
     "name": "stderr",
     "output_type": "stream",
     "text": [
      "100%|██████████| 10/10 [08:47<00:00, 52.73s/it]\n"
     ]
    },
    {
     "name": "stdout",
     "output_type": "stream",
     "text": [
      "Patient ID: PSMA-01-545 | Body part: Top | Rotation: 270\n",
      "Patient ID: PSMA-01-545 | Body part: Bottom | Rotation: 270\n"
     ]
    },
    {
     "name": "stderr",
     "output_type": "stream",
     "text": [
      "100%|██████████| 10/10 [09:01<00:00, 54.12s/it]\n"
     ]
    },
    {
     "name": "stdout",
     "output_type": "stream",
     "text": [
      "Patient ID: PSMA-01-545 | Body part: Top | Rotation: 275\n",
      "Patient ID: PSMA-01-545 | Body part: Bottom | Rotation: 275\n"
     ]
    },
    {
     "name": "stderr",
     "output_type": "stream",
     "text": [
      "100%|██████████| 10/10 [09:03<00:00, 54.32s/it]\n"
     ]
    },
    {
     "name": "stdout",
     "output_type": "stream",
     "text": [
      "Patient ID: PSMA-01-545 | Body part: Top | Rotation: 280\n",
      "Patient ID: PSMA-01-545 | Body part: Bottom | Rotation: 280\n"
     ]
    },
    {
     "name": "stderr",
     "output_type": "stream",
     "text": [
      "100%|██████████| 10/10 [08:46<00:00, 52.68s/it]\n"
     ]
    },
    {
     "name": "stdout",
     "output_type": "stream",
     "text": [
      "Patient ID: PSMA-01-545 | Body part: Top | Rotation: 285\n",
      "Patient ID: PSMA-01-545 | Body part: Bottom | Rotation: 285\n"
     ]
    },
    {
     "name": "stderr",
     "output_type": "stream",
     "text": [
      "100%|██████████| 10/10 [08:44<00:00, 52.48s/it]\n"
     ]
    },
    {
     "name": "stdout",
     "output_type": "stream",
     "text": [
      "Patient ID: PSMA-01-545 | Body part: Top | Rotation: 290\n",
      "Patient ID: PSMA-01-545 | Body part: Bottom | Rotation: 290\n"
     ]
    },
    {
     "name": "stderr",
     "output_type": "stream",
     "text": [
      "100%|██████████| 10/10 [08:45<00:00, 52.60s/it]\n"
     ]
    },
    {
     "name": "stdout",
     "output_type": "stream",
     "text": [
      "Patient ID: PSMA-01-545 | Body part: Top | Rotation: 295\n",
      "Patient ID: PSMA-01-545 | Body part: Bottom | Rotation: 295\n"
     ]
    },
    {
     "name": "stderr",
     "output_type": "stream",
     "text": [
      "100%|██████████| 10/10 [08:46<00:00, 52.70s/it]\n"
     ]
    },
    {
     "name": "stdout",
     "output_type": "stream",
     "text": [
      "Patient ID: PSMA-01-545 | Body part: Top | Rotation: 300\n",
      "Patient ID: PSMA-01-545 | Body part: Bottom | Rotation: 300\n"
     ]
    },
    {
     "name": "stderr",
     "output_type": "stream",
     "text": [
      "100%|██████████| 10/10 [08:44<00:00, 52.50s/it]\n"
     ]
    },
    {
     "name": "stdout",
     "output_type": "stream",
     "text": [
      "Patient ID: PSMA-01-545 | Body part: Top | Rotation: 305\n",
      "Patient ID: PSMA-01-545 | Body part: Bottom | Rotation: 305\n"
     ]
    },
    {
     "name": "stderr",
     "output_type": "stream",
     "text": [
      "100%|██████████| 10/10 [08:46<00:00, 52.66s/it]\n"
     ]
    },
    {
     "name": "stdout",
     "output_type": "stream",
     "text": [
      "Patient ID: PSMA-01-545 | Body part: Top | Rotation: 310\n",
      "Patient ID: PSMA-01-545 | Body part: Bottom | Rotation: 310\n"
     ]
    },
    {
     "name": "stderr",
     "output_type": "stream",
     "text": [
      "100%|██████████| 10/10 [09:01<00:00, 54.12s/it]\n"
     ]
    },
    {
     "name": "stdout",
     "output_type": "stream",
     "text": [
      "Patient ID: PSMA-01-545 | Body part: Top | Rotation: 315\n",
      "Patient ID: PSMA-01-545 | Body part: Bottom | Rotation: 315\n"
     ]
    },
    {
     "name": "stderr",
     "output_type": "stream",
     "text": [
      "100%|██████████| 10/10 [08:45<00:00, 52.52s/it]\n"
     ]
    },
    {
     "name": "stdout",
     "output_type": "stream",
     "text": [
      "Patient ID: PSMA-01-545 | Body part: Top | Rotation: 320\n",
      "Patient ID: PSMA-01-545 | Body part: Bottom | Rotation: 320\n"
     ]
    },
    {
     "name": "stderr",
     "output_type": "stream",
     "text": [
      "100%|██████████| 10/10 [08:44<00:00, 52.42s/it]\n"
     ]
    },
    {
     "name": "stdout",
     "output_type": "stream",
     "text": [
      "Patient ID: PSMA-01-545 | Body part: Top | Rotation: 325\n",
      "Patient ID: PSMA-01-545 | Body part: Bottom | Rotation: 325\n"
     ]
    },
    {
     "name": "stderr",
     "output_type": "stream",
     "text": [
      "100%|██████████| 10/10 [08:47<00:00, 52.75s/it]\n"
     ]
    },
    {
     "name": "stdout",
     "output_type": "stream",
     "text": [
      "Patient ID: PSMA-01-545 | Body part: Top | Rotation: 330\n",
      "Patient ID: PSMA-01-545 | Body part: Bottom | Rotation: 330\n"
     ]
    },
    {
     "name": "stderr",
     "output_type": "stream",
     "text": [
      "100%|██████████| 10/10 [08:44<00:00, 52.49s/it]\n"
     ]
    },
    {
     "name": "stdout",
     "output_type": "stream",
     "text": [
      "Patient ID: PSMA-01-545 | Body part: Top | Rotation: 335\n",
      "Patient ID: PSMA-01-545 | Body part: Bottom | Rotation: 335\n"
     ]
    },
    {
     "name": "stderr",
     "output_type": "stream",
     "text": [
      "100%|██████████| 10/10 [08:47<00:00, 52.73s/it]\n"
     ]
    },
    {
     "name": "stdout",
     "output_type": "stream",
     "text": [
      "Patient ID: PSMA-01-545 | Body part: Top | Rotation: 340\n",
      "Patient ID: PSMA-01-545 | Body part: Bottom | Rotation: 340\n"
     ]
    },
    {
     "name": "stderr",
     "output_type": "stream",
     "text": [
      "100%|██████████| 10/10 [09:03<00:00, 54.40s/it]\n"
     ]
    },
    {
     "name": "stdout",
     "output_type": "stream",
     "text": [
      "Patient ID: PSMA-01-545 | Body part: Top | Rotation: 345\n",
      "Patient ID: PSMA-01-545 | Body part: Bottom | Rotation: 345\n"
     ]
    },
    {
     "name": "stderr",
     "output_type": "stream",
     "text": [
      "100%|██████████| 10/10 [08:47<00:00, 52.75s/it]\n"
     ]
    },
    {
     "name": "stdout",
     "output_type": "stream",
     "text": [
      "Patient ID: PSMA-01-545 | Body part: Top | Rotation: 350\n",
      "Patient ID: PSMA-01-545 | Body part: Bottom | Rotation: 350\n"
     ]
    },
    {
     "name": "stderr",
     "output_type": "stream",
     "text": [
      "100%|██████████| 10/10 [08:44<00:00, 52.43s/it]\n"
     ]
    },
    {
     "name": "stdout",
     "output_type": "stream",
     "text": [
      "Patient ID: PSMA-01-545 | Body part: Top | Rotation: 355\n",
      "Patient ID: PSMA-01-545 | Body part: Bottom | Rotation: 355\n"
     ]
    },
    {
     "name": "stderr",
     "output_type": "stream",
     "text": [
      "100%|██████████| 10/10 [08:50<00:00, 53.08s/it]\n"
     ]
    },
    {
     "name": "stdout",
     "output_type": "stream",
     "text": [
      "Patient ID: PSMA-01-457 | Body part: Top | Rotation: 000\n"
     ]
    },
    {
     "name": "stderr",
     "output_type": "stream",
     "text": [
      "100%|██████████| 10/10 [08:58<00:00, 53.85s/it]\n"
     ]
    },
    {
     "name": "stdout",
     "output_type": "stream",
     "text": [
      "Patient ID: PSMA-01-457 | Body part: Bottom | Rotation: 000\n",
      "Patient ID: PSMA-01-457 | Body part: Top | Rotation: 005\n"
     ]
    },
    {
     "name": "stderr",
     "output_type": "stream",
     "text": [
      "100%|██████████| 10/10 [08:44<00:00, 52.48s/it]\n"
     ]
    },
    {
     "name": "stdout",
     "output_type": "stream",
     "text": [
      "Patient ID: PSMA-01-457 | Body part: Bottom | Rotation: 005\n",
      "Patient ID: PSMA-01-457 | Body part: Top | Rotation: 010\n"
     ]
    },
    {
     "name": "stderr",
     "output_type": "stream",
     "text": [
      "100%|██████████| 10/10 [08:45<00:00, 52.59s/it]\n"
     ]
    },
    {
     "name": "stdout",
     "output_type": "stream",
     "text": [
      "Patient ID: PSMA-01-457 | Body part: Bottom | Rotation: 010\n",
      "Patient ID: PSMA-01-457 | Body part: Top | Rotation: 015\n"
     ]
    },
    {
     "name": "stderr",
     "output_type": "stream",
     "text": [
      "100%|██████████| 10/10 [08:45<00:00, 52.50s/it]\n"
     ]
    },
    {
     "name": "stdout",
     "output_type": "stream",
     "text": [
      "Patient ID: PSMA-01-457 | Body part: Bottom | Rotation: 015\n",
      "Patient ID: PSMA-01-457 | Body part: Top | Rotation: 020\n"
     ]
    },
    {
     "name": "stderr",
     "output_type": "stream",
     "text": [
      "100%|██████████| 10/10 [08:46<00:00, 52.65s/it]\n"
     ]
    },
    {
     "name": "stdout",
     "output_type": "stream",
     "text": [
      "Patient ID: PSMA-01-457 | Body part: Bottom | Rotation: 020\n",
      "Patient ID: PSMA-01-457 | Body part: Top | Rotation: 025\n"
     ]
    },
    {
     "name": "stderr",
     "output_type": "stream",
     "text": [
      "100%|██████████| 10/10 [08:43<00:00, 52.36s/it]\n"
     ]
    },
    {
     "name": "stdout",
     "output_type": "stream",
     "text": [
      "Patient ID: PSMA-01-457 | Body part: Bottom | Rotation: 025\n",
      "Patient ID: PSMA-01-457 | Body part: Top | Rotation: 030\n"
     ]
    },
    {
     "name": "stderr",
     "output_type": "stream",
     "text": [
      "100%|██████████| 10/10 [08:45<00:00, 52.53s/it]\n"
     ]
    },
    {
     "name": "stdout",
     "output_type": "stream",
     "text": [
      "Patient ID: PSMA-01-457 | Body part: Bottom | Rotation: 030\n",
      "Patient ID: PSMA-01-457 | Body part: Top | Rotation: 035\n"
     ]
    },
    {
     "name": "stderr",
     "output_type": "stream",
     "text": [
      "100%|██████████| 10/10 [08:44<00:00, 52.41s/it]\n"
     ]
    },
    {
     "name": "stdout",
     "output_type": "stream",
     "text": [
      "Patient ID: PSMA-01-457 | Body part: Bottom | Rotation: 035\n",
      "Patient ID: PSMA-01-457 | Body part: Top | Rotation: 040\n"
     ]
    },
    {
     "name": "stderr",
     "output_type": "stream",
     "text": [
      "100%|██████████| 10/10 [08:43<00:00, 52.37s/it]\n"
     ]
    },
    {
     "name": "stdout",
     "output_type": "stream",
     "text": [
      "Patient ID: PSMA-01-457 | Body part: Bottom | Rotation: 040\n",
      "Patient ID: PSMA-01-457 | Body part: Top | Rotation: 045\n"
     ]
    },
    {
     "name": "stderr",
     "output_type": "stream",
     "text": [
      "100%|██████████| 10/10 [08:51<00:00, 53.16s/it]\n"
     ]
    },
    {
     "name": "stdout",
     "output_type": "stream",
     "text": [
      "Patient ID: PSMA-01-457 | Body part: Bottom | Rotation: 045\n",
      "Patient ID: PSMA-01-457 | Body part: Top | Rotation: 050\n"
     ]
    },
    {
     "name": "stderr",
     "output_type": "stream",
     "text": [
      "100%|██████████| 10/10 [09:01<00:00, 54.18s/it]\n"
     ]
    },
    {
     "name": "stdout",
     "output_type": "stream",
     "text": [
      "Patient ID: PSMA-01-457 | Body part: Bottom | Rotation: 050\n",
      "Patient ID: PSMA-01-457 | Body part: Top | Rotation: 055\n"
     ]
    },
    {
     "name": "stderr",
     "output_type": "stream",
     "text": [
      "100%|██████████| 10/10 [08:45<00:00, 52.56s/it]\n"
     ]
    },
    {
     "name": "stdout",
     "output_type": "stream",
     "text": [
      "Patient ID: PSMA-01-457 | Body part: Bottom | Rotation: 055\n",
      "Patient ID: PSMA-01-457 | Body part: Top | Rotation: 060\n"
     ]
    },
    {
     "name": "stderr",
     "output_type": "stream",
     "text": [
      "100%|██████████| 10/10 [08:57<00:00, 53.77s/it]\n"
     ]
    },
    {
     "name": "stdout",
     "output_type": "stream",
     "text": [
      "Patient ID: PSMA-01-457 | Body part: Bottom | Rotation: 060\n",
      "Patient ID: PSMA-01-457 | Body part: Top | Rotation: 065\n"
     ]
    },
    {
     "name": "stderr",
     "output_type": "stream",
     "text": [
      "100%|██████████| 10/10 [08:46<00:00, 52.64s/it]\n"
     ]
    },
    {
     "name": "stdout",
     "output_type": "stream",
     "text": [
      "Patient ID: PSMA-01-457 | Body part: Bottom | Rotation: 065\n",
      "Patient ID: PSMA-01-457 | Body part: Top | Rotation: 070\n"
     ]
    },
    {
     "name": "stderr",
     "output_type": "stream",
     "text": [
      "100%|██████████| 10/10 [08:47<00:00, 52.74s/it]\n"
     ]
    },
    {
     "name": "stdout",
     "output_type": "stream",
     "text": [
      "Patient ID: PSMA-01-457 | Body part: Bottom | Rotation: 070\n",
      "Patient ID: PSMA-01-457 | Body part: Top | Rotation: 075\n"
     ]
    },
    {
     "name": "stderr",
     "output_type": "stream",
     "text": [
      "100%|██████████| 10/10 [08:44<00:00, 52.50s/it]\n"
     ]
    },
    {
     "name": "stdout",
     "output_type": "stream",
     "text": [
      "Patient ID: PSMA-01-457 | Body part: Bottom | Rotation: 075\n",
      "Patient ID: PSMA-01-457 | Body part: Top | Rotation: 080\n"
     ]
    },
    {
     "name": "stderr",
     "output_type": "stream",
     "text": [
      "100%|██████████| 10/10 [08:45<00:00, 52.59s/it]\n"
     ]
    },
    {
     "name": "stdout",
     "output_type": "stream",
     "text": [
      "Patient ID: PSMA-01-457 | Body part: Bottom | Rotation: 080\n",
      "Patient ID: PSMA-01-457 | Body part: Top | Rotation: 085\n"
     ]
    },
    {
     "name": "stderr",
     "output_type": "stream",
     "text": [
      "100%|██████████| 10/10 [08:49<00:00, 52.94s/it]\n"
     ]
    },
    {
     "name": "stdout",
     "output_type": "stream",
     "text": [
      "Patient ID: PSMA-01-457 | Body part: Bottom | Rotation: 085\n",
      "Patient ID: PSMA-01-457 | Body part: Top | Rotation: 090\n"
     ]
    },
    {
     "name": "stderr",
     "output_type": "stream",
     "text": [
      "100%|██████████| 10/10 [08:44<00:00, 52.41s/it]\n"
     ]
    },
    {
     "name": "stdout",
     "output_type": "stream",
     "text": [
      "Patient ID: PSMA-01-457 | Body part: Bottom | Rotation: 090\n",
      "Patient ID: PSMA-01-457 | Body part: Top | Rotation: 095\n"
     ]
    },
    {
     "name": "stderr",
     "output_type": "stream",
     "text": [
      "100%|██████████| 10/10 [08:48<00:00, 52.84s/it]\n"
     ]
    },
    {
     "name": "stdout",
     "output_type": "stream",
     "text": [
      "Patient ID: PSMA-01-457 | Body part: Bottom | Rotation: 095\n",
      "Patient ID: PSMA-01-457 | Body part: Top | Rotation: 100\n"
     ]
    },
    {
     "name": "stderr",
     "output_type": "stream",
     "text": [
      "100%|██████████| 10/10 [08:43<00:00, 52.38s/it]\n"
     ]
    },
    {
     "name": "stdout",
     "output_type": "stream",
     "text": [
      "Patient ID: PSMA-01-457 | Body part: Bottom | Rotation: 100\n",
      "Patient ID: PSMA-01-457 | Body part: Top | Rotation: 105\n"
     ]
    },
    {
     "name": "stderr",
     "output_type": "stream",
     "text": [
      "100%|██████████| 10/10 [08:47<00:00, 52.73s/it]\n"
     ]
    },
    {
     "name": "stdout",
     "output_type": "stream",
     "text": [
      "Patient ID: PSMA-01-457 | Body part: Bottom | Rotation: 105\n",
      "Patient ID: PSMA-01-457 | Body part: Top | Rotation: 110\n"
     ]
    },
    {
     "name": "stderr",
     "output_type": "stream",
     "text": [
      "100%|██████████| 10/10 [09:01<00:00, 54.15s/it]\n"
     ]
    },
    {
     "name": "stdout",
     "output_type": "stream",
     "text": [
      "Patient ID: PSMA-01-457 | Body part: Bottom | Rotation: 110\n",
      "Patient ID: PSMA-01-457 | Body part: Top | Rotation: 115\n"
     ]
    },
    {
     "name": "stderr",
     "output_type": "stream",
     "text": [
      "100%|██████████| 10/10 [08:45<00:00, 52.53s/it]\n"
     ]
    },
    {
     "name": "stdout",
     "output_type": "stream",
     "text": [
      "Patient ID: PSMA-01-457 | Body part: Bottom | Rotation: 115\n",
      "Patient ID: PSMA-01-457 | Body part: Top | Rotation: 120\n"
     ]
    },
    {
     "name": "stderr",
     "output_type": "stream",
     "text": [
      "100%|██████████| 10/10 [08:45<00:00, 52.57s/it]\n"
     ]
    },
    {
     "name": "stdout",
     "output_type": "stream",
     "text": [
      "Patient ID: PSMA-01-457 | Body part: Bottom | Rotation: 120\n",
      "Patient ID: PSMA-01-457 | Body part: Top | Rotation: 125\n"
     ]
    },
    {
     "name": "stderr",
     "output_type": "stream",
     "text": [
      "100%|██████████| 10/10 [08:47<00:00, 52.74s/it]\n"
     ]
    },
    {
     "name": "stdout",
     "output_type": "stream",
     "text": [
      "Patient ID: PSMA-01-457 | Body part: Bottom | Rotation: 125\n",
      "Patient ID: PSMA-01-457 | Body part: Top | Rotation: 130\n"
     ]
    },
    {
     "name": "stderr",
     "output_type": "stream",
     "text": [
      "100%|██████████| 10/10 [08:54<00:00, 53.43s/it]\n"
     ]
    },
    {
     "name": "stdout",
     "output_type": "stream",
     "text": [
      "Patient ID: PSMA-01-457 | Body part: Bottom | Rotation: 130\n",
      "Patient ID: PSMA-01-457 | Body part: Top | Rotation: 135\n"
     ]
    },
    {
     "name": "stderr",
     "output_type": "stream",
     "text": [
      "100%|██████████| 10/10 [08:54<00:00, 53.40s/it]\n"
     ]
    },
    {
     "name": "stdout",
     "output_type": "stream",
     "text": [
      "Patient ID: PSMA-01-457 | Body part: Bottom | Rotation: 135\n",
      "Patient ID: PSMA-01-457 | Body part: Top | Rotation: 140\n"
     ]
    },
    {
     "name": "stderr",
     "output_type": "stream",
     "text": [
      "100%|██████████| 10/10 [08:47<00:00, 52.80s/it]\n"
     ]
    },
    {
     "name": "stdout",
     "output_type": "stream",
     "text": [
      "Patient ID: PSMA-01-457 | Body part: Bottom | Rotation: 140\n",
      "Patient ID: PSMA-01-457 | Body part: Top | Rotation: 145\n"
     ]
    },
    {
     "name": "stderr",
     "output_type": "stream",
     "text": [
      "100%|██████████| 10/10 [08:44<00:00, 52.46s/it]\n"
     ]
    },
    {
     "name": "stdout",
     "output_type": "stream",
     "text": [
      "Patient ID: PSMA-01-457 | Body part: Bottom | Rotation: 145\n",
      "Patient ID: PSMA-01-457 | Body part: Top | Rotation: 150\n"
     ]
    },
    {
     "name": "stderr",
     "output_type": "stream",
     "text": [
      "100%|██████████| 10/10 [08:44<00:00, 52.40s/it]\n"
     ]
    },
    {
     "name": "stdout",
     "output_type": "stream",
     "text": [
      "Patient ID: PSMA-01-457 | Body part: Bottom | Rotation: 150\n",
      "Patient ID: PSMA-01-457 | Body part: Top | Rotation: 155\n"
     ]
    },
    {
     "name": "stderr",
     "output_type": "stream",
     "text": [
      "100%|██████████| 10/10 [08:47<00:00, 52.70s/it]\n"
     ]
    },
    {
     "name": "stdout",
     "output_type": "stream",
     "text": [
      "Patient ID: PSMA-01-457 | Body part: Bottom | Rotation: 155\n",
      "Patient ID: PSMA-01-457 | Body part: Top | Rotation: 160\n"
     ]
    },
    {
     "name": "stderr",
     "output_type": "stream",
     "text": [
      "100%|██████████| 10/10 [08:44<00:00, 52.44s/it]\n"
     ]
    },
    {
     "name": "stdout",
     "output_type": "stream",
     "text": [
      "Patient ID: PSMA-01-457 | Body part: Bottom | Rotation: 160\n",
      "Patient ID: PSMA-01-457 | Body part: Top | Rotation: 165\n"
     ]
    },
    {
     "name": "stderr",
     "output_type": "stream",
     "text": [
      "100%|██████████| 10/10 [08:48<00:00, 52.81s/it]\n"
     ]
    },
    {
     "name": "stdout",
     "output_type": "stream",
     "text": [
      "Patient ID: PSMA-01-457 | Body part: Bottom | Rotation: 165\n",
      "Patient ID: PSMA-01-457 | Body part: Top | Rotation: 170\n"
     ]
    },
    {
     "name": "stderr",
     "output_type": "stream",
     "text": [
      "100%|██████████| 10/10 [08:44<00:00, 52.42s/it]\n"
     ]
    },
    {
     "name": "stdout",
     "output_type": "stream",
     "text": [
      "Patient ID: PSMA-01-457 | Body part: Bottom | Rotation: 170\n",
      "Patient ID: PSMA-01-457 | Body part: Top | Rotation: 175\n"
     ]
    },
    {
     "name": "stderr",
     "output_type": "stream",
     "text": [
      "100%|██████████| 10/10 [08:43<00:00, 52.38s/it]\n"
     ]
    },
    {
     "name": "stdout",
     "output_type": "stream",
     "text": [
      "Patient ID: PSMA-01-457 | Body part: Bottom | Rotation: 175\n",
      "Patient ID: PSMA-01-457 | Body part: Top | Rotation: 180\n"
     ]
    },
    {
     "name": "stderr",
     "output_type": "stream",
     "text": [
      "100%|██████████| 10/10 [08:45<00:00, 52.54s/it]\n"
     ]
    },
    {
     "name": "stdout",
     "output_type": "stream",
     "text": [
      "Patient ID: PSMA-01-457 | Body part: Bottom | Rotation: 180\n",
      "Patient ID: PSMA-01-457 | Body part: Top | Rotation: 185\n"
     ]
    },
    {
     "name": "stderr",
     "output_type": "stream",
     "text": [
      "100%|██████████| 10/10 [08:43<00:00, 52.37s/it]\n"
     ]
    },
    {
     "name": "stdout",
     "output_type": "stream",
     "text": [
      "Patient ID: PSMA-01-457 | Body part: Bottom | Rotation: 185\n",
      "Patient ID: PSMA-01-457 | Body part: Top | Rotation: 190\n"
     ]
    },
    {
     "name": "stderr",
     "output_type": "stream",
     "text": [
      "100%|██████████| 10/10 [08:47<00:00, 52.75s/it]\n"
     ]
    },
    {
     "name": "stdout",
     "output_type": "stream",
     "text": [
      "Patient ID: PSMA-01-457 | Body part: Bottom | Rotation: 190\n",
      "Patient ID: PSMA-01-457 | Body part: Top | Rotation: 195\n"
     ]
    },
    {
     "name": "stderr",
     "output_type": "stream",
     "text": [
      "100%|██████████| 10/10 [08:47<00:00, 52.80s/it]\n"
     ]
    },
    {
     "name": "stdout",
     "output_type": "stream",
     "text": [
      "Patient ID: PSMA-01-457 | Body part: Bottom | Rotation: 195\n",
      "Patient ID: PSMA-01-457 | Body part: Top | Rotation: 200\n"
     ]
    },
    {
     "name": "stderr",
     "output_type": "stream",
     "text": [
      "100%|██████████| 10/10 [08:44<00:00, 52.44s/it]\n"
     ]
    },
    {
     "name": "stdout",
     "output_type": "stream",
     "text": [
      "Patient ID: PSMA-01-457 | Body part: Bottom | Rotation: 200\n",
      "Patient ID: PSMA-01-457 | Body part: Top | Rotation: 205\n"
     ]
    },
    {
     "name": "stderr",
     "output_type": "stream",
     "text": [
      "100%|██████████| 10/10 [08:56<00:00, 53.68s/it]\n"
     ]
    },
    {
     "name": "stdout",
     "output_type": "stream",
     "text": [
      "Patient ID: PSMA-01-457 | Body part: Bottom | Rotation: 205\n",
      "Patient ID: PSMA-01-457 | Body part: Top | Rotation: 210\n"
     ]
    },
    {
     "name": "stderr",
     "output_type": "stream",
     "text": [
      "100%|██████████| 10/10 [08:46<00:00, 52.69s/it]\n"
     ]
    },
    {
     "name": "stdout",
     "output_type": "stream",
     "text": [
      "Patient ID: PSMA-01-457 | Body part: Bottom | Rotation: 210\n",
      "Patient ID: PSMA-01-457 | Body part: Top | Rotation: 215\n"
     ]
    },
    {
     "name": "stderr",
     "output_type": "stream",
     "text": [
      "100%|██████████| 10/10 [08:43<00:00, 52.39s/it]\n"
     ]
    },
    {
     "name": "stdout",
     "output_type": "stream",
     "text": [
      "Patient ID: PSMA-01-457 | Body part: Bottom | Rotation: 215\n",
      "Patient ID: PSMA-01-457 | Body part: Top | Rotation: 220\n"
     ]
    },
    {
     "name": "stderr",
     "output_type": "stream",
     "text": [
      "100%|██████████| 10/10 [08:44<00:00, 52.41s/it]\n"
     ]
    },
    {
     "name": "stdout",
     "output_type": "stream",
     "text": [
      "Patient ID: PSMA-01-457 | Body part: Bottom | Rotation: 220\n",
      "Patient ID: PSMA-01-457 | Body part: Top | Rotation: 225\n"
     ]
    },
    {
     "name": "stderr",
     "output_type": "stream",
     "text": [
      "100%|██████████| 10/10 [09:03<00:00, 54.32s/it]\n"
     ]
    },
    {
     "name": "stdout",
     "output_type": "stream",
     "text": [
      "Patient ID: PSMA-01-457 | Body part: Bottom | Rotation: 225\n",
      "Patient ID: PSMA-01-457 | Body part: Top | Rotation: 230\n"
     ]
    },
    {
     "name": "stderr",
     "output_type": "stream",
     "text": [
      "100%|██████████| 10/10 [08:43<00:00, 52.38s/it]\n"
     ]
    },
    {
     "name": "stdout",
     "output_type": "stream",
     "text": [
      "Patient ID: PSMA-01-457 | Body part: Bottom | Rotation: 230\n",
      "Patient ID: PSMA-01-457 | Body part: Top | Rotation: 235\n"
     ]
    },
    {
     "name": "stderr",
     "output_type": "stream",
     "text": [
      "100%|██████████| 10/10 [08:44<00:00, 52.42s/it]\n"
     ]
    },
    {
     "name": "stdout",
     "output_type": "stream",
     "text": [
      "Patient ID: PSMA-01-457 | Body part: Bottom | Rotation: 235\n",
      "Patient ID: PSMA-01-457 | Body part: Top | Rotation: 240\n"
     ]
    },
    {
     "name": "stderr",
     "output_type": "stream",
     "text": [
      "100%|██████████| 10/10 [08:46<00:00, 52.70s/it]\n"
     ]
    },
    {
     "name": "stdout",
     "output_type": "stream",
     "text": [
      "Patient ID: PSMA-01-457 | Body part: Bottom | Rotation: 240\n",
      "Patient ID: PSMA-01-457 | Body part: Top | Rotation: 245\n"
     ]
    },
    {
     "name": "stderr",
     "output_type": "stream",
     "text": [
      "100%|██████████| 10/10 [08:45<00:00, 52.57s/it]\n"
     ]
    },
    {
     "name": "stdout",
     "output_type": "stream",
     "text": [
      "Patient ID: PSMA-01-457 | Body part: Bottom | Rotation: 245\n",
      "Patient ID: PSMA-01-457 | Body part: Top | Rotation: 250\n"
     ]
    },
    {
     "name": "stderr",
     "output_type": "stream",
     "text": [
      "100%|██████████| 10/10 [08:43<00:00, 52.38s/it]\n"
     ]
    },
    {
     "name": "stdout",
     "output_type": "stream",
     "text": [
      "Patient ID: PSMA-01-457 | Body part: Bottom | Rotation: 250\n",
      "Patient ID: PSMA-01-457 | Body part: Top | Rotation: 255\n"
     ]
    },
    {
     "name": "stderr",
     "output_type": "stream",
     "text": [
      "100%|██████████| 10/10 [09:04<00:00, 54.41s/it]\n"
     ]
    },
    {
     "name": "stdout",
     "output_type": "stream",
     "text": [
      "Patient ID: PSMA-01-457 | Body part: Bottom | Rotation: 255\n",
      "Patient ID: PSMA-01-457 | Body part: Top | Rotation: 260\n"
     ]
    },
    {
     "name": "stderr",
     "output_type": "stream",
     "text": [
      "100%|██████████| 10/10 [08:46<00:00, 52.69s/it]\n"
     ]
    },
    {
     "name": "stdout",
     "output_type": "stream",
     "text": [
      "Patient ID: PSMA-01-457 | Body part: Bottom | Rotation: 260\n",
      "Patient ID: PSMA-01-457 | Body part: Top | Rotation: 265\n"
     ]
    },
    {
     "name": "stderr",
     "output_type": "stream",
     "text": [
      "100%|██████████| 10/10 [08:50<00:00, 53.07s/it]\n"
     ]
    },
    {
     "name": "stdout",
     "output_type": "stream",
     "text": [
      "Patient ID: PSMA-01-457 | Body part: Bottom | Rotation: 265\n",
      "Patient ID: PSMA-01-457 | Body part: Top | Rotation: 270\n"
     ]
    },
    {
     "name": "stderr",
     "output_type": "stream",
     "text": [
      "100%|██████████| 10/10 [08:44<00:00, 52.43s/it]\n"
     ]
    },
    {
     "name": "stdout",
     "output_type": "stream",
     "text": [
      "Patient ID: PSMA-01-457 | Body part: Bottom | Rotation: 270\n",
      "Patient ID: PSMA-01-457 | Body part: Top | Rotation: 275\n"
     ]
    },
    {
     "name": "stderr",
     "output_type": "stream",
     "text": [
      "100%|██████████| 10/10 [08:46<00:00, 52.63s/it]\n"
     ]
    },
    {
     "name": "stdout",
     "output_type": "stream",
     "text": [
      "Patient ID: PSMA-01-457 | Body part: Bottom | Rotation: 275\n",
      "Patient ID: PSMA-01-457 | Body part: Top | Rotation: 280\n"
     ]
    },
    {
     "name": "stderr",
     "output_type": "stream",
     "text": [
      "100%|██████████| 10/10 [08:45<00:00, 52.54s/it]\n"
     ]
    },
    {
     "name": "stdout",
     "output_type": "stream",
     "text": [
      "Patient ID: PSMA-01-457 | Body part: Bottom | Rotation: 280\n",
      "Patient ID: PSMA-01-457 | Body part: Top | Rotation: 285\n"
     ]
    },
    {
     "name": "stderr",
     "output_type": "stream",
     "text": [
      "100%|██████████| 10/10 [08:43<00:00, 52.39s/it]\n"
     ]
    },
    {
     "name": "stdout",
     "output_type": "stream",
     "text": [
      "Patient ID: PSMA-01-457 | Body part: Bottom | Rotation: 285\n",
      "Patient ID: PSMA-01-457 | Body part: Top | Rotation: 290\n"
     ]
    },
    {
     "name": "stderr",
     "output_type": "stream",
     "text": [
      "100%|██████████| 10/10 [09:01<00:00, 54.18s/it]\n"
     ]
    },
    {
     "name": "stdout",
     "output_type": "stream",
     "text": [
      "Patient ID: PSMA-01-457 | Body part: Bottom | Rotation: 290\n",
      "Patient ID: PSMA-01-457 | Body part: Top | Rotation: 295\n"
     ]
    },
    {
     "name": "stderr",
     "output_type": "stream",
     "text": [
      "100%|██████████| 10/10 [08:47<00:00, 52.74s/it]\n"
     ]
    },
    {
     "name": "stdout",
     "output_type": "stream",
     "text": [
      "Patient ID: PSMA-01-457 | Body part: Bottom | Rotation: 295\n",
      "Patient ID: PSMA-01-457 | Body part: Top | Rotation: 300\n"
     ]
    },
    {
     "name": "stderr",
     "output_type": "stream",
     "text": [
      "100%|██████████| 10/10 [09:00<00:00, 54.00s/it]\n"
     ]
    },
    {
     "name": "stdout",
     "output_type": "stream",
     "text": [
      "Patient ID: PSMA-01-457 | Body part: Bottom | Rotation: 300\n",
      "Patient ID: PSMA-01-457 | Body part: Top | Rotation: 305\n"
     ]
    },
    {
     "name": "stderr",
     "output_type": "stream",
     "text": [
      "100%|██████████| 10/10 [08:47<00:00, 52.74s/it]\n"
     ]
    },
    {
     "name": "stdout",
     "output_type": "stream",
     "text": [
      "Patient ID: PSMA-01-457 | Body part: Bottom | Rotation: 305\n",
      "Patient ID: PSMA-01-457 | Body part: Top | Rotation: 310\n"
     ]
    },
    {
     "name": "stderr",
     "output_type": "stream",
     "text": [
      "100%|██████████| 10/10 [08:43<00:00, 52.31s/it]\n"
     ]
    },
    {
     "name": "stdout",
     "output_type": "stream",
     "text": [
      "Patient ID: PSMA-01-457 | Body part: Bottom | Rotation: 310\n",
      "Patient ID: PSMA-01-457 | Body part: Top | Rotation: 315\n"
     ]
    },
    {
     "name": "stderr",
     "output_type": "stream",
     "text": [
      "100%|██████████| 10/10 [08:46<00:00, 52.63s/it]\n"
     ]
    },
    {
     "name": "stdout",
     "output_type": "stream",
     "text": [
      "Patient ID: PSMA-01-457 | Body part: Bottom | Rotation: 315\n",
      "Patient ID: PSMA-01-457 | Body part: Top | Rotation: 320\n"
     ]
    },
    {
     "name": "stderr",
     "output_type": "stream",
     "text": [
      "100%|██████████| 10/10 [08:44<00:00, 52.47s/it]\n"
     ]
    },
    {
     "name": "stdout",
     "output_type": "stream",
     "text": [
      "Patient ID: PSMA-01-457 | Body part: Bottom | Rotation: 320\n",
      "Patient ID: PSMA-01-457 | Body part: Top | Rotation: 325\n"
     ]
    },
    {
     "name": "stderr",
     "output_type": "stream",
     "text": [
      "100%|██████████| 10/10 [08:44<00:00, 52.46s/it]\n"
     ]
    },
    {
     "name": "stdout",
     "output_type": "stream",
     "text": [
      "Patient ID: PSMA-01-457 | Body part: Bottom | Rotation: 325\n",
      "Patient ID: PSMA-01-457 | Body part: Top | Rotation: 330\n"
     ]
    },
    {
     "name": "stderr",
     "output_type": "stream",
     "text": [
      "100%|██████████| 10/10 [08:46<00:00, 52.65s/it]\n"
     ]
    },
    {
     "name": "stdout",
     "output_type": "stream",
     "text": [
      "Patient ID: PSMA-01-457 | Body part: Bottom | Rotation: 330\n",
      "Patient ID: PSMA-01-457 | Body part: Top | Rotation: 335\n"
     ]
    },
    {
     "name": "stderr",
     "output_type": "stream",
     "text": [
      "100%|██████████| 10/10 [08:43<00:00, 52.38s/it]\n"
     ]
    },
    {
     "name": "stdout",
     "output_type": "stream",
     "text": [
      "Patient ID: PSMA-01-457 | Body part: Bottom | Rotation: 335\n",
      "Patient ID: PSMA-01-457 | Body part: Top | Rotation: 340\n"
     ]
    },
    {
     "name": "stderr",
     "output_type": "stream",
     "text": [
      "100%|██████████| 10/10 [08:44<00:00, 52.42s/it]\n"
     ]
    },
    {
     "name": "stdout",
     "output_type": "stream",
     "text": [
      "Patient ID: PSMA-01-457 | Body part: Bottom | Rotation: 340\n",
      "Patient ID: PSMA-01-457 | Body part: Top | Rotation: 345\n"
     ]
    },
    {
     "name": "stderr",
     "output_type": "stream",
     "text": [
      "100%|██████████| 10/10 [08:45<00:00, 52.51s/it]\n"
     ]
    },
    {
     "name": "stdout",
     "output_type": "stream",
     "text": [
      "Patient ID: PSMA-01-457 | Body part: Bottom | Rotation: 345\n",
      "Patient ID: PSMA-01-457 | Body part: Top | Rotation: 350\n"
     ]
    },
    {
     "name": "stderr",
     "output_type": "stream",
     "text": [
      "100%|██████████| 10/10 [08:47<00:00, 52.79s/it]\n"
     ]
    },
    {
     "name": "stdout",
     "output_type": "stream",
     "text": [
      "Patient ID: PSMA-01-457 | Body part: Bottom | Rotation: 350\n",
      "Patient ID: PSMA-01-457 | Body part: Top | Rotation: 355\n"
     ]
    },
    {
     "name": "stderr",
     "output_type": "stream",
     "text": [
      "100%|██████████| 10/10 [08:43<00:00, 52.33s/it]\n"
     ]
    },
    {
     "name": "stdout",
     "output_type": "stream",
     "text": [
      "Patient ID: PSMA-01-457 | Body part: Bottom | Rotation: 355\n",
      "Patient ID: PSMA-01-188 | Body part: Top | Rotation: 000\n",
      "Patient ID: PSMA-01-188 | Body part: Bottom | Rotation: 000\n"
     ]
    },
    {
     "name": "stderr",
     "output_type": "stream",
     "text": [
      "100%|██████████| 10/10 [08:47<00:00, 52.78s/it]\n"
     ]
    },
    {
     "name": "stdout",
     "output_type": "stream",
     "text": [
      "Patient ID: PSMA-01-188 | Body part: Top | Rotation: 005\n",
      "Patient ID: PSMA-01-188 | Body part: Bottom | Rotation: 005\n"
     ]
    },
    {
     "name": "stderr",
     "output_type": "stream",
     "text": [
      "100%|██████████| 10/10 [08:47<00:00, 52.75s/it]\n"
     ]
    },
    {
     "name": "stdout",
     "output_type": "stream",
     "text": [
      "Patient ID: PSMA-01-188 | Body part: Top | Rotation: 010\n",
      "Patient ID: PSMA-01-188 | Body part: Bottom | Rotation: 010\n"
     ]
    },
    {
     "name": "stderr",
     "output_type": "stream",
     "text": [
      "100%|██████████| 10/10 [08:44<00:00, 52.44s/it]\n"
     ]
    },
    {
     "name": "stdout",
     "output_type": "stream",
     "text": [
      "Patient ID: PSMA-01-188 | Body part: Top | Rotation: 015\n",
      "Patient ID: PSMA-01-188 | Body part: Bottom | Rotation: 015\n"
     ]
    },
    {
     "name": "stderr",
     "output_type": "stream",
     "text": [
      "100%|██████████| 10/10 [08:47<00:00, 52.77s/it]\n"
     ]
    },
    {
     "name": "stdout",
     "output_type": "stream",
     "text": [
      "Patient ID: PSMA-01-188 | Body part: Top | Rotation: 020\n",
      "Patient ID: PSMA-01-188 | Body part: Bottom | Rotation: 020\n"
     ]
    },
    {
     "name": "stderr",
     "output_type": "stream",
     "text": [
      "100%|██████████| 10/10 [08:44<00:00, 52.41s/it]\n"
     ]
    },
    {
     "name": "stdout",
     "output_type": "stream",
     "text": [
      "Patient ID: PSMA-01-188 | Body part: Top | Rotation: 025\n",
      "Patient ID: PSMA-01-188 | Body part: Bottom | Rotation: 025\n"
     ]
    },
    {
     "name": "stderr",
     "output_type": "stream",
     "text": [
      "100%|██████████| 10/10 [08:45<00:00, 52.58s/it]\n"
     ]
    },
    {
     "name": "stdout",
     "output_type": "stream",
     "text": [
      "Patient ID: PSMA-01-188 | Body part: Top | Rotation: 030\n",
      "Patient ID: PSMA-01-188 | Body part: Bottom | Rotation: 030\n"
     ]
    },
    {
     "name": "stderr",
     "output_type": "stream",
     "text": [
      "100%|██████████| 10/10 [08:44<00:00, 52.45s/it]\n"
     ]
    },
    {
     "name": "stdout",
     "output_type": "stream",
     "text": [
      "Patient ID: PSMA-01-188 | Body part: Top | Rotation: 035\n",
      "Patient ID: PSMA-01-188 | Body part: Bottom | Rotation: 035\n"
     ]
    },
    {
     "name": "stderr",
     "output_type": "stream",
     "text": [
      "100%|██████████| 10/10 [08:56<00:00, 53.64s/it]\n"
     ]
    },
    {
     "name": "stdout",
     "output_type": "stream",
     "text": [
      "Patient ID: PSMA-01-188 | Body part: Top | Rotation: 040\n",
      "Patient ID: PSMA-01-188 | Body part: Bottom | Rotation: 040\n"
     ]
    },
    {
     "name": "stderr",
     "output_type": "stream",
     "text": [
      "100%|██████████| 10/10 [08:45<00:00, 52.56s/it]\n"
     ]
    },
    {
     "name": "stdout",
     "output_type": "stream",
     "text": [
      "Patient ID: PSMA-01-188 | Body part: Top | Rotation: 045\n",
      "Patient ID: PSMA-01-188 | Body part: Bottom | Rotation: 045\n"
     ]
    },
    {
     "name": "stderr",
     "output_type": "stream",
     "text": [
      "100%|██████████| 10/10 [08:43<00:00, 52.37s/it]\n"
     ]
    },
    {
     "name": "stdout",
     "output_type": "stream",
     "text": [
      "Patient ID: PSMA-01-188 | Body part: Top | Rotation: 050\n",
      "Patient ID: PSMA-01-188 | Body part: Bottom | Rotation: 050\n"
     ]
    },
    {
     "name": "stderr",
     "output_type": "stream",
     "text": [
      "100%|██████████| 10/10 [08:58<00:00, 53.84s/it]\n"
     ]
    },
    {
     "name": "stdout",
     "output_type": "stream",
     "text": [
      "Patient ID: PSMA-01-188 | Body part: Top | Rotation: 055\n",
      "Patient ID: PSMA-01-188 | Body part: Bottom | Rotation: 055\n"
     ]
    },
    {
     "name": "stderr",
     "output_type": "stream",
     "text": [
      "100%|██████████| 10/10 [08:48<00:00, 52.81s/it]\n"
     ]
    },
    {
     "name": "stdout",
     "output_type": "stream",
     "text": [
      "Patient ID: PSMA-01-188 | Body part: Top | Rotation: 060\n",
      "Patient ID: PSMA-01-188 | Body part: Bottom | Rotation: 060\n"
     ]
    },
    {
     "name": "stderr",
     "output_type": "stream",
     "text": [
      "100%|██████████| 10/10 [08:47<00:00, 52.75s/it]\n"
     ]
    },
    {
     "name": "stdout",
     "output_type": "stream",
     "text": [
      "Patient ID: PSMA-01-188 | Body part: Top | Rotation: 065\n",
      "Patient ID: PSMA-01-188 | Body part: Bottom | Rotation: 065\n"
     ]
    },
    {
     "name": "stderr",
     "output_type": "stream",
     "text": [
      "100%|██████████| 10/10 [08:43<00:00, 52.38s/it]\n"
     ]
    },
    {
     "name": "stdout",
     "output_type": "stream",
     "text": [
      "Patient ID: PSMA-01-188 | Body part: Top | Rotation: 070\n",
      "Patient ID: PSMA-01-188 | Body part: Bottom | Rotation: 070\n"
     ]
    },
    {
     "name": "stderr",
     "output_type": "stream",
     "text": [
      "100%|██████████| 10/10 [08:46<00:00, 52.70s/it]\n"
     ]
    },
    {
     "name": "stdout",
     "output_type": "stream",
     "text": [
      "Patient ID: PSMA-01-188 | Body part: Top | Rotation: 075\n",
      "Patient ID: PSMA-01-188 | Body part: Bottom | Rotation: 075\n"
     ]
    },
    {
     "name": "stderr",
     "output_type": "stream",
     "text": [
      "100%|██████████| 10/10 [08:44<00:00, 52.42s/it]\n"
     ]
    },
    {
     "name": "stdout",
     "output_type": "stream",
     "text": [
      "Patient ID: PSMA-01-188 | Body part: Top | Rotation: 080\n",
      "Patient ID: PSMA-01-188 | Body part: Bottom | Rotation: 080\n"
     ]
    },
    {
     "name": "stderr",
     "output_type": "stream",
     "text": [
      "100%|██████████| 10/10 [08:43<00:00, 52.32s/it]\n"
     ]
    },
    {
     "name": "stdout",
     "output_type": "stream",
     "text": [
      "Patient ID: PSMA-01-188 | Body part: Top | Rotation: 085\n",
      "Patient ID: PSMA-01-188 | Body part: Bottom | Rotation: 085\n"
     ]
    },
    {
     "name": "stderr",
     "output_type": "stream",
     "text": [
      "100%|██████████| 10/10 [08:47<00:00, 52.70s/it]\n"
     ]
    },
    {
     "name": "stdout",
     "output_type": "stream",
     "text": [
      "Patient ID: PSMA-01-188 | Body part: Top | Rotation: 090\n",
      "Patient ID: PSMA-01-188 | Body part: Bottom | Rotation: 090\n"
     ]
    },
    {
     "name": "stderr",
     "output_type": "stream",
     "text": [
      "100%|██████████| 10/10 [08:47<00:00, 52.79s/it]\n"
     ]
    },
    {
     "name": "stdout",
     "output_type": "stream",
     "text": [
      "Patient ID: PSMA-01-188 | Body part: Top | Rotation: 095\n",
      "Patient ID: PSMA-01-188 | Body part: Bottom | Rotation: 095\n"
     ]
    },
    {
     "name": "stderr",
     "output_type": "stream",
     "text": [
      "100%|██████████| 10/10 [09:02<00:00, 54.29s/it]\n"
     ]
    },
    {
     "name": "stdout",
     "output_type": "stream",
     "text": [
      "Patient ID: PSMA-01-188 | Body part: Top | Rotation: 100\n",
      "Patient ID: PSMA-01-188 | Body part: Bottom | Rotation: 100\n"
     ]
    },
    {
     "name": "stderr",
     "output_type": "stream",
     "text": [
      "100%|██████████| 10/10 [08:54<00:00, 53.46s/it]\n"
     ]
    },
    {
     "name": "stdout",
     "output_type": "stream",
     "text": [
      "Patient ID: PSMA-01-188 | Body part: Top | Rotation: 105\n",
      "Patient ID: PSMA-01-188 | Body part: Bottom | Rotation: 105\n"
     ]
    },
    {
     "name": "stderr",
     "output_type": "stream",
     "text": [
      "100%|██████████| 10/10 [08:46<00:00, 52.69s/it]\n"
     ]
    },
    {
     "name": "stdout",
     "output_type": "stream",
     "text": [
      "Patient ID: PSMA-01-188 | Body part: Top | Rotation: 110\n",
      "Patient ID: PSMA-01-188 | Body part: Bottom | Rotation: 110\n"
     ]
    },
    {
     "name": "stderr",
     "output_type": "stream",
     "text": [
      "100%|██████████| 10/10 [08:47<00:00, 52.77s/it]\n"
     ]
    },
    {
     "name": "stdout",
     "output_type": "stream",
     "text": [
      "Patient ID: PSMA-01-188 | Body part: Top | Rotation: 115\n",
      "Patient ID: PSMA-01-188 | Body part: Bottom | Rotation: 115\n"
     ]
    },
    {
     "name": "stderr",
     "output_type": "stream",
     "text": [
      "100%|██████████| 10/10 [08:44<00:00, 52.42s/it]\n"
     ]
    },
    {
     "name": "stdout",
     "output_type": "stream",
     "text": [
      "Patient ID: PSMA-01-188 | Body part: Top | Rotation: 120\n",
      "Patient ID: PSMA-01-188 | Body part: Bottom | Rotation: 120\n"
     ]
    },
    {
     "name": "stderr",
     "output_type": "stream",
     "text": [
      "100%|██████████| 10/10 [08:43<00:00, 52.32s/it]\n"
     ]
    },
    {
     "name": "stdout",
     "output_type": "stream",
     "text": [
      "Patient ID: PSMA-01-188 | Body part: Top | Rotation: 125\n",
      "Patient ID: PSMA-01-188 | Body part: Bottom | Rotation: 125\n"
     ]
    },
    {
     "name": "stderr",
     "output_type": "stream",
     "text": [
      "100%|██████████| 10/10 [08:43<00:00, 52.32s/it]\n"
     ]
    },
    {
     "name": "stdout",
     "output_type": "stream",
     "text": [
      "Patient ID: PSMA-01-188 | Body part: Top | Rotation: 130\n",
      "Patient ID: PSMA-01-188 | Body part: Bottom | Rotation: 130\n"
     ]
    },
    {
     "name": "stderr",
     "output_type": "stream",
     "text": [
      "100%|██████████| 10/10 [08:44<00:00, 52.43s/it]\n"
     ]
    },
    {
     "name": "stdout",
     "output_type": "stream",
     "text": [
      "Patient ID: PSMA-01-188 | Body part: Top | Rotation: 135\n",
      "Patient ID: PSMA-01-188 | Body part: Bottom | Rotation: 135\n"
     ]
    },
    {
     "name": "stderr",
     "output_type": "stream",
     "text": [
      "100%|██████████| 10/10 [08:45<00:00, 52.54s/it]\n"
     ]
    },
    {
     "name": "stdout",
     "output_type": "stream",
     "text": [
      "Patient ID: PSMA-01-188 | Body part: Top | Rotation: 140\n",
      "Patient ID: PSMA-01-188 | Body part: Bottom | Rotation: 140\n"
     ]
    },
    {
     "name": "stderr",
     "output_type": "stream",
     "text": [
      "100%|██████████| 10/10 [08:45<00:00, 52.53s/it]\n"
     ]
    },
    {
     "name": "stdout",
     "output_type": "stream",
     "text": [
      "Patient ID: PSMA-01-188 | Body part: Top | Rotation: 145\n",
      "Patient ID: PSMA-01-188 | Body part: Bottom | Rotation: 145\n"
     ]
    },
    {
     "name": "stderr",
     "output_type": "stream",
     "text": [
      "100%|██████████| 10/10 [08:43<00:00, 52.34s/it]\n"
     ]
    },
    {
     "name": "stdout",
     "output_type": "stream",
     "text": [
      "Patient ID: PSMA-01-188 | Body part: Top | Rotation: 150\n",
      "Patient ID: PSMA-01-188 | Body part: Bottom | Rotation: 150\n"
     ]
    },
    {
     "name": "stderr",
     "output_type": "stream",
     "text": [
      "100%|██████████| 10/10 [08:48<00:00, 52.88s/it]\n"
     ]
    },
    {
     "name": "stdout",
     "output_type": "stream",
     "text": [
      "Patient ID: PSMA-01-188 | Body part: Top | Rotation: 155\n",
      "Patient ID: PSMA-01-188 | Body part: Bottom | Rotation: 155\n"
     ]
    },
    {
     "name": "stderr",
     "output_type": "stream",
     "text": [
      "100%|██████████| 10/10 [08:43<00:00, 52.37s/it]\n"
     ]
    },
    {
     "name": "stdout",
     "output_type": "stream",
     "text": [
      "Patient ID: PSMA-01-188 | Body part: Top | Rotation: 160\n",
      "Patient ID: PSMA-01-188 | Body part: Bottom | Rotation: 160\n"
     ]
    },
    {
     "name": "stderr",
     "output_type": "stream",
     "text": [
      "100%|██████████| 10/10 [08:43<00:00, 52.38s/it]\n"
     ]
    },
    {
     "name": "stdout",
     "output_type": "stream",
     "text": [
      "Patient ID: PSMA-01-188 | Body part: Top | Rotation: 165\n",
      "Patient ID: PSMA-01-188 | Body part: Bottom | Rotation: 165\n"
     ]
    },
    {
     "name": "stderr",
     "output_type": "stream",
     "text": [
      "100%|██████████| 10/10 [08:46<00:00, 52.61s/it]\n"
     ]
    },
    {
     "name": "stdout",
     "output_type": "stream",
     "text": [
      "Patient ID: PSMA-01-188 | Body part: Top | Rotation: 170\n",
      "Patient ID: PSMA-01-188 | Body part: Bottom | Rotation: 170\n"
     ]
    },
    {
     "name": "stderr",
     "output_type": "stream",
     "text": [
      "100%|██████████| 10/10 [08:43<00:00, 52.36s/it]\n"
     ]
    },
    {
     "name": "stdout",
     "output_type": "stream",
     "text": [
      "Patient ID: PSMA-01-188 | Body part: Top | Rotation: 175\n",
      "Patient ID: PSMA-01-188 | Body part: Bottom | Rotation: 175\n"
     ]
    },
    {
     "name": "stderr",
     "output_type": "stream",
     "text": [
      "100%|██████████| 10/10 [08:48<00:00, 52.81s/it]\n"
     ]
    },
    {
     "name": "stdout",
     "output_type": "stream",
     "text": [
      "Patient ID: PSMA-01-188 | Body part: Top | Rotation: 180\n",
      "Patient ID: PSMA-01-188 | Body part: Bottom | Rotation: 180\n"
     ]
    },
    {
     "name": "stderr",
     "output_type": "stream",
     "text": [
      "100%|██████████| 10/10 [08:44<00:00, 52.41s/it]\n"
     ]
    },
    {
     "name": "stdout",
     "output_type": "stream",
     "text": [
      "Patient ID: PSMA-01-188 | Body part: Top | Rotation: 185\n",
      "Patient ID: PSMA-01-188 | Body part: Bottom | Rotation: 185\n"
     ]
    },
    {
     "name": "stderr",
     "output_type": "stream",
     "text": [
      "100%|██████████| 10/10 [08:53<00:00, 53.37s/it]\n"
     ]
    },
    {
     "name": "stdout",
     "output_type": "stream",
     "text": [
      "Patient ID: PSMA-01-188 | Body part: Top | Rotation: 190\n",
      "Patient ID: PSMA-01-188 | Body part: Bottom | Rotation: 190\n"
     ]
    },
    {
     "name": "stderr",
     "output_type": "stream",
     "text": [
      "100%|██████████| 10/10 [08:48<00:00, 52.85s/it]\n"
     ]
    },
    {
     "name": "stdout",
     "output_type": "stream",
     "text": [
      "Patient ID: PSMA-01-188 | Body part: Top | Rotation: 195\n",
      "Patient ID: PSMA-01-188 | Body part: Bottom | Rotation: 195\n"
     ]
    },
    {
     "name": "stderr",
     "output_type": "stream",
     "text": [
      "100%|██████████| 10/10 [08:44<00:00, 52.42s/it]\n"
     ]
    },
    {
     "name": "stdout",
     "output_type": "stream",
     "text": [
      "Patient ID: PSMA-01-188 | Body part: Top | Rotation: 200\n",
      "Patient ID: PSMA-01-188 | Body part: Bottom | Rotation: 200\n"
     ]
    },
    {
     "name": "stderr",
     "output_type": "stream",
     "text": [
      "100%|██████████| 10/10 [08:47<00:00, 52.72s/it]\n"
     ]
    },
    {
     "name": "stdout",
     "output_type": "stream",
     "text": [
      "Patient ID: PSMA-01-188 | Body part: Top | Rotation: 205\n",
      "Patient ID: PSMA-01-188 | Body part: Bottom | Rotation: 205\n"
     ]
    },
    {
     "name": "stderr",
     "output_type": "stream",
     "text": [
      "100%|██████████| 10/10 [08:43<00:00, 52.36s/it]\n"
     ]
    },
    {
     "name": "stdout",
     "output_type": "stream",
     "text": [
      "Patient ID: PSMA-01-188 | Body part: Top | Rotation: 210\n",
      "Patient ID: PSMA-01-188 | Body part: Bottom | Rotation: 210\n"
     ]
    },
    {
     "name": "stderr",
     "output_type": "stream",
     "text": [
      "100%|██████████| 10/10 [08:46<00:00, 52.61s/it]\n"
     ]
    },
    {
     "name": "stdout",
     "output_type": "stream",
     "text": [
      "Patient ID: PSMA-01-188 | Body part: Top | Rotation: 215\n",
      "Patient ID: PSMA-01-188 | Body part: Bottom | Rotation: 215\n"
     ]
    },
    {
     "name": "stderr",
     "output_type": "stream",
     "text": [
      "100%|██████████| 10/10 [08:46<00:00, 52.68s/it]\n"
     ]
    },
    {
     "name": "stdout",
     "output_type": "stream",
     "text": [
      "Patient ID: PSMA-01-188 | Body part: Top | Rotation: 220\n",
      "Patient ID: PSMA-01-188 | Body part: Bottom | Rotation: 220\n"
     ]
    },
    {
     "name": "stderr",
     "output_type": "stream",
     "text": [
      "100%|██████████| 10/10 [08:43<00:00, 52.39s/it]\n"
     ]
    },
    {
     "name": "stdout",
     "output_type": "stream",
     "text": [
      "Patient ID: PSMA-01-188 | Body part: Top | Rotation: 225\n",
      "Patient ID: PSMA-01-188 | Body part: Bottom | Rotation: 225\n"
     ]
    },
    {
     "name": "stderr",
     "output_type": "stream",
     "text": [
      "100%|██████████| 10/10 [08:44<00:00, 52.48s/it]\n"
     ]
    },
    {
     "name": "stdout",
     "output_type": "stream",
     "text": [
      "Patient ID: PSMA-01-188 | Body part: Top | Rotation: 230\n",
      "Patient ID: PSMA-01-188 | Body part: Bottom | Rotation: 230\n"
     ]
    },
    {
     "name": "stderr",
     "output_type": "stream",
     "text": [
      "100%|██████████| 10/10 [08:46<00:00, 52.67s/it]\n"
     ]
    },
    {
     "name": "stdout",
     "output_type": "stream",
     "text": [
      "Patient ID: PSMA-01-188 | Body part: Top | Rotation: 235\n",
      "Patient ID: PSMA-01-188 | Body part: Bottom | Rotation: 235\n"
     ]
    },
    {
     "name": "stderr",
     "output_type": "stream",
     "text": [
      "100%|██████████| 10/10 [08:44<00:00, 52.40s/it]\n"
     ]
    },
    {
     "name": "stdout",
     "output_type": "stream",
     "text": [
      "Patient ID: PSMA-01-188 | Body part: Top | Rotation: 240\n",
      "Patient ID: PSMA-01-188 | Body part: Bottom | Rotation: 240\n"
     ]
    },
    {
     "name": "stderr",
     "output_type": "stream",
     "text": [
      "100%|██████████| 10/10 [08:48<00:00, 52.89s/it]\n"
     ]
    },
    {
     "name": "stdout",
     "output_type": "stream",
     "text": [
      "Patient ID: PSMA-01-188 | Body part: Top | Rotation: 245\n",
      "Patient ID: PSMA-01-188 | Body part: Bottom | Rotation: 245\n"
     ]
    },
    {
     "name": "stderr",
     "output_type": "stream",
     "text": [
      "100%|██████████| 10/10 [08:46<00:00, 52.67s/it]\n"
     ]
    },
    {
     "name": "stdout",
     "output_type": "stream",
     "text": [
      "Patient ID: PSMA-01-188 | Body part: Top | Rotation: 250\n",
      "Patient ID: PSMA-01-188 | Body part: Bottom | Rotation: 250\n"
     ]
    },
    {
     "name": "stderr",
     "output_type": "stream",
     "text": [
      "100%|██████████| 10/10 [08:46<00:00, 52.69s/it]\n"
     ]
    },
    {
     "name": "stdout",
     "output_type": "stream",
     "text": [
      "Patient ID: PSMA-01-188 | Body part: Top | Rotation: 255\n",
      "Patient ID: PSMA-01-188 | Body part: Bottom | Rotation: 255\n"
     ]
    },
    {
     "name": "stderr",
     "output_type": "stream",
     "text": [
      "100%|██████████| 10/10 [08:43<00:00, 52.38s/it]\n"
     ]
    },
    {
     "name": "stdout",
     "output_type": "stream",
     "text": [
      "Patient ID: PSMA-01-188 | Body part: Top | Rotation: 260\n",
      "Patient ID: PSMA-01-188 | Body part: Bottom | Rotation: 260\n"
     ]
    },
    {
     "name": "stderr",
     "output_type": "stream",
     "text": [
      "100%|██████████| 10/10 [08:46<00:00, 52.66s/it]\n"
     ]
    },
    {
     "name": "stdout",
     "output_type": "stream",
     "text": [
      "Patient ID: PSMA-01-188 | Body part: Top | Rotation: 265\n",
      "Patient ID: PSMA-01-188 | Body part: Bottom | Rotation: 265\n"
     ]
    },
    {
     "name": "stderr",
     "output_type": "stream",
     "text": [
      "100%|██████████| 10/10 [08:46<00:00, 52.64s/it]\n"
     ]
    },
    {
     "name": "stdout",
     "output_type": "stream",
     "text": [
      "Patient ID: PSMA-01-188 | Body part: Top | Rotation: 270\n",
      "Patient ID: PSMA-01-188 | Body part: Bottom | Rotation: 270\n"
     ]
    },
    {
     "name": "stderr",
     "output_type": "stream",
     "text": [
      "100%|██████████| 10/10 [08:44<00:00, 52.42s/it]\n"
     ]
    },
    {
     "name": "stdout",
     "output_type": "stream",
     "text": [
      "Patient ID: PSMA-01-188 | Body part: Top | Rotation: 275\n",
      "Patient ID: PSMA-01-188 | Body part: Bottom | Rotation: 275\n"
     ]
    },
    {
     "name": "stderr",
     "output_type": "stream",
     "text": [
      "100%|██████████| 10/10 [08:43<00:00, 52.34s/it]\n"
     ]
    },
    {
     "name": "stdout",
     "output_type": "stream",
     "text": [
      "Patient ID: PSMA-01-188 | Body part: Top | Rotation: 280\n",
      "Patient ID: PSMA-01-188 | Body part: Bottom | Rotation: 280\n"
     ]
    },
    {
     "name": "stderr",
     "output_type": "stream",
     "text": [
      "100%|██████████| 10/10 [08:46<00:00, 52.64s/it]\n"
     ]
    },
    {
     "name": "stdout",
     "output_type": "stream",
     "text": [
      "Patient ID: PSMA-01-188 | Body part: Top | Rotation: 285\n",
      "Patient ID: PSMA-01-188 | Body part: Bottom | Rotation: 285\n"
     ]
    },
    {
     "name": "stderr",
     "output_type": "stream",
     "text": [
      "100%|██████████| 10/10 [08:56<00:00, 53.64s/it]\n"
     ]
    },
    {
     "name": "stdout",
     "output_type": "stream",
     "text": [
      "Patient ID: PSMA-01-188 | Body part: Top | Rotation: 290\n",
      "Patient ID: PSMA-01-188 | Body part: Bottom | Rotation: 290\n"
     ]
    },
    {
     "name": "stderr",
     "output_type": "stream",
     "text": [
      "100%|██████████| 10/10 [08:46<00:00, 52.64s/it]\n"
     ]
    },
    {
     "name": "stdout",
     "output_type": "stream",
     "text": [
      "Patient ID: PSMA-01-188 | Body part: Top | Rotation: 295\n",
      "Patient ID: PSMA-01-188 | Body part: Bottom | Rotation: 295\n"
     ]
    },
    {
     "name": "stderr",
     "output_type": "stream",
     "text": [
      "100%|██████████| 10/10 [08:46<00:00, 52.66s/it]\n"
     ]
    },
    {
     "name": "stdout",
     "output_type": "stream",
     "text": [
      "Patient ID: PSMA-01-188 | Body part: Top | Rotation: 300\n",
      "Patient ID: PSMA-01-188 | Body part: Bottom | Rotation: 300\n"
     ]
    },
    {
     "name": "stderr",
     "output_type": "stream",
     "text": [
      "100%|██████████| 10/10 [08:44<00:00, 52.46s/it]\n"
     ]
    },
    {
     "name": "stdout",
     "output_type": "stream",
     "text": [
      "Patient ID: PSMA-01-188 | Body part: Top | Rotation: 305\n",
      "Patient ID: PSMA-01-188 | Body part: Bottom | Rotation: 305\n"
     ]
    },
    {
     "name": "stderr",
     "output_type": "stream",
     "text": [
      "100%|██████████| 10/10 [08:43<00:00, 52.38s/it]\n"
     ]
    },
    {
     "name": "stdout",
     "output_type": "stream",
     "text": [
      "Patient ID: PSMA-01-188 | Body part: Top | Rotation: 310\n",
      "Patient ID: PSMA-01-188 | Body part: Bottom | Rotation: 310\n"
     ]
    },
    {
     "name": "stderr",
     "output_type": "stream",
     "text": [
      "100%|██████████| 10/10 [08:48<00:00, 52.83s/it]\n"
     ]
    },
    {
     "name": "stdout",
     "output_type": "stream",
     "text": [
      "Patient ID: PSMA-01-188 | Body part: Top | Rotation: 315\n",
      "Patient ID: PSMA-01-188 | Body part: Bottom | Rotation: 315\n"
     ]
    },
    {
     "name": "stderr",
     "output_type": "stream",
     "text": [
      "100%|██████████| 10/10 [09:00<00:00, 54.06s/it]\n"
     ]
    },
    {
     "name": "stdout",
     "output_type": "stream",
     "text": [
      "Patient ID: PSMA-01-188 | Body part: Top | Rotation: 320\n",
      "Patient ID: PSMA-01-188 | Body part: Bottom | Rotation: 320\n"
     ]
    },
    {
     "name": "stderr",
     "output_type": "stream",
     "text": [
      "100%|██████████| 10/10 [08:47<00:00, 52.71s/it]\n"
     ]
    },
    {
     "name": "stdout",
     "output_type": "stream",
     "text": [
      "Patient ID: PSMA-01-188 | Body part: Top | Rotation: 325\n",
      "Patient ID: PSMA-01-188 | Body part: Bottom | Rotation: 325\n"
     ]
    },
    {
     "name": "stderr",
     "output_type": "stream",
     "text": [
      "100%|██████████| 10/10 [08:43<00:00, 52.33s/it]\n"
     ]
    },
    {
     "name": "stdout",
     "output_type": "stream",
     "text": [
      "Patient ID: PSMA-01-188 | Body part: Top | Rotation: 330\n",
      "Patient ID: PSMA-01-188 | Body part: Bottom | Rotation: 330\n"
     ]
    },
    {
     "name": "stderr",
     "output_type": "stream",
     "text": [
      "100%|██████████| 10/10 [08:43<00:00, 52.34s/it]\n"
     ]
    },
    {
     "name": "stdout",
     "output_type": "stream",
     "text": [
      "Patient ID: PSMA-01-188 | Body part: Top | Rotation: 335\n",
      "Patient ID: PSMA-01-188 | Body part: Bottom | Rotation: 335\n"
     ]
    },
    {
     "name": "stderr",
     "output_type": "stream",
     "text": [
      "100%|██████████| 10/10 [08:43<00:00, 52.36s/it]\n"
     ]
    },
    {
     "name": "stdout",
     "output_type": "stream",
     "text": [
      "Patient ID: PSMA-01-188 | Body part: Top | Rotation: 340\n",
      "Patient ID: PSMA-01-188 | Body part: Bottom | Rotation: 340\n"
     ]
    },
    {
     "name": "stderr",
     "output_type": "stream",
     "text": [
      "100%|██████████| 10/10 [08:46<00:00, 52.69s/it]\n"
     ]
    },
    {
     "name": "stdout",
     "output_type": "stream",
     "text": [
      "Patient ID: PSMA-01-188 | Body part: Top | Rotation: 345\n",
      "Patient ID: PSMA-01-188 | Body part: Bottom | Rotation: 345\n"
     ]
    },
    {
     "name": "stderr",
     "output_type": "stream",
     "text": [
      "100%|██████████| 10/10 [08:52<00:00, 53.23s/it]\n"
     ]
    },
    {
     "name": "stdout",
     "output_type": "stream",
     "text": [
      "Patient ID: PSMA-01-188 | Body part: Top | Rotation: 350\n",
      "Patient ID: PSMA-01-188 | Body part: Bottom | Rotation: 350\n"
     ]
    },
    {
     "name": "stderr",
     "output_type": "stream",
     "text": [
      "100%|██████████| 10/10 [08:45<00:00, 52.60s/it]\n"
     ]
    },
    {
     "name": "stdout",
     "output_type": "stream",
     "text": [
      "Patient ID: PSMA-01-188 | Body part: Top | Rotation: 355\n",
      "Patient ID: PSMA-01-188 | Body part: Bottom | Rotation: 355\n"
     ]
    },
    {
     "name": "stderr",
     "output_type": "stream",
     "text": [
      "100%|██████████| 10/10 [08:45<00:00, 52.56s/it]\n"
     ]
    },
    {
     "name": "stdout",
     "output_type": "stream",
     "text": [
      "Patient ID: PSMA-01-429 | Body part: Top | Rotation: 000\n",
      "Patient ID: PSMA-01-429 | Body part: Bottom | Rotation: 000\n"
     ]
    },
    {
     "name": "stderr",
     "output_type": "stream",
     "text": [
      "100%|██████████| 10/10 [08:44<00:00, 52.42s/it]\n"
     ]
    },
    {
     "name": "stdout",
     "output_type": "stream",
     "text": [
      "Patient ID: PSMA-01-429 | Body part: Top | Rotation: 005\n",
      "Patient ID: PSMA-01-429 | Body part: Bottom | Rotation: 005\n"
     ]
    },
    {
     "name": "stderr",
     "output_type": "stream",
     "text": [
      "100%|██████████| 10/10 [08:46<00:00, 52.69s/it]\n"
     ]
    },
    {
     "name": "stdout",
     "output_type": "stream",
     "text": [
      "Patient ID: PSMA-01-429 | Body part: Top | Rotation: 010\n",
      "Patient ID: PSMA-01-429 | Body part: Bottom | Rotation: 010\n"
     ]
    },
    {
     "name": "stderr",
     "output_type": "stream",
     "text": [
      "100%|██████████| 10/10 [08:44<00:00, 52.41s/it]\n"
     ]
    },
    {
     "name": "stdout",
     "output_type": "stream",
     "text": [
      "Patient ID: PSMA-01-429 | Body part: Top | Rotation: 015\n",
      "Patient ID: PSMA-01-429 | Body part: Bottom | Rotation: 015\n"
     ]
    },
    {
     "name": "stderr",
     "output_type": "stream",
     "text": [
      "100%|██████████| 10/10 [08:44<00:00, 52.48s/it]\n"
     ]
    },
    {
     "name": "stdout",
     "output_type": "stream",
     "text": [
      "Patient ID: PSMA-01-429 | Body part: Top | Rotation: 020\n",
      "Patient ID: PSMA-01-429 | Body part: Bottom | Rotation: 020\n"
     ]
    },
    {
     "name": "stderr",
     "output_type": "stream",
     "text": [
      "100%|██████████| 10/10 [08:46<00:00, 52.70s/it]\n"
     ]
    },
    {
     "name": "stdout",
     "output_type": "stream",
     "text": [
      "Patient ID: PSMA-01-429 | Body part: Top | Rotation: 025\n",
      "Patient ID: PSMA-01-429 | Body part: Bottom | Rotation: 025\n"
     ]
    },
    {
     "name": "stderr",
     "output_type": "stream",
     "text": [
      "100%|██████████| 10/10 [08:46<00:00, 52.68s/it]\n"
     ]
    },
    {
     "name": "stdout",
     "output_type": "stream",
     "text": [
      "Patient ID: PSMA-01-429 | Body part: Top | Rotation: 030\n",
      "Patient ID: PSMA-01-429 | Body part: Bottom | Rotation: 030\n"
     ]
    },
    {
     "name": "stderr",
     "output_type": "stream",
     "text": [
      "100%|██████████| 10/10 [08:44<00:00, 52.46s/it]\n"
     ]
    },
    {
     "name": "stdout",
     "output_type": "stream",
     "text": [
      "Patient ID: PSMA-01-429 | Body part: Top | Rotation: 035\n",
      "Patient ID: PSMA-01-429 | Body part: Bottom | Rotation: 035\n"
     ]
    },
    {
     "name": "stderr",
     "output_type": "stream",
     "text": [
      "100%|██████████| 10/10 [08:45<00:00, 52.54s/it]\n"
     ]
    },
    {
     "name": "stdout",
     "output_type": "stream",
     "text": [
      "Patient ID: PSMA-01-429 | Body part: Top | Rotation: 040\n",
      "Patient ID: PSMA-01-429 | Body part: Bottom | Rotation: 040\n"
     ]
    },
    {
     "name": "stderr",
     "output_type": "stream",
     "text": [
      "100%|██████████| 10/10 [08:44<00:00, 52.43s/it]\n"
     ]
    },
    {
     "name": "stdout",
     "output_type": "stream",
     "text": [
      "Patient ID: PSMA-01-429 | Body part: Top | Rotation: 045\n",
      "Patient ID: PSMA-01-429 | Body part: Bottom | Rotation: 045\n"
     ]
    },
    {
     "name": "stderr",
     "output_type": "stream",
     "text": [
      "100%|██████████| 10/10 [08:44<00:00, 52.42s/it]\n"
     ]
    },
    {
     "name": "stdout",
     "output_type": "stream",
     "text": [
      "Patient ID: PSMA-01-429 | Body part: Top | Rotation: 050\n",
      "Patient ID: PSMA-01-429 | Body part: Bottom | Rotation: 050\n"
     ]
    },
    {
     "name": "stderr",
     "output_type": "stream",
     "text": [
      "100%|██████████| 10/10 [09:00<00:00, 54.04s/it]\n"
     ]
    },
    {
     "name": "stdout",
     "output_type": "stream",
     "text": [
      "Patient ID: PSMA-01-429 | Body part: Top | Rotation: 055\n",
      "Patient ID: PSMA-01-429 | Body part: Bottom | Rotation: 055\n"
     ]
    },
    {
     "name": "stderr",
     "output_type": "stream",
     "text": [
      "100%|██████████| 10/10 [08:45<00:00, 52.57s/it]\n"
     ]
    },
    {
     "name": "stdout",
     "output_type": "stream",
     "text": [
      "Patient ID: PSMA-01-429 | Body part: Top | Rotation: 060\n",
      "Patient ID: PSMA-01-429 | Body part: Bottom | Rotation: 060\n"
     ]
    },
    {
     "name": "stderr",
     "output_type": "stream",
     "text": [
      "100%|██████████| 10/10 [08:45<00:00, 52.57s/it]\n"
     ]
    },
    {
     "name": "stdout",
     "output_type": "stream",
     "text": [
      "Patient ID: PSMA-01-429 | Body part: Top | Rotation: 065\n",
      "Patient ID: PSMA-01-429 | Body part: Bottom | Rotation: 065\n"
     ]
    },
    {
     "name": "stderr",
     "output_type": "stream",
     "text": [
      "100%|██████████| 10/10 [09:02<00:00, 54.24s/it]\n"
     ]
    },
    {
     "name": "stdout",
     "output_type": "stream",
     "text": [
      "Patient ID: PSMA-01-429 | Body part: Top | Rotation: 070\n",
      "Patient ID: PSMA-01-429 | Body part: Bottom | Rotation: 070\n"
     ]
    },
    {
     "name": "stderr",
     "output_type": "stream",
     "text": [
      "100%|██████████| 10/10 [08:44<00:00, 52.47s/it]\n"
     ]
    },
    {
     "name": "stdout",
     "output_type": "stream",
     "text": [
      "Patient ID: PSMA-01-429 | Body part: Top | Rotation: 075\n",
      "Patient ID: PSMA-01-429 | Body part: Bottom | Rotation: 075\n"
     ]
    },
    {
     "name": "stderr",
     "output_type": "stream",
     "text": [
      "100%|██████████| 10/10 [08:44<00:00, 52.43s/it]\n"
     ]
    },
    {
     "name": "stdout",
     "output_type": "stream",
     "text": [
      "Patient ID: PSMA-01-429 | Body part: Top | Rotation: 080\n",
      "Patient ID: PSMA-01-429 | Body part: Bottom | Rotation: 080\n"
     ]
    },
    {
     "name": "stderr",
     "output_type": "stream",
     "text": [
      "100%|██████████| 10/10 [09:00<00:00, 54.09s/it]\n"
     ]
    },
    {
     "name": "stdout",
     "output_type": "stream",
     "text": [
      "Patient ID: PSMA-01-429 | Body part: Top | Rotation: 085\n",
      "Patient ID: PSMA-01-429 | Body part: Bottom | Rotation: 085\n"
     ]
    },
    {
     "name": "stderr",
     "output_type": "stream",
     "text": [
      "100%|██████████| 10/10 [08:47<00:00, 52.74s/it]\n"
     ]
    },
    {
     "name": "stdout",
     "output_type": "stream",
     "text": [
      "Patient ID: PSMA-01-429 | Body part: Top | Rotation: 090\n",
      "Patient ID: PSMA-01-429 | Body part: Bottom | Rotation: 090\n"
     ]
    },
    {
     "name": "stderr",
     "output_type": "stream",
     "text": [
      "100%|██████████| 10/10 [08:46<00:00, 52.64s/it]\n"
     ]
    },
    {
     "name": "stdout",
     "output_type": "stream",
     "text": [
      "Patient ID: PSMA-01-429 | Body part: Top | Rotation: 095\n",
      "Patient ID: PSMA-01-429 | Body part: Bottom | Rotation: 095\n"
     ]
    },
    {
     "name": "stderr",
     "output_type": "stream",
     "text": [
      "100%|██████████| 10/10 [08:44<00:00, 52.42s/it]\n"
     ]
    },
    {
     "name": "stdout",
     "output_type": "stream",
     "text": [
      "Patient ID: PSMA-01-429 | Body part: Top | Rotation: 100\n",
      "Patient ID: PSMA-01-429 | Body part: Bottom | Rotation: 100\n"
     ]
    },
    {
     "name": "stderr",
     "output_type": "stream",
     "text": [
      "100%|██████████| 10/10 [08:51<00:00, 53.13s/it]\n"
     ]
    },
    {
     "name": "stdout",
     "output_type": "stream",
     "text": [
      "Patient ID: PSMA-01-429 | Body part: Top | Rotation: 105\n",
      "Patient ID: PSMA-01-429 | Body part: Bottom | Rotation: 105\n"
     ]
    },
    {
     "name": "stderr",
     "output_type": "stream",
     "text": [
      "100%|██████████| 10/10 [08:44<00:00, 52.42s/it]\n"
     ]
    },
    {
     "name": "stdout",
     "output_type": "stream",
     "text": [
      "Patient ID: PSMA-01-429 | Body part: Top | Rotation: 110\n",
      "Patient ID: PSMA-01-429 | Body part: Bottom | Rotation: 110\n"
     ]
    },
    {
     "name": "stderr",
     "output_type": "stream",
     "text": [
      "100%|██████████| 10/10 [08:46<00:00, 52.69s/it]\n"
     ]
    },
    {
     "name": "stdout",
     "output_type": "stream",
     "text": [
      "Patient ID: PSMA-01-429 | Body part: Top | Rotation: 115\n",
      "Patient ID: PSMA-01-429 | Body part: Bottom | Rotation: 115\n"
     ]
    },
    {
     "name": "stderr",
     "output_type": "stream",
     "text": [
      "100%|██████████| 10/10 [08:43<00:00, 52.40s/it]\n"
     ]
    },
    {
     "name": "stdout",
     "output_type": "stream",
     "text": [
      "Patient ID: PSMA-01-429 | Body part: Top | Rotation: 120\n",
      "Patient ID: PSMA-01-429 | Body part: Bottom | Rotation: 120\n"
     ]
    },
    {
     "name": "stderr",
     "output_type": "stream",
     "text": [
      "100%|██████████| 10/10 [08:42<00:00, 52.29s/it]\n"
     ]
    },
    {
     "name": "stdout",
     "output_type": "stream",
     "text": [
      "Patient ID: PSMA-01-429 | Body part: Top | Rotation: 125\n",
      "Patient ID: PSMA-01-429 | Body part: Bottom | Rotation: 125\n"
     ]
    },
    {
     "name": "stderr",
     "output_type": "stream",
     "text": [
      "100%|██████████| 10/10 [09:02<00:00, 54.27s/it]\n"
     ]
    },
    {
     "name": "stdout",
     "output_type": "stream",
     "text": [
      "Patient ID: PSMA-01-429 | Body part: Top | Rotation: 130\n",
      "Patient ID: PSMA-01-429 | Body part: Bottom | Rotation: 130\n"
     ]
    },
    {
     "name": "stderr",
     "output_type": "stream",
     "text": [
      "100%|██████████| 10/10 [08:46<00:00, 52.68s/it]\n"
     ]
    },
    {
     "name": "stdout",
     "output_type": "stream",
     "text": [
      "Patient ID: PSMA-01-429 | Body part: Top | Rotation: 135\n",
      "Patient ID: PSMA-01-429 | Body part: Bottom | Rotation: 135\n"
     ]
    },
    {
     "name": "stderr",
     "output_type": "stream",
     "text": [
      "100%|██████████| 10/10 [08:47<00:00, 52.75s/it]\n"
     ]
    },
    {
     "name": "stdout",
     "output_type": "stream",
     "text": [
      "Patient ID: PSMA-01-429 | Body part: Top | Rotation: 140\n",
      "Patient ID: PSMA-01-429 | Body part: Bottom | Rotation: 140\n"
     ]
    },
    {
     "name": "stderr",
     "output_type": "stream",
     "text": [
      "100%|██████████| 10/10 [08:45<00:00, 52.55s/it]\n"
     ]
    },
    {
     "name": "stdout",
     "output_type": "stream",
     "text": [
      "Patient ID: PSMA-01-429 | Body part: Top | Rotation: 145\n",
      "Patient ID: PSMA-01-429 | Body part: Bottom | Rotation: 145\n"
     ]
    },
    {
     "name": "stderr",
     "output_type": "stream",
     "text": [
      "100%|██████████| 10/10 [08:43<00:00, 52.36s/it]\n"
     ]
    },
    {
     "name": "stdout",
     "output_type": "stream",
     "text": [
      "Patient ID: PSMA-01-429 | Body part: Top | Rotation: 150\n",
      "Patient ID: PSMA-01-429 | Body part: Bottom | Rotation: 150\n"
     ]
    },
    {
     "name": "stderr",
     "output_type": "stream",
     "text": [
      "100%|██████████| 10/10 [08:47<00:00, 52.80s/it]\n"
     ]
    },
    {
     "name": "stdout",
     "output_type": "stream",
     "text": [
      "Patient ID: PSMA-01-429 | Body part: Top | Rotation: 155\n",
      "Patient ID: PSMA-01-429 | Body part: Bottom | Rotation: 155\n"
     ]
    },
    {
     "name": "stderr",
     "output_type": "stream",
     "text": [
      "100%|██████████| 10/10 [08:44<00:00, 52.48s/it]\n"
     ]
    },
    {
     "name": "stdout",
     "output_type": "stream",
     "text": [
      "Patient ID: PSMA-01-429 | Body part: Top | Rotation: 160\n",
      "Patient ID: PSMA-01-429 | Body part: Bottom | Rotation: 160\n"
     ]
    },
    {
     "name": "stderr",
     "output_type": "stream",
     "text": [
      "100%|██████████| 10/10 [08:48<00:00, 52.82s/it]\n"
     ]
    },
    {
     "name": "stdout",
     "output_type": "stream",
     "text": [
      "Patient ID: PSMA-01-429 | Body part: Top | Rotation: 165\n",
      "Patient ID: PSMA-01-429 | Body part: Bottom | Rotation: 165\n"
     ]
    },
    {
     "name": "stderr",
     "output_type": "stream",
     "text": [
      "100%|██████████| 10/10 [08:45<00:00, 52.59s/it]\n"
     ]
    },
    {
     "name": "stdout",
     "output_type": "stream",
     "text": [
      "Patient ID: PSMA-01-429 | Body part: Top | Rotation: 170\n",
      "Patient ID: PSMA-01-429 | Body part: Bottom | Rotation: 170\n"
     ]
    },
    {
     "name": "stderr",
     "output_type": "stream",
     "text": [
      "100%|██████████| 10/10 [08:48<00:00, 52.81s/it]\n"
     ]
    },
    {
     "name": "stdout",
     "output_type": "stream",
     "text": [
      "Patient ID: PSMA-01-429 | Body part: Top | Rotation: 175\n",
      "Patient ID: PSMA-01-429 | Body part: Bottom | Rotation: 175\n"
     ]
    },
    {
     "name": "stderr",
     "output_type": "stream",
     "text": [
      "100%|██████████| 10/10 [08:42<00:00, 52.29s/it]\n"
     ]
    },
    {
     "name": "stdout",
     "output_type": "stream",
     "text": [
      "Patient ID: PSMA-01-429 | Body part: Top | Rotation: 180\n",
      "Patient ID: PSMA-01-429 | Body part: Bottom | Rotation: 180\n"
     ]
    },
    {
     "name": "stderr",
     "output_type": "stream",
     "text": [
      "100%|██████████| 10/10 [08:47<00:00, 52.78s/it]\n"
     ]
    },
    {
     "name": "stdout",
     "output_type": "stream",
     "text": [
      "Patient ID: PSMA-01-429 | Body part: Top | Rotation: 185\n",
      "Patient ID: PSMA-01-429 | Body part: Bottom | Rotation: 185\n"
     ]
    },
    {
     "name": "stderr",
     "output_type": "stream",
     "text": [
      "100%|██████████| 10/10 [08:45<00:00, 52.59s/it]\n"
     ]
    },
    {
     "name": "stdout",
     "output_type": "stream",
     "text": [
      "Patient ID: PSMA-01-429 | Body part: Top | Rotation: 190\n",
      "Patient ID: PSMA-01-429 | Body part: Bottom | Rotation: 190\n"
     ]
    },
    {
     "name": "stderr",
     "output_type": "stream",
     "text": [
      "100%|██████████| 10/10 [08:46<00:00, 52.60s/it]\n"
     ]
    },
    {
     "name": "stdout",
     "output_type": "stream",
     "text": [
      "Patient ID: PSMA-01-429 | Body part: Top | Rotation: 195\n",
      "Patient ID: PSMA-01-429 | Body part: Bottom | Rotation: 195\n"
     ]
    },
    {
     "name": "stderr",
     "output_type": "stream",
     "text": [
      "100%|██████████| 10/10 [08:47<00:00, 52.72s/it]\n"
     ]
    },
    {
     "name": "stdout",
     "output_type": "stream",
     "text": [
      "Patient ID: PSMA-01-429 | Body part: Top | Rotation: 200\n",
      "Patient ID: PSMA-01-429 | Body part: Bottom | Rotation: 200\n"
     ]
    },
    {
     "name": "stderr",
     "output_type": "stream",
     "text": [
      "100%|██████████| 10/10 [08:46<00:00, 52.66s/it]\n"
     ]
    },
    {
     "name": "stdout",
     "output_type": "stream",
     "text": [
      "Patient ID: PSMA-01-429 | Body part: Top | Rotation: 205\n",
      "Patient ID: PSMA-01-429 | Body part: Bottom | Rotation: 205\n"
     ]
    },
    {
     "name": "stderr",
     "output_type": "stream",
     "text": [
      "100%|██████████| 10/10 [08:47<00:00, 52.73s/it]\n"
     ]
    },
    {
     "name": "stdout",
     "output_type": "stream",
     "text": [
      "Patient ID: PSMA-01-429 | Body part: Top | Rotation: 210\n",
      "Patient ID: PSMA-01-429 | Body part: Bottom | Rotation: 210\n"
     ]
    },
    {
     "name": "stderr",
     "output_type": "stream",
     "text": [
      "100%|██████████| 10/10 [08:48<00:00, 52.83s/it]\n"
     ]
    },
    {
     "name": "stdout",
     "output_type": "stream",
     "text": [
      "Patient ID: PSMA-01-429 | Body part: Top | Rotation: 215\n",
      "Patient ID: PSMA-01-429 | Body part: Bottom | Rotation: 215\n"
     ]
    },
    {
     "name": "stderr",
     "output_type": "stream",
     "text": [
      "100%|██████████| 10/10 [08:43<00:00, 52.36s/it]\n"
     ]
    },
    {
     "name": "stdout",
     "output_type": "stream",
     "text": [
      "Patient ID: PSMA-01-429 | Body part: Top | Rotation: 220\n",
      "Patient ID: PSMA-01-429 | Body part: Bottom | Rotation: 220\n"
     ]
    },
    {
     "name": "stderr",
     "output_type": "stream",
     "text": [
      "100%|██████████| 10/10 [08:45<00:00, 52.58s/it]\n"
     ]
    },
    {
     "name": "stdout",
     "output_type": "stream",
     "text": [
      "Patient ID: PSMA-01-429 | Body part: Top | Rotation: 225\n",
      "Patient ID: PSMA-01-429 | Body part: Bottom | Rotation: 225\n"
     ]
    },
    {
     "name": "stderr",
     "output_type": "stream",
     "text": [
      "100%|██████████| 10/10 [08:47<00:00, 52.72s/it]\n"
     ]
    },
    {
     "name": "stdout",
     "output_type": "stream",
     "text": [
      "Patient ID: PSMA-01-429 | Body part: Top | Rotation: 230\n",
      "Patient ID: PSMA-01-429 | Body part: Bottom | Rotation: 230\n"
     ]
    },
    {
     "name": "stderr",
     "output_type": "stream",
     "text": [
      "100%|██████████| 10/10 [08:44<00:00, 52.44s/it]\n"
     ]
    },
    {
     "name": "stdout",
     "output_type": "stream",
     "text": [
      "Patient ID: PSMA-01-429 | Body part: Top | Rotation: 235\n",
      "Patient ID: PSMA-01-429 | Body part: Bottom | Rotation: 235\n"
     ]
    },
    {
     "name": "stderr",
     "output_type": "stream",
     "text": [
      "100%|██████████| 10/10 [08:47<00:00, 52.78s/it]\n"
     ]
    },
    {
     "name": "stdout",
     "output_type": "stream",
     "text": [
      "Patient ID: PSMA-01-429 | Body part: Top | Rotation: 240\n",
      "Patient ID: PSMA-01-429 | Body part: Bottom | Rotation: 240\n"
     ]
    },
    {
     "name": "stderr",
     "output_type": "stream",
     "text": [
      "100%|██████████| 10/10 [08:44<00:00, 52.46s/it]\n"
     ]
    },
    {
     "name": "stdout",
     "output_type": "stream",
     "text": [
      "Patient ID: PSMA-01-429 | Body part: Top | Rotation: 245\n",
      "Patient ID: PSMA-01-429 | Body part: Bottom | Rotation: 245\n"
     ]
    },
    {
     "name": "stderr",
     "output_type": "stream",
     "text": [
      "100%|██████████| 10/10 [08:47<00:00, 52.72s/it]\n"
     ]
    },
    {
     "name": "stdout",
     "output_type": "stream",
     "text": [
      "Patient ID: PSMA-01-429 | Body part: Top | Rotation: 250\n",
      "Patient ID: PSMA-01-429 | Body part: Bottom | Rotation: 250\n"
     ]
    },
    {
     "name": "stderr",
     "output_type": "stream",
     "text": [
      "100%|██████████| 10/10 [08:54<00:00, 53.43s/it]\n"
     ]
    },
    {
     "name": "stdout",
     "output_type": "stream",
     "text": [
      "Patient ID: PSMA-01-429 | Body part: Top | Rotation: 255\n",
      "Patient ID: PSMA-01-429 | Body part: Bottom | Rotation: 255\n"
     ]
    },
    {
     "name": "stderr",
     "output_type": "stream",
     "text": [
      "100%|██████████| 10/10 [08:44<00:00, 52.47s/it]\n"
     ]
    },
    {
     "name": "stdout",
     "output_type": "stream",
     "text": [
      "Patient ID: PSMA-01-429 | Body part: Top | Rotation: 260\n",
      "Patient ID: PSMA-01-429 | Body part: Bottom | Rotation: 260\n"
     ]
    },
    {
     "name": "stderr",
     "output_type": "stream",
     "text": [
      "100%|██████████| 10/10 [08:44<00:00, 52.42s/it]\n"
     ]
    },
    {
     "name": "stdout",
     "output_type": "stream",
     "text": [
      "Patient ID: PSMA-01-429 | Body part: Top | Rotation: 265\n",
      "Patient ID: PSMA-01-429 | Body part: Bottom | Rotation: 265\n"
     ]
    },
    {
     "name": "stderr",
     "output_type": "stream",
     "text": [
      "100%|██████████| 10/10 [08:48<00:00, 52.80s/it]\n"
     ]
    },
    {
     "name": "stdout",
     "output_type": "stream",
     "text": [
      "Patient ID: PSMA-01-429 | Body part: Top | Rotation: 270\n",
      "Patient ID: PSMA-01-429 | Body part: Bottom | Rotation: 270\n"
     ]
    },
    {
     "name": "stderr",
     "output_type": "stream",
     "text": [
      "100%|██████████| 10/10 [08:48<00:00, 52.86s/it]\n"
     ]
    },
    {
     "name": "stdout",
     "output_type": "stream",
     "text": [
      "Patient ID: PSMA-01-429 | Body part: Top | Rotation: 275\n",
      "Patient ID: PSMA-01-429 | Body part: Bottom | Rotation: 275\n"
     ]
    },
    {
     "name": "stderr",
     "output_type": "stream",
     "text": [
      "100%|██████████| 10/10 [09:05<00:00, 54.51s/it]\n"
     ]
    },
    {
     "name": "stdout",
     "output_type": "stream",
     "text": [
      "Patient ID: PSMA-01-429 | Body part: Top | Rotation: 280\n",
      "Patient ID: PSMA-01-429 | Body part: Bottom | Rotation: 280\n"
     ]
    },
    {
     "name": "stderr",
     "output_type": "stream",
     "text": [
      "100%|██████████| 10/10 [08:44<00:00, 52.43s/it]\n"
     ]
    },
    {
     "name": "stdout",
     "output_type": "stream",
     "text": [
      "Patient ID: PSMA-01-429 | Body part: Top | Rotation: 285\n",
      "Patient ID: PSMA-01-429 | Body part: Bottom | Rotation: 285\n"
     ]
    },
    {
     "name": "stderr",
     "output_type": "stream",
     "text": [
      "100%|██████████| 10/10 [08:45<00:00, 52.51s/it]\n"
     ]
    },
    {
     "name": "stdout",
     "output_type": "stream",
     "text": [
      "Patient ID: PSMA-01-429 | Body part: Top | Rotation: 290\n",
      "Patient ID: PSMA-01-429 | Body part: Bottom | Rotation: 290\n"
     ]
    },
    {
     "name": "stderr",
     "output_type": "stream",
     "text": [
      "100%|██████████| 10/10 [08:47<00:00, 52.72s/it]\n"
     ]
    },
    {
     "name": "stdout",
     "output_type": "stream",
     "text": [
      "Patient ID: PSMA-01-429 | Body part: Top | Rotation: 295\n",
      "Patient ID: PSMA-01-429 | Body part: Bottom | Rotation: 295\n"
     ]
    },
    {
     "name": "stderr",
     "output_type": "stream",
     "text": [
      "100%|██████████| 10/10 [08:43<00:00, 52.34s/it]\n"
     ]
    },
    {
     "name": "stdout",
     "output_type": "stream",
     "text": [
      "Patient ID: PSMA-01-429 | Body part: Top | Rotation: 300\n",
      "Patient ID: PSMA-01-429 | Body part: Bottom | Rotation: 300\n"
     ]
    },
    {
     "name": "stderr",
     "output_type": "stream",
     "text": [
      "100%|██████████| 10/10 [08:43<00:00, 52.38s/it]\n"
     ]
    },
    {
     "name": "stdout",
     "output_type": "stream",
     "text": [
      "Patient ID: PSMA-01-429 | Body part: Top | Rotation: 305\n",
      "Patient ID: PSMA-01-429 | Body part: Bottom | Rotation: 305\n"
     ]
    },
    {
     "name": "stderr",
     "output_type": "stream",
     "text": [
      "100%|██████████| 10/10 [08:47<00:00, 52.72s/it]\n"
     ]
    },
    {
     "name": "stdout",
     "output_type": "stream",
     "text": [
      "Patient ID: PSMA-01-429 | Body part: Top | Rotation: 310\n",
      "Patient ID: PSMA-01-429 | Body part: Bottom | Rotation: 310\n"
     ]
    },
    {
     "name": "stderr",
     "output_type": "stream",
     "text": [
      "100%|██████████| 10/10 [08:44<00:00, 52.42s/it]\n"
     ]
    },
    {
     "name": "stdout",
     "output_type": "stream",
     "text": [
      "Patient ID: PSMA-01-429 | Body part: Top | Rotation: 315\n",
      "Patient ID: PSMA-01-429 | Body part: Bottom | Rotation: 315\n"
     ]
    },
    {
     "name": "stderr",
     "output_type": "stream",
     "text": [
      "100%|██████████| 10/10 [08:44<00:00, 52.40s/it]\n"
     ]
    },
    {
     "name": "stdout",
     "output_type": "stream",
     "text": [
      "Patient ID: PSMA-01-429 | Body part: Top | Rotation: 320\n",
      "Patient ID: PSMA-01-429 | Body part: Bottom | Rotation: 320\n"
     ]
    },
    {
     "name": "stderr",
     "output_type": "stream",
     "text": [
      "100%|██████████| 10/10 [08:46<00:00, 52.69s/it]\n"
     ]
    },
    {
     "name": "stdout",
     "output_type": "stream",
     "text": [
      "Patient ID: PSMA-01-429 | Body part: Top | Rotation: 325\n",
      "Patient ID: PSMA-01-429 | Body part: Bottom | Rotation: 325\n"
     ]
    },
    {
     "name": "stderr",
     "output_type": "stream",
     "text": [
      "100%|██████████| 10/10 [08:46<00:00, 52.69s/it]\n"
     ]
    },
    {
     "name": "stdout",
     "output_type": "stream",
     "text": [
      "Patient ID: PSMA-01-429 | Body part: Top | Rotation: 330\n",
      "Patient ID: PSMA-01-429 | Body part: Bottom | Rotation: 330\n"
     ]
    },
    {
     "name": "stderr",
     "output_type": "stream",
     "text": [
      "100%|██████████| 10/10 [08:46<00:00, 52.65s/it]\n"
     ]
    },
    {
     "name": "stdout",
     "output_type": "stream",
     "text": [
      "Patient ID: PSMA-01-429 | Body part: Top | Rotation: 335\n",
      "Patient ID: PSMA-01-429 | Body part: Bottom | Rotation: 335\n"
     ]
    },
    {
     "name": "stderr",
     "output_type": "stream",
     "text": [
      "100%|██████████| 10/10 [08:46<00:00, 52.68s/it]\n"
     ]
    },
    {
     "name": "stdout",
     "output_type": "stream",
     "text": [
      "Patient ID: PSMA-01-429 | Body part: Top | Rotation: 340\n",
      "Patient ID: PSMA-01-429 | Body part: Bottom | Rotation: 340\n"
     ]
    },
    {
     "name": "stderr",
     "output_type": "stream",
     "text": [
      "100%|██████████| 10/10 [08:46<00:00, 52.65s/it]\n"
     ]
    },
    {
     "name": "stdout",
     "output_type": "stream",
     "text": [
      "Patient ID: PSMA-01-429 | Body part: Top | Rotation: 345\n",
      "Patient ID: PSMA-01-429 | Body part: Bottom | Rotation: 345\n"
     ]
    },
    {
     "name": "stderr",
     "output_type": "stream",
     "text": [
      "100%|██████████| 10/10 [08:43<00:00, 52.31s/it]\n"
     ]
    },
    {
     "name": "stdout",
     "output_type": "stream",
     "text": [
      "Patient ID: PSMA-01-429 | Body part: Top | Rotation: 350\n",
      "Patient ID: PSMA-01-429 | Body part: Bottom | Rotation: 350\n"
     ]
    },
    {
     "name": "stderr",
     "output_type": "stream",
     "text": [
      "100%|██████████| 10/10 [08:45<00:00, 52.57s/it]\n"
     ]
    },
    {
     "name": "stdout",
     "output_type": "stream",
     "text": [
      "Patient ID: PSMA-01-429 | Body part: Top | Rotation: 355\n",
      "Patient ID: PSMA-01-429 | Body part: Bottom | Rotation: 355\n"
     ]
    },
    {
     "name": "stderr",
     "output_type": "stream",
     "text": [
      "100%|██████████| 10/10 [08:43<00:00, 52.40s/it]\n"
     ]
    },
    {
     "name": "stdout",
     "output_type": "stream",
     "text": [
      "Patient ID: PSMA-01-276 | Body part: Top | Rotation: 000\n",
      "Patient ID: PSMA-01-276 | Body part: Bottom | Rotation: 000\n"
     ]
    },
    {
     "name": "stderr",
     "output_type": "stream",
     "text": [
      "100%|██████████| 10/10 [08:43<00:00, 52.39s/it]\n"
     ]
    },
    {
     "name": "stdout",
     "output_type": "stream",
     "text": [
      "Patient ID: PSMA-01-276 | Body part: Top | Rotation: 005\n",
      "Patient ID: PSMA-01-276 | Body part: Bottom | Rotation: 005\n"
     ]
    },
    {
     "name": "stderr",
     "output_type": "stream",
     "text": [
      "100%|██████████| 10/10 [08:44<00:00, 52.45s/it]\n"
     ]
    },
    {
     "name": "stdout",
     "output_type": "stream",
     "text": [
      "Patient ID: PSMA-01-276 | Body part: Top | Rotation: 010\n",
      "Patient ID: PSMA-01-276 | Body part: Bottom | Rotation: 010\n"
     ]
    },
    {
     "name": "stderr",
     "output_type": "stream",
     "text": [
      "100%|██████████| 10/10 [08:47<00:00, 52.79s/it]\n"
     ]
    },
    {
     "name": "stdout",
     "output_type": "stream",
     "text": [
      "Patient ID: PSMA-01-276 | Body part: Top | Rotation: 015\n",
      "Patient ID: PSMA-01-276 | Body part: Bottom | Rotation: 015\n"
     ]
    },
    {
     "name": "stderr",
     "output_type": "stream",
     "text": [
      "100%|██████████| 10/10 [08:46<00:00, 52.61s/it]\n"
     ]
    },
    {
     "name": "stdout",
     "output_type": "stream",
     "text": [
      "Patient ID: PSMA-01-276 | Body part: Top | Rotation: 020\n",
      "Patient ID: PSMA-01-276 | Body part: Bottom | Rotation: 020\n"
     ]
    },
    {
     "name": "stderr",
     "output_type": "stream",
     "text": [
      "100%|██████████| 10/10 [08:45<00:00, 52.54s/it]\n"
     ]
    },
    {
     "name": "stdout",
     "output_type": "stream",
     "text": [
      "Patient ID: PSMA-01-276 | Body part: Top | Rotation: 025\n",
      "Patient ID: PSMA-01-276 | Body part: Bottom | Rotation: 025\n"
     ]
    },
    {
     "name": "stderr",
     "output_type": "stream",
     "text": [
      "100%|██████████| 10/10 [08:50<00:00, 53.05s/it]\n"
     ]
    },
    {
     "name": "stdout",
     "output_type": "stream",
     "text": [
      "Patient ID: PSMA-01-276 | Body part: Top | Rotation: 030\n",
      "Patient ID: PSMA-01-276 | Body part: Bottom | Rotation: 030\n"
     ]
    },
    {
     "name": "stderr",
     "output_type": "stream",
     "text": [
      "100%|██████████| 10/10 [08:59<00:00, 53.93s/it]\n"
     ]
    },
    {
     "name": "stdout",
     "output_type": "stream",
     "text": [
      "Patient ID: PSMA-01-276 | Body part: Top | Rotation: 035\n",
      "Patient ID: PSMA-01-276 | Body part: Bottom | Rotation: 035\n"
     ]
    },
    {
     "name": "stderr",
     "output_type": "stream",
     "text": [
      "100%|██████████| 10/10 [08:44<00:00, 52.42s/it]\n"
     ]
    },
    {
     "name": "stdout",
     "output_type": "stream",
     "text": [
      "Patient ID: PSMA-01-276 | Body part: Top | Rotation: 040\n",
      "Patient ID: PSMA-01-276 | Body part: Bottom | Rotation: 040\n"
     ]
    },
    {
     "name": "stderr",
     "output_type": "stream",
     "text": [
      "100%|██████████| 10/10 [08:46<00:00, 52.63s/it]\n"
     ]
    },
    {
     "name": "stdout",
     "output_type": "stream",
     "text": [
      "Patient ID: PSMA-01-276 | Body part: Top | Rotation: 045\n",
      "Patient ID: PSMA-01-276 | Body part: Bottom | Rotation: 045\n"
     ]
    },
    {
     "name": "stderr",
     "output_type": "stream",
     "text": [
      "100%|██████████| 10/10 [08:46<00:00, 52.63s/it]\n"
     ]
    },
    {
     "name": "stdout",
     "output_type": "stream",
     "text": [
      "Patient ID: PSMA-01-276 | Body part: Top | Rotation: 050\n",
      "Patient ID: PSMA-01-276 | Body part: Bottom | Rotation: 050\n"
     ]
    },
    {
     "name": "stderr",
     "output_type": "stream",
     "text": [
      "100%|██████████| 10/10 [08:48<00:00, 52.81s/it]\n"
     ]
    },
    {
     "name": "stdout",
     "output_type": "stream",
     "text": [
      "Patient ID: PSMA-01-276 | Body part: Top | Rotation: 055\n",
      "Patient ID: PSMA-01-276 | Body part: Bottom | Rotation: 055\n"
     ]
    },
    {
     "name": "stderr",
     "output_type": "stream",
     "text": [
      "100%|██████████| 10/10 [08:47<00:00, 52.72s/it]\n"
     ]
    },
    {
     "name": "stdout",
     "output_type": "stream",
     "text": [
      "Patient ID: PSMA-01-276 | Body part: Top | Rotation: 060\n",
      "Patient ID: PSMA-01-276 | Body part: Bottom | Rotation: 060\n"
     ]
    },
    {
     "name": "stderr",
     "output_type": "stream",
     "text": [
      "100%|██████████| 10/10 [08:46<00:00, 52.69s/it]\n"
     ]
    },
    {
     "name": "stdout",
     "output_type": "stream",
     "text": [
      "Patient ID: PSMA-01-276 | Body part: Top | Rotation: 065\n",
      "Patient ID: PSMA-01-276 | Body part: Bottom | Rotation: 065\n"
     ]
    },
    {
     "name": "stderr",
     "output_type": "stream",
     "text": [
      "100%|██████████| 10/10 [08:45<00:00, 52.52s/it]\n"
     ]
    },
    {
     "name": "stdout",
     "output_type": "stream",
     "text": [
      "Patient ID: PSMA-01-276 | Body part: Top | Rotation: 070\n",
      "Patient ID: PSMA-01-276 | Body part: Bottom | Rotation: 070\n"
     ]
    },
    {
     "name": "stderr",
     "output_type": "stream",
     "text": [
      "100%|██████████| 10/10 [08:47<00:00, 52.71s/it]\n"
     ]
    },
    {
     "name": "stdout",
     "output_type": "stream",
     "text": [
      "Patient ID: PSMA-01-276 | Body part: Top | Rotation: 075\n",
      "Patient ID: PSMA-01-276 | Body part: Bottom | Rotation: 075\n"
     ]
    },
    {
     "name": "stderr",
     "output_type": "stream",
     "text": [
      "100%|██████████| 10/10 [08:44<00:00, 52.45s/it]\n"
     ]
    },
    {
     "name": "stdout",
     "output_type": "stream",
     "text": [
      "Patient ID: PSMA-01-276 | Body part: Top | Rotation: 080\n",
      "Patient ID: PSMA-01-276 | Body part: Bottom | Rotation: 080\n"
     ]
    },
    {
     "name": "stderr",
     "output_type": "stream",
     "text": [
      "100%|██████████| 10/10 [08:43<00:00, 52.35s/it]\n"
     ]
    },
    {
     "name": "stdout",
     "output_type": "stream",
     "text": [
      "Patient ID: PSMA-01-276 | Body part: Top | Rotation: 085\n",
      "Patient ID: PSMA-01-276 | Body part: Bottom | Rotation: 085\n"
     ]
    },
    {
     "name": "stderr",
     "output_type": "stream",
     "text": [
      "100%|██████████| 10/10 [08:44<00:00, 52.46s/it]\n"
     ]
    },
    {
     "name": "stdout",
     "output_type": "stream",
     "text": [
      "Patient ID: PSMA-01-276 | Body part: Top | Rotation: 090\n",
      "Patient ID: PSMA-01-276 | Body part: Bottom | Rotation: 090\n"
     ]
    },
    {
     "name": "stderr",
     "output_type": "stream",
     "text": [
      "100%|██████████| 10/10 [08:47<00:00, 52.74s/it]\n"
     ]
    },
    {
     "name": "stdout",
     "output_type": "stream",
     "text": [
      "Patient ID: PSMA-01-276 | Body part: Top | Rotation: 095\n",
      "Patient ID: PSMA-01-276 | Body part: Bottom | Rotation: 095\n"
     ]
    },
    {
     "name": "stderr",
     "output_type": "stream",
     "text": [
      "100%|██████████| 10/10 [08:46<00:00, 52.64s/it]\n"
     ]
    },
    {
     "name": "stdout",
     "output_type": "stream",
     "text": [
      "Patient ID: PSMA-01-276 | Body part: Top | Rotation: 100\n",
      "Patient ID: PSMA-01-276 | Body part: Bottom | Rotation: 100\n"
     ]
    },
    {
     "name": "stderr",
     "output_type": "stream",
     "text": [
      "100%|██████████| 10/10 [08:43<00:00, 52.36s/it]\n"
     ]
    },
    {
     "name": "stdout",
     "output_type": "stream",
     "text": [
      "Patient ID: PSMA-01-276 | Body part: Top | Rotation: 105\n",
      "Patient ID: PSMA-01-276 | Body part: Bottom | Rotation: 105\n"
     ]
    },
    {
     "name": "stderr",
     "output_type": "stream",
     "text": [
      "100%|██████████| 10/10 [08:44<00:00, 52.44s/it]\n"
     ]
    },
    {
     "name": "stdout",
     "output_type": "stream",
     "text": [
      "Patient ID: PSMA-01-276 | Body part: Top | Rotation: 110\n",
      "Patient ID: PSMA-01-276 | Body part: Bottom | Rotation: 110\n"
     ]
    },
    {
     "name": "stderr",
     "output_type": "stream",
     "text": [
      "100%|██████████| 10/10 [08:44<00:00, 52.49s/it]\n"
     ]
    },
    {
     "name": "stdout",
     "output_type": "stream",
     "text": [
      "Patient ID: PSMA-01-276 | Body part: Top | Rotation: 115\n",
      "Patient ID: PSMA-01-276 | Body part: Bottom | Rotation: 115\n"
     ]
    },
    {
     "name": "stderr",
     "output_type": "stream",
     "text": [
      "100%|██████████| 10/10 [08:47<00:00, 52.72s/it]\n"
     ]
    },
    {
     "name": "stdout",
     "output_type": "stream",
     "text": [
      "Patient ID: PSMA-01-276 | Body part: Top | Rotation: 120\n",
      "Patient ID: PSMA-01-276 | Body part: Bottom | Rotation: 120\n"
     ]
    },
    {
     "name": "stderr",
     "output_type": "stream",
     "text": [
      "100%|██████████| 10/10 [08:45<00:00, 52.57s/it]\n"
     ]
    },
    {
     "name": "stdout",
     "output_type": "stream",
     "text": [
      "Patient ID: PSMA-01-276 | Body part: Top | Rotation: 125\n",
      "Patient ID: PSMA-01-276 | Body part: Bottom | Rotation: 125\n"
     ]
    },
    {
     "name": "stderr",
     "output_type": "stream",
     "text": [
      "100%|██████████| 10/10 [08:47<00:00, 52.71s/it]\n"
     ]
    },
    {
     "name": "stdout",
     "output_type": "stream",
     "text": [
      "Patient ID: PSMA-01-276 | Body part: Top | Rotation: 130\n",
      "Patient ID: PSMA-01-276 | Body part: Bottom | Rotation: 130\n"
     ]
    },
    {
     "name": "stderr",
     "output_type": "stream",
     "text": [
      "100%|██████████| 10/10 [08:46<00:00, 52.61s/it]\n"
     ]
    },
    {
     "name": "stdout",
     "output_type": "stream",
     "text": [
      "Patient ID: PSMA-01-276 | Body part: Top | Rotation: 135\n",
      "Patient ID: PSMA-01-276 | Body part: Bottom | Rotation: 135\n"
     ]
    },
    {
     "name": "stderr",
     "output_type": "stream",
     "text": [
      "100%|██████████| 10/10 [08:43<00:00, 52.38s/it]\n"
     ]
    },
    {
     "name": "stdout",
     "output_type": "stream",
     "text": [
      "Patient ID: PSMA-01-276 | Body part: Top | Rotation: 140\n",
      "Patient ID: PSMA-01-276 | Body part: Bottom | Rotation: 140\n"
     ]
    },
    {
     "name": "stderr",
     "output_type": "stream",
     "text": [
      "100%|██████████| 10/10 [08:47<00:00, 52.73s/it]\n"
     ]
    },
    {
     "name": "stdout",
     "output_type": "stream",
     "text": [
      "Patient ID: PSMA-01-276 | Body part: Top | Rotation: 145\n",
      "Patient ID: PSMA-01-276 | Body part: Bottom | Rotation: 145\n"
     ]
    },
    {
     "name": "stderr",
     "output_type": "stream",
     "text": [
      "100%|██████████| 10/10 [08:43<00:00, 52.36s/it]\n"
     ]
    },
    {
     "name": "stdout",
     "output_type": "stream",
     "text": [
      "Patient ID: PSMA-01-276 | Body part: Top | Rotation: 150\n",
      "Patient ID: PSMA-01-276 | Body part: Bottom | Rotation: 150\n"
     ]
    },
    {
     "name": "stderr",
     "output_type": "stream",
     "text": [
      "100%|██████████| 10/10 [08:44<00:00, 52.43s/it]\n"
     ]
    },
    {
     "name": "stdout",
     "output_type": "stream",
     "text": [
      "Patient ID: PSMA-01-276 | Body part: Top | Rotation: 155\n",
      "Patient ID: PSMA-01-276 | Body part: Bottom | Rotation: 155\n"
     ]
    },
    {
     "name": "stderr",
     "output_type": "stream",
     "text": [
      "100%|██████████| 10/10 [09:00<00:00, 54.01s/it]\n"
     ]
    },
    {
     "name": "stdout",
     "output_type": "stream",
     "text": [
      "Patient ID: PSMA-01-276 | Body part: Top | Rotation: 160\n",
      "Patient ID: PSMA-01-276 | Body part: Bottom | Rotation: 160\n"
     ]
    },
    {
     "name": "stderr",
     "output_type": "stream",
     "text": [
      "100%|██████████| 10/10 [09:00<00:00, 54.01s/it]\n"
     ]
    },
    {
     "name": "stdout",
     "output_type": "stream",
     "text": [
      "Patient ID: PSMA-01-276 | Body part: Top | Rotation: 165\n",
      "Patient ID: PSMA-01-276 | Body part: Bottom | Rotation: 165\n"
     ]
    },
    {
     "name": "stderr",
     "output_type": "stream",
     "text": [
      "100%|██████████| 10/10 [08:45<00:00, 52.58s/it]\n"
     ]
    },
    {
     "name": "stdout",
     "output_type": "stream",
     "text": [
      "Patient ID: PSMA-01-276 | Body part: Top | Rotation: 170\n",
      "Patient ID: PSMA-01-276 | Body part: Bottom | Rotation: 170\n"
     ]
    },
    {
     "name": "stderr",
     "output_type": "stream",
     "text": [
      "100%|██████████| 10/10 [08:58<00:00, 53.84s/it]\n"
     ]
    },
    {
     "name": "stdout",
     "output_type": "stream",
     "text": [
      "Patient ID: PSMA-01-276 | Body part: Top | Rotation: 175\n",
      "Patient ID: PSMA-01-276 | Body part: Bottom | Rotation: 175\n"
     ]
    },
    {
     "name": "stderr",
     "output_type": "stream",
     "text": [
      "100%|██████████| 10/10 [08:58<00:00, 53.86s/it]\n"
     ]
    },
    {
     "name": "stdout",
     "output_type": "stream",
     "text": [
      "Patient ID: PSMA-01-276 | Body part: Top | Rotation: 180\n",
      "Patient ID: PSMA-01-276 | Body part: Bottom | Rotation: 180\n"
     ]
    },
    {
     "name": "stderr",
     "output_type": "stream",
     "text": [
      "100%|██████████| 10/10 [08:44<00:00, 52.42s/it]\n"
     ]
    },
    {
     "name": "stdout",
     "output_type": "stream",
     "text": [
      "Patient ID: PSMA-01-276 | Body part: Top | Rotation: 185\n",
      "Patient ID: PSMA-01-276 | Body part: Bottom | Rotation: 185\n"
     ]
    },
    {
     "name": "stderr",
     "output_type": "stream",
     "text": [
      "100%|██████████| 10/10 [08:45<00:00, 52.59s/it]\n"
     ]
    },
    {
     "name": "stdout",
     "output_type": "stream",
     "text": [
      "Patient ID: PSMA-01-276 | Body part: Top | Rotation: 190\n",
      "Patient ID: PSMA-01-276 | Body part: Bottom | Rotation: 190\n"
     ]
    },
    {
     "name": "stderr",
     "output_type": "stream",
     "text": [
      "100%|██████████| 10/10 [08:43<00:00, 52.32s/it]\n"
     ]
    },
    {
     "name": "stdout",
     "output_type": "stream",
     "text": [
      "Patient ID: PSMA-01-276 | Body part: Top | Rotation: 195\n",
      "Patient ID: PSMA-01-276 | Body part: Bottom | Rotation: 195\n"
     ]
    },
    {
     "name": "stderr",
     "output_type": "stream",
     "text": [
      "100%|██████████| 10/10 [08:51<00:00, 53.11s/it]\n"
     ]
    },
    {
     "name": "stdout",
     "output_type": "stream",
     "text": [
      "Patient ID: PSMA-01-276 | Body part: Top | Rotation: 200\n",
      "Patient ID: PSMA-01-276 | Body part: Bottom | Rotation: 200\n"
     ]
    },
    {
     "name": "stderr",
     "output_type": "stream",
     "text": [
      "100%|██████████| 10/10 [08:44<00:00, 52.50s/it]\n"
     ]
    },
    {
     "name": "stdout",
     "output_type": "stream",
     "text": [
      "Patient ID: PSMA-01-276 | Body part: Top | Rotation: 205\n",
      "Patient ID: PSMA-01-276 | Body part: Bottom | Rotation: 205\n"
     ]
    },
    {
     "name": "stderr",
     "output_type": "stream",
     "text": [
      "100%|██████████| 10/10 [08:56<00:00, 53.61s/it]\n"
     ]
    },
    {
     "name": "stdout",
     "output_type": "stream",
     "text": [
      "Patient ID: PSMA-01-276 | Body part: Top | Rotation: 210\n",
      "Patient ID: PSMA-01-276 | Body part: Bottom | Rotation: 210\n"
     ]
    },
    {
     "name": "stderr",
     "output_type": "stream",
     "text": [
      "100%|██████████| 10/10 [08:43<00:00, 52.33s/it]\n"
     ]
    },
    {
     "name": "stdout",
     "output_type": "stream",
     "text": [
      "Patient ID: PSMA-01-276 | Body part: Top | Rotation: 215\n",
      "Patient ID: PSMA-01-276 | Body part: Bottom | Rotation: 215\n"
     ]
    },
    {
     "name": "stderr",
     "output_type": "stream",
     "text": [
      "100%|██████████| 10/10 [08:47<00:00, 52.76s/it]\n"
     ]
    },
    {
     "name": "stdout",
     "output_type": "stream",
     "text": [
      "Patient ID: PSMA-01-276 | Body part: Top | Rotation: 220\n",
      "Patient ID: PSMA-01-276 | Body part: Bottom | Rotation: 220\n"
     ]
    },
    {
     "name": "stderr",
     "output_type": "stream",
     "text": [
      "100%|██████████| 10/10 [08:43<00:00, 52.33s/it]\n"
     ]
    },
    {
     "name": "stdout",
     "output_type": "stream",
     "text": [
      "Patient ID: PSMA-01-276 | Body part: Top | Rotation: 225\n",
      "Patient ID: PSMA-01-276 | Body part: Bottom | Rotation: 225\n"
     ]
    },
    {
     "name": "stderr",
     "output_type": "stream",
     "text": [
      "100%|██████████| 10/10 [08:46<00:00, 52.61s/it]\n"
     ]
    },
    {
     "name": "stdout",
     "output_type": "stream",
     "text": [
      "Patient ID: PSMA-01-276 | Body part: Top | Rotation: 230\n",
      "Patient ID: PSMA-01-276 | Body part: Bottom | Rotation: 230\n"
     ]
    },
    {
     "name": "stderr",
     "output_type": "stream",
     "text": [
      "100%|██████████| 10/10 [08:47<00:00, 52.79s/it]\n"
     ]
    },
    {
     "name": "stdout",
     "output_type": "stream",
     "text": [
      "Patient ID: PSMA-01-276 | Body part: Top | Rotation: 235\n",
      "Patient ID: PSMA-01-276 | Body part: Bottom | Rotation: 235\n"
     ]
    },
    {
     "name": "stderr",
     "output_type": "stream",
     "text": [
      "100%|██████████| 10/10 [08:44<00:00, 52.40s/it]\n"
     ]
    },
    {
     "name": "stdout",
     "output_type": "stream",
     "text": [
      "Patient ID: PSMA-01-276 | Body part: Top | Rotation: 240\n",
      "Patient ID: PSMA-01-276 | Body part: Bottom | Rotation: 240\n"
     ]
    },
    {
     "name": "stderr",
     "output_type": "stream",
     "text": [
      "100%|██████████| 10/10 [08:52<00:00, 53.29s/it]\n"
     ]
    },
    {
     "name": "stdout",
     "output_type": "stream",
     "text": [
      "Patient ID: PSMA-01-276 | Body part: Top | Rotation: 245\n",
      "Patient ID: PSMA-01-276 | Body part: Bottom | Rotation: 245\n"
     ]
    },
    {
     "name": "stderr",
     "output_type": "stream",
     "text": [
      "100%|██████████| 10/10 [08:46<00:00, 52.67s/it]\n"
     ]
    },
    {
     "name": "stdout",
     "output_type": "stream",
     "text": [
      "Patient ID: PSMA-01-276 | Body part: Top | Rotation: 250\n",
      "Patient ID: PSMA-01-276 | Body part: Bottom | Rotation: 250\n"
     ]
    },
    {
     "name": "stderr",
     "output_type": "stream",
     "text": [
      "100%|██████████| 10/10 [09:02<00:00, 54.21s/it]\n"
     ]
    },
    {
     "name": "stdout",
     "output_type": "stream",
     "text": [
      "Patient ID: PSMA-01-276 | Body part: Top | Rotation: 255\n",
      "Patient ID: PSMA-01-276 | Body part: Bottom | Rotation: 255\n"
     ]
    },
    {
     "name": "stderr",
     "output_type": "stream",
     "text": [
      "100%|██████████| 10/10 [08:44<00:00, 52.48s/it]\n"
     ]
    },
    {
     "name": "stdout",
     "output_type": "stream",
     "text": [
      "Patient ID: PSMA-01-276 | Body part: Top | Rotation: 260\n",
      "Patient ID: PSMA-01-276 | Body part: Bottom | Rotation: 260\n"
     ]
    },
    {
     "name": "stderr",
     "output_type": "stream",
     "text": [
      "100%|██████████| 10/10 [08:46<00:00, 52.68s/it]\n"
     ]
    },
    {
     "name": "stdout",
     "output_type": "stream",
     "text": [
      "Patient ID: PSMA-01-276 | Body part: Top | Rotation: 265\n",
      "Patient ID: PSMA-01-276 | Body part: Bottom | Rotation: 265\n"
     ]
    },
    {
     "name": "stderr",
     "output_type": "stream",
     "text": [
      "100%|██████████| 10/10 [08:48<00:00, 52.81s/it]\n"
     ]
    },
    {
     "name": "stdout",
     "output_type": "stream",
     "text": [
      "Patient ID: PSMA-01-276 | Body part: Top | Rotation: 270\n",
      "Patient ID: PSMA-01-276 | Body part: Bottom | Rotation: 270\n"
     ]
    },
    {
     "name": "stderr",
     "output_type": "stream",
     "text": [
      "100%|██████████| 10/10 [08:46<00:00, 52.65s/it]\n"
     ]
    },
    {
     "name": "stdout",
     "output_type": "stream",
     "text": [
      "Patient ID: PSMA-01-276 | Body part: Top | Rotation: 275\n",
      "Patient ID: PSMA-01-276 | Body part: Bottom | Rotation: 275\n"
     ]
    },
    {
     "name": "stderr",
     "output_type": "stream",
     "text": [
      "100%|██████████| 10/10 [08:43<00:00, 52.33s/it]\n"
     ]
    },
    {
     "name": "stdout",
     "output_type": "stream",
     "text": [
      "Patient ID: PSMA-01-276 | Body part: Top | Rotation: 280\n",
      "Patient ID: PSMA-01-276 | Body part: Bottom | Rotation: 280\n"
     ]
    },
    {
     "name": "stderr",
     "output_type": "stream",
     "text": [
      "100%|██████████| 10/10 [08:47<00:00, 52.75s/it]\n"
     ]
    },
    {
     "name": "stdout",
     "output_type": "stream",
     "text": [
      "Patient ID: PSMA-01-276 | Body part: Top | Rotation: 285\n",
      "Patient ID: PSMA-01-276 | Body part: Bottom | Rotation: 285\n"
     ]
    },
    {
     "name": "stderr",
     "output_type": "stream",
     "text": [
      "100%|██████████| 10/10 [08:44<00:00, 52.44s/it]\n"
     ]
    },
    {
     "name": "stdout",
     "output_type": "stream",
     "text": [
      "Patient ID: PSMA-01-276 | Body part: Top | Rotation: 290\n",
      "Patient ID: PSMA-01-276 | Body part: Bottom | Rotation: 290\n"
     ]
    },
    {
     "name": "stderr",
     "output_type": "stream",
     "text": [
      "100%|██████████| 10/10 [08:46<00:00, 52.63s/it]\n"
     ]
    },
    {
     "name": "stdout",
     "output_type": "stream",
     "text": [
      "Patient ID: PSMA-01-276 | Body part: Top | Rotation: 295\n",
      "Patient ID: PSMA-01-276 | Body part: Bottom | Rotation: 295\n"
     ]
    },
    {
     "name": "stderr",
     "output_type": "stream",
     "text": [
      "100%|██████████| 10/10 [08:47<00:00, 52.80s/it]\n"
     ]
    },
    {
     "name": "stdout",
     "output_type": "stream",
     "text": [
      "Patient ID: PSMA-01-276 | Body part: Top | Rotation: 300\n",
      "Patient ID: PSMA-01-276 | Body part: Bottom | Rotation: 300\n"
     ]
    },
    {
     "name": "stderr",
     "output_type": "stream",
     "text": [
      "100%|██████████| 10/10 [08:43<00:00, 52.37s/it]\n"
     ]
    },
    {
     "name": "stdout",
     "output_type": "stream",
     "text": [
      "Patient ID: PSMA-01-276 | Body part: Top | Rotation: 305\n",
      "Patient ID: PSMA-01-276 | Body part: Bottom | Rotation: 305\n"
     ]
    },
    {
     "name": "stderr",
     "output_type": "stream",
     "text": [
      "100%|██████████| 10/10 [08:46<00:00, 52.63s/it]\n"
     ]
    },
    {
     "name": "stdout",
     "output_type": "stream",
     "text": [
      "Patient ID: PSMA-01-276 | Body part: Top | Rotation: 310\n",
      "Patient ID: PSMA-01-276 | Body part: Bottom | Rotation: 310\n"
     ]
    },
    {
     "name": "stderr",
     "output_type": "stream",
     "text": [
      "100%|██████████| 10/10 [08:45<00:00, 52.59s/it]\n"
     ]
    },
    {
     "name": "stdout",
     "output_type": "stream",
     "text": [
      "Patient ID: PSMA-01-276 | Body part: Top | Rotation: 315\n",
      "Patient ID: PSMA-01-276 | Body part: Bottom | Rotation: 315\n"
     ]
    },
    {
     "name": "stderr",
     "output_type": "stream",
     "text": [
      "100%|██████████| 10/10 [08:43<00:00, 52.36s/it]\n"
     ]
    },
    {
     "name": "stdout",
     "output_type": "stream",
     "text": [
      "Patient ID: PSMA-01-276 | Body part: Top | Rotation: 320\n",
      "Patient ID: PSMA-01-276 | Body part: Bottom | Rotation: 320\n"
     ]
    },
    {
     "name": "stderr",
     "output_type": "stream",
     "text": [
      "100%|██████████| 10/10 [08:47<00:00, 52.74s/it]\n"
     ]
    },
    {
     "name": "stdout",
     "output_type": "stream",
     "text": [
      "Patient ID: PSMA-01-276 | Body part: Top | Rotation: 325\n",
      "Patient ID: PSMA-01-276 | Body part: Bottom | Rotation: 325\n"
     ]
    },
    {
     "name": "stderr",
     "output_type": "stream",
     "text": [
      "100%|██████████| 10/10 [08:45<00:00, 52.51s/it]\n"
     ]
    },
    {
     "name": "stdout",
     "output_type": "stream",
     "text": [
      "Patient ID: PSMA-01-276 | Body part: Top | Rotation: 330\n",
      "Patient ID: PSMA-01-276 | Body part: Bottom | Rotation: 330\n"
     ]
    },
    {
     "name": "stderr",
     "output_type": "stream",
     "text": [
      "100%|██████████| 10/10 [09:02<00:00, 54.21s/it]\n"
     ]
    },
    {
     "name": "stdout",
     "output_type": "stream",
     "text": [
      "Patient ID: PSMA-01-276 | Body part: Top | Rotation: 335\n",
      "Patient ID: PSMA-01-276 | Body part: Bottom | Rotation: 335\n"
     ]
    },
    {
     "name": "stderr",
     "output_type": "stream",
     "text": [
      "100%|██████████| 10/10 [08:43<00:00, 52.35s/it]\n"
     ]
    },
    {
     "name": "stdout",
     "output_type": "stream",
     "text": [
      "Patient ID: PSMA-01-276 | Body part: Top | Rotation: 340\n",
      "Patient ID: PSMA-01-276 | Body part: Bottom | Rotation: 340\n"
     ]
    },
    {
     "name": "stderr",
     "output_type": "stream",
     "text": [
      "100%|██████████| 10/10 [08:46<00:00, 52.64s/it]\n"
     ]
    },
    {
     "name": "stdout",
     "output_type": "stream",
     "text": [
      "Patient ID: PSMA-01-276 | Body part: Top | Rotation: 345\n",
      "Patient ID: PSMA-01-276 | Body part: Bottom | Rotation: 345\n"
     ]
    },
    {
     "name": "stderr",
     "output_type": "stream",
     "text": [
      "100%|██████████| 10/10 [08:47<00:00, 52.70s/it]\n"
     ]
    },
    {
     "name": "stdout",
     "output_type": "stream",
     "text": [
      "Patient ID: PSMA-01-276 | Body part: Top | Rotation: 350\n",
      "Patient ID: PSMA-01-276 | Body part: Bottom | Rotation: 350\n"
     ]
    },
    {
     "name": "stderr",
     "output_type": "stream",
     "text": [
      "100%|██████████| 10/10 [08:46<00:00, 52.62s/it]\n"
     ]
    },
    {
     "name": "stdout",
     "output_type": "stream",
     "text": [
      "Patient ID: PSMA-01-276 | Body part: Top | Rotation: 355\n",
      "Patient ID: PSMA-01-276 | Body part: Bottom | Rotation: 355\n"
     ]
    },
    {
     "name": "stderr",
     "output_type": "stream",
     "text": [
      "100%|██████████| 10/10 [08:46<00:00, 52.60s/it]\n"
     ]
    },
    {
     "name": "stdout",
     "output_type": "stream",
     "text": [
      "Patient ID: PSMA-01-281 | Body part: Top | Rotation: 000\n",
      "Patient ID: PSMA-01-281 | Body part: Bottom | Rotation: 000\n"
     ]
    },
    {
     "name": "stderr",
     "output_type": "stream",
     "text": [
      "100%|██████████| 10/10 [08:59<00:00, 53.93s/it]\n"
     ]
    },
    {
     "name": "stdout",
     "output_type": "stream",
     "text": [
      "Patient ID: PSMA-01-281 | Body part: Top | Rotation: 005\n",
      "Patient ID: PSMA-01-281 | Body part: Bottom | Rotation: 005\n"
     ]
    },
    {
     "name": "stderr",
     "output_type": "stream",
     "text": [
      "100%|██████████| 10/10 [08:44<00:00, 52.40s/it]\n"
     ]
    },
    {
     "name": "stdout",
     "output_type": "stream",
     "text": [
      "Patient ID: PSMA-01-281 | Body part: Top | Rotation: 010\n",
      "Patient ID: PSMA-01-281 | Body part: Bottom | Rotation: 010\n"
     ]
    },
    {
     "name": "stderr",
     "output_type": "stream",
     "text": [
      "100%|██████████| 10/10 [08:47<00:00, 52.73s/it]\n"
     ]
    },
    {
     "name": "stdout",
     "output_type": "stream",
     "text": [
      "Patient ID: PSMA-01-281 | Body part: Top | Rotation: 015\n",
      "Patient ID: PSMA-01-281 | Body part: Bottom | Rotation: 015\n"
     ]
    },
    {
     "name": "stderr",
     "output_type": "stream",
     "text": [
      "100%|██████████| 10/10 [09:04<00:00, 54.47s/it]\n"
     ]
    },
    {
     "name": "stdout",
     "output_type": "stream",
     "text": [
      "Patient ID: PSMA-01-281 | Body part: Top | Rotation: 020\n",
      "Patient ID: PSMA-01-281 | Body part: Bottom | Rotation: 020\n"
     ]
    },
    {
     "name": "stderr",
     "output_type": "stream",
     "text": [
      "100%|██████████| 10/10 [09:01<00:00, 54.13s/it]\n"
     ]
    },
    {
     "name": "stdout",
     "output_type": "stream",
     "text": [
      "Patient ID: PSMA-01-281 | Body part: Top | Rotation: 025\n",
      "Patient ID: PSMA-01-281 | Body part: Bottom | Rotation: 025\n"
     ]
    },
    {
     "name": "stderr",
     "output_type": "stream",
     "text": [
      "100%|██████████| 10/10 [08:44<00:00, 52.44s/it]\n"
     ]
    },
    {
     "name": "stdout",
     "output_type": "stream",
     "text": [
      "Patient ID: PSMA-01-281 | Body part: Top | Rotation: 030\n",
      "Patient ID: PSMA-01-281 | Body part: Bottom | Rotation: 030\n"
     ]
    },
    {
     "name": "stderr",
     "output_type": "stream",
     "text": [
      "100%|██████████| 10/10 [08:44<00:00, 52.41s/it]\n"
     ]
    },
    {
     "name": "stdout",
     "output_type": "stream",
     "text": [
      "Patient ID: PSMA-01-281 | Body part: Top | Rotation: 035\n",
      "Patient ID: PSMA-01-281 | Body part: Bottom | Rotation: 035\n"
     ]
    },
    {
     "name": "stderr",
     "output_type": "stream",
     "text": [
      "100%|██████████| 10/10 [08:42<00:00, 52.24s/it]\n"
     ]
    },
    {
     "name": "stdout",
     "output_type": "stream",
     "text": [
      "Patient ID: PSMA-01-281 | Body part: Top | Rotation: 040\n",
      "Patient ID: PSMA-01-281 | Body part: Bottom | Rotation: 040\n"
     ]
    },
    {
     "name": "stderr",
     "output_type": "stream",
     "text": [
      "100%|██████████| 10/10 [08:46<00:00, 52.62s/it]\n"
     ]
    },
    {
     "name": "stdout",
     "output_type": "stream",
     "text": [
      "Patient ID: PSMA-01-281 | Body part: Top | Rotation: 045\n",
      "Patient ID: PSMA-01-281 | Body part: Bottom | Rotation: 045\n"
     ]
    },
    {
     "name": "stderr",
     "output_type": "stream",
     "text": [
      "100%|██████████| 10/10 [08:46<00:00, 52.61s/it]\n"
     ]
    },
    {
     "name": "stdout",
     "output_type": "stream",
     "text": [
      "Patient ID: PSMA-01-281 | Body part: Top | Rotation: 050\n",
      "Patient ID: PSMA-01-281 | Body part: Bottom | Rotation: 050\n"
     ]
    },
    {
     "name": "stderr",
     "output_type": "stream",
     "text": [
      "100%|██████████| 10/10 [08:45<00:00, 52.60s/it]\n"
     ]
    },
    {
     "name": "stdout",
     "output_type": "stream",
     "text": [
      "Patient ID: PSMA-01-281 | Body part: Top | Rotation: 055\n",
      "Patient ID: PSMA-01-281 | Body part: Bottom | Rotation: 055\n"
     ]
    },
    {
     "name": "stderr",
     "output_type": "stream",
     "text": [
      "100%|██████████| 10/10 [08:46<00:00, 52.65s/it]\n"
     ]
    },
    {
     "name": "stdout",
     "output_type": "stream",
     "text": [
      "Patient ID: PSMA-01-281 | Body part: Top | Rotation: 060\n",
      "Patient ID: PSMA-01-281 | Body part: Bottom | Rotation: 060\n"
     ]
    },
    {
     "name": "stderr",
     "output_type": "stream",
     "text": [
      "100%|██████████| 10/10 [08:46<00:00, 52.65s/it]\n"
     ]
    },
    {
     "name": "stdout",
     "output_type": "stream",
     "text": [
      "Patient ID: PSMA-01-281 | Body part: Top | Rotation: 065\n",
      "Patient ID: PSMA-01-281 | Body part: Bottom | Rotation: 065\n"
     ]
    },
    {
     "name": "stderr",
     "output_type": "stream",
     "text": [
      "100%|██████████| 10/10 [08:42<00:00, 52.27s/it]\n"
     ]
    },
    {
     "name": "stdout",
     "output_type": "stream",
     "text": [
      "Patient ID: PSMA-01-281 | Body part: Top | Rotation: 070\n",
      "Patient ID: PSMA-01-281 | Body part: Bottom | Rotation: 070\n"
     ]
    },
    {
     "name": "stderr",
     "output_type": "stream",
     "text": [
      "100%|██████████| 10/10 [08:46<00:00, 52.66s/it]\n"
     ]
    },
    {
     "name": "stdout",
     "output_type": "stream",
     "text": [
      "Patient ID: PSMA-01-281 | Body part: Top | Rotation: 075\n",
      "Patient ID: PSMA-01-281 | Body part: Bottom | Rotation: 075\n"
     ]
    },
    {
     "name": "stderr",
     "output_type": "stream",
     "text": [
      "100%|██████████| 10/10 [08:47<00:00, 52.72s/it]\n"
     ]
    },
    {
     "name": "stdout",
     "output_type": "stream",
     "text": [
      "Patient ID: PSMA-01-281 | Body part: Top | Rotation: 080\n",
      "Patient ID: PSMA-01-281 | Body part: Bottom | Rotation: 080\n"
     ]
    },
    {
     "name": "stderr",
     "output_type": "stream",
     "text": [
      "100%|██████████| 10/10 [08:53<00:00, 53.39s/it]\n"
     ]
    },
    {
     "name": "stdout",
     "output_type": "stream",
     "text": [
      "Patient ID: PSMA-01-281 | Body part: Top | Rotation: 085\n",
      "Patient ID: PSMA-01-281 | Body part: Bottom | Rotation: 085\n"
     ]
    },
    {
     "name": "stderr",
     "output_type": "stream",
     "text": [
      "100%|██████████| 10/10 [08:46<00:00, 52.68s/it]\n"
     ]
    },
    {
     "name": "stdout",
     "output_type": "stream",
     "text": [
      "Patient ID: PSMA-01-281 | Body part: Top | Rotation: 090\n",
      "Patient ID: PSMA-01-281 | Body part: Bottom | Rotation: 090\n"
     ]
    },
    {
     "name": "stderr",
     "output_type": "stream",
     "text": [
      "100%|██████████| 10/10 [08:46<00:00, 52.61s/it]\n"
     ]
    },
    {
     "name": "stdout",
     "output_type": "stream",
     "text": [
      "Patient ID: PSMA-01-281 | Body part: Top | Rotation: 095\n",
      "Patient ID: PSMA-01-281 | Body part: Bottom | Rotation: 095\n"
     ]
    },
    {
     "name": "stderr",
     "output_type": "stream",
     "text": [
      "100%|██████████| 10/10 [08:46<00:00, 52.69s/it]\n"
     ]
    },
    {
     "name": "stdout",
     "output_type": "stream",
     "text": [
      "Patient ID: PSMA-01-281 | Body part: Top | Rotation: 100\n",
      "Patient ID: PSMA-01-281 | Body part: Bottom | Rotation: 100\n"
     ]
    },
    {
     "name": "stderr",
     "output_type": "stream",
     "text": [
      "100%|██████████| 10/10 [08:43<00:00, 52.35s/it]\n"
     ]
    },
    {
     "name": "stdout",
     "output_type": "stream",
     "text": [
      "Patient ID: PSMA-01-281 | Body part: Top | Rotation: 105\n",
      "Patient ID: PSMA-01-281 | Body part: Bottom | Rotation: 105\n"
     ]
    },
    {
     "name": "stderr",
     "output_type": "stream",
     "text": [
      "100%|██████████| 10/10 [08:56<00:00, 53.66s/it]\n"
     ]
    },
    {
     "name": "stdout",
     "output_type": "stream",
     "text": [
      "Patient ID: PSMA-01-281 | Body part: Top | Rotation: 110\n",
      "Patient ID: PSMA-01-281 | Body part: Bottom | Rotation: 110\n"
     ]
    },
    {
     "name": "stderr",
     "output_type": "stream",
     "text": [
      "100%|██████████| 10/10 [08:44<00:00, 52.50s/it]\n"
     ]
    },
    {
     "name": "stdout",
     "output_type": "stream",
     "text": [
      "Patient ID: PSMA-01-281 | Body part: Top | Rotation: 115\n",
      "Patient ID: PSMA-01-281 | Body part: Bottom | Rotation: 115\n"
     ]
    },
    {
     "name": "stderr",
     "output_type": "stream",
     "text": [
      "100%|██████████| 10/10 [08:46<00:00, 52.63s/it]\n"
     ]
    },
    {
     "name": "stdout",
     "output_type": "stream",
     "text": [
      "Patient ID: PSMA-01-281 | Body part: Top | Rotation: 120\n",
      "Patient ID: PSMA-01-281 | Body part: Bottom | Rotation: 120\n"
     ]
    },
    {
     "name": "stderr",
     "output_type": "stream",
     "text": [
      "100%|██████████| 10/10 [08:46<00:00, 52.62s/it]\n"
     ]
    },
    {
     "name": "stdout",
     "output_type": "stream",
     "text": [
      "Patient ID: PSMA-01-281 | Body part: Top | Rotation: 125\n",
      "Patient ID: PSMA-01-281 | Body part: Bottom | Rotation: 125\n"
     ]
    },
    {
     "name": "stderr",
     "output_type": "stream",
     "text": [
      "100%|██████████| 10/10 [08:46<00:00, 52.67s/it]\n"
     ]
    },
    {
     "name": "stdout",
     "output_type": "stream",
     "text": [
      "Patient ID: PSMA-01-281 | Body part: Top | Rotation: 130\n",
      "Patient ID: PSMA-01-281 | Body part: Bottom | Rotation: 130\n"
     ]
    },
    {
     "name": "stderr",
     "output_type": "stream",
     "text": [
      "100%|██████████| 10/10 [08:46<00:00, 52.62s/it]\n"
     ]
    },
    {
     "name": "stdout",
     "output_type": "stream",
     "text": [
      "Patient ID: PSMA-01-281 | Body part: Top | Rotation: 135\n",
      "Patient ID: PSMA-01-281 | Body part: Bottom | Rotation: 135\n"
     ]
    },
    {
     "name": "stderr",
     "output_type": "stream",
     "text": [
      "100%|██████████| 10/10 [08:43<00:00, 52.32s/it]\n"
     ]
    },
    {
     "name": "stdout",
     "output_type": "stream",
     "text": [
      "Patient ID: PSMA-01-281 | Body part: Top | Rotation: 140\n",
      "Patient ID: PSMA-01-281 | Body part: Bottom | Rotation: 140\n"
     ]
    },
    {
     "name": "stderr",
     "output_type": "stream",
     "text": [
      "100%|██████████| 10/10 [08:43<00:00, 52.40s/it]\n"
     ]
    },
    {
     "name": "stdout",
     "output_type": "stream",
     "text": [
      "Patient ID: PSMA-01-281 | Body part: Top | Rotation: 145\n",
      "Patient ID: PSMA-01-281 | Body part: Bottom | Rotation: 145\n"
     ]
    },
    {
     "name": "stderr",
     "output_type": "stream",
     "text": [
      "100%|██████████| 10/10 [08:47<00:00, 52.79s/it]\n"
     ]
    },
    {
     "name": "stdout",
     "output_type": "stream",
     "text": [
      "Patient ID: PSMA-01-281 | Body part: Top | Rotation: 150\n",
      "Patient ID: PSMA-01-281 | Body part: Bottom | Rotation: 150\n"
     ]
    },
    {
     "name": "stderr",
     "output_type": "stream",
     "text": [
      "100%|██████████| 10/10 [08:55<00:00, 53.58s/it]\n"
     ]
    },
    {
     "name": "stdout",
     "output_type": "stream",
     "text": [
      "Patient ID: PSMA-01-281 | Body part: Top | Rotation: 155\n",
      "Patient ID: PSMA-01-281 | Body part: Bottom | Rotation: 155\n"
     ]
    },
    {
     "name": "stderr",
     "output_type": "stream",
     "text": [
      "100%|██████████| 10/10 [08:45<00:00, 52.59s/it]\n"
     ]
    },
    {
     "name": "stdout",
     "output_type": "stream",
     "text": [
      "Patient ID: PSMA-01-281 | Body part: Top | Rotation: 160\n",
      "Patient ID: PSMA-01-281 | Body part: Bottom | Rotation: 160\n"
     ]
    },
    {
     "name": "stderr",
     "output_type": "stream",
     "text": [
      "100%|██████████| 10/10 [08:47<00:00, 52.76s/it]\n"
     ]
    },
    {
     "name": "stdout",
     "output_type": "stream",
     "text": [
      "Patient ID: PSMA-01-281 | Body part: Top | Rotation: 165\n",
      "Patient ID: PSMA-01-281 | Body part: Bottom | Rotation: 165\n"
     ]
    },
    {
     "name": "stderr",
     "output_type": "stream",
     "text": [
      "100%|██████████| 10/10 [08:46<00:00, 52.70s/it]\n"
     ]
    },
    {
     "name": "stdout",
     "output_type": "stream",
     "text": [
      "Patient ID: PSMA-01-281 | Body part: Top | Rotation: 170\n",
      "Patient ID: PSMA-01-281 | Body part: Bottom | Rotation: 170\n"
     ]
    },
    {
     "name": "stderr",
     "output_type": "stream",
     "text": [
      "100%|██████████| 10/10 [08:44<00:00, 52.49s/it]\n"
     ]
    },
    {
     "name": "stdout",
     "output_type": "stream",
     "text": [
      "Patient ID: PSMA-01-281 | Body part: Top | Rotation: 175\n",
      "Patient ID: PSMA-01-281 | Body part: Bottom | Rotation: 175\n"
     ]
    },
    {
     "name": "stderr",
     "output_type": "stream",
     "text": [
      "100%|██████████| 10/10 [08:46<00:00, 52.67s/it]\n"
     ]
    },
    {
     "name": "stdout",
     "output_type": "stream",
     "text": [
      "Patient ID: PSMA-01-281 | Body part: Top | Rotation: 180\n",
      "Patient ID: PSMA-01-281 | Body part: Bottom | Rotation: 180\n"
     ]
    },
    {
     "name": "stderr",
     "output_type": "stream",
     "text": [
      "100%|██████████| 10/10 [08:46<00:00, 52.63s/it]\n"
     ]
    },
    {
     "name": "stdout",
     "output_type": "stream",
     "text": [
      "Patient ID: PSMA-01-281 | Body part: Top | Rotation: 185\n",
      "Patient ID: PSMA-01-281 | Body part: Bottom | Rotation: 185\n"
     ]
    },
    {
     "name": "stderr",
     "output_type": "stream",
     "text": [
      "100%|██████████| 10/10 [08:46<00:00, 52.67s/it]\n"
     ]
    },
    {
     "name": "stdout",
     "output_type": "stream",
     "text": [
      "Patient ID: PSMA-01-281 | Body part: Top | Rotation: 190\n",
      "Patient ID: PSMA-01-281 | Body part: Bottom | Rotation: 190\n"
     ]
    },
    {
     "name": "stderr",
     "output_type": "stream",
     "text": [
      "100%|██████████| 10/10 [08:57<00:00, 53.79s/it]\n"
     ]
    },
    {
     "name": "stdout",
     "output_type": "stream",
     "text": [
      "Patient ID: PSMA-01-281 | Body part: Top | Rotation: 195\n",
      "Patient ID: PSMA-01-281 | Body part: Bottom | Rotation: 195\n"
     ]
    },
    {
     "name": "stderr",
     "output_type": "stream",
     "text": [
      "100%|██████████| 10/10 [08:47<00:00, 52.72s/it]\n"
     ]
    },
    {
     "name": "stdout",
     "output_type": "stream",
     "text": [
      "Patient ID: PSMA-01-281 | Body part: Top | Rotation: 200\n",
      "Patient ID: PSMA-01-281 | Body part: Bottom | Rotation: 200\n"
     ]
    },
    {
     "name": "stderr",
     "output_type": "stream",
     "text": [
      "100%|██████████| 10/10 [08:46<00:00, 52.66s/it]\n"
     ]
    },
    {
     "name": "stdout",
     "output_type": "stream",
     "text": [
      "Patient ID: PSMA-01-281 | Body part: Top | Rotation: 205\n",
      "Patient ID: PSMA-01-281 | Body part: Bottom | Rotation: 205\n"
     ]
    },
    {
     "name": "stderr",
     "output_type": "stream",
     "text": [
      "100%|██████████| 10/10 [08:46<00:00, 52.69s/it]\n"
     ]
    },
    {
     "name": "stdout",
     "output_type": "stream",
     "text": [
      "Patient ID: PSMA-01-281 | Body part: Top | Rotation: 210\n",
      "Patient ID: PSMA-01-281 | Body part: Bottom | Rotation: 210\n"
     ]
    },
    {
     "name": "stderr",
     "output_type": "stream",
     "text": [
      "100%|██████████| 10/10 [08:48<00:00, 52.85s/it]\n"
     ]
    },
    {
     "name": "stdout",
     "output_type": "stream",
     "text": [
      "Patient ID: PSMA-01-281 | Body part: Top | Rotation: 215\n",
      "Patient ID: PSMA-01-281 | Body part: Bottom | Rotation: 215\n"
     ]
    },
    {
     "name": "stderr",
     "output_type": "stream",
     "text": [
      "100%|██████████| 10/10 [08:43<00:00, 52.32s/it]\n"
     ]
    },
    {
     "name": "stdout",
     "output_type": "stream",
     "text": [
      "Patient ID: PSMA-01-281 | Body part: Top | Rotation: 220\n",
      "Patient ID: PSMA-01-281 | Body part: Bottom | Rotation: 220\n"
     ]
    },
    {
     "name": "stderr",
     "output_type": "stream",
     "text": [
      "100%|██████████| 10/10 [08:46<00:00, 52.64s/it]\n"
     ]
    },
    {
     "name": "stdout",
     "output_type": "stream",
     "text": [
      "Patient ID: PSMA-01-281 | Body part: Top | Rotation: 225\n",
      "Patient ID: PSMA-01-281 | Body part: Bottom | Rotation: 225\n"
     ]
    },
    {
     "name": "stderr",
     "output_type": "stream",
     "text": [
      "100%|██████████| 10/10 [08:45<00:00, 52.56s/it]\n"
     ]
    },
    {
     "name": "stdout",
     "output_type": "stream",
     "text": [
      "Patient ID: PSMA-01-281 | Body part: Top | Rotation: 230\n",
      "Patient ID: PSMA-01-281 | Body part: Bottom | Rotation: 230\n"
     ]
    },
    {
     "name": "stderr",
     "output_type": "stream",
     "text": [
      "100%|██████████| 10/10 [08:57<00:00, 53.78s/it]\n"
     ]
    },
    {
     "name": "stdout",
     "output_type": "stream",
     "text": [
      "Patient ID: PSMA-01-281 | Body part: Top | Rotation: 235\n",
      "Patient ID: PSMA-01-281 | Body part: Bottom | Rotation: 235\n"
     ]
    },
    {
     "name": "stderr",
     "output_type": "stream",
     "text": [
      "100%|██████████| 10/10 [08:46<00:00, 52.60s/it]\n"
     ]
    },
    {
     "name": "stdout",
     "output_type": "stream",
     "text": [
      "Patient ID: PSMA-01-281 | Body part: Top | Rotation: 240\n",
      "Patient ID: PSMA-01-281 | Body part: Bottom | Rotation: 240\n"
     ]
    },
    {
     "name": "stderr",
     "output_type": "stream",
     "text": [
      "100%|██████████| 10/10 [08:45<00:00, 52.55s/it]\n"
     ]
    },
    {
     "name": "stdout",
     "output_type": "stream",
     "text": [
      "Patient ID: PSMA-01-281 | Body part: Top | Rotation: 245\n",
      "Patient ID: PSMA-01-281 | Body part: Bottom | Rotation: 245\n"
     ]
    },
    {
     "name": "stderr",
     "output_type": "stream",
     "text": [
      "100%|██████████| 10/10 [08:43<00:00, 52.38s/it]\n"
     ]
    },
    {
     "name": "stdout",
     "output_type": "stream",
     "text": [
      "Patient ID: PSMA-01-281 | Body part: Top | Rotation: 250\n",
      "Patient ID: PSMA-01-281 | Body part: Bottom | Rotation: 250\n"
     ]
    },
    {
     "name": "stderr",
     "output_type": "stream",
     "text": [
      "100%|██████████| 10/10 [09:01<00:00, 54.11s/it]\n"
     ]
    },
    {
     "name": "stdout",
     "output_type": "stream",
     "text": [
      "Patient ID: PSMA-01-281 | Body part: Top | Rotation: 255\n",
      "Patient ID: PSMA-01-281 | Body part: Bottom | Rotation: 255\n"
     ]
    },
    {
     "name": "stderr",
     "output_type": "stream",
     "text": [
      "100%|██████████| 10/10 [08:42<00:00, 52.25s/it]\n"
     ]
    },
    {
     "name": "stdout",
     "output_type": "stream",
     "text": [
      "Patient ID: PSMA-01-281 | Body part: Top | Rotation: 260\n",
      "Patient ID: PSMA-01-281 | Body part: Bottom | Rotation: 260\n"
     ]
    },
    {
     "name": "stderr",
     "output_type": "stream",
     "text": [
      "100%|██████████| 10/10 [08:46<00:00, 52.62s/it]\n"
     ]
    },
    {
     "name": "stdout",
     "output_type": "stream",
     "text": [
      "Patient ID: PSMA-01-281 | Body part: Top | Rotation: 265\n",
      "Patient ID: PSMA-01-281 | Body part: Bottom | Rotation: 265\n"
     ]
    },
    {
     "name": "stderr",
     "output_type": "stream",
     "text": [
      "100%|██████████| 10/10 [08:43<00:00, 52.31s/it]\n"
     ]
    },
    {
     "name": "stdout",
     "output_type": "stream",
     "text": [
      "Patient ID: PSMA-01-281 | Body part: Top | Rotation: 270\n",
      "Patient ID: PSMA-01-281 | Body part: Bottom | Rotation: 270\n"
     ]
    },
    {
     "name": "stderr",
     "output_type": "stream",
     "text": [
      "100%|██████████| 10/10 [08:43<00:00, 52.32s/it]\n"
     ]
    },
    {
     "name": "stdout",
     "output_type": "stream",
     "text": [
      "Patient ID: PSMA-01-281 | Body part: Top | Rotation: 275\n",
      "Patient ID: PSMA-01-281 | Body part: Bottom | Rotation: 275\n"
     ]
    },
    {
     "name": "stderr",
     "output_type": "stream",
     "text": [
      "100%|██████████| 10/10 [08:47<00:00, 52.79s/it]\n"
     ]
    },
    {
     "name": "stdout",
     "output_type": "stream",
     "text": [
      "Patient ID: PSMA-01-281 | Body part: Top | Rotation: 280\n",
      "Patient ID: PSMA-01-281 | Body part: Bottom | Rotation: 280\n"
     ]
    },
    {
     "name": "stderr",
     "output_type": "stream",
     "text": [
      "100%|██████████| 10/10 [08:47<00:00, 52.72s/it]\n"
     ]
    },
    {
     "name": "stdout",
     "output_type": "stream",
     "text": [
      "Patient ID: PSMA-01-281 | Body part: Top | Rotation: 285\n",
      "Patient ID: PSMA-01-281 | Body part: Bottom | Rotation: 285\n"
     ]
    },
    {
     "name": "stderr",
     "output_type": "stream",
     "text": [
      "100%|██████████| 10/10 [08:45<00:00, 52.55s/it]\n"
     ]
    },
    {
     "name": "stdout",
     "output_type": "stream",
     "text": [
      "Patient ID: PSMA-01-281 | Body part: Top | Rotation: 290\n",
      "Patient ID: PSMA-01-281 | Body part: Bottom | Rotation: 290\n"
     ]
    },
    {
     "name": "stderr",
     "output_type": "stream",
     "text": [
      "100%|██████████| 10/10 [08:46<00:00, 52.68s/it]\n"
     ]
    },
    {
     "name": "stdout",
     "output_type": "stream",
     "text": [
      "Patient ID: PSMA-01-281 | Body part: Top | Rotation: 295\n",
      "Patient ID: PSMA-01-281 | Body part: Bottom | Rotation: 295\n"
     ]
    },
    {
     "name": "stderr",
     "output_type": "stream",
     "text": [
      "100%|██████████| 10/10 [08:46<00:00, 52.67s/it]\n"
     ]
    },
    {
     "name": "stdout",
     "output_type": "stream",
     "text": [
      "Patient ID: PSMA-01-281 | Body part: Top | Rotation: 300\n",
      "Patient ID: PSMA-01-281 | Body part: Bottom | Rotation: 300\n"
     ]
    },
    {
     "name": "stderr",
     "output_type": "stream",
     "text": [
      "100%|██████████| 10/10 [08:47<00:00, 52.74s/it]\n"
     ]
    },
    {
     "name": "stdout",
     "output_type": "stream",
     "text": [
      "Patient ID: PSMA-01-281 | Body part: Top | Rotation: 305\n",
      "Patient ID: PSMA-01-281 | Body part: Bottom | Rotation: 305\n"
     ]
    },
    {
     "name": "stderr",
     "output_type": "stream",
     "text": [
      "100%|██████████| 10/10 [08:47<00:00, 52.70s/it]\n"
     ]
    },
    {
     "name": "stdout",
     "output_type": "stream",
     "text": [
      "Patient ID: PSMA-01-281 | Body part: Top | Rotation: 310\n",
      "Patient ID: PSMA-01-281 | Body part: Bottom | Rotation: 310\n"
     ]
    },
    {
     "name": "stderr",
     "output_type": "stream",
     "text": [
      "100%|██████████| 10/10 [08:46<00:00, 52.61s/it]\n"
     ]
    },
    {
     "name": "stdout",
     "output_type": "stream",
     "text": [
      "Patient ID: PSMA-01-281 | Body part: Top | Rotation: 315\n",
      "Patient ID: PSMA-01-281 | Body part: Bottom | Rotation: 315\n"
     ]
    },
    {
     "name": "stderr",
     "output_type": "stream",
     "text": [
      "100%|██████████| 10/10 [08:45<00:00, 52.54s/it]\n"
     ]
    },
    {
     "name": "stdout",
     "output_type": "stream",
     "text": [
      "Patient ID: PSMA-01-281 | Body part: Top | Rotation: 320\n",
      "Patient ID: PSMA-01-281 | Body part: Bottom | Rotation: 320\n"
     ]
    },
    {
     "name": "stderr",
     "output_type": "stream",
     "text": [
      "100%|██████████| 10/10 [08:46<00:00, 52.68s/it]\n"
     ]
    },
    {
     "name": "stdout",
     "output_type": "stream",
     "text": [
      "Patient ID: PSMA-01-281 | Body part: Top | Rotation: 325\n",
      "Patient ID: PSMA-01-281 | Body part: Bottom | Rotation: 325\n"
     ]
    },
    {
     "name": "stderr",
     "output_type": "stream",
     "text": [
      "100%|██████████| 10/10 [08:45<00:00, 52.57s/it]\n"
     ]
    },
    {
     "name": "stdout",
     "output_type": "stream",
     "text": [
      "Patient ID: PSMA-01-281 | Body part: Top | Rotation: 330\n",
      "Patient ID: PSMA-01-281 | Body part: Bottom | Rotation: 330\n"
     ]
    },
    {
     "name": "stderr",
     "output_type": "stream",
     "text": [
      "100%|██████████| 10/10 [08:45<00:00, 52.60s/it]\n"
     ]
    },
    {
     "name": "stdout",
     "output_type": "stream",
     "text": [
      "Patient ID: PSMA-01-281 | Body part: Top | Rotation: 335\n",
      "Patient ID: PSMA-01-281 | Body part: Bottom | Rotation: 335\n"
     ]
    },
    {
     "name": "stderr",
     "output_type": "stream",
     "text": [
      "100%|██████████| 10/10 [08:43<00:00, 52.36s/it]\n"
     ]
    },
    {
     "name": "stdout",
     "output_type": "stream",
     "text": [
      "Patient ID: PSMA-01-281 | Body part: Top | Rotation: 340\n",
      "Patient ID: PSMA-01-281 | Body part: Bottom | Rotation: 340\n"
     ]
    },
    {
     "name": "stderr",
     "output_type": "stream",
     "text": [
      "100%|██████████| 10/10 [08:47<00:00, 52.73s/it]\n"
     ]
    },
    {
     "name": "stdout",
     "output_type": "stream",
     "text": [
      "Patient ID: PSMA-01-281 | Body part: Top | Rotation: 345\n",
      "Patient ID: PSMA-01-281 | Body part: Bottom | Rotation: 345\n"
     ]
    },
    {
     "name": "stderr",
     "output_type": "stream",
     "text": [
      "100%|██████████| 10/10 [08:56<00:00, 53.64s/it]\n"
     ]
    },
    {
     "name": "stdout",
     "output_type": "stream",
     "text": [
      "Patient ID: PSMA-01-281 | Body part: Top | Rotation: 350\n",
      "Patient ID: PSMA-01-281 | Body part: Bottom | Rotation: 350\n"
     ]
    },
    {
     "name": "stderr",
     "output_type": "stream",
     "text": [
      "100%|██████████| 10/10 [08:44<00:00, 52.43s/it]\n"
     ]
    },
    {
     "name": "stdout",
     "output_type": "stream",
     "text": [
      "Patient ID: PSMA-01-281 | Body part: Top | Rotation: 355\n",
      "Patient ID: PSMA-01-281 | Body part: Bottom | Rotation: 355\n"
     ]
    },
    {
     "name": "stderr",
     "output_type": "stream",
     "text": [
      "100%|██████████| 10/10 [08:50<00:00, 53.03s/it]\n"
     ]
    }
   ],
   "source": [
    "dataset_root = \"/datassd/PSMA_SEGMENTATION/DATA\"\n",
    "test_dir = os.path.join(dataset_root, \"testing\")\n",
    "save_dir = os.path.join(dataset_root, \"inferences\")\n",
    "\n",
    "index = 0\n",
    "test_patients_dir_list = os.listdir(test_dir)\n",
    "for study in test_patients_dir_list[1800*3:1800*4]:\n",
    "    study_name = os.path.join(test_dir, study)\n",
    "\n",
    "    folder_name = study_name.split(\"/\")[-1]\n",
    "    top_bottom = folder_name[-2:]\n",
    "    rotation = folder_name[-6:-3]\n",
    "    top_bottom_str = \"Top\" if top_bottom == '01' else \"Bottom\"\n",
    "    print(f\"Patient ID: {folder_name[:-7]} | Body part: {top_bottom_str} | Rotation: {rotation}\")\n",
    "    \n",
    "    # '/datassd/PSMA_SEGMENTATION/DATA/testing/PSMA-01-097-000-02/PSMA-01-097_PETD_000-02.nii.gz'\n",
    "    gt_filename = f\"/datassd/PSMA_SEGMENTATION/DATA/testing/{folder_name[:-7]}-{rotation}-{top_bottom}/{folder_name[:-7]}_SEG_{rotation}-{top_bottom}.nii.gz\"\n",
    "    gt = read_nii_vol(gt_filename)\n",
    "    gt = np.uint8(gt)\n",
    "    \n",
    "    if gt.max() == 0:\n",
    "        target_dir = os.path.join(save_dir, folder_name)\n",
    "        if not os.path.exists(target_dir):\n",
    "            os.mkdir(target_dir)\n",
    "        seg_filename = f\"{folder_name[:-7]}_Predicted-Seg_{rotation}-{top_bottom}.npy\"\n",
    "        empty_mask = np.zeros((10,1,250,250), dtype=np.float32)\n",
    "        np.save(os.path.join(target_dir, seg_filename), empty_mask)\n",
    "        \n",
    "    else:\n",
    "        mip_filename = f\"/datassd/PSMA_SEGMENTATION/DATA/testing/{folder_name[:-7]}-{rotation}-{top_bottom}/{folder_name[:-7]}_PET_{rotation}-{top_bottom}.nii.gz\"\n",
    "        mip = read_nii_vol(mip_filename)\n",
    "        mip = np.float32(mip)\n",
    "        \n",
    "        torch_gt = th.tensor(gt)\n",
    "\n",
    "        seqtypes = ['PET', 'PET10', 'PET5', 'PETD']\n",
    "        out = []\n",
    "        for seqtype in seqtypes:\n",
    "            _img = read_nii_vol( f\"/datassd/PSMA_SEGMENTATION/DATA/testing/{folder_name[:-7]}-{rotation}-{top_bottom}/{folder_name[:-7]}_{seqtype}_{rotation}-{top_bottom}.nii.gz\")\n",
    "            out.append(torch.tensor(_img.astype(np.float32)))\n",
    "\n",
    "        out = torch.stack(out)\n",
    "        out = out.unsqueeze(0)\n",
    "        out = torch.nn.functional.pad(out, pad=(3,3,3,3), mode=\"constant\")\n",
    "\n",
    "        c = th.randn_like(out[:, :1, ...])\n",
    "        img = th.cat((out, c), dim=1)     #add a noise channel$ \n",
    "\n",
    "        fig_size = (20, 9)\n",
    "        images_cmap = \"bone\" #\"Greys_r\"\n",
    "\n",
    "        samples_list = list()\n",
    "\n",
    "        # fig, axes = plt.subplots(1, 2, figsize=fig_size)\n",
    "        # axes[0].pcolormesh(mip.T, cmap=images_cmap)\n",
    "        # axes[0].axis('off')\n",
    "        # axes[0].set_title('MIP Image')\n",
    "\n",
    "        # axes[1].pcolormesh(gt.T, cmap=images_cmap)\n",
    "        # axes[1].axis('off')\n",
    "        # axes[1].set_title('GT Mask')\n",
    "        # plt.show()\n",
    "\n",
    "        for i in tqdm(range(args.num_ensemble)):\n",
    "            model_kwargs = {}\n",
    "            start.record()\n",
    "            sample_fn = (\n",
    "                diffusion.p_sample_loop_known if not args.use_ddim else diffusion.ddim_sample_loop_known\n",
    "            )\n",
    "            \n",
    "            sample, x_noisy, org = sample_fn(\n",
    "                model,\n",
    "                (args.batch_size, 4, args.image_size, args.image_size), img,\n",
    "                clip_denoised=args.clip_denoised,\n",
    "                model_kwargs=model_kwargs,\n",
    "            )\n",
    "\n",
    "            end.record()\n",
    "            th.cuda.synchronize()\n",
    "            # print('time for 1 sample', start.elapsed_time(end))  #time measurement for the generation of 1 sample\n",
    "\n",
    "            _sample = sample[0,...]\n",
    "            __sample = _sample[:, 3:-3, 3:-3]\n",
    "            samples_list.append(__sample.cpu().numpy())\n",
    "        \n",
    "        array_stack = np.stack(samples_list)\n",
    "        # mean_image = np.mean(array_stack, axis=0)\n",
    "        # std_image = np.std(array_stack, axis=0)\n",
    "        # var_image = np.var(array_stack, axis=0)\n",
    "\n",
    "        # plt.figure(figsize=(26, 30))\n",
    "        # images_cmap = 'bone'\n",
    "        # plt.subplot(4, 3, 1)\n",
    "        # plt.pcolormesh(samples_list[0][0,:,:].T, cmap=images_cmap, vmin=0, vmax=1)\n",
    "        # plt.axis('off')\n",
    "        # plt.title('Sample 1')\n",
    "        # plt.colorbar()\n",
    "\n",
    "        # plt.subplot(4, 3, 2)\n",
    "        # plt.pcolormesh(samples_list[1][0,:,:].T, cmap=images_cmap, vmin=0, vmax=1)\n",
    "        # plt.axis('off')\n",
    "        # plt.title('Sample 2')\n",
    "        # plt.colorbar()\n",
    "\n",
    "        # plt.subplot(4, 3, 3)\n",
    "        # plt.pcolormesh(samples_list[2][0,:,:].T, cmap=images_cmap, vmin=0, vmax=1)\n",
    "        # plt.axis('off')\n",
    "        # plt.title('Sample 3')\n",
    "        # plt.colorbar()\n",
    "\n",
    "        # plt.subplot(4, 3, 4)\n",
    "        # plt.pcolormesh(samples_list[3][0,:,:].T, cmap=images_cmap, vmin=0, vmax=1)\n",
    "        # plt.axis('off')\n",
    "        # plt.title('Sample 4')\n",
    "        # plt.colorbar()\n",
    "\n",
    "        # plt.subplot(4, 3, 5)\n",
    "        # plt.pcolormesh(samples_list[4][0,:,:].T, cmap=images_cmap, vmin=0, vmax=1)\n",
    "        # plt.axis('off')\n",
    "        # plt.title('Sample 5')\n",
    "        # plt.colorbar()\n",
    "\n",
    "        # plt.subplot(4, 3, 6)\n",
    "        # plt.pcolormesh(samples_list[5][0,:,:].T, cmap=images_cmap, vmin=0, vmax=1)\n",
    "        # plt.axis('off')\n",
    "        # plt.title('Sample 6')\n",
    "        # plt.colorbar()\n",
    "\n",
    "        # plt.subplot(4, 3, 7)\n",
    "        # plt.pcolormesh(samples_list[6][0,:,:].T, cmap=images_cmap, vmin=0, vmax=1)\n",
    "        # plt.axis('off')\n",
    "        # plt.title('Sample 7')\n",
    "        # plt.colorbar()\n",
    "\n",
    "        # plt.subplot(4, 3, 8)\n",
    "        # plt.pcolormesh(samples_list[7][0,:,:].T, cmap=images_cmap, vmin=0, vmax=1)\n",
    "        # plt.axis('off')\n",
    "        # plt.title('Sample 8')\n",
    "        # plt.colorbar()\n",
    "\n",
    "        # plt.subplot(4, 3, 9)\n",
    "        # plt.pcolormesh(samples_list[8][0,:,:].T, cmap=images_cmap, vmin=0, vmax=1)\n",
    "        # plt.axis('off')\n",
    "        # plt.title('Sample 9')\n",
    "        # plt.colorbar()\n",
    "\n",
    "        # plt.subplot(4, 3, 10)\n",
    "        # plt.pcolormesh(samples_list[9][0,:,:].T, cmap=images_cmap, vmin=0, vmax=1)\n",
    "        # plt.axis('off')\n",
    "        # plt.title('Sample 10')\n",
    "        # plt.colorbar()\n",
    "\n",
    "        # plt.subplot(4, 3, 11)\n",
    "        # plt.pcolormesh(mean_image[0,:,:].T, cmap='viridis', vmin=0, vmax=1)\n",
    "        # plt.axis('off')\n",
    "        # plt.title('mean')\n",
    "        # plt.colorbar()\n",
    "\n",
    "        # plt.subplot(4, 3, 12)\n",
    "        # plt.pcolormesh(var_image[0,:,:].T, cmap='viridis', vmin=0, vmax=1)\n",
    "        # plt.axis('off')\n",
    "        # plt.title('std')\n",
    "        # plt.colorbar()\n",
    "        # plt.show()\n",
    "\n",
    "\n",
    "\n",
    "\n",
    "\n",
    "        # plt.figure(figsize=(20, 5))\n",
    "        # plt.subplot(1, 3, 1)\n",
    "        # plt.pcolormesh(mip.T, cmap='bone')\n",
    "        # plt.axis('off')\n",
    "        # plt.title('MIP')\n",
    "        # plt.colorbar()\n",
    "\n",
    "        # plt.subplot(1, 3, 2)\n",
    "        # plt.pcolormesh(gt.T, cmap='bone')\n",
    "        # plt.axis('off')\n",
    "        # plt.title('GT')\n",
    "        # plt.colorbar()\n",
    "\n",
    "        # plt.subplot(1, 3, 3)\n",
    "        # plt.pcolormesh(gt.T - mean_image[0,:,:].T, cmap='bwr', vmin=-1, vmax=1)\n",
    "        # plt.axis('off')\n",
    "        # plt.title('GT - Mean')\n",
    "        # plt.colorbar()\n",
    "        # plt.show()\n",
    "        \n",
    "        target_dir = os.path.join(save_dir, folder_name)\n",
    "        if not os.path.exists(target_dir):\n",
    "            os.mkdir(target_dir)\n",
    "        \n",
    "        seg_filename = f\"{folder_name[:-7]}_Predicted-Seg_{rotation}-{top_bottom}.npy\"\n",
    "        np.save(os.path.join(target_dir, seg_filename), array_stack)\n",
    "        \n",
    "        asghar = \"agha\"\n",
    "    index += 1"
   ]
  }
 ],
 "metadata": {
  "kernelspec": {
   "display_name": "diff",
   "language": "python",
   "name": "python3"
  },
  "language_info": {
   "codemirror_mode": {
    "name": "ipython",
    "version": 3
   },
   "file_extension": ".py",
   "mimetype": "text/x-python",
   "name": "python",
   "nbconvert_exporter": "python",
   "pygments_lexer": "ipython3",
   "version": "3.8.13"
  },
  "orig_nbformat": 4
 },
 "nbformat": 4,
 "nbformat_minor": 2
}
